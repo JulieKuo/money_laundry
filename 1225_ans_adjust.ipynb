{
 "cells": [
  {
   "cell_type": "code",
   "execution_count": 1,
   "metadata": {},
   "outputs": [],
   "source": [
    "import pandas as pd"
   ]
  },
  {
   "cell_type": "code",
   "execution_count": 2,
   "metadata": {},
   "outputs": [
    {
     "data": {
      "text/plain": [
       "(27756, 9)"
      ]
     },
     "execution_count": 2,
     "metadata": {},
     "output_type": "execute_result"
    }
   ],
   "source": [
    "info = pd.read_csv(\"data/inverse/info.csv\", parse_dates = [\"date\"])\n",
    "info.shape"
   ]
  },
  {
   "cell_type": "code",
   "execution_count": 3,
   "metadata": {},
   "outputs": [
    {
     "data": {
      "text/plain": [
       "(3850, 2)"
      ]
     },
     "execution_count": 3,
     "metadata": {},
     "output_type": "execute_result"
    }
   ],
   "source": [
    "ans = pd.read_csv(\"data/submit/1225_071_096.csv\")\n",
    "# ans = pd.read_csv(\"data/submit/submission.csv\")\n",
    "ans.shape"
   ]
  },
  {
   "cell_type": "code",
   "execution_count": 4,
   "metadata": {},
   "outputs": [],
   "source": [
    "cust_id = {id_: i for i, id_ in enumerate(info[\"cust_id\"].drop_duplicates().to_list())}\n",
    "info[\"cust_id\"] = info[\"cust_id\"].map(cust_id)"
   ]
  },
  {
   "cell_type": "code",
   "execution_count": 5,
   "metadata": {},
   "outputs": [],
   "source": [
    "ans_all = pd.merge(info[[\"alert_key\", \"sar_flag\", \"cust_id\", \"sample\"]], ans, on = \"alert_key\", how = \"left\")"
   ]
  },
  {
   "cell_type": "code",
   "execution_count": 6,
   "metadata": {},
   "outputs": [
    {
     "data": {
      "text/plain": [
       "((1845, 5), (2005, 5))"
      ]
     },
     "execution_count": 6,
     "metadata": {},
     "output_type": "execute_result"
    }
   ],
   "source": [
    "public = ans_all[~ans_all[\"probability\"].isnull()].query(\"sample == 'train'\").reset_index(drop = True)\n",
    "private = ans_all[~ans_all[\"probability\"].isnull()].query(\"sample == 'test'\").reset_index(drop = True)\n",
    "public.shape, private.shape"
   ]
  },
  {
   "cell_type": "code",
   "execution_count": 7,
   "metadata": {},
   "outputs": [
    {
     "name": "stdout",
     "output_type": "stream",
     "text": [
      "Test total: 1845\n",
      "(11 - 1) / 1594 = 0.006273525721455458\n"
     ]
    }
   ],
   "source": [
    "target = \"sar_flag\"\n",
    "test_sar = int(public[target].sum())\n",
    "test_len = public[public[target] == 1].index[-2] + 1\n",
    "print(f\"Test total: {len(public)}\")\n",
    "print(f\"({test_sar} - 1) / {test_len} = {(test_sar - 1) / test_len}\")"
   ]
  },
  {
   "cell_type": "code",
   "execution_count": 8,
   "metadata": {},
   "outputs": [
    {
     "data": {
      "text/plain": [
       "cust_id\n",
       "7661    2\n",
       "2353    2\n",
       "86      2\n",
       "dtype: int64"
      ]
     },
     "execution_count": 8,
     "metadata": {},
     "output_type": "execute_result"
    }
   ],
   "source": [
    "# train & public 的 id 重複洗錢次數\n",
    "public_id1 = ans_all.query(\"sar_flag == 1\").value_counts(\"cust_id\")\n",
    "public_id1[public_id1 != 1].head()"
   ]
  },
  {
   "cell_type": "code",
   "execution_count": 9,
   "metadata": {},
   "outputs": [
    {
     "data": {
      "text/plain": [
       "Int64Index([6083, 6885, 6554, 6338, 6542, 3848, 5943, 3645, 4844, 7329,\n",
       "            ...\n",
       "            7311, 7536,  233, 7285, 7217, 7297,  334, 7301, 5861,  298],\n",
       "           dtype='int64', length=137)"
      ]
     },
     "execution_count": 9,
     "metadata": {},
     "output_type": "execute_result"
    }
   ],
   "source": [
    "num = 3\n",
    "public_id = public[\"cust_id\"].to_list()\n",
    "public_id_ct = public[\"cust_id\"].value_counts()\n",
    "public_id0 = public_id_ct[public_id_ct > num].index\n",
    "public_id0"
   ]
  },
  {
   "cell_type": "code",
   "execution_count": 10,
   "metadata": {},
   "outputs": [
    {
     "data": {
      "text/plain": [
       "638"
      ]
     },
     "execution_count": 10,
     "metadata": {},
     "output_type": "execute_result"
    }
   ],
   "source": [
    "public_idx0 = []\n",
    "for i in public_id0:\n",
    "    public1 = public.query(\"cust_id == @i\")\n",
    "    public1 = public1.iloc[:-num]\n",
    "    # public_idx0.extend(public1[\"alert_key\"].to_list())\n",
    "    public_idx0.extend(public1.index)\n",
    "len(public_idx0)"
   ]
  },
  {
   "cell_type": "code",
   "execution_count": 11,
   "metadata": {},
   "outputs": [
    {
     "data": {
      "text/html": [
       "<div>\n",
       "<style scoped>\n",
       "    .dataframe tbody tr th:only-of-type {\n",
       "        vertical-align: middle;\n",
       "    }\n",
       "\n",
       "    .dataframe tbody tr th {\n",
       "        vertical-align: top;\n",
       "    }\n",
       "\n",
       "    .dataframe thead th {\n",
       "        text-align: right;\n",
       "    }\n",
       "</style>\n",
       "<table border=\"1\" class=\"dataframe\">\n",
       "  <thead>\n",
       "    <tr style=\"text-align: right;\">\n",
       "      <th></th>\n",
       "      <th>alert_key</th>\n",
       "      <th>sar_flag</th>\n",
       "      <th>cust_id</th>\n",
       "      <th>sample</th>\n",
       "      <th>probability</th>\n",
       "    </tr>\n",
       "  </thead>\n",
       "  <tbody>\n",
       "  </tbody>\n",
       "</table>\n",
       "</div>"
      ],
      "text/plain": [
       "Empty DataFrame\n",
       "Columns: [alert_key, sar_flag, cust_id, sample, probability]\n",
       "Index: []"
      ]
     },
     "execution_count": 11,
     "metadata": {},
     "output_type": "execute_result"
    }
   ],
   "source": [
    "# a = public.query(\"alert_key in @public_idx0\")\n",
    "a = public.loc[public_idx0]\n",
    "a.query(\"sar_flag == 1\")"
   ]
  },
  {
   "cell_type": "code",
   "execution_count": 12,
   "metadata": {},
   "outputs": [],
   "source": [
    "public.loc[public_idx0, \"probability\"] = 0\n",
    "public = public.sort_values(\"probability\", ascending = False)"
   ]
  },
  {
   "cell_type": "code",
   "execution_count": 13,
   "metadata": {},
   "outputs": [
    {
     "name": "stdout",
     "output_type": "stream",
     "text": [
      "Test total: 1845\n",
      "(11 - 1) / 352 = 0.028409090909090908\n"
     ]
    }
   ],
   "source": [
    "target = \"sar_flag\"\n",
    "test_sar = int(public[target].sum())\n",
    "test_len = public[public[target] == 1].index[-2] + 1\n",
    "print(f\"Test total: {len(public)}\")\n",
    "print(f\"({test_sar} - 1) / {test_len} = {(test_sar - 1) / test_len}\")"
   ]
  },
  {
   "cell_type": "code",
   "execution_count": null,
   "metadata": {},
   "outputs": [],
   "source": []
  },
  {
   "cell_type": "code",
   "execution_count": 14,
   "metadata": {},
   "outputs": [
    {
     "data": {
      "text/plain": [
       "Int64Index([3848, 1809, 6885, 6542, 7412, 7500, 6554, 1012, 5618, 7329,\n",
       "            ...\n",
       "            7798, 8081, 7889, 7229, 5684, 6560, 7860, 7109, 7628, 5773],\n",
       "           dtype='int64', length=150)"
      ]
     },
     "execution_count": 14,
     "metadata": {},
     "output_type": "execute_result"
    }
   ],
   "source": [
    "num = 3\n",
    "private_id = private[\"cust_id\"].to_list()\n",
    "private_id_ct = private[\"cust_id\"].value_counts()\n",
    "private_id0 = private_id_ct[private_id_ct > num].index\n",
    "private_id0"
   ]
  },
  {
   "cell_type": "code",
   "execution_count": 15,
   "metadata": {},
   "outputs": [
    {
     "data": {
      "text/plain": [
       "775"
      ]
     },
     "execution_count": 15,
     "metadata": {},
     "output_type": "execute_result"
    }
   ],
   "source": [
    "private_idx0 = []\n",
    "for i in private_id0:\n",
    "    private1 = private.query(\"cust_id == @i\")\n",
    "    private1 = private1.iloc[:-num]\n",
    "    private_idx0.extend(private1.index)\n",
    "len(private_idx0)"
   ]
  },
  {
   "cell_type": "code",
   "execution_count": 16,
   "metadata": {},
   "outputs": [
    {
     "data": {
      "text/html": [
       "<div>\n",
       "<style scoped>\n",
       "    .dataframe tbody tr th:only-of-type {\n",
       "        vertical-align: middle;\n",
       "    }\n",
       "\n",
       "    .dataframe tbody tr th {\n",
       "        vertical-align: top;\n",
       "    }\n",
       "\n",
       "    .dataframe thead th {\n",
       "        text-align: right;\n",
       "    }\n",
       "</style>\n",
       "<table border=\"1\" class=\"dataframe\">\n",
       "  <thead>\n",
       "    <tr style=\"text-align: right;\">\n",
       "      <th></th>\n",
       "      <th>alert_key</th>\n",
       "      <th>sar_flag</th>\n",
       "      <th>cust_id</th>\n",
       "      <th>sample</th>\n",
       "      <th>probability</th>\n",
       "    </tr>\n",
       "  </thead>\n",
       "  <tbody>\n",
       "  </tbody>\n",
       "</table>\n",
       "</div>"
      ],
      "text/plain": [
       "Empty DataFrame\n",
       "Columns: [alert_key, sar_flag, cust_id, sample, probability]\n",
       "Index: []"
      ]
     },
     "execution_count": 16,
     "metadata": {},
     "output_type": "execute_result"
    }
   ],
   "source": [
    "a = private.loc[private_idx0]\n",
    "a.query(\"sar_flag == 1\")"
   ]
  },
  {
   "cell_type": "code",
   "execution_count": 17,
   "metadata": {},
   "outputs": [],
   "source": [
    "private.loc[private_idx0, \"probability\"] = 0\n",
    "private = private.sort_values(\"probability\", ascending = False)"
   ]
  },
  {
   "cell_type": "code",
   "execution_count": null,
   "metadata": {},
   "outputs": [],
   "source": []
  },
  {
   "cell_type": "code",
   "execution_count": 18,
   "metadata": {},
   "outputs": [],
   "source": [
    "res = pd.concat([public, private], ignore_index = True)\n",
    "res = res[[\"alert_key\", \"probability\"]]"
   ]
  },
  {
   "cell_type": "code",
   "execution_count": 19,
   "metadata": {},
   "outputs": [],
   "source": [
    "# res.to_csv(\"data/submit/1225_071_096_adjust.csv\", index = False)\n",
    "# res.to_csv(\"data/submit/1226_3d_adjust.csv\", index = False)"
   ]
  },
  {
   "cell_type": "code",
   "execution_count": null,
   "metadata": {},
   "outputs": [],
   "source": []
  }
 ],
 "metadata": {
  "kernelspec": {
   "display_name": ".venv",
   "language": "python",
   "name": "python3"
  },
  "language_info": {
   "codemirror_mode": {
    "name": "ipython",
    "version": 3
   },
   "file_extension": ".py",
   "mimetype": "text/x-python",
   "name": "python",
   "nbconvert_exporter": "python",
   "pygments_lexer": "ipython3",
   "version": "3.8.7"
  },
  "orig_nbformat": 4,
  "vscode": {
   "interpreter": {
    "hash": "6a07fcf0145f94b3f971c13d061528107de20ab7b779375f96dab9bbac6a85db"
   }
  }
 },
 "nbformat": 4,
 "nbformat_minor": 2
}
