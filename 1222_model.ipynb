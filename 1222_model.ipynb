{
 "cells": [
  {
   "cell_type": "code",
   "execution_count": 1,
   "metadata": {},
   "outputs": [],
   "source": [
    "import pandas as pd\n",
    "import numpy as np\n",
    "import seaborn as sns\n",
    "import matplotlib.pyplot as plt\n",
    "from scipy.stats import skew\n",
    "from sklearn.preprocessing import PowerTransformer, StandardScaler, RobustScaler\n",
    "from tqdm import tqdm\n",
    "from torch import nn\n",
    "import torch.optim as optim\n",
    "from torch.utils.data import DataLoader, Dataset\n",
    "from sklearn.model_selection import train_test_split\n",
    "import json, copy, pickle, torch, warnings, datetime\n",
    "warnings.filterwarnings(\"ignore\")\n",
    "warnings.filterwarnings(\"ignore\")"
   ]
  },
  {
   "cell_type": "markdown",
   "metadata": {},
   "source": [
    "## Model"
   ]
  },
  {
   "cell_type": "code",
   "execution_count": 2,
   "metadata": {},
   "outputs": [
    {
     "name": "stdout",
     "output_type": "stream",
     "text": [
      "shape: (9716, 189)\n",
      "\n",
      "train counts of 1 & 0:\n",
      "0.0    7466\n",
      "1.0     245\n",
      "Name: sar_flag, dtype: int64\n",
      "\n",
      "test counts of 1 & 0:\n",
      "Series([], Name: sar_flag, dtype: int64)\n"
     ]
    },
    {
     "data": {
      "text/html": [
       "<div>\n",
       "<style scoped>\n",
       "    .dataframe tbody tr th:only-of-type {\n",
       "        vertical-align: middle;\n",
       "    }\n",
       "\n",
       "    .dataframe tbody tr th {\n",
       "        vertical-align: top;\n",
       "    }\n",
       "\n",
       "    .dataframe thead th {\n",
       "        text-align: right;\n",
       "    }\n",
       "</style>\n",
       "<table border=\"1\" class=\"dataframe\">\n",
       "  <thead>\n",
       "    <tr style=\"text-align: right;\">\n",
       "      <th></th>\n",
       "      <th>sample</th>\n",
       "      <th>alert_key</th>\n",
       "      <th>date</th>\n",
       "      <th>sar_flag</th>\n",
       "      <th>cust_id</th>\n",
       "      <th>risk_rank</th>\n",
       "      <th>occupation_code</th>\n",
       "      <th>total_asset</th>\n",
       "      <th>AGE</th>\n",
       "      <th>total_asset_pct</th>\n",
       "      <th>...</th>\n",
       "      <th>dp_db_sum_1m</th>\n",
       "      <th>dp_db_max_median_1m</th>\n",
       "      <th>dp_cr_ct_1m</th>\n",
       "      <th>dp_cr_min_1m</th>\n",
       "      <th>dp_cr_max_1m</th>\n",
       "      <th>dp_cr_mean_1m</th>\n",
       "      <th>dp_cr_median_1m</th>\n",
       "      <th>dp_cr_sum_1m</th>\n",
       "      <th>dp_cr_min_median_1m</th>\n",
       "      <th>period</th>\n",
       "    </tr>\n",
       "  </thead>\n",
       "  <tbody>\n",
       "    <tr>\n",
       "      <th>0</th>\n",
       "      <td>train</td>\n",
       "      <td>171320</td>\n",
       "      <td>2021-04-01</td>\n",
       "      <td>0.0</td>\n",
       "      <td>14</td>\n",
       "      <td>1</td>\n",
       "      <td>12.0</td>\n",
       "      <td>1038.0</td>\n",
       "      <td>6</td>\n",
       "      <td>NaN</td>\n",
       "      <td>...</td>\n",
       "      <td>NaN</td>\n",
       "      <td>NaN</td>\n",
       "      <td>NaN</td>\n",
       "      <td>NaN</td>\n",
       "      <td>NaN</td>\n",
       "      <td>NaN</td>\n",
       "      <td>NaN</td>\n",
       "      <td>NaN</td>\n",
       "      <td>NaN</td>\n",
       "      <td>0</td>\n",
       "    </tr>\n",
       "    <tr>\n",
       "      <th>1</th>\n",
       "      <td>train</td>\n",
       "      <td>171357</td>\n",
       "      <td>2021-04-01</td>\n",
       "      <td>0.0</td>\n",
       "      <td>16</td>\n",
       "      <td>1</td>\n",
       "      <td>19.0</td>\n",
       "      <td>104.0</td>\n",
       "      <td>5</td>\n",
       "      <td>NaN</td>\n",
       "      <td>...</td>\n",
       "      <td>NaN</td>\n",
       "      <td>NaN</td>\n",
       "      <td>NaN</td>\n",
       "      <td>NaN</td>\n",
       "      <td>NaN</td>\n",
       "      <td>NaN</td>\n",
       "      <td>NaN</td>\n",
       "      <td>NaN</td>\n",
       "      <td>NaN</td>\n",
       "      <td>0</td>\n",
       "    </tr>\n",
       "    <tr>\n",
       "      <th>2</th>\n",
       "      <td>train</td>\n",
       "      <td>171362</td>\n",
       "      <td>2021-04-01</td>\n",
       "      <td>0.0</td>\n",
       "      <td>18</td>\n",
       "      <td>1</td>\n",
       "      <td>13.0</td>\n",
       "      <td>462187.0</td>\n",
       "      <td>4</td>\n",
       "      <td>NaN</td>\n",
       "      <td>...</td>\n",
       "      <td>NaN</td>\n",
       "      <td>NaN</td>\n",
       "      <td>NaN</td>\n",
       "      <td>NaN</td>\n",
       "      <td>NaN</td>\n",
       "      <td>NaN</td>\n",
       "      <td>NaN</td>\n",
       "      <td>NaN</td>\n",
       "      <td>NaN</td>\n",
       "      <td>0</td>\n",
       "    </tr>\n",
       "  </tbody>\n",
       "</table>\n",
       "<p>3 rows × 189 columns</p>\n",
       "</div>"
      ],
      "text/plain": [
       "  sample  alert_key       date  sar_flag  cust_id  risk_rank  occupation_code  \\\n",
       "0  train     171320 2021-04-01       0.0       14          1             12.0   \n",
       "1  train     171357 2021-04-01       0.0       16          1             19.0   \n",
       "2  train     171362 2021-04-01       0.0       18          1             13.0   \n",
       "\n",
       "   total_asset  AGE  total_asset_pct  ...  dp_db_sum_1m  dp_db_max_median_1m  \\\n",
       "0       1038.0    6              NaN  ...           NaN                  NaN   \n",
       "1        104.0    5              NaN  ...           NaN                  NaN   \n",
       "2     462187.0    4              NaN  ...           NaN                  NaN   \n",
       "\n",
       "   dp_cr_ct_1m  dp_cr_min_1m  dp_cr_max_1m  dp_cr_mean_1m  dp_cr_median_1m  \\\n",
       "0          NaN           NaN           NaN            NaN              NaN   \n",
       "1          NaN           NaN           NaN            NaN              NaN   \n",
       "2          NaN           NaN           NaN            NaN              NaN   \n",
       "\n",
       "   dp_cr_sum_1m  dp_cr_min_median_1m  period  \n",
       "0           NaN                  NaN       0  \n",
       "1           NaN                  NaN       0  \n",
       "2           NaN                  NaN       0  \n",
       "\n",
       "[3 rows x 189 columns]"
      ]
     },
     "execution_count": 2,
     "metadata": {},
     "output_type": "execute_result"
    }
   ],
   "source": [
    "df = pd.read_csv(\"data/inverse/FG.csv\", parse_dates = [\"date\"])\n",
    "\n",
    "print(\"shape:\", df.shape)\n",
    "print(f'''\\ntrain counts of 1 & 0:\\n{df.query(\"sample == 'train'\")['sar_flag'].value_counts()}''')\n",
    "print(f'''\\ntest counts of 1 & 0:\\n{df.query(\"sample == 'test'\")['sar_flag'].value_counts()}''')\n",
    "df.head(3)"
   ]
  },
  {
   "cell_type": "markdown",
   "metadata": {},
   "source": [
    "### Features"
   ]
  },
  {
   "cell_type": "code",
   "execution_count": 3,
   "metadata": {},
   "outputs": [],
   "source": [
    "target = \"sar_flag\"\n",
    "cat_feats = ['risk_rank', 'occupation_code', 'AGE']\n",
    "othet_feats = ['alert_key', 'date', 'cust_id']\n",
    "time = \"period\"\n",
    "alert_key = \"alert_key\""
   ]
  },
  {
   "cell_type": "code",
   "execution_count": 4,
   "metadata": {},
   "outputs": [
    {
     "name": "stdout",
     "output_type": "stream",
     "text": [
      "188\n"
     ]
    }
   ],
   "source": [
    "num_feats = list(set(df.columns) - set([target]) - set(cat_feats) - set(othet_feats) - set([\"sample\"]))\n",
    "print(len(num_feats) + len(cat_feats) + len(othet_feats) + 1)"
   ]
  },
  {
   "cell_type": "markdown",
   "metadata": {},
   "source": [
    "### Missing value"
   ]
  },
  {
   "cell_type": "code",
   "execution_count": 5,
   "metadata": {},
   "outputs": [],
   "source": [
    "df[num_feats] = df[num_feats].fillna(0)"
   ]
  },
  {
   "cell_type": "code",
   "execution_count": 6,
   "metadata": {},
   "outputs": [
    {
     "name": "stdout",
     "output_type": "stream",
     "text": [
      "50 / 9716 = 0.00515\n",
      "sar_flag次數: 0.0\n"
     ]
    }
   ],
   "source": [
    "# 職業為missing value的樣本有116個，占比不高，都在train data，且sar_flag皆為0，刪除\n",
    "occu_null = df[\"occupation_code\"].isnull()\n",
    "print(f\"{occu_null.sum()} / {len(df)} = {round(occu_null.sum() / len(df), 5)}\")\n",
    "print(\"sar_flag次數:\", df[occu_null][\"sar_flag\"].sum())\n",
    "df = df[~occu_null].reset_index(drop = True)"
   ]
  },
  {
   "attachments": {},
   "cell_type": "markdown",
   "metadata": {},
   "source": [
    "### Label encoding"
   ]
  },
  {
   "cell_type": "code",
   "execution_count": 7,
   "metadata": {},
   "outputs": [],
   "source": [
    "from sklearn import preprocessing\n",
    "\n",
    "le = preprocessing.LabelEncoder()\n",
    "for feat in cat_feats:\n",
    "    df[feat] = le.fit_transform(df[feat])"
   ]
  },
  {
   "cell_type": "markdown",
   "metadata": {},
   "source": [
    "### Split Train & Test"
   ]
  },
  {
   "cell_type": "code",
   "execution_count": 8,
   "metadata": {},
   "outputs": [
    {
     "name": "stdout",
     "output_type": "stream",
     "text": [
      "train: 7661, test: 2005\n"
     ]
    }
   ],
   "source": [
    "train = df.query(\"sample == 'train'\").copy()\n",
    "test = df.query(\"sample == 'test'\").copy()\n",
    "\n",
    "print(f\"train: {len(train)}, test: {len(test)}\")"
   ]
  },
  {
   "attachments": {},
   "cell_type": "markdown",
   "metadata": {},
   "source": [
    "### 刪除變數數值超過變數在sar_flag = 1的最大/小值之樣本"
   ]
  },
  {
   "cell_type": "markdown",
   "metadata": {},
   "source": [
    "num_feats1 = [\"dp_ct_1w\", \"cdtx_ct_1w\", \"remit_ct_1w\"]\n",
    "des1 = test[test[target] == 1][num_feats].describe()\n",
    "des1 = des1.loc[[\"min\", \"max\"]]\n",
    "des1 = des1[num_feats1]#, \"dp_db_max_1w\", \"dp_cr_min_1w\"\n",
    "des1 = des1.to_dict()\n",
    "des1"
   ]
  },
  {
   "cell_type": "markdown",
   "metadata": {},
   "source": [
    "drop_index = []\n",
    "print(f\"init: {len(train)}\")\n",
    "for feat in num_feats1:\n",
    "    drop_idx = train[(train[feat] < des1[feat][\"min\"]) | (train[feat] >  des1[feat][\"max\"])].index\n",
    "    drop_index.extend(drop_idx)\n",
    "drop_index = set(drop_index)\n",
    "print(f\"drop: {len(drop_index)}\")"
   ]
  },
  {
   "cell_type": "markdown",
   "metadata": {},
   "source": [
    "train.loc[drop_index][\"sar_flag\"].sum()"
   ]
  },
  {
   "cell_type": "markdown",
   "metadata": {},
   "source": [
    "train = train.drop(drop_index)"
   ]
  },
  {
   "cell_type": "markdown",
   "metadata": {},
   "source": [
    "drop_index = []\n",
    "print(f\"init: {len(test)}\")\n",
    "for feat in num_feats1:\n",
    "    drop_idx = test[(test[feat] < des1[feat][\"min\"]) | (test[feat] >  des1[feat][\"max\"])].index\n",
    "    drop_index.extend(drop_idx)\n",
    "drop_index = set(drop_index)\n",
    "print(f\"{feat}: {len(drop_index)}\")"
   ]
  },
  {
   "cell_type": "markdown",
   "metadata": {},
   "source": [
    "test.loc[drop_index][\"sar_flag\"].sum()"
   ]
  },
  {
   "cell_type": "markdown",
   "metadata": {},
   "source": [
    "test = test.drop(drop_index)"
   ]
  },
  {
   "cell_type": "markdown",
   "metadata": {},
   "source": [
    "print(f\"train: {len(train)}, test: {len(test)}\")"
   ]
  },
  {
   "cell_type": "markdown",
   "metadata": {},
   "source": [
    "train[num_feats] = train[num_feats].fillna(0)\n",
    "test[num_feats] = test[num_feats].fillna(0)"
   ]
  },
  {
   "attachments": {},
   "cell_type": "markdown",
   "metadata": {},
   "source": [
    "### Outlier"
   ]
  },
  {
   "cell_type": "code",
   "execution_count": 9,
   "metadata": {},
   "outputs": [],
   "source": [
    "for feat in num_feats:\n",
    "    q3 = train[feat].quantile(0.75)\n",
    "    q1 = train[feat].quantile(0.25)\n",
    "    iqr = q3 - q1\n",
    "\n",
    "    max_ = q3 + iqr\n",
    "    min_ = q1 + iqr\n",
    "    \n",
    "    train[feat] = train[feat].apply(lambda X: max_ if X > max_ else X)\n",
    "    train[feat] = train[feat].apply(lambda X: min_ if X < min_ else X)\n",
    "\n",
    "    test[feat] = test[feat].apply(lambda X: max_ if X > max_ else X)\n",
    "    test[feat] = test[feat].apply(lambda X: min_ if X < min_ else X)"
   ]
  },
  {
   "attachments": {},
   "cell_type": "markdown",
   "metadata": {},
   "source": [
    "### Qusi-constant feature"
   ]
  },
  {
   "cell_type": "code",
   "execution_count": 10,
   "metadata": {},
   "outputs": [
    {
     "data": {
      "text/plain": [
       "89"
      ]
     },
     "execution_count": 10,
     "metadata": {},
     "output_type": "execute_result"
    }
   ],
   "source": [
    "from sklearn.feature_selection import VarianceThreshold\n",
    "\n",
    "selector = VarianceThreshold(threshold = 0.05)\n",
    "selector.fit(train[num_feats])\n",
    "selector.get_support()\n",
    "drop_feats = [feat for feat, keep in zip(num_feats, selector.get_support()) if not keep]\n",
    "\n",
    "train = train.drop(drop_feats, axis = 1)\n",
    "test = test.drop(drop_feats, axis = 1)\n",
    "\n",
    "num_feats = [feat for feat, keep in zip(num_feats, selector.get_support()) if keep]\n",
    "len(drop_feats)"
   ]
  },
  {
   "cell_type": "markdown",
   "metadata": {},
   "source": [
    "### Adversarial"
   ]
  },
  {
   "cell_type": "markdown",
   "metadata": {},
   "source": [
    "import xgboost as xgb\n",
    "from xgboost import XGBClassifier, plot_importance, cv\n",
    "\n",
    "def adversarial(train, test):\n",
    "    # add train, test label\n",
    "    train[\"AV\"] = 0\n",
    "    test[\"AV\"] = 1\n",
    "\n",
    "    # merge train, test\n",
    "    df1 = pd.concat([train, test], ignore_index = True)\n",
    "\n",
    "    # shuffle data\n",
    "    df1_shuffled = df1.sample(frac=1)\n",
    "\n",
    "    # create XGBoost data structure\n",
    "    X = df1_shuffled.drop(['AV'], axis=1)\n",
    "    y = df1_shuffled['AV']\n",
    "    XGBdata = xgb.DMatrix(data = X, label = y)\n",
    "\n",
    "    # XGBoost parameters\n",
    "    params = {\n",
    "        \"objective\": \"binary:logistic\",\n",
    "        \"eval_metric\": \"logloss\",\n",
    "        'learning_rate': 0.05,\n",
    "        'max_depth': 5\n",
    "        }\n",
    "\n",
    "    # perform cross validation with XGBoost\n",
    "    cross_val_results = cv(\n",
    "        dtrain = XGBdata,\n",
    "        params = params, \n",
    "        nfold = 5,\n",
    "        metrics = \"auc\", \n",
    "        num_boost_round = 200,\n",
    "        early_stopping_rounds = 20,\n",
    "        as_pandas = True\n",
    "        )\n",
    "\n",
    "    # final result\n",
    "    print(\"Accuracy:\", cross_val_results[\"test-auc-mean\"].iloc[-1])\n",
    "\n",
    "\n",
    "    classifier = XGBClassifier(eval_metric = 'logloss', use_label_encoder = False)\n",
    "    classifier.fit(X, y)\n",
    "    fig, ax = plt.subplots(figsize=(10, 7))\n",
    "    plot_importance(classifier, ax=ax, max_num_features = 80, height  = 0.5)\n",
    "    plt.show()\n",
    "\n",
    "    return classifier, [i.get_text() for i in ax.axes.get_yticklabels()]"
   ]
  },
  {
   "attachments": {},
   "cell_type": "markdown",
   "metadata": {},
   "source": [
    "drop_feat = [\"sar_flag\", \"sample\", \"date\", \"alert_key\", 'cust_id']\n",
    "\n",
    "train1 = train.drop(drop_feat, axis = 1)\n",
    "test1 = test.drop(drop_feat, axis = 1)\n",
    "\n",
    "#adversarial validation\n",
    "classifier, drop_feat1 = adversarial(train1, test1)\n",
    "\n",
    "\n",
    "drop_feat = drop_feat + drop_feat1\n",
    "train1 = train.drop(drop_feat, axis = 1)\n",
    "test1 = test.drop(drop_feat, axis = 1)\n",
    "\n",
    "#adversarial validation\n",
    "classifier, drop_feat2 = adversarial(train1, test1)"
   ]
  },
  {
   "cell_type": "markdown",
   "metadata": {},
   "source": [
    "train = train.drop(drop_feat1, axis = 1)\n",
    "test = test.drop(drop_feat1, axis = 1)\n",
    "print(train.shape, test.shape)"
   ]
  },
  {
   "cell_type": "markdown",
   "metadata": {},
   "source": [
    "num_feats = [i for i in num_feats if i not in drop_feat1]"
   ]
  },
  {
   "attachments": {},
   "cell_type": "markdown",
   "metadata": {},
   "source": [
    "### Skew"
   ]
  },
  {
   "cell_type": "markdown",
   "metadata": {},
   "source": [
    "from scipy.stats import skew\n",
    "\n",
    "skewness = train[num_feats].apply(lambda X: skew(X)).sort_values(ascending=False)\n",
    "skewness = pd.DataFrame({'Feature' : skewness.index, 'Skew' : skewness.values})\n",
    "skewness = skewness.query(\"(Skew > 0.75) | (Skew < -0.75)\")\n",
    "skewness = skewness.reset_index(drop = True)\n",
    "skewness"
   ]
  },
  {
   "cell_type": "markdown",
   "metadata": {},
   "source": [
    "from sklearn.preprocessing import PowerTransformer\n",
    "\n",
    "pt = PowerTransformer(method = 'yeo-johnson')\n",
    "train[skewness[\"Feature\"]] = pt.fit_transform(train[skewness[\"Feature\"]])\n",
    "test[skewness[\"Feature\"]] = pt.transform(test[skewness[\"Feature\"]])"
   ]
  },
  {
   "cell_type": "markdown",
   "metadata": {},
   "source": [
    "from scipy.stats import skew\n",
    "\n",
    "skewness = train[num_feats].apply(lambda X: skew(X)).sort_values(ascending=False)\n",
    "skewness = pd.DataFrame({'Feature' : skewness.index, 'Skew' : skewness.values})\n",
    "skewness = skewness.query(\"(Skew > 0.75) | (Skew < -0.75)\")\n",
    "skewness = skewness.reset_index(drop = True)\n",
    "skewness"
   ]
  },
  {
   "attachments": {},
   "cell_type": "markdown",
   "metadata": {},
   "source": [
    "### Scaling"
   ]
  },
  {
   "cell_type": "code",
   "execution_count": 11,
   "metadata": {},
   "outputs": [
    {
     "data": {
      "text/html": [
       "<div>\n",
       "<style scoped>\n",
       "    .dataframe tbody tr th:only-of-type {\n",
       "        vertical-align: middle;\n",
       "    }\n",
       "\n",
       "    .dataframe tbody tr th {\n",
       "        vertical-align: top;\n",
       "    }\n",
       "\n",
       "    .dataframe thead th {\n",
       "        text-align: right;\n",
       "    }\n",
       "</style>\n",
       "<table border=\"1\" class=\"dataframe\">\n",
       "  <thead>\n",
       "    <tr style=\"text-align: right;\">\n",
       "      <th></th>\n",
       "      <th>sample</th>\n",
       "      <th>alert_key</th>\n",
       "      <th>date</th>\n",
       "      <th>sar_flag</th>\n",
       "      <th>cust_id</th>\n",
       "      <th>risk_rank</th>\n",
       "      <th>occupation_code</th>\n",
       "      <th>total_asset</th>\n",
       "      <th>AGE</th>\n",
       "      <th>info_ct</th>\n",
       "      <th>...</th>\n",
       "      <th>dp_db_sum_1m</th>\n",
       "      <th>dp_db_max_median_1m</th>\n",
       "      <th>dp_cr_ct_1m</th>\n",
       "      <th>dp_cr_min_1m</th>\n",
       "      <th>dp_cr_max_1m</th>\n",
       "      <th>dp_cr_mean_1m</th>\n",
       "      <th>dp_cr_median_1m</th>\n",
       "      <th>dp_cr_sum_1m</th>\n",
       "      <th>dp_cr_min_median_1m</th>\n",
       "      <th>period</th>\n",
       "    </tr>\n",
       "  </thead>\n",
       "  <tbody>\n",
       "    <tr>\n",
       "      <th>0</th>\n",
       "      <td>train</td>\n",
       "      <td>171320</td>\n",
       "      <td>2021-04-01</td>\n",
       "      <td>0.0</td>\n",
       "      <td>14</td>\n",
       "      <td>1</td>\n",
       "      <td>12</td>\n",
       "      <td>0.0</td>\n",
       "      <td>6</td>\n",
       "      <td>0.0</td>\n",
       "      <td>...</td>\n",
       "      <td>0.0</td>\n",
       "      <td>0.0</td>\n",
       "      <td>0.0</td>\n",
       "      <td>0.0</td>\n",
       "      <td>0.0</td>\n",
       "      <td>0.0</td>\n",
       "      <td>0.0</td>\n",
       "      <td>0.0</td>\n",
       "      <td>0.0</td>\n",
       "      <td>0.0</td>\n",
       "    </tr>\n",
       "    <tr>\n",
       "      <th>1</th>\n",
       "      <td>train</td>\n",
       "      <td>171357</td>\n",
       "      <td>2021-04-01</td>\n",
       "      <td>0.0</td>\n",
       "      <td>16</td>\n",
       "      <td>1</td>\n",
       "      <td>19</td>\n",
       "      <td>0.0</td>\n",
       "      <td>5</td>\n",
       "      <td>0.0</td>\n",
       "      <td>...</td>\n",
       "      <td>0.0</td>\n",
       "      <td>0.0</td>\n",
       "      <td>0.0</td>\n",
       "      <td>0.0</td>\n",
       "      <td>0.0</td>\n",
       "      <td>0.0</td>\n",
       "      <td>0.0</td>\n",
       "      <td>0.0</td>\n",
       "      <td>0.0</td>\n",
       "      <td>0.0</td>\n",
       "    </tr>\n",
       "    <tr>\n",
       "      <th>2</th>\n",
       "      <td>train</td>\n",
       "      <td>171362</td>\n",
       "      <td>2021-04-01</td>\n",
       "      <td>0.0</td>\n",
       "      <td>18</td>\n",
       "      <td>1</td>\n",
       "      <td>13</td>\n",
       "      <td>0.0</td>\n",
       "      <td>4</td>\n",
       "      <td>0.0</td>\n",
       "      <td>...</td>\n",
       "      <td>0.0</td>\n",
       "      <td>0.0</td>\n",
       "      <td>0.0</td>\n",
       "      <td>0.0</td>\n",
       "      <td>0.0</td>\n",
       "      <td>0.0</td>\n",
       "      <td>0.0</td>\n",
       "      <td>0.0</td>\n",
       "      <td>0.0</td>\n",
       "      <td>0.0</td>\n",
       "    </tr>\n",
       "    <tr>\n",
       "      <th>3</th>\n",
       "      <td>train</td>\n",
       "      <td>171363</td>\n",
       "      <td>2021-04-01</td>\n",
       "      <td>0.0</td>\n",
       "      <td>19</td>\n",
       "      <td>1</td>\n",
       "      <td>9</td>\n",
       "      <td>1.0</td>\n",
       "      <td>6</td>\n",
       "      <td>0.0</td>\n",
       "      <td>...</td>\n",
       "      <td>0.0</td>\n",
       "      <td>0.0</td>\n",
       "      <td>0.0</td>\n",
       "      <td>0.0</td>\n",
       "      <td>0.0</td>\n",
       "      <td>0.0</td>\n",
       "      <td>0.0</td>\n",
       "      <td>0.0</td>\n",
       "      <td>0.0</td>\n",
       "      <td>0.0</td>\n",
       "    </tr>\n",
       "    <tr>\n",
       "      <th>4</th>\n",
       "      <td>train</td>\n",
       "      <td>171375</td>\n",
       "      <td>2021-04-01</td>\n",
       "      <td>0.0</td>\n",
       "      <td>25</td>\n",
       "      <td>1</td>\n",
       "      <td>9</td>\n",
       "      <td>1.0</td>\n",
       "      <td>6</td>\n",
       "      <td>0.0</td>\n",
       "      <td>...</td>\n",
       "      <td>0.0</td>\n",
       "      <td>0.0</td>\n",
       "      <td>0.0</td>\n",
       "      <td>0.0</td>\n",
       "      <td>0.0</td>\n",
       "      <td>0.0</td>\n",
       "      <td>0.0</td>\n",
       "      <td>0.0</td>\n",
       "      <td>0.0</td>\n",
       "      <td>0.0</td>\n",
       "    </tr>\n",
       "  </tbody>\n",
       "</table>\n",
       "<p>5 rows × 100 columns</p>\n",
       "</div>"
      ],
      "text/plain": [
       "  sample  alert_key       date  sar_flag  cust_id  risk_rank  occupation_code  \\\n",
       "0  train     171320 2021-04-01       0.0       14          1               12   \n",
       "1  train     171357 2021-04-01       0.0       16          1               19   \n",
       "2  train     171362 2021-04-01       0.0       18          1               13   \n",
       "3  train     171363 2021-04-01       0.0       19          1                9   \n",
       "4  train     171375 2021-04-01       0.0       25          1                9   \n",
       "\n",
       "   total_asset  AGE  info_ct  ...  dp_db_sum_1m  dp_db_max_median_1m  \\\n",
       "0          0.0    6      0.0  ...           0.0                  0.0   \n",
       "1          0.0    5      0.0  ...           0.0                  0.0   \n",
       "2          0.0    4      0.0  ...           0.0                  0.0   \n",
       "3          1.0    6      0.0  ...           0.0                  0.0   \n",
       "4          1.0    6      0.0  ...           0.0                  0.0   \n",
       "\n",
       "   dp_cr_ct_1m  dp_cr_min_1m  dp_cr_max_1m  dp_cr_mean_1m  dp_cr_median_1m  \\\n",
       "0          0.0           0.0           0.0            0.0              0.0   \n",
       "1          0.0           0.0           0.0            0.0              0.0   \n",
       "2          0.0           0.0           0.0            0.0              0.0   \n",
       "3          0.0           0.0           0.0            0.0              0.0   \n",
       "4          0.0           0.0           0.0            0.0              0.0   \n",
       "\n",
       "   dp_cr_sum_1m  dp_cr_min_median_1m  period  \n",
       "0           0.0                  0.0     0.0  \n",
       "1           0.0                  0.0     0.0  \n",
       "2           0.0                  0.0     0.0  \n",
       "3           0.0                  0.0     0.0  \n",
       "4           0.0                  0.0     0.0  \n",
       "\n",
       "[5 rows x 100 columns]"
      ]
     },
     "execution_count": 11,
     "metadata": {},
     "output_type": "execute_result"
    }
   ],
   "source": [
    "from sklearn.preprocessing import MinMaxScaler, StandardScaler, RobustScaler\n",
    "scaler = MinMaxScaler()\n",
    "train[num_feats] = scaler.fit_transform(train[num_feats])\n",
    "test[num_feats] = scaler.transform(test[num_feats])\n",
    "train.head()"
   ]
  },
  {
   "cell_type": "markdown",
   "metadata": {},
   "source": [
    "### Split train、valid"
   ]
  },
  {
   "cell_type": "code",
   "execution_count": 12,
   "metadata": {},
   "outputs": [
    {
     "name": "stdout",
     "output_type": "stream",
     "text": [
      "(5362, 100) (2299, 100) (2005, 100)\n"
     ]
    }
   ],
   "source": [
    "from sklearn.model_selection import train_test_split\n",
    "\n",
    "train_data, valid_data = train_test_split(train, test_size = 0.3, random_state = 99, stratify = train[target])\n",
    "test_data = test.copy()\n",
    "print(train_data.shape, valid_data.shape, test_data.shape)"
   ]
  },
  {
   "cell_type": "code",
   "execution_count": 13,
   "metadata": {},
   "outputs": [
    {
     "name": "stdout",
     "output_type": "stream",
     "text": [
      "4886 / 164 =  29.793\n"
     ]
    },
    {
     "data": {
      "text/plain": [
       "0.0    5191\n",
       "1.0     171\n",
       "Name: sar_flag, dtype: int64"
      ]
     },
     "execution_count": 13,
     "metadata": {},
     "output_type": "execute_result"
    }
   ],
   "source": [
    "print(\"4886 / 164 = \", round(4886 / 164, 3))\n",
    "train_data.loc[train_data[\"alert_key\"].drop_duplicates().index][\"sar_flag\"].value_counts()"
   ]
  },
  {
   "cell_type": "code",
   "execution_count": 14,
   "metadata": {},
   "outputs": [
    {
     "name": "stdout",
     "output_type": "stream",
     "text": [
      "2095 / 70 =  29.929\n"
     ]
    },
    {
     "data": {
      "text/plain": [
       "0.0    2225\n",
       "1.0      74\n",
       "Name: sar_flag, dtype: int64"
      ]
     },
     "execution_count": 14,
     "metadata": {},
     "output_type": "execute_result"
    }
   ],
   "source": [
    "print(\"2095 / 70 = \", round(2095 / 70, 3))\n",
    "valid_data.loc[valid_data[\"alert_key\"].drop_duplicates().index][\"sar_flag\"].value_counts()"
   ]
  },
  {
   "cell_type": "code",
   "execution_count": 15,
   "metadata": {},
   "outputs": [
    {
     "name": "stdout",
     "output_type": "stream",
     "text": [
      "1835 / 10 =  183.5\n"
     ]
    },
    {
     "data": {
      "text/plain": [
       "Series([], Name: sar_flag, dtype: int64)"
      ]
     },
     "execution_count": 15,
     "metadata": {},
     "output_type": "execute_result"
    }
   ],
   "source": [
    "print(\"1835 / 10 = \", round(1835 / 10, 3))\n",
    "test_data.loc[test_data[\"alert_key\"].drop_duplicates().index][\"sar_flag\"].value_counts()"
   ]
  },
  {
   "attachments": {},
   "cell_type": "markdown",
   "metadata": {},
   "source": [
    "### DataFrame transform to Torch Dataset"
   ]
  },
  {
   "cell_type": "code",
   "execution_count": 16,
   "metadata": {},
   "outputs": [],
   "source": [
    "class Dataset_transform(Dataset):\n",
    "    def __init__(self, df, features, target, alert_key):\n",
    "        self.n_samples = len(df)\n",
    "        self.X = torch.Tensor(df[features].values)#.to(device)\n",
    "        self.y = torch.Tensor(df[target].values.reshape(-1, 1))#.to(device)\n",
    "        self.alert_key = torch.Tensor(df[alert_key].values.reshape(-1, 1)).long()#.to(device)\n",
    "                                            \n",
    "    def __len__(self):\n",
    "        return self.n_samples\n",
    "\n",
    "    def __getitem__(self, index):\n",
    "        return self.X[index], self.y[index], self.alert_key[index]"
   ]
  },
  {
   "cell_type": "code",
   "execution_count": 17,
   "metadata": {},
   "outputs": [],
   "source": [
    "features = num_feats + cat_feats"
   ]
  },
  {
   "cell_type": "code",
   "execution_count": 18,
   "metadata": {},
   "outputs": [],
   "source": [
    "train_dataset = Dataset_transform(train_data, features, target, alert_key)\n",
    "valid_dataset = Dataset_transform(valid_data, features, target, alert_key)\n",
    "test_dataset = Dataset_transform(test_data, features, target, alert_key)"
   ]
  },
  {
   "cell_type": "code",
   "execution_count": 19,
   "metadata": {},
   "outputs": [
    {
     "data": {
      "text/plain": [
       "(tensor([ 0.0000,  0.0000,  0.0000,  0.0000,  1.0000,  0.0000,  1.0000,  0.0000,\n",
       "          0.0000,  0.6667,  0.2500,  0.0000,  0.0000,  0.0000,  0.0000,  1.0000,\n",
       "          0.0000,  0.0000,  0.4545,  0.0000,  0.0000,  0.0000,  0.0000,  0.0000,\n",
       "          0.0000,  0.0000,  0.0000,  0.0000,  0.0000,  0.7368,  1.0000,  0.3333,\n",
       "          0.0000,  0.5000,  0.0000,  0.0000,  0.0000,  0.0000,  0.0000,  0.0000,\n",
       "          0.0000,  0.0000,  0.0000,  0.0000,  0.0000,  0.7418,  1.0000,  1.0000,\n",
       "          0.0000,  0.7665,  0.0000,  1.0000,  0.1667,  1.0000,  0.0000,  0.0000,\n",
       "          1.0000,  0.0000,  1.0000,  0.0000,  0.0000,  0.0000,  0.0000,  0.0000,\n",
       "          0.0000,  0.7500,  0.0000,  0.0000,  0.9635,  0.0000,  0.6667,  0.0000,\n",
       "          0.0000,  0.0000,  0.0000,  0.0000,  1.0000,  0.0000,  0.0000,  0.4545,\n",
       "          0.0000,  0.0000,  0.0000,  1.0000,  0.0000,  0.0000,  0.0000,  0.0000,\n",
       "          1.0000,  0.0000,  1.0000,  0.0000,  3.0000, 17.0000,  4.0000]),\n",
       " tensor([0.]),\n",
       " tensor([305694]))"
      ]
     },
     "execution_count": 19,
     "metadata": {},
     "output_type": "execute_result"
    }
   ],
   "source": [
    "train_dataset.__getitem__(3)"
   ]
  },
  {
   "attachments": {},
   "cell_type": "markdown",
   "metadata": {},
   "source": [
    "### DataLoader for batch"
   ]
  },
  {
   "cell_type": "code",
   "execution_count": 20,
   "metadata": {},
   "outputs": [],
   "source": [
    "batch_size = 128\n",
    "train_dataloader = DataLoader(train_dataset, batch_size = batch_size, shuffle = True)\n",
    "valid_dataloader = DataLoader(valid_dataset, batch_size = batch_size)#, batch_size = len(valid_dataset))\n",
    "test_dataloader = DataLoader(test_dataset, batch_size = batch_size)#, batch_size = len(test_dataset))"
   ]
  },
  {
   "attachments": {},
   "cell_type": "markdown",
   "metadata": {},
   "source": [
    "### Embedding structure"
   ]
  },
  {
   "cell_type": "code",
   "execution_count": 21,
   "metadata": {},
   "outputs": [
    {
     "data": {
      "text/plain": [
       "{'risk_rank': {'input': 4, 'output': 2},\n",
       " 'occupation_code': {'input': 21, 'output': 3},\n",
       " 'AGE': {'input': 11, 'output': 2}}"
      ]
     },
     "execution_count": 21,
     "metadata": {},
     "output_type": "execute_result"
    }
   ],
   "source": [
    "cat_feats_num = df[cat_feats].nunique()\n",
    "cat_feats_num = pd.DataFrame(cat_feats_num, columns = [\"input\"])\n",
    "cat_feats_num[\"output\"] = np.ceil(cat_feats_num ** (0.25)).astype(int)\n",
    "cat_feats_num = cat_feats_num.T.to_dict()\n",
    "cat_feats_num"
   ]
  },
  {
   "cell_type": "code",
   "execution_count": 22,
   "metadata": {},
   "outputs": [],
   "source": [
    "class Embedder(nn.Module):\n",
    "    def __init__(self):\n",
    "        super().__init__()\n",
    "        layers = [nn.Embedding(v[\"input\"], v[\"output\"]) for v in cat_feats_num.values()]\n",
    "        self.embeddings = torch.nn.ModuleList(layers)\n",
    "    \n",
    "    def forward(self, x):\n",
    "        num_x = x[:, :-len(cat_feats_num)]\n",
    "        cat_x = x[:, -len(cat_feats_num):]\n",
    "\n",
    "        emb_x = []\n",
    "        for i, feat_embedder in enumerate(self.embeddings):\n",
    "            feat_x = feat_embedder(cat_x[:, i].long())\n",
    "            emb_x.append(feat_x)\n",
    "            \n",
    "        emb_x = torch.cat(emb_x, dim=1)# 把所有feature的向量合併\n",
    "        new_x = torch.cat((num_x, emb_x), dim = 1)\n",
    "\n",
    "        return new_x"
   ]
  },
  {
   "attachments": {},
   "cell_type": "markdown",
   "metadata": {},
   "source": [
    "### Model structure"
   ]
  },
  {
   "cell_type": "code",
   "execution_count": 23,
   "metadata": {},
   "outputs": [],
   "source": [
    "class Model(nn.Module):\n",
    "    def __init__(self, input_size, embedder):\n",
    "        super().__init__()\n",
    "        self.embedder = embedder\n",
    "\n",
    "        self.net  = nn.Sequential(\n",
    "            nn.Linear(input_size, 128),\n",
    "            nn.LeakyReLU(),\n",
    "            nn.Dropout(0.4),\n",
    "            nn.BatchNorm1d(128),\n",
    "            nn.Linear(128, 64),\n",
    "            nn.LeakyReLU(),\n",
    "            nn.Dropout(0.4),\n",
    "            nn.BatchNorm1d(64),\n",
    "            nn.Linear(64, 32),\n",
    "            nn.LeakyReLU(),\n",
    "            nn.Dropout(0.4),\n",
    "            nn.BatchNorm1d(32),\n",
    "            nn.Linear(32, 1),\n",
    "            nn.Sigmoid()\n",
    "        )\n",
    "    \n",
    "    def forward(self, x):\n",
    "        x = self.embedder(x)\n",
    "        x = self.net(x)\n",
    "        return x"
   ]
  },
  {
   "attachments": {},
   "cell_type": "markdown",
   "metadata": {},
   "source": [
    "### Initialize model"
   ]
  },
  {
   "cell_type": "code",
   "execution_count": 24,
   "metadata": {},
   "outputs": [],
   "source": [
    "epochs = 500\n",
    "input_size = len(features) - len(cat_feats) + sum([v[\"output\"] for v in cat_feats_num.values()])\n",
    "\n",
    "embedder = Embedder()\n",
    "\n",
    "model = Model(input_size, embedder)#.to(device)\n",
    "criterion = nn.BCELoss()#.to(device)\n",
    "optimizer = optim.Adam(model.parameters(), lr = 1e-4)"
   ]
  },
  {
   "attachments": {},
   "cell_type": "markdown",
   "metadata": {},
   "source": [
    "### Initialize weights"
   ]
  },
  {
   "cell_type": "code",
   "execution_count": 25,
   "metadata": {},
   "outputs": [],
   "source": [
    "#初始化權重，使其符合常態分布\n",
    "for m in model.modules():\n",
    "    if isinstance(m, (nn.Linear)):\n",
    "        nn.init.kaiming_normal_(m.weight)\n",
    "        nn.init.constant_(m.bias, 0)\n",
    "    elif isinstance(m, nn.BatchNorm1d):\n",
    "        nn.init.constant_(m.weight, 1)\n",
    "        nn.init.constant_(m.bias, 0)\n",
    "    elif isinstance(m, nn.Embedding):\n",
    "        nn.init.kaiming_normal_(m.weight)"
   ]
  },
  {
   "attachments": {},
   "cell_type": "markdown",
   "metadata": {},
   "source": [
    "### Weight of loss function"
   ]
  },
  {
   "cell_type": "code",
   "execution_count": 26,
   "metadata": {},
   "outputs": [
    {
     "data": {
      "text/plain": [
       "(31.26938775510204, 1.0330366774541533)"
      ]
     },
     "execution_count": 26,
     "metadata": {},
     "output_type": "execute_result"
    }
   ],
   "source": [
    "pos = len(train[target]) / (train[target].sum())\n",
    "neg = len(train[target]) / (len(train[target]) - (train[target].sum()))\n",
    "# pos = 1; neg = 1\n",
    "pos, neg"
   ]
  },
  {
   "cell_type": "code",
   "execution_count": 27,
   "metadata": {},
   "outputs": [],
   "source": [
    "def loss_weight(labels, pos, neg):\n",
    "    weight = []\n",
    "    for label in labels:\n",
    "        if label == 1:\n",
    "            weight.append(pos)\n",
    "        elif label == 0:\n",
    "            weight.append(neg)\n",
    "            \n",
    "    return torch.tensor(weight).reshape(-1, 1)"
   ]
  },
  {
   "attachments": {},
   "cell_type": "markdown",
   "metadata": {},
   "source": [
    "### Training model"
   ]
  },
  {
   "cell_type": "code",
   "execution_count": 28,
   "metadata": {},
   "outputs": [],
   "source": [
    "def model_train(dataloader, model, criterion, _tqdm):\n",
    "    model.train() # 模型為訓練模式\n",
    "    losses = 0\n",
    "    for  batch, (X, y, alert) in enumerate(dataloader):\n",
    "        pred = model(X) #預測\n",
    "\n",
    "        weight = loss_weight(y, pos, neg)\n",
    "        criterion = nn.BCELoss(weight = weight)\n",
    "        loss = criterion(pred, y) #計算損失函數\n",
    "        losses += loss.item()\n",
    "        \n",
    "        optimizer.zero_grad() # 梯度在反向傳播前先清零\n",
    "        loss.backward() # 反向傳播，計算權重對損失函數的梯度\n",
    "        optimizer.step()  # 根據梯度更新權重\n",
    "\n",
    "        _tqdm.set_postfix({\"train_loss\" : loss.item()})\n",
    "        _tqdm.update(1)\n",
    "\n",
    "    losses /= (batch + 1)\n",
    "\n",
    "    return model, losses"
   ]
  },
  {
   "cell_type": "code",
   "execution_count": 29,
   "metadata": {},
   "outputs": [],
   "source": [
    "def model_eval(dataloader, model, criterion, mode = \"train\"):\n",
    "    model.eval() # 模型為訓練模式\n",
    "    preds, ys, alerts = torch.Tensor([]), torch.Tensor([]), torch.Tensor([])\n",
    "    with torch.no_grad():\n",
    "        losses = 0\n",
    "        for  batch, (X, y, alert) in enumerate(dataloader):\n",
    "            pred = model(X) #預測\n",
    "\n",
    "            if mode != \"test\":\n",
    "                weight = loss_weight(y, pos, neg)\n",
    "                criterion = nn.BCELoss(weight = weight)\n",
    "                loss = criterion(pred, y) #計算損失函數\n",
    "                losses += loss.item()\n",
    "\n",
    "            preds = torch.concat([preds, pred])\n",
    "            ys = torch.concat([ys, y])\n",
    "            alerts = torch.concat([alerts, alert])\n",
    "\n",
    "        if mode != \"test\":\n",
    "            losses /= (batch + 1)\n",
    "\n",
    "            return losses\n",
    "        \n",
    "        return preds, ys, alerts"
   ]
  },
  {
   "cell_type": "code",
   "execution_count": 30,
   "metadata": {},
   "outputs": [
    {
     "name": "stderr",
     "output_type": "stream",
     "text": [
      "epoch: 1/500: 100%|████████████████████████████████████████████████████████████████████████████████| 42/42 [00:01<00:00, 40.79it/s, train_loss=1.9, valid_loss=1.44, best_loss=1.44]\n",
      "epoch: 2/500: 100%|██████████████████████████████████████████████████████████████████████████████| 42/42 [00:00<00:00, 114.10it/s, train_loss=1.76, valid_loss=1.29, best_loss=1.29]\n",
      "epoch: 3/500: 100%|██████████████████████████████████████████████████████████████████████████████| 42/42 [00:00<00:00, 106.17it/s, train_loss=1.69, valid_loss=1.17, best_loss=1.17]\n",
      "epoch: 4/500: 100%|██████████████████████████████████████████████████████████████████████████████| 42/42 [00:00<00:00, 118.45it/s, train_loss=1.64, valid_loss=1.13, best_loss=1.13]\n",
      "epoch: 5/500: 100%|██████████████████████████████████████████████████████████████████████████████| 42/42 [00:00<00:00, 115.20it/s, train_loss=1.56, valid_loss=1.06, best_loss=1.06]\n",
      "epoch: 6/500: 100%|███████████████████████████████████████████████████████████████████████████████| 42/42 [00:00<00:00, 113.64it/s, train_loss=1.5, valid_loss=1.03, best_loss=1.03]\n",
      "epoch: 7/500: 100%|████████████████████████████████████████████████████████████████████████████████████| 42/42 [00:00<00:00, 105.90it/s, train_loss=1.43, valid_loss=1, best_loss=1]\n",
      "epoch: 8/500: 100%|████████████████████████████████████████████████████████████████████████████| 42/42 [00:00<00:00, 112.58it/s, train_loss=1.43, valid_loss=0.983, best_loss=0.983]\n",
      "epoch: 9/500: 100%|████████████████████████████████████████████████████████████████████████████| 42/42 [00:00<00:00, 105.94it/s, train_loss=1.35, valid_loss=0.971, best_loss=0.971]\n",
      "epoch: 10/500: 100%|█████████████████████████████████████████████████████████████████████████████| 42/42 [00:00<00:00, 105.45it/s, train_loss=1.45, valid_loss=0.95, best_loss=0.95]\n",
      "epoch: 11/500: 100%|██████████████████████████████████████████████████████████████████████████████| 42/42 [00:00<00:00, 111.09it/s, train_loss=1.4, valid_loss=0.94, best_loss=0.94]\n",
      "epoch: 12/500: 100%|███████████████████████████████████████████████████████████████████████████| 42/42 [00:00<00:00, 111.82it/s, train_loss=1.36, valid_loss=0.929, best_loss=0.929]\n",
      "epoch: 13/500: 100%|███████████████████████████████████████████████████████████████████████████| 42/42 [00:00<00:00, 114.42it/s, train_loss=1.28, valid_loss=0.914, best_loss=0.914]\n",
      "epoch: 14/500: 100%|███████████████████████████████████████████████████████████████████████████| 42/42 [00:00<00:00, 115.04it/s, train_loss=1.35, valid_loss=0.903, best_loss=0.903]\n",
      "epoch: 15/500: 100%|████████████████████████████████████████████████████████████████████████████| 42/42 [00:00<00:00, 116.15it/s, train_loss=1.3, valid_loss=0.899, best_loss=0.899]\n",
      "epoch: 16/500: 100%|███████████████████████████████████████████████████████████████████████████| 42/42 [00:00<00:00, 110.50it/s, train_loss=1.25, valid_loss=0.896, best_loss=0.896]\n",
      "epoch: 17/500: 100%|███████████████████████████████████████████████████████████████████████████| 42/42 [00:00<00:00, 114.42it/s, train_loss=1.24, valid_loss=0.877, best_loss=0.877]\n",
      "epoch: 18/500: 100%|█████████████████████████████████████████████████████████████████████████████| 42/42 [00:00<00:00, 115.68it/s, train_loss=1.2, valid_loss=0.88, best_loss=0.877]\n",
      "epoch: 19/500: 100%|███████████████████████████████████████████████████████████████████████████| 42/42 [00:00<00:00, 112.88it/s, train_loss=1.25, valid_loss=0.878, best_loss=0.877]\n",
      "epoch: 20/500: 100%|███████████████████████████████████████████████████████████████████████████| 42/42 [00:00<00:00, 114.11it/s, train_loss=1.19, valid_loss=0.861, best_loss=0.861]\n",
      "epoch: 21/500: 100%|███████████████████████████████████████████████████████████████████████████| 42/42 [00:00<00:00, 104.58it/s, train_loss=1.23, valid_loss=0.865, best_loss=0.861]\n",
      "epoch: 22/500: 100%|███████████████████████████████████████████████████████████████████████████| 42/42 [00:00<00:00, 106.85it/s, train_loss=1.27, valid_loss=0.857, best_loss=0.857]\n",
      "epoch: 23/500: 100%|████████████████████████████████████████████████████████████████████████████| 42/42 [00:00<00:00, 112.27it/s, train_loss=1.15, valid_loss=0.86, best_loss=0.857]\n",
      "epoch: 24/500: 100%|█████████████████████████████████████████████████████████████████████████████| 42/42 [00:00<00:00, 114.10it/s, train_loss=1.14, valid_loss=0.85, best_loss=0.85]\n",
      "epoch: 25/500: 100%|███████████████████████████████████████████████████████████████████████████| 42/42 [00:00<00:00, 109.21it/s, train_loss=1.13, valid_loss=0.842, best_loss=0.842]\n",
      "epoch: 26/500: 100%|███████████████████████████████████████████████████████████████████████████| 42/42 [00:00<00:00, 109.64it/s, train_loss=1.13, valid_loss=0.834, best_loss=0.834]\n",
      "epoch: 27/500: 100%|███████████████████████████████████████████████████████████████████████████| 42/42 [00:00<00:00, 111.38it/s, train_loss=1.13, valid_loss=0.832, best_loss=0.832]\n",
      "epoch: 28/500: 100%|███████████████████████████████████████████████████████████████████████████| 42/42 [00:00<00:00, 110.36it/s, train_loss=1.15, valid_loss=0.831, best_loss=0.831]\n",
      "epoch: 29/500: 100%|███████████████████████████████████████████████████████████████████████████| 42/42 [00:00<00:00, 109.49it/s, train_loss=1.13, valid_loss=0.813, best_loss=0.813]\n",
      "epoch: 30/500: 100%|███████████████████████████████████████████████████████████████████████████| 42/42 [00:00<00:00, 108.22it/s, train_loss=1.14, valid_loss=0.823, best_loss=0.813]\n",
      "epoch: 31/500: 100%|█████████████████████████████████████████████████████████████████████████████| 42/42 [00:00<00:00, 97.65it/s, train_loss=1.14, valid_loss=0.82, best_loss=0.813]\n",
      "epoch: 32/500: 100%|██████████████████████████████████████████████████████████████████████████████| 42/42 [00:00<00:00, 97.54it/s, train_loss=1.12, valid_loss=0.81, best_loss=0.81]\n",
      "epoch: 33/500: 100%|███████████████████████████████████████████████████████████████████████████| 42/42 [00:00<00:00, 103.55it/s, train_loss=1.12, valid_loss=0.803, best_loss=0.803]\n",
      "epoch: 34/500: 100%|███████████████████████████████████████████████████████████████████████████| 42/42 [00:00<00:00, 106.04it/s, train_loss=1.16, valid_loss=0.812, best_loss=0.803]\n",
      "epoch: 35/500: 100%|███████████████████████████████████████████████████████████████████████████| 42/42 [00:00<00:00, 104.98it/s, train_loss=1.13, valid_loss=0.795, best_loss=0.795]\n",
      "epoch: 36/500: 100%|███████████████████████████████████████████████████████████████████████████| 42/42 [00:00<00:00, 104.45it/s, train_loss=1.11, valid_loss=0.784, best_loss=0.784]\n",
      "epoch: 37/500: 100%|████████████████████████████████████████████████████████████████████████████| 42/42 [00:00<00:00, 96.98it/s, train_loss=1.11, valid_loss=0.787, best_loss=0.784]\n",
      "epoch: 38/500: 100%|███████████████████████████████████████████████████████████████████████████| 42/42 [00:00<00:00, 100.33it/s, train_loss=1.14, valid_loss=0.783, best_loss=0.783]\n",
      "epoch: 39/500: 100%|███████████████████████████████████████████████████████████████████████████| 42/42 [00:00<00:00, 111.97it/s, train_loss=1.09, valid_loss=0.786, best_loss=0.783]\n",
      "epoch: 40/500: 100%|████████████████████████████████████████████████████████████████████████████| 42/42 [00:00<00:00, 97.88it/s, train_loss=1.09, valid_loss=0.778, best_loss=0.778]\n",
      "epoch: 41/500: 100%|███████████████████████████████████████████████████████████████████████████| 42/42 [00:00<00:00, 106.57it/s, train_loss=1.05, valid_loss=0.789, best_loss=0.778]\n",
      "epoch: 42/500: 100%|███████████████████████████████████████████████████████████████████████████| 42/42 [00:00<00:00, 109.64it/s, train_loss=1.03, valid_loss=0.774, best_loss=0.774]\n",
      "epoch: 43/500: 100%|███████████████████████████████████████████████████████████████████████████| 42/42 [00:00<00:00, 110.50it/s, train_loss=1.02, valid_loss=0.773, best_loss=0.773]\n",
      "epoch: 44/500: 100%|███████████████████████████████████████████████████████████████████████████| 42/42 [00:00<00:00, 108.78it/s, train_loss=1.09, valid_loss=0.772, best_loss=0.772]\n",
      "epoch: 45/500: 100%|███████████████████████████████████████████████████████████████████████████| 42/42 [00:00<00:00, 104.19it/s, train_loss=1.04, valid_loss=0.774, best_loss=0.772]\n",
      "epoch: 46/500: 100%|███████████████████████████████████████████████████████████████████████████| 42/42 [00:00<00:00, 109.35it/s, train_loss=1.04, valid_loss=0.769, best_loss=0.769]\n",
      "epoch: 47/500: 100%|███████████████████████████████████████████████████████████████████████████| 42/42 [00:00<00:00, 106.31it/s, train_loss=1.08, valid_loss=0.758, best_loss=0.758]\n",
      "epoch: 48/500: 100%|███████████████████████████████████████████████████████████████████████████| 42/42 [00:00<00:00, 103.94it/s, train_loss=1.08, valid_loss=0.754, best_loss=0.754]\n",
      "epoch: 49/500: 100%|███████████████████████████████████████████████████████████████████████████| 42/42 [00:00<00:00, 106.31it/s, train_loss=1.03, valid_loss=0.757, best_loss=0.754]\n",
      "epoch: 50/500: 100%|███████████████████████████████████████████████████████████████████████████| 42/42 [00:00<00:00, 103.42it/s, train_loss=1.04, valid_loss=0.763, best_loss=0.754]\n",
      "epoch: 51/500: 100%|████████████████████████████████████████████████████████████████████████████| 42/42 [00:00<00:00, 97.43it/s, train_loss=1.03, valid_loss=0.755, best_loss=0.754]\n",
      "epoch: 52/500: 100%|███████████████████████████████████████████████████████████████████████████| 42/42 [00:00<00:00, 82.01it/s, train_loss=0.989, valid_loss=0.755, best_loss=0.754]\n",
      "epoch: 53/500: 100%|███████████████████████████████████████████████████████████████████████████| 42/42 [00:00<00:00, 109.35it/s, train_loss=1.02, valid_loss=0.743, best_loss=0.743]\n",
      "epoch: 54/500: 100%|███████████████████████████████████████████████████████████████████████████| 42/42 [00:00<00:00, 104.41it/s, train_loss=1.06, valid_loss=0.746, best_loss=0.743]\n",
      "epoch: 55/500: 100%|███████████████████████████████████████████████████████████████████████████| 42/42 [00:00<00:00, 109.92it/s, train_loss=1.01, valid_loss=0.749, best_loss=0.743]\n",
      "epoch: 56/500: 100%|████████████████████████████████████████████████████████████████████████████| 42/42 [00:00<00:00, 98.10it/s, train_loss=1.05, valid_loss=0.744, best_loss=0.743]\n",
      "epoch: 57/500: 100%|███████████████████████████████████████████████████████████████████████████| 42/42 [00:00<00:00, 109.92it/s, train_loss=1.02, valid_loss=0.747, best_loss=0.743]\n",
      "epoch: 58/500: 100%|███████████████████████████████████████████████████████████████████████████████| 42/42 [00:00<00:00, 90.11it/s, train_loss=1, valid_loss=0.739, best_loss=0.739]\n",
      "epoch: 59/500: 100%|███████████████████████████████████████████████████████████████████████████| 42/42 [00:00<00:00, 101.30it/s, train_loss=1.02, valid_loss=0.741, best_loss=0.739]\n",
      "epoch: 60/500: 100%|████████████████████████████████████████████████████████████████████████████| 42/42 [00:00<00:00, 92.90it/s, train_loss=0.973, valid_loss=0.74, best_loss=0.739]\n",
      "epoch: 61/500: 100%|███████████████████████████████████████████████████████████████████████████| 42/42 [00:00<00:00, 112.88it/s, train_loss=1.01, valid_loss=0.737, best_loss=0.737]\n",
      "epoch: 62/500: 100%|██████████████████████████████████████████████████████████████████████████| 42/42 [00:00<00:00, 114.73it/s, train_loss=0.983, valid_loss=0.737, best_loss=0.737]\n",
      "epoch: 63/500: 100%|██████████████████████████████████████████████████████████████████████████| 42/42 [00:00<00:00, 108.50it/s, train_loss=0.979, valid_loss=0.732, best_loss=0.732]\n",
      "epoch: 64/500: 100%|███████████████████████████████████████████████████████████████████████████████| 42/42 [00:00<00:00, 84.15it/s, train_loss=1, valid_loss=0.733, best_loss=0.732]\n",
      "epoch: 65/500: 100%|██████████████████████████████████████████████████████████████████████████| 42/42 [00:00<00:00, 106.58it/s, train_loss=0.982, valid_loss=0.731, best_loss=0.731]\n",
      "epoch: 66/500: 100%|███████████████████████████████████████████████████████████████████████████| 42/42 [00:00<00:00, 106.58it/s, train_loss=1.04, valid_loss=0.724, best_loss=0.724]\n",
      "epoch: 67/500: 100%|███████████████████████████████████████████████████████████████████████████| 42/42 [00:00<00:00, 99.27it/s, train_loss=0.965, valid_loss=0.728, best_loss=0.724]\n",
      "epoch: 68/500: 100%|██████████████████████████████████████████████████████████████████████████| 42/42 [00:00<00:00, 104.20it/s, train_loss=0.978, valid_loss=0.728, best_loss=0.724]\n",
      "epoch: 69/500: 100%|██████████████████████████████████████████████████████████████████████████| 42/42 [00:00<00:00, 102.17it/s, train_loss=0.934, valid_loss=0.726, best_loss=0.724]\n",
      "epoch: 70/500: 100%|███████████████████████████████████████████████████████████████████████████| 42/42 [00:00<00:00, 80.13it/s, train_loss=0.926, valid_loss=0.718, best_loss=0.718]\n",
      "epoch: 71/500: 100%|██████████████████████████████████████████████████████████████████████████| 42/42 [00:00<00:00, 101.67it/s, train_loss=0.947, valid_loss=0.727, best_loss=0.718]\n",
      "epoch: 72/500: 100%|██████████████████████████████████████████████████████████████████████████| 42/42 [00:00<00:00, 105.90it/s, train_loss=0.949, valid_loss=0.725, best_loss=0.718]\n",
      "epoch: 73/500: 100%|██████████████████████████████████████████████████████████████████████████| 42/42 [00:00<00:00, 102.04it/s, train_loss=0.956, valid_loss=0.714, best_loss=0.714]\n",
      "epoch: 74/500: 100%|███████████████████████████████████████████████████████████████████████████| 42/42 [00:00<00:00, 104.71it/s, train_loss=0.92, valid_loss=0.721, best_loss=0.714]\n",
      "epoch: 75/500: 100%|████████████████████████████████████████████████████████████████████████████| 42/42 [00:00<00:00, 111.97it/s, train_loss=0.914, valid_loss=0.71, best_loss=0.71]\n",
      "epoch: 76/500: 100%|███████████████████████████████████████████████████████████████████████████| 42/42 [00:00<00:00, 112.88it/s, train_loss=0.969, valid_loss=0.715, best_loss=0.71]\n",
      "epoch: 77/500: 100%|███████████████████████████████████████████████████████████████████████████| 42/42 [00:00<00:00, 103.68it/s, train_loss=0.958, valid_loss=0.713, best_loss=0.71]\n",
      "epoch: 78/500: 100%|████████████████████████████████████████████████████████████████████████████| 42/42 [00:00<00:00, 108.64it/s, train_loss=0.93, valid_loss=0.713, best_loss=0.71]\n",
      "epoch: 79/500: 100%|██████████████████████████████████████████████████████████████████████████| 42/42 [00:00<00:00, 103.94it/s, train_loss=0.928, valid_loss=0.707, best_loss=0.707]\n",
      "epoch: 80/500: 100%|██████████████████████████████████████████████████████████████████████████| 42/42 [00:00<00:00, 101.18it/s, train_loss=0.898, valid_loss=0.705, best_loss=0.705]\n",
      "epoch: 81/500: 100%|███████████████████████████████████████████████████████████████████████████| 42/42 [00:00<00:00, 98.11it/s, train_loss=0.959, valid_loss=0.707, best_loss=0.705]\n",
      "epoch: 82/500: 100%|██████████████████████████████████████████████████████████████████████████| 42/42 [00:00<00:00, 105.24it/s, train_loss=0.889, valid_loss=0.706, best_loss=0.705]\n",
      "epoch: 83/500: 100%|███████████████████████████████████████████████████████████████████████████| 42/42 [00:00<00:00, 99.98it/s, train_loss=0.903, valid_loss=0.704, best_loss=0.704]\n",
      "epoch: 84/500: 100%|███████████████████████████████████████████████████████████████████████████| 42/42 [00:00<00:00, 97.65it/s, train_loss=0.932, valid_loss=0.702, best_loss=0.702]\n",
      "epoch: 85/500: 100%|███████████████████████████████████████████████████████████████████████████| 42/42 [00:00<00:00, 96.52it/s, train_loss=0.888, valid_loss=0.701, best_loss=0.701]\n",
      "epoch: 86/500: 100%|████████████████████████████████████████████████████████████████████████████| 42/42 [00:00<00:00, 94.68it/s, train_loss=0.92, valid_loss=0.703, best_loss=0.701]\n",
      "epoch: 87/500: 100%|██████████████████████████████████████████████████████████████████████████| 42/42 [00:00<00:00, 107.52it/s, train_loss=0.885, valid_loss=0.701, best_loss=0.701]\n",
      "epoch: 88/500: 100%|██████████████████████████████████████████████████████████████████████████| 42/42 [00:00<00:00, 101.92it/s, train_loss=0.893, valid_loss=0.702, best_loss=0.701]\n",
      "epoch: 89/500: 100%|██████████████████████████████████████████████████████████████████████████| 42/42 [00:00<00:00, 104.84it/s, train_loss=0.906, valid_loss=0.699, best_loss=0.699]\n",
      "epoch: 90/500: 100%|███████████████████████████████████████████████████████████████████████████| 42/42 [00:00<00:00, 98.45it/s, train_loss=0.901, valid_loss=0.696, best_loss=0.696]\n",
      "epoch: 91/500: 100%|██████████████████████████████████████████████████████████████████████████| 42/42 [00:00<00:00, 107.67it/s, train_loss=0.921, valid_loss=0.697, best_loss=0.696]\n",
      "epoch: 92/500: 100%|██████████████████████████████████████████████████████████████████████████| 42/42 [00:00<00:00, 110.50it/s, train_loss=0.917, valid_loss=0.696, best_loss=0.696]\n",
      "epoch: 93/500: 100%|██████████████████████████████████████████████████████████████████████████| 42/42 [00:00<00:00, 107.12it/s, train_loss=0.891, valid_loss=0.693, best_loss=0.693]\n",
      "epoch: 94/500: 100%|██████████████████████████████████████████████████████████████████████████| 42/42 [00:00<00:00, 109.35it/s, train_loss=0.875, valid_loss=0.695, best_loss=0.693]\n",
      "epoch: 95/500: 100%|██████████████████████████████████████████████████████████████████████████| 42/42 [00:00<00:00, 100.33it/s, train_loss=0.881, valid_loss=0.697, best_loss=0.693]\n",
      "epoch: 96/500: 100%|██████████████████████████████████████████████████████████████████████████| 42/42 [00:00<00:00, 107.12it/s, train_loss=0.879, valid_loss=0.694, best_loss=0.693]\n",
      "epoch: 97/500: 100%|██████████████████████████████████████████████████████████████████████████| 42/42 [00:00<00:00, 105.37it/s, train_loss=0.877, valid_loss=0.697, best_loss=0.693]\n",
      "epoch: 98/500: 100%|██████████████████████████████████████████████████████████████████████████| 42/42 [00:00<00:00, 113.18it/s, train_loss=0.886, valid_loss=0.696, best_loss=0.693]"
     ]
    },
    {
     "name": "stdout",
     "output_type": "stream",
     "text": [
      "early stop!\n",
      "Done!\n"
     ]
    },
    {
     "name": "stderr",
     "output_type": "stream",
     "text": [
      "\n"
     ]
    }
   ],
   "source": [
    "# 建模\n",
    "best_loss = np.inf\n",
    "paitence = 5\n",
    "remain_patience = 0\n",
    "train_losses = []\n",
    "valid_losses = []\n",
    "for epoch in range(epochs):\n",
    "\n",
    "    with tqdm(total = len(train_dataloader), ncols = 180) as _tqdm: # 使用需要的參數對tqdm進行初始化\n",
    "        _tqdm.set_description('epoch: {}/{}'.format(epoch + 1, epochs))# 設置前綴 一般為epoch的信息\n",
    "        \n",
    "        # train model\n",
    "        model, train_loss = model_train(train_dataloader, model, criterion, _tqdm)\n",
    "        train_losses.append(train_loss)\n",
    "\n",
    "        # validate model\n",
    "        valid_loss = model_eval(valid_dataloader, model, criterion, mode = \"train\")\n",
    "        valid_losses.append(valid_loss)\n",
    "\n",
    "        # 損失函數連續30個epoches都沒下降的話就終止訓練\n",
    "        if valid_loss < best_loss:\n",
    "            best_loss = valid_loss\n",
    "            remain_patience = paitence\n",
    "            _tqdm.set_postfix({\"train_loss\" : train_loss, \"valid_loss\": valid_loss, \"best_loss\": best_loss})# 設置想在本次循環監視變量，可作後綴打印出來\n",
    "        else:\n",
    "            _tqdm.set_postfix({\"train_loss\" : train_loss, \"valid_loss\": valid_loss, \"best_loss\": best_loss})# 設置想在本次循環監視變量，可作後綴打印出來\n",
    "            remain_patience -= 1\n",
    "            if remain_patience == 0:\n",
    "                print('early stop!')\n",
    "                break\n",
    "        \n",
    "print(\"Done!\")"
   ]
  },
  {
   "cell_type": "code",
   "execution_count": 31,
   "metadata": {},
   "outputs": [
    {
     "data": {
      "text/plain": [
       "Text(0, 0.5, 'loss')"
      ]
     },
     "execution_count": 31,
     "metadata": {},
     "output_type": "execute_result"
    },
    {
     "data": {
      "image/png": "[encoded data removed]",
      "text/plain": [
       "<Figure size 1000x400 with 1 Axes>"
      ]
     },
     "metadata": {},
     "output_type": "display_data"
    }
   ],
   "source": [
    "plt.figure(figsize = (10, 4))\n",
    "plt.plot(train_losses)\n",
    "plt.plot(valid_losses)\n",
    "plt.legend([\"train\", \"vlid\"])\n",
    "plt.xlabel(\"epoch\")\n",
    "plt.ylabel(\"loss\")"
   ]
  },
  {
   "attachments": {},
   "cell_type": "markdown",
   "metadata": {},
   "source": [
    "### Predict"
   ]
  },
  {
   "cell_type": "code",
   "execution_count": 32,
   "metadata": {},
   "outputs": [],
   "source": [
    "train_pred, train_y, train_alert = model_eval(train_dataloader, model, criterion, mode = \"test\")\n",
    "valid_pred, valid_y, valid_alert = model_eval(valid_dataloader, model, criterion, mode = \"test\")\n",
    "test_pred, test_y, test_alert = model_eval(test_dataloader, model, criterion, mode = \"test\")"
   ]
  },
  {
   "cell_type": "code",
   "execution_count": 33,
   "metadata": {},
   "outputs": [
    {
     "data": {
      "text/html": [
       "<div>\n",
       "<style scoped>\n",
       "    .dataframe tbody tr th:only-of-type {\n",
       "        vertical-align: middle;\n",
       "    }\n",
       "\n",
       "    .dataframe tbody tr th {\n",
       "        vertical-align: top;\n",
       "    }\n",
       "\n",
       "    .dataframe thead th {\n",
       "        text-align: right;\n",
       "    }\n",
       "</style>\n",
       "<table border=\"1\" class=\"dataframe\">\n",
       "  <thead>\n",
       "    <tr style=\"text-align: right;\">\n",
       "      <th></th>\n",
       "      <th>alert_key</th>\n",
       "      <th>probability</th>\n",
       "      <th>sar_flag</th>\n",
       "    </tr>\n",
       "  </thead>\n",
       "  <tbody>\n",
       "    <tr>\n",
       "      <th>0</th>\n",
       "      <td>365126.0</td>\n",
       "      <td>0.578901</td>\n",
       "      <td>NaN</td>\n",
       "    </tr>\n",
       "    <tr>\n",
       "      <th>1</th>\n",
       "      <td>365163.0</td>\n",
       "      <td>0.098110</td>\n",
       "      <td>NaN</td>\n",
       "    </tr>\n",
       "    <tr>\n",
       "      <th>2</th>\n",
       "      <td>365166.0</td>\n",
       "      <td>0.245101</td>\n",
       "      <td>NaN</td>\n",
       "    </tr>\n",
       "    <tr>\n",
       "      <th>3</th>\n",
       "      <td>365167.0</td>\n",
       "      <td>0.232864</td>\n",
       "      <td>NaN</td>\n",
       "    </tr>\n",
       "    <tr>\n",
       "      <th>4</th>\n",
       "      <td>365168.0</td>\n",
       "      <td>0.077038</td>\n",
       "      <td>NaN</td>\n",
       "    </tr>\n",
       "  </tbody>\n",
       "</table>\n",
       "</div>"
      ],
      "text/plain": [
       "   alert_key  probability  sar_flag\n",
       "0   365126.0     0.578901       NaN\n",
       "1   365163.0     0.098110       NaN\n",
       "2   365166.0     0.245101       NaN\n",
       "3   365167.0     0.232864       NaN\n",
       "4   365168.0     0.077038       NaN"
      ]
     },
     "execution_count": 33,
     "metadata": {},
     "output_type": "execute_result"
    }
   ],
   "source": [
    "train_result = torch.concat((train_alert, train_pred, train_y), dim = 1)\n",
    "train_result = pd.DataFrame(train_result, columns = [\"alert_key\", \"probability\", \"sar_flag\"])\n",
    "\n",
    "valid_result = torch.concat((valid_alert, valid_pred, valid_y), dim = 1)\n",
    "valid_result = pd.DataFrame(valid_result, columns = [\"alert_key\", \"probability\", \"sar_flag\"])\n",
    "\n",
    "test_result = torch.concat((test_alert, test_pred, test_y), dim = 1)\n",
    "test_result = pd.DataFrame(test_result, columns = [\"alert_key\", \"probability\", \"sar_flag\"])\n",
    "test_result.head()"
   ]
  },
  {
   "cell_type": "code",
   "execution_count": 34,
   "metadata": {},
   "outputs": [],
   "source": [
    "train_result = train_result.sort_values(\"probability\", ascending = False).reset_index(drop = True)\n",
    "valid_result = valid_result.sort_values(\"probability\", ascending = False).reset_index(drop = True)\n",
    "test_result = test_result.sort_values(\"probability\", ascending = False).reset_index(drop = True)"
   ]
  },
  {
   "attachments": {},
   "cell_type": "markdown",
   "metadata": {},
   "source": [
    "### Recall N-1 score"
   ]
  },
  {
   "cell_type": "code",
   "execution_count": 35,
   "metadata": {},
   "outputs": [
    {
     "name": "stdout",
     "output_type": "stream",
     "text": [
      "train total: 5362\n",
      "(171 - 1) / 3279 = 0.0518450747179018\n",
      "\n",
      "Valid total: 2299\n",
      "(74 - 1) / 907 = 0.0804851157662624\n",
      "\n"
     ]
    }
   ],
   "source": [
    "train_sar = int(train_result[target].sum())\n",
    "train_len = train_result[train_result[target] == 1].index[-2] + 1\n",
    "print(f\"train total: {len(train_result)}\")\n",
    "print(f\"({train_sar} - 1) / {train_len} = {(train_sar - 1) / train_len}\\n\")\n",
    "\n",
    "valid_sar = int(valid_result[target].sum())\n",
    "valid_len = valid_result[valid_result[target] == 1].index[-2] + 1\n",
    "print(f\"Valid total: {len(valid_result)}\")\n",
    "print(f\"({valid_sar} - 1) / {valid_len} = {(valid_sar - 1) / valid_len}\\n\")\n",
    "\n",
    "# test_sar = int(test_result[target].sum())\n",
    "# test_len = test_result[test_result[target] == 1].index[-2] + 1\n",
    "# print(f\"Test total: {len(test_result)}\")\n",
    "# print(f\"({test_sar} - 1) / {test_len} = {(test_sar - 1) / test_len}\")"
   ]
  },
  {
   "cell_type": "code",
   "execution_count": 36,
   "metadata": {},
   "outputs": [
    {
     "data": {
      "text/html": [
       "<div>\n",
       "<style scoped>\n",
       "    .dataframe tbody tr th:only-of-type {\n",
       "        vertical-align: middle;\n",
       "    }\n",
       "\n",
       "    .dataframe tbody tr th {\n",
       "        vertical-align: top;\n",
       "    }\n",
       "\n",
       "    .dataframe thead th {\n",
       "        text-align: right;\n",
       "    }\n",
       "</style>\n",
       "<table border=\"1\" class=\"dataframe\">\n",
       "  <thead>\n",
       "    <tr style=\"text-align: right;\">\n",
       "      <th></th>\n",
       "      <th>alert_key</th>\n",
       "      <th>probability</th>\n",
       "    </tr>\n",
       "  </thead>\n",
       "  <tbody>\n",
       "    <tr>\n",
       "      <th>0</th>\n",
       "      <td>356602</td>\n",
       "      <td>0.866303</td>\n",
       "    </tr>\n",
       "    <tr>\n",
       "      <th>1</th>\n",
       "      <td>355724</td>\n",
       "      <td>0.944693</td>\n",
       "    </tr>\n",
       "    <tr>\n",
       "      <th>2</th>\n",
       "      <td>358453</td>\n",
       "      <td>0.931213</td>\n",
       "    </tr>\n",
       "    <tr>\n",
       "      <th>3</th>\n",
       "      <td>361617</td>\n",
       "      <td>0.885478</td>\n",
       "    </tr>\n",
       "    <tr>\n",
       "      <th>4</th>\n",
       "      <td>359668</td>\n",
       "      <td>0.900306</td>\n",
       "    </tr>\n",
       "    <tr>\n",
       "      <th>...</th>\n",
       "      <td>...</td>\n",
       "      <td>...</td>\n",
       "    </tr>\n",
       "    <tr>\n",
       "      <th>3845</th>\n",
       "      <td>371792</td>\n",
       "      <td>0.170550</td>\n",
       "    </tr>\n",
       "    <tr>\n",
       "      <th>3846</th>\n",
       "      <td>373453</td>\n",
       "      <td>0.754557</td>\n",
       "    </tr>\n",
       "    <tr>\n",
       "      <th>3847</th>\n",
       "      <td>375469</td>\n",
       "      <td>0.208148</td>\n",
       "    </tr>\n",
       "    <tr>\n",
       "      <th>3848</th>\n",
       "      <td>369969</td>\n",
       "      <td>0.702704</td>\n",
       "    </tr>\n",
       "    <tr>\n",
       "      <th>3849</th>\n",
       "      <td>366252</td>\n",
       "      <td>0.926682</td>\n",
       "    </tr>\n",
       "  </tbody>\n",
       "</table>\n",
       "<p>3850 rows × 2 columns</p>\n",
       "</div>"
      ],
      "text/plain": [
       "      alert_key  probability\n",
       "0        356602     0.866303\n",
       "1        355724     0.944693\n",
       "2        358453     0.931213\n",
       "3        361617     0.885478\n",
       "4        359668     0.900306\n",
       "...         ...          ...\n",
       "3845     371792     0.170550\n",
       "3846     373453     0.754557\n",
       "3847     375469     0.208148\n",
       "3848     369969     0.702704\n",
       "3849     366252     0.926682\n",
       "\n",
       "[3850 rows x 2 columns]"
      ]
     },
     "execution_count": 36,
     "metadata": {},
     "output_type": "execute_result"
    }
   ],
   "source": [
    "public = pd.read_csv(\"data/submit/1217_1.csv\")\n",
    "\n",
    "result = pd.concat([train_result, valid_result, test_result], ignore_index = True)\n",
    "result = result.drop(target, axis = 1)\n",
    "result[\"alert_key\"] = result[\"alert_key\"].astype(int)\n",
    "\n",
    "result = pd.merge(public[\"alert_key\"], result, on = [\"alert_key\"], how = \"left\")\n",
    "\n",
    "result[\"probability\"] = result[\"probability\"].fillna(0)\n",
    "\n",
    "result.to_csv(\"data/submit/1226.csv\", index = False)\n",
    "result"
   ]
  },
  {
   "attachments": {},
   "cell_type": "markdown",
   "metadata": {},
   "source": [
    "### sar probability distribution"
   ]
  },
  {
   "cell_type": "code",
   "execution_count": 37,
   "metadata": {},
   "outputs": [
    {
     "data": {
      "text/html": [
       "<div>\n",
       "<style scoped>\n",
       "    .dataframe tbody tr th:only-of-type {\n",
       "        vertical-align: middle;\n",
       "    }\n",
       "\n",
       "    .dataframe tbody tr th {\n",
       "        vertical-align: top;\n",
       "    }\n",
       "\n",
       "    .dataframe thead th {\n",
       "        text-align: right;\n",
       "    }\n",
       "</style>\n",
       "<table border=\"1\" class=\"dataframe\">\n",
       "  <thead>\n",
       "    <tr style=\"text-align: right;\">\n",
       "      <th></th>\n",
       "      <th>alert_key</th>\n",
       "      <th>probability</th>\n",
       "      <th>sar_flag</th>\n",
       "    </tr>\n",
       "  </thead>\n",
       "  <tbody>\n",
       "  </tbody>\n",
       "</table>\n",
       "</div>"
      ],
      "text/plain": [
       "Empty DataFrame\n",
       "Columns: [alert_key, probability, sar_flag]\n",
       "Index: []"
      ]
     },
     "execution_count": 37,
     "metadata": {},
     "output_type": "execute_result"
    }
   ],
   "source": [
    "test_result[test_result[target] == 1]"
   ]
  },
  {
   "cell_type": "code",
   "execution_count": 38,
   "metadata": {},
   "outputs": [
    {
     "data": {
      "text/html": [
       "<div>\n",
       "<style scoped>\n",
       "    .dataframe tbody tr th:only-of-type {\n",
       "        vertical-align: middle;\n",
       "    }\n",
       "\n",
       "    .dataframe tbody tr th {\n",
       "        vertical-align: top;\n",
       "    }\n",
       "\n",
       "    .dataframe thead th {\n",
       "        text-align: right;\n",
       "    }\n",
       "</style>\n",
       "<table border=\"1\" class=\"dataframe\">\n",
       "  <thead>\n",
       "    <tr style=\"text-align: right;\">\n",
       "      <th></th>\n",
       "      <th>alert_key</th>\n",
       "      <th>probability</th>\n",
       "      <th>sar_flag</th>\n",
       "    </tr>\n",
       "  </thead>\n",
       "  <tbody>\n",
       "  </tbody>\n",
       "</table>\n",
       "</div>"
      ],
      "text/plain": [
       "Empty DataFrame\n",
       "Columns: [alert_key, probability, sar_flag]\n",
       "Index: []"
      ]
     },
     "execution_count": 38,
     "metadata": {},
     "output_type": "execute_result"
    }
   ],
   "source": [
    "test_result[test_result[target] == 0]"
   ]
  },
  {
   "cell_type": "code",
   "execution_count": 39,
   "metadata": {},
   "outputs": [
    {
     "data": {
      "text/html": [
       "<div>\n",
       "<style scoped>\n",
       "    .dataframe tbody tr th:only-of-type {\n",
       "        vertical-align: middle;\n",
       "    }\n",
       "\n",
       "    .dataframe tbody tr th {\n",
       "        vertical-align: top;\n",
       "    }\n",
       "\n",
       "    .dataframe thead th {\n",
       "        text-align: right;\n",
       "    }\n",
       "</style>\n",
       "<table border=\"1\" class=\"dataframe\">\n",
       "  <thead>\n",
       "    <tr style=\"text-align: right;\">\n",
       "      <th></th>\n",
       "      <th>alert_key</th>\n",
       "      <th>probability</th>\n",
       "      <th>sar_flag</th>\n",
       "    </tr>\n",
       "  </thead>\n",
       "  <tbody>\n",
       "    <tr>\n",
       "      <th>3</th>\n",
       "      <td>218840.0</td>\n",
       "      <td>0.976447</td>\n",
       "      <td>1.0</td>\n",
       "    </tr>\n",
       "    <tr>\n",
       "      <th>4</th>\n",
       "      <td>248256.0</td>\n",
       "      <td>0.975110</td>\n",
       "      <td>1.0</td>\n",
       "    </tr>\n",
       "    <tr>\n",
       "      <th>5</th>\n",
       "      <td>194991.0</td>\n",
       "      <td>0.973416</td>\n",
       "      <td>1.0</td>\n",
       "    </tr>\n",
       "    <tr>\n",
       "      <th>7</th>\n",
       "      <td>215933.0</td>\n",
       "      <td>0.970203</td>\n",
       "      <td>1.0</td>\n",
       "    </tr>\n",
       "    <tr>\n",
       "      <th>8</th>\n",
       "      <td>203149.0</td>\n",
       "      <td>0.969693</td>\n",
       "      <td>1.0</td>\n",
       "    </tr>\n",
       "    <tr>\n",
       "      <th>...</th>\n",
       "      <td>...</td>\n",
       "      <td>...</td>\n",
       "      <td>...</td>\n",
       "    </tr>\n",
       "    <tr>\n",
       "      <th>543</th>\n",
       "      <td>196191.0</td>\n",
       "      <td>0.439615</td>\n",
       "      <td>1.0</td>\n",
       "    </tr>\n",
       "    <tr>\n",
       "      <th>762</th>\n",
       "      <td>279637.0</td>\n",
       "      <td>0.303999</td>\n",
       "      <td>1.0</td>\n",
       "    </tr>\n",
       "    <tr>\n",
       "      <th>902</th>\n",
       "      <td>363033.0</td>\n",
       "      <td>0.242923</td>\n",
       "      <td>1.0</td>\n",
       "    </tr>\n",
       "    <tr>\n",
       "      <th>906</th>\n",
       "      <td>214426.0</td>\n",
       "      <td>0.240642</td>\n",
       "      <td>1.0</td>\n",
       "    </tr>\n",
       "    <tr>\n",
       "      <th>1316</th>\n",
       "      <td>179789.0</td>\n",
       "      <td>0.160213</td>\n",
       "      <td>1.0</td>\n",
       "    </tr>\n",
       "  </tbody>\n",
       "</table>\n",
       "<p>74 rows × 3 columns</p>\n",
       "</div>"
      ],
      "text/plain": [
       "      alert_key  probability  sar_flag\n",
       "3      218840.0     0.976447       1.0\n",
       "4      248256.0     0.975110       1.0\n",
       "5      194991.0     0.973416       1.0\n",
       "7      215933.0     0.970203       1.0\n",
       "8      203149.0     0.969693       1.0\n",
       "...         ...          ...       ...\n",
       "543    196191.0     0.439615       1.0\n",
       "762    279637.0     0.303999       1.0\n",
       "902    363033.0     0.242923       1.0\n",
       "906    214426.0     0.240642       1.0\n",
       "1316   179789.0     0.160213       1.0\n",
       "\n",
       "[74 rows x 3 columns]"
      ]
     },
     "execution_count": 39,
     "metadata": {},
     "output_type": "execute_result"
    }
   ],
   "source": [
    "valid_result[valid_result[target] == 1]"
   ]
  },
  {
   "cell_type": "code",
   "execution_count": 40,
   "metadata": {},
   "outputs": [
    {
     "data": {
      "text/html": [
       "<div>\n",
       "<style scoped>\n",
       "    .dataframe tbody tr th:only-of-type {\n",
       "        vertical-align: middle;\n",
       "    }\n",
       "\n",
       "    .dataframe tbody tr th {\n",
       "        vertical-align: top;\n",
       "    }\n",
       "\n",
       "    .dataframe thead th {\n",
       "        text-align: right;\n",
       "    }\n",
       "</style>\n",
       "<table border=\"1\" class=\"dataframe\">\n",
       "  <thead>\n",
       "    <tr style=\"text-align: right;\">\n",
       "      <th></th>\n",
       "      <th>alert_key</th>\n",
       "      <th>probability</th>\n",
       "      <th>sar_flag</th>\n",
       "    </tr>\n",
       "  </thead>\n",
       "  <tbody>\n",
       "    <tr>\n",
       "      <th>1</th>\n",
       "      <td>193308.0</td>\n",
       "      <td>0.980247</td>\n",
       "      <td>1.0</td>\n",
       "    </tr>\n",
       "    <tr>\n",
       "      <th>2</th>\n",
       "      <td>204193.0</td>\n",
       "      <td>0.978836</td>\n",
       "      <td>1.0</td>\n",
       "    </tr>\n",
       "    <tr>\n",
       "      <th>3</th>\n",
       "      <td>192503.0</td>\n",
       "      <td>0.977519</td>\n",
       "      <td>1.0</td>\n",
       "    </tr>\n",
       "    <tr>\n",
       "      <th>4</th>\n",
       "      <td>230638.0</td>\n",
       "      <td>0.975971</td>\n",
       "      <td>1.0</td>\n",
       "    </tr>\n",
       "    <tr>\n",
       "      <th>5</th>\n",
       "      <td>189123.0</td>\n",
       "      <td>0.975826</td>\n",
       "      <td>1.0</td>\n",
       "    </tr>\n",
       "    <tr>\n",
       "      <th>...</th>\n",
       "      <td>...</td>\n",
       "      <td>...</td>\n",
       "      <td>...</td>\n",
       "    </tr>\n",
       "    <tr>\n",
       "      <th>1802</th>\n",
       "      <td>244115.0</td>\n",
       "      <td>0.283004</td>\n",
       "      <td>1.0</td>\n",
       "    </tr>\n",
       "    <tr>\n",
       "      <th>2121</th>\n",
       "      <td>257134.0</td>\n",
       "      <td>0.233491</td>\n",
       "      <td>1.0</td>\n",
       "    </tr>\n",
       "    <tr>\n",
       "      <th>2809</th>\n",
       "      <td>303923.0</td>\n",
       "      <td>0.179979</td>\n",
       "      <td>1.0</td>\n",
       "    </tr>\n",
       "    <tr>\n",
       "      <th>3278</th>\n",
       "      <td>171770.0</td>\n",
       "      <td>0.149625</td>\n",
       "      <td>1.0</td>\n",
       "    </tr>\n",
       "    <tr>\n",
       "      <th>4335</th>\n",
       "      <td>184581.0</td>\n",
       "      <td>0.094378</td>\n",
       "      <td>1.0</td>\n",
       "    </tr>\n",
       "  </tbody>\n",
       "</table>\n",
       "<p>171 rows × 3 columns</p>\n",
       "</div>"
      ],
      "text/plain": [
       "      alert_key  probability  sar_flag\n",
       "1      193308.0     0.980247       1.0\n",
       "2      204193.0     0.978836       1.0\n",
       "3      192503.0     0.977519       1.0\n",
       "4      230638.0     0.975971       1.0\n",
       "5      189123.0     0.975826       1.0\n",
       "...         ...          ...       ...\n",
       "1802   244115.0     0.283004       1.0\n",
       "2121   257134.0     0.233491       1.0\n",
       "2809   303923.0     0.179979       1.0\n",
       "3278   171770.0     0.149625       1.0\n",
       "4335   184581.0     0.094378       1.0\n",
       "\n",
       "[171 rows x 3 columns]"
      ]
     },
     "execution_count": 40,
     "metadata": {},
     "output_type": "execute_result"
    }
   ],
   "source": [
    "train_result[train_result[target] == 1]"
   ]
  },
  {
   "cell_type": "markdown",
   "metadata": {},
   "source": [
    "## ML"
   ]
  },
  {
   "cell_type": "markdown",
   "metadata": {},
   "source": [
    "X_train = train[features]\n",
    "y_train = train[target]\n",
    "\n",
    "X_valid = test[features]\n",
    "y_valid = test[target]"
   ]
  },
  {
   "attachments": {},
   "cell_type": "markdown",
   "metadata": {},
   "source": [
    "### Resample"
   ]
  },
  {
   "cell_type": "markdown",
   "metadata": {},
   "source": [
    "from imblearn.over_sampling import SMOTE, ADASYN\n",
    "oversample = SMOTE(random_state=99)\n",
    "X_train, y_train = oversample.fit_resample(X_train, y_train)\n",
    "y_train.value_counts()"
   ]
  },
  {
   "attachments": {},
   "cell_type": "markdown",
   "metadata": {},
   "source": [
    "### Target encoding"
   ]
  },
  {
   "cell_type": "markdown",
   "metadata": {},
   "source": [
    "import category_encoders as ce\n",
    "\n",
    "ce_target = ce.TargetEncoder(cols = cat_feats)\n",
    "X_train = ce_target.fit_transform(X_train, y_train)\n",
    "X_valid = ce_target.transform(X_valid)"
   ]
  },
  {
   "attachments": {},
   "cell_type": "markdown",
   "metadata": {},
   "source": [
    "from sklearn.linear_model import LogisticRegression\n",
    "from sklearn.naive_bayes import GaussianNB\n",
    "from sklearn.naive_bayes import ComplementNB\n",
    "from sklearn.naive_bayes import BernoulliNB\n",
    "from sklearn.neighbors import KNeighborsClassifier\n",
    "from sklearn.svm import SVC\n",
    "from sklearn.neural_network import MLPClassifier\n",
    "from sklearn.tree import DecisionTreeClassifier\n",
    "from sklearn.ensemble import RandomForestClassifier\n",
    "from sklearn.ensemble import GradientBoostingClassifier\n",
    "from xgboost import XGBClassifier\n",
    "from lightgbm import LGBMClassifier\n",
    "#from catboost import CatBoostClassifier\n",
    "from imblearn.ensemble import EasyEnsembleClassifier, BalancedRandomForestClassifier, BalancedBaggingClassifier, RUSBoostClassifier\n",
    "\n",
    "\n",
    "random_state = 99#None\n",
    "models = {\n",
    "    \"Logistic\": LogisticRegression(),\n",
    "    \"Bayes (Gaussian)\": GaussianNB(),\n",
    "    \"KNN\": KNeighborsClassifier(),\n",
    "    # \"SVC\": SVC(probability = True),\n",
    "    # \"Neural Network\": MLPClassifier(),\n",
    "    \"Decision Tree\": DecisionTreeClassifier(random_state = random_state),\n",
    "    \"Random Forest\": RandomForestClassifier(random_state = random_state, class_weight=\"balanced\"),\n",
    "    \"Gradient Boost\": GradientBoostingClassifier(),\n",
    "    \"XGBoost\": XGBClassifier(random_state = random_state),\n",
    "    \"LightGBM\": LGBMClassifier(random_state = random_state), # feature name should be number\n",
    "    # \"Cat Boost\": CatBoostClassifier(random_state = random_state),\n",
    "    # \"Bayes (Complement)\": ComplementNB(), # for imbalance data (X cannot be negative)\n",
    "    \"Easy Ensemble (AdaBoost)\":EasyEnsembleClassifier(random_state = random_state),\n",
    "    \"Easy Ensemble (Logistic)\":EasyEnsembleClassifier(random_state = random_state, base_estimator = LogisticRegression()),\n",
    "    # \"Easy Ensemble (SVC)\":EasyEnsembleClassifier(random_state = random_state, base_estimator = SVC(probability = True)),\n",
    "}\n",
    "\n",
    "for name, model in models.items():\n",
    "    model.fit(X_train, y_train)\n",
    "    print(name + \" trained.\")"
   ]
  },
  {
   "attachments": {},
   "cell_type": "markdown",
   "metadata": {},
   "source": [
    "from sklearn.metrics import accuracy_score, confusion_matrix, classification_report, recall_score, precision_score, f1_score, fbeta_score\n",
    "from sklearn.model_selection import ShuffleSplit, cross_val_score\n",
    "\n",
    "#acc_bound = 0.7\n",
    "#f1w_bound = 0.5\n",
    "\n",
    "score = []\n",
    "flag = 1\n",
    "cv_flag = 0\n",
    "for key, model in models.items():\n",
    "    pred_train = model.predict(X_train)\n",
    "    pred_test  = model.predict(X_valid)\n",
    "\n",
    "    acc_train  = accuracy_score(y_train, pred_train).round(2)\n",
    "    acc_test   = accuracy_score(y_valid, pred_test).round(2)\n",
    "\n",
    "    recall_train  = recall_score(y_train, pred_train).round(2)\n",
    "    recall_test   = recall_score(y_valid, pred_test).round(2)\n",
    "\n",
    "    precision_train  = precision_score(y_train, pred_train).round(2)\n",
    "    precision_test   = precision_score(y_valid, pred_test).round(2)\n",
    "\n",
    "    f1_train = f1_score(y_train, pred_train).round(2)\n",
    "    f1_test = f1_score(y_valid, pred_test).round(2)\n",
    "    \n",
    "    if flag == 1:\n",
    "        col1 = [acc_train, acc_test, recall_train, recall_test, precision_train, precision_test, f1_train, f1_test]\n",
    "        col2 = [\"Accuracy_train\", \"Accuracy_test\", \"Recall_train\", \"Recall_test\", \"Precision_train\", \"Precision_test\", \"f1_train\", \"f1_test\"]\n",
    "    else:\n",
    "        col1 = [acc_test, recall_test, precision_test, f1_test]\n",
    "        col2 = [\"Accuracy\", \"Recall\", \"Precision\", \"f1\"]\n",
    "\n",
    "    if cv_flag:\n",
    "        # cv = ShuffleSplit(n_splits = 3, test_size = 0.2)\n",
    "        cv_scores = cross_val_score(model, X_train, y_train, cv = 3, scoring = 'accuracy')\n",
    "        cv_score = cv_scores.mean().round(2)\n",
    "        col1 += [cv_score]\n",
    "        col2 += [\"f1_cv\"]\n",
    "\n",
    "    score.append(col1)\n",
    "    \n",
    "    # if (acc_test >= acc_bound) & (f1_test >= f1w_bound):\n",
    "    col3 = sorted(list(set(y_valid) | set(pred_test)))\n",
    "    confusion = pd.DataFrame(confusion_matrix(y_valid, pred_test), index = col3, columns = col3)\n",
    "    confusion[\"Total\"] = confusion.sum(axis = 1)\n",
    "    confusion.loc[\"Total\"] = confusion.sum(axis = 0)\n",
    "\n",
    "    \n",
    "    confusion = confusion.astype(int)\n",
    "    \n",
    "    print(f\"<< {key.lstrip()} >>\")\n",
    "    print(f\"\\nConfusion Matrix:\\n {confusion}\")\n",
    "    print(f\"\\nClassification Report:\\n{classification_report(y_valid, pred_test)}\")\n",
    "    print(\"-\"*60)\n",
    "    \n",
    "index  = [i.lstrip() for i in models.keys()]\n",
    "score  = pd.DataFrame(score, index = index, columns = col2)\n",
    "score = score.sort_values([\"Recall_test\", \"Precision_test\", \"f1_test\", \"Accuracy_test\"], ascending = False)\n",
    "score"
   ]
  },
  {
   "cell_type": "markdown",
   "metadata": {},
   "source": [
    "best_model = \"Bayes (Gaussian)\"\n",
    "pred_valid  = models[best_model].predict_proba(X_valid)\n",
    "pred_valid = pred_valid[:, 1]\n",
    "pred_valid"
   ]
  },
  {
   "cell_type": "markdown",
   "metadata": {},
   "source": [
    "test_result = test[[\"alert_key\", \"sar_flag\"]]\n",
    "test_result[\"probability\"] = pred_valid\n",
    "test_result = test_result.sort_values(\"probability\", ascending = False).reset_index(drop = True)\n",
    "test_result"
   ]
  },
  {
   "cell_type": "markdown",
   "metadata": {},
   "source": [
    "test_sar = int(test_result[target].sum())\n",
    "test_len = test_result[test_result[target] == 1].index[-2] + 1\n",
    "print(f\"Test total: {len(test_result)}\")\n",
    "print(f\"({test_sar} - 1) / {test_len} = {(test_sar - 1) / test_len}\")"
   ]
  },
  {
   "cell_type": "code",
   "execution_count": null,
   "metadata": {},
   "outputs": [],
   "source": []
  },
  {
   "cell_type": "code",
   "execution_count": null,
   "metadata": {},
   "outputs": [],
   "source": []
  }
 ],
 "metadata": {
  "kernelspec": {
   "display_name": ".venv",
   "language": "python",
   "name": "python3"
  },
  "language_info": {
   "codemirror_mode": {
    "name": "ipython",
    "version": 3
   },
   "file_extension": ".py",
   "mimetype": "text/x-python",
   "name": "python",
   "nbconvert_exporter": "python",
   "pygments_lexer": "ipython3",
   "version": "3.8.7"
  },
  "orig_nbformat": 4,
  "vscode": {
   "interpreter": {
    "hash": "6a07fcf0145f94b3f971c13d061528107de20ab7b779375f96dab9bbac6a85db"
   }
  }
 },
 "nbformat": 4,
 "nbformat_minor": 2
}
