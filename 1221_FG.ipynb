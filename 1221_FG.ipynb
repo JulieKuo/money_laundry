{
 "cells": [
  {
   "cell_type": "code",
   "execution_count": 13,
   "metadata": {},
   "outputs": [],
   "source": [
    "import pandas as pd"
   ]
  },
  {
   "cell_type": "code",
   "execution_count": 14,
   "metadata": {},
   "outputs": [],
   "source": [
    "info = pd.read_csv(\"data/inverse/info.csv\", parse_dates = [\"date\"])\n",
    "ccba = pd.read_csv(\"data/inverse/ccba.csv\", parse_dates = [\"byymm\"])\n",
    "cdtx = pd.read_csv(\"data/inverse/cdtx.csv\", parse_dates = [\"date\"])\n",
    "dp = pd.read_csv(\"data/inverse/dp.csv\", parse_dates = [\"tx_time\"])\n",
    "remit = pd.read_csv(\"data/inverse/remit.csv\", parse_dates = [\"trans_date\"])"
   ]
  },
  {
   "cell_type": "code",
   "execution_count": 15,
   "metadata": {},
   "outputs": [],
   "source": [
    "info = info.sort_values([\"date\", \"sar_flag\"])\n",
    "\n",
    "ccba = ccba.rename(columns = {\"byymm\": \"date\"})\n",
    "dp = dp.rename(columns = {\"tx_time\": \"date\"})\n",
    "remit = remit.rename(columns = {\"trans_date\": \"date\"})"
   ]
  },
  {
   "cell_type": "code",
   "execution_count": 16,
   "metadata": {},
   "outputs": [],
   "source": [
    "datas = [info, ccba, cdtx, dp, remit]\n",
    "id_map = {v: i for i, v in enumerate(info[\"cust_id\"].drop_duplicates())}\n",
    "for data in datas:\n",
    "    data[\"cust_id\"] = data[\"cust_id\"].map(id_map)"
   ]
  },
  {
   "cell_type": "markdown",
   "metadata": {},
   "source": [
    "## custinfo"
   ]
  },
  {
   "cell_type": "code",
   "execution_count": 18,
   "metadata": {},
   "outputs": [
    {
     "data": {
      "text/html": [
       "<div>\n",
       "<style scoped>\n",
       "    .dataframe tbody tr th:only-of-type {\n",
       "        vertical-align: middle;\n",
       "    }\n",
       "\n",
       "    .dataframe tbody tr th {\n",
       "        vertical-align: top;\n",
       "    }\n",
       "\n",
       "    .dataframe thead th {\n",
       "        text-align: right;\n",
       "    }\n",
       "</style>\n",
       "<table border=\"1\" class=\"dataframe\">\n",
       "  <thead>\n",
       "    <tr style=\"text-align: right;\">\n",
       "      <th></th>\n",
       "      <th>sample</th>\n",
       "      <th>alert_key</th>\n",
       "      <th>date</th>\n",
       "      <th>sar_flag</th>\n",
       "      <th>cust_id</th>\n",
       "      <th>risk_rank</th>\n",
       "      <th>occupation_code</th>\n",
       "      <th>total_asset</th>\n",
       "      <th>AGE</th>\n",
       "    </tr>\n",
       "  </thead>\n",
       "  <tbody>\n",
       "    <tr>\n",
       "      <th>0</th>\n",
       "      <td>train</td>\n",
       "      <td>171142</td>\n",
       "      <td>2021-04-01</td>\n",
       "      <td>0.0</td>\n",
       "      <td>0</td>\n",
       "      <td>3</td>\n",
       "      <td>12.0</td>\n",
       "      <td>241719.0</td>\n",
       "      <td>3</td>\n",
       "    </tr>\n",
       "    <tr>\n",
       "      <th>1</th>\n",
       "      <td>train</td>\n",
       "      <td>171152</td>\n",
       "      <td>2021-04-01</td>\n",
       "      <td>0.0</td>\n",
       "      <td>1</td>\n",
       "      <td>3</td>\n",
       "      <td>13.0</td>\n",
       "      <td>599497.0</td>\n",
       "      <td>6</td>\n",
       "    </tr>\n",
       "    <tr>\n",
       "      <th>2</th>\n",
       "      <td>train</td>\n",
       "      <td>171177</td>\n",
       "      <td>2021-04-01</td>\n",
       "      <td>0.0</td>\n",
       "      <td>2</td>\n",
       "      <td>1</td>\n",
       "      <td>19.0</td>\n",
       "      <td>51160.0</td>\n",
       "      <td>4</td>\n",
       "    </tr>\n",
       "    <tr>\n",
       "      <th>3</th>\n",
       "      <td>train</td>\n",
       "      <td>171178</td>\n",
       "      <td>2021-04-01</td>\n",
       "      <td>0.0</td>\n",
       "      <td>3</td>\n",
       "      <td>3</td>\n",
       "      <td>9.0</td>\n",
       "      <td>3634343.0</td>\n",
       "      <td>6</td>\n",
       "    </tr>\n",
       "    <tr>\n",
       "      <th>4</th>\n",
       "      <td>train</td>\n",
       "      <td>171180</td>\n",
       "      <td>2021-04-01</td>\n",
       "      <td>0.0</td>\n",
       "      <td>4</td>\n",
       "      <td>1</td>\n",
       "      <td>17.0</td>\n",
       "      <td>4076287.0</td>\n",
       "      <td>4</td>\n",
       "    </tr>\n",
       "  </tbody>\n",
       "</table>\n",
       "</div>"
      ],
      "text/plain": [
       "  sample  alert_key       date  sar_flag  cust_id  risk_rank  occupation_code  \\\n",
       "0  train     171142 2021-04-01       0.0        0          3             12.0   \n",
       "1  train     171152 2021-04-01       0.0        1          3             13.0   \n",
       "2  train     171177 2021-04-01       0.0        2          1             19.0   \n",
       "3  train     171178 2021-04-01       0.0        3          3              9.0   \n",
       "4  train     171180 2021-04-01       0.0        4          1             17.0   \n",
       "\n",
       "   total_asset  AGE  \n",
       "0     241719.0    3  \n",
       "1     599497.0    6  \n",
       "2      51160.0    4  \n",
       "3    3634343.0    6  \n",
       "4    4076287.0    4  "
      ]
     },
     "execution_count": 18,
     "metadata": {},
     "output_type": "execute_result"
    }
   ],
   "source": [
    "info.head()"
   ]
  },
  {
   "cell_type": "code",
   "execution_count": null,
   "metadata": {},
   "outputs": [],
   "source": [
    "g = info.groupby(\"cust_id\")\n",
    "groups = g.size().index\n",
    "for group in groups:\n",
    "    group = 3\n",
    "    info1 = g.get_group(group).copy()\n",
    "\n",
    "    flag = 0\n",
    "    prev = 0\n",
    "    count = 0\n",
    "    info1[\"info_ct\"] = None\n",
    "    info1[\"start_date\"] = None\n",
    "    for i in range(len(info1)):\n",
    "        if info1.iloc[i, 3] == 1:\n",
    "            count += 1\n",
    "            info1.iloc[i, -2] = count\n",
    "            info1.iloc[i, -1] = info1.iloc[prev, 2]\n",
    "        \n",
    "        # elif pd.isna(info1.iloc[i, 3]):\n",
    "    \n",
    "    break"
   ]
  },
  {
   "cell_type": "code",
   "execution_count": null,
   "metadata": {},
   "outputs": [],
   "source": [
    "info1"
   ]
  },
  {
   "cell_type": "code",
   "execution_count": null,
   "metadata": {},
   "outputs": [],
   "source": []
  },
  {
   "cell_type": "code",
   "execution_count": null,
   "metadata": {},
   "outputs": [],
   "source": []
  },
  {
   "cell_type": "code",
   "execution_count": null,
   "metadata": {},
   "outputs": [],
   "source": []
  },
  {
   "cell_type": "code",
   "execution_count": null,
   "metadata": {},
   "outputs": [],
   "source": [
    "id1 = info.query(\"sar_flag == 1\")[\"cust_id\"]\n",
    "info.query(\"cust_id in @id1\")[\"cust_id\"].value_counts()"
   ]
  },
  {
   "cell_type": "code",
   "execution_count": null,
   "metadata": {},
   "outputs": [],
   "source": []
  },
  {
   "cell_type": "code",
   "execution_count": null,
   "metadata": {},
   "outputs": [],
   "source": []
  },
  {
   "cell_type": "code",
   "execution_count": null,
   "metadata": {},
   "outputs": [],
   "source": [
    "df = pd.read_csv(\"data/inverse/FG.csv\", parse_dates = [\"date\"])"
   ]
  },
  {
   "cell_type": "code",
   "execution_count": null,
   "metadata": {},
   "outputs": [],
   "source": [
    "df.columns.to_list()"
   ]
  }
 ],
 "metadata": {
  "kernelspec": {
   "display_name": ".venv",
   "language": "python",
   "name": "python3"
  },
  "language_info": {
   "codemirror_mode": {
    "name": "ipython",
    "version": 3
   },
   "file_extension": ".py",
   "mimetype": "text/x-python",
   "name": "python",
   "nbconvert_exporter": "python",
   "pygments_lexer": "ipython3",
   "version": "3.8.10"
  },
  "orig_nbformat": 4,
  "vscode": {
   "interpreter": {
    "hash": "6a07fcf0145f94b3f971c13d061528107de20ab7b779375f96dab9bbac6a85db"
   }
  }
 },
 "nbformat": 4,
 "nbformat_minor": 2
}
