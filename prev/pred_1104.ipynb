{
 "cells": [
  {
   "cell_type": "code",
   "execution_count": 1,
   "metadata": {},
   "outputs": [],
   "source": [
    "import pandas as pd\n",
    "import numpy as np\n",
    "import matplotlib.pyplot as plt\n",
    "import seaborn as sns\n",
    "from sklearn.model_selection import train_test_split\n",
    "import warnings\n",
    "warnings.filterwarnings(\"ignore\")"
   ]
  },
  {
   "cell_type": "code",
   "execution_count": 2,
   "metadata": {},
   "outputs": [
    {
     "name": "stdout",
     "output_type": "stream",
     "text": [
      "(25663, 16)\n"
     ]
    },
    {
     "data": {
      "text/html": [
       "<div>\n",
       "<style scoped>\n",
       "    .dataframe tbody tr th:only-of-type {\n",
       "        vertical-align: middle;\n",
       "    }\n",
       "\n",
       "    .dataframe tbody tr th {\n",
       "        vertical-align: top;\n",
       "    }\n",
       "\n",
       "    .dataframe thead th {\n",
       "        text-align: right;\n",
       "    }\n",
       "</style>\n",
       "<table border=\"1\" class=\"dataframe\">\n",
       "  <thead>\n",
       "    <tr style=\"text-align: right;\">\n",
       "      <th></th>\n",
       "      <th>alert_key</th>\n",
       "      <th>sar_flag</th>\n",
       "      <th>cust_id</th>\n",
       "      <th>risk_rank</th>\n",
       "      <th>occupation_code</th>\n",
       "      <th>AGE</th>\n",
       "      <th>asset_pct</th>\n",
       "      <th>amt_ct</th>\n",
       "      <th>country_ct</th>\n",
       "      <th>cur_type_ct</th>\n",
       "      <th>country</th>\n",
       "      <th>cur_type</th>\n",
       "      <th>year</th>\n",
       "      <th>month</th>\n",
       "      <th>day</th>\n",
       "      <th>amt_over</th>\n",
       "    </tr>\n",
       "  </thead>\n",
       "  <tbody>\n",
       "    <tr>\n",
       "      <th>0</th>\n",
       "      <td>171142</td>\n",
       "      <td>0.0</td>\n",
       "      <td>a39fea9aec90969fe66a2b2b4d1b86368a2d38e8b8d4bf...</td>\n",
       "      <td>3</td>\n",
       "      <td>12.0</td>\n",
       "      <td>3</td>\n",
       "      <td>1.498958</td>\n",
       "      <td>0.0</td>\n",
       "      <td>0.0</td>\n",
       "      <td>0.0</td>\n",
       "      <td>0.0</td>\n",
       "      <td>0.0</td>\n",
       "      <td>2021</td>\n",
       "      <td>4</td>\n",
       "      <td>1</td>\n",
       "      <td>0.0</td>\n",
       "    </tr>\n",
       "    <tr>\n",
       "      <th>1</th>\n",
       "      <td>171152</td>\n",
       "      <td>0.0</td>\n",
       "      <td>7e42b5dca9b28ee8e5545beb834361e90e6197d176b389...</td>\n",
       "      <td>3</td>\n",
       "      <td>13.0</td>\n",
       "      <td>6</td>\n",
       "      <td>4.075161</td>\n",
       "      <td>0.0</td>\n",
       "      <td>0.0</td>\n",
       "      <td>0.0</td>\n",
       "      <td>0.0</td>\n",
       "      <td>0.0</td>\n",
       "      <td>2021</td>\n",
       "      <td>4</td>\n",
       "      <td>1</td>\n",
       "      <td>0.0</td>\n",
       "    </tr>\n",
       "    <tr>\n",
       "      <th>2</th>\n",
       "      <td>171177</td>\n",
       "      <td>0.0</td>\n",
       "      <td>a6cdf6302aead77112013168c6d546d2df3bcb551956d2...</td>\n",
       "      <td>1</td>\n",
       "      <td>19.0</td>\n",
       "      <td>4</td>\n",
       "      <td>2.018863</td>\n",
       "      <td>0.0</td>\n",
       "      <td>0.0</td>\n",
       "      <td>0.0</td>\n",
       "      <td>0.0</td>\n",
       "      <td>0.0</td>\n",
       "      <td>2021</td>\n",
       "      <td>4</td>\n",
       "      <td>1</td>\n",
       "      <td>0.0</td>\n",
       "    </tr>\n",
       "    <tr>\n",
       "      <th>3</th>\n",
       "      <td>171178</td>\n",
       "      <td>0.0</td>\n",
       "      <td>1a3efa69705f611c7ef2384a715c8142e2ee801cfec9df...</td>\n",
       "      <td>3</td>\n",
       "      <td>9.0</td>\n",
       "      <td>6</td>\n",
       "      <td>2.930090</td>\n",
       "      <td>0.0</td>\n",
       "      <td>0.0</td>\n",
       "      <td>0.0</td>\n",
       "      <td>0.0</td>\n",
       "      <td>0.0</td>\n",
       "      <td>2021</td>\n",
       "      <td>4</td>\n",
       "      <td>1</td>\n",
       "      <td>0.0</td>\n",
       "    </tr>\n",
       "    <tr>\n",
       "      <th>4</th>\n",
       "      <td>171180</td>\n",
       "      <td>0.0</td>\n",
       "      <td>67f8cbb64dd3d447e992b1b299e0ceed3372188e47c88e...</td>\n",
       "      <td>1</td>\n",
       "      <td>17.0</td>\n",
       "      <td>4</td>\n",
       "      <td>16.612479</td>\n",
       "      <td>1.0</td>\n",
       "      <td>1.0</td>\n",
       "      <td>1.0</td>\n",
       "      <td>0.0</td>\n",
       "      <td>0.0</td>\n",
       "      <td>2021</td>\n",
       "      <td>4</td>\n",
       "      <td>1</td>\n",
       "      <td>0.0</td>\n",
       "    </tr>\n",
       "  </tbody>\n",
       "</table>\n",
       "</div>"
      ],
      "text/plain": [
       "   alert_key  sar_flag                                            cust_id  \\\n",
       "0     171142       0.0  a39fea9aec90969fe66a2b2b4d1b86368a2d38e8b8d4bf...   \n",
       "1     171152       0.0  7e42b5dca9b28ee8e5545beb834361e90e6197d176b389...   \n",
       "2     171177       0.0  a6cdf6302aead77112013168c6d546d2df3bcb551956d2...   \n",
       "3     171178       0.0  1a3efa69705f611c7ef2384a715c8142e2ee801cfec9df...   \n",
       "4     171180       0.0  67f8cbb64dd3d447e992b1b299e0ceed3372188e47c88e...   \n",
       "\n",
       "   risk_rank  occupation_code  AGE  asset_pct  amt_ct  country_ct  \\\n",
       "0          3             12.0    3   1.498958     0.0         0.0   \n",
       "1          3             13.0    6   4.075161     0.0         0.0   \n",
       "2          1             19.0    4   2.018863     0.0         0.0   \n",
       "3          3              9.0    6   2.930090     0.0         0.0   \n",
       "4          1             17.0    4  16.612479     1.0         1.0   \n",
       "\n",
       "   cur_type_ct  country  cur_type  year  month  day  amt_over  \n",
       "0          0.0      0.0       0.0  2021      4    1       0.0  \n",
       "1          0.0      0.0       0.0  2021      4    1       0.0  \n",
       "2          0.0      0.0       0.0  2021      4    1       0.0  \n",
       "3          0.0      0.0       0.0  2021      4    1       0.0  \n",
       "4          1.0      0.0       0.0  2021      4    1       0.0  "
      ]
     },
     "execution_count": 2,
     "metadata": {},
     "output_type": "execute_result"
    }
   ],
   "source": [
    "df = pd.read_csv(\"data/feat_gen/data.csv\")\n",
    "print(df.shape)\n",
    "df.head()"
   ]
  },
  {
   "cell_type": "code",
   "execution_count": 3,
   "metadata": {},
   "outputs": [],
   "source": [
    "df = df.drop(\"cust_id\", axis = 1)"
   ]
  },
  {
   "cell_type": "markdown",
   "metadata": {},
   "source": [
    "# Cyclical features encoding"
   ]
  },
  {
   "cell_type": "code",
   "execution_count": 4,
   "metadata": {},
   "outputs": [],
   "source": [
    "df['month_sin'] = np.sin(2 * np.pi * df['month'] / df[\"month\"].max())\n",
    "df['month_cos'] = np.cos(2 * np.pi * df['month'] / df[\"month\"].max())\n",
    "\n",
    "df['day_sin'] = np.sin(2 * np.pi * df['day'] / df[\"day\"].max())\n",
    "df['day_cos'] = np.cos(2 * np.pi * df['day'] / df[\"day\"].max())\n",
    "\n",
    "df = df.drop([\"month\", \"day\", \"year\"], axis = 1)"
   ]
  },
  {
   "cell_type": "markdown",
   "metadata": {},
   "source": [
    "from sklearn import preprocessing\n",
    "\n",
    "le = preprocessing.LabelEncoder()\n",
    "df[\"year\"] = le.fit_transform(df[\"year\"])\n",
    "df.head(3)"
   ]
  },
  {
   "cell_type": "markdown",
   "metadata": {},
   "source": [
    "# Split train、test data"
   ]
  },
  {
   "cell_type": "code",
   "execution_count": 5,
   "metadata": {},
   "outputs": [
    {
     "data": {
      "text/html": [
       "<div>\n",
       "<style scoped>\n",
       "    .dataframe tbody tr th:only-of-type {\n",
       "        vertical-align: middle;\n",
       "    }\n",
       "\n",
       "    .dataframe tbody tr th {\n",
       "        vertical-align: top;\n",
       "    }\n",
       "\n",
       "    .dataframe thead th {\n",
       "        text-align: right;\n",
       "    }\n",
       "</style>\n",
       "<table border=\"1\" class=\"dataframe\">\n",
       "  <thead>\n",
       "    <tr style=\"text-align: right;\">\n",
       "      <th></th>\n",
       "      <th>alert_key</th>\n",
       "      <th>sar_flag</th>\n",
       "      <th>risk_rank</th>\n",
       "      <th>occupation_code</th>\n",
       "      <th>AGE</th>\n",
       "      <th>asset_pct</th>\n",
       "      <th>amt_ct</th>\n",
       "      <th>country_ct</th>\n",
       "      <th>cur_type_ct</th>\n",
       "      <th>country</th>\n",
       "      <th>cur_type</th>\n",
       "      <th>amt_over</th>\n",
       "      <th>month_sin</th>\n",
       "      <th>month_cos</th>\n",
       "      <th>day_sin</th>\n",
       "      <th>day_cos</th>\n",
       "    </tr>\n",
       "  </thead>\n",
       "  <tbody>\n",
       "    <tr>\n",
       "      <th>0</th>\n",
       "      <td>171142</td>\n",
       "      <td>0.0</td>\n",
       "      <td>3</td>\n",
       "      <td>12.0</td>\n",
       "      <td>3</td>\n",
       "      <td>1.498958</td>\n",
       "      <td>0.0</td>\n",
       "      <td>0.0</td>\n",
       "      <td>0.0</td>\n",
       "      <td>0.0</td>\n",
       "      <td>0.0</td>\n",
       "      <td>0.0</td>\n",
       "      <td>0.866025</td>\n",
       "      <td>-0.5</td>\n",
       "      <td>0.201299</td>\n",
       "      <td>0.97953</td>\n",
       "    </tr>\n",
       "    <tr>\n",
       "      <th>1</th>\n",
       "      <td>171152</td>\n",
       "      <td>0.0</td>\n",
       "      <td>3</td>\n",
       "      <td>13.0</td>\n",
       "      <td>6</td>\n",
       "      <td>4.075161</td>\n",
       "      <td>0.0</td>\n",
       "      <td>0.0</td>\n",
       "      <td>0.0</td>\n",
       "      <td>0.0</td>\n",
       "      <td>0.0</td>\n",
       "      <td>0.0</td>\n",
       "      <td>0.866025</td>\n",
       "      <td>-0.5</td>\n",
       "      <td>0.201299</td>\n",
       "      <td>0.97953</td>\n",
       "    </tr>\n",
       "    <tr>\n",
       "      <th>2</th>\n",
       "      <td>171177</td>\n",
       "      <td>0.0</td>\n",
       "      <td>1</td>\n",
       "      <td>19.0</td>\n",
       "      <td>4</td>\n",
       "      <td>2.018863</td>\n",
       "      <td>0.0</td>\n",
       "      <td>0.0</td>\n",
       "      <td>0.0</td>\n",
       "      <td>0.0</td>\n",
       "      <td>0.0</td>\n",
       "      <td>0.0</td>\n",
       "      <td>0.866025</td>\n",
       "      <td>-0.5</td>\n",
       "      <td>0.201299</td>\n",
       "      <td>0.97953</td>\n",
       "    </tr>\n",
       "  </tbody>\n",
       "</table>\n",
       "</div>"
      ],
      "text/plain": [
       "   alert_key  sar_flag  risk_rank  occupation_code  AGE  asset_pct  amt_ct  \\\n",
       "0     171142       0.0          3             12.0    3   1.498958     0.0   \n",
       "1     171152       0.0          3             13.0    6   4.075161     0.0   \n",
       "2     171177       0.0          1             19.0    4   2.018863     0.0   \n",
       "\n",
       "   country_ct  cur_type_ct  country  cur_type  amt_over  month_sin  month_cos  \\\n",
       "0         0.0          0.0      0.0       0.0       0.0   0.866025       -0.5   \n",
       "1         0.0          0.0      0.0       0.0       0.0   0.866025       -0.5   \n",
       "2         0.0          0.0      0.0       0.0       0.0   0.866025       -0.5   \n",
       "\n",
       "    day_sin  day_cos  \n",
       "0  0.201299  0.97953  \n",
       "1  0.201299  0.97953  \n",
       "2  0.201299  0.97953  "
      ]
     },
     "execution_count": 5,
     "metadata": {},
     "output_type": "execute_result"
    }
   ],
   "source": [
    "train = df.iloc[:-1845]\n",
    "train.head(3)"
   ]
  },
  {
   "cell_type": "code",
   "execution_count": 6,
   "metadata": {},
   "outputs": [
    {
     "data": {
      "text/html": [
       "<div>\n",
       "<style scoped>\n",
       "    .dataframe tbody tr th:only-of-type {\n",
       "        vertical-align: middle;\n",
       "    }\n",
       "\n",
       "    .dataframe tbody tr th {\n",
       "        vertical-align: top;\n",
       "    }\n",
       "\n",
       "    .dataframe thead th {\n",
       "        text-align: right;\n",
       "    }\n",
       "</style>\n",
       "<table border=\"1\" class=\"dataframe\">\n",
       "  <thead>\n",
       "    <tr style=\"text-align: right;\">\n",
       "      <th></th>\n",
       "      <th>alert_key</th>\n",
       "      <th>sar_flag</th>\n",
       "      <th>risk_rank</th>\n",
       "      <th>occupation_code</th>\n",
       "      <th>AGE</th>\n",
       "      <th>asset_pct</th>\n",
       "      <th>amt_ct</th>\n",
       "      <th>country_ct</th>\n",
       "      <th>cur_type_ct</th>\n",
       "      <th>country</th>\n",
       "      <th>cur_type</th>\n",
       "      <th>amt_over</th>\n",
       "      <th>month_sin</th>\n",
       "      <th>month_cos</th>\n",
       "      <th>day_sin</th>\n",
       "      <th>day_cos</th>\n",
       "    </tr>\n",
       "  </thead>\n",
       "  <tbody>\n",
       "    <tr>\n",
       "      <th>23818</th>\n",
       "      <td>352249</td>\n",
       "      <td>NaN</td>\n",
       "      <td>1</td>\n",
       "      <td>19.0</td>\n",
       "      <td>7</td>\n",
       "      <td>2.182758</td>\n",
       "      <td>0.0</td>\n",
       "      <td>0.0</td>\n",
       "      <td>0.0</td>\n",
       "      <td>0.0</td>\n",
       "      <td>0.0</td>\n",
       "      <td>0.0</td>\n",
       "      <td>0.866025</td>\n",
       "      <td>-0.5</td>\n",
       "      <td>0.201299</td>\n",
       "      <td>0.97953</td>\n",
       "    </tr>\n",
       "    <tr>\n",
       "      <th>23819</th>\n",
       "      <td>352253</td>\n",
       "      <td>NaN</td>\n",
       "      <td>1</td>\n",
       "      <td>2.0</td>\n",
       "      <td>2</td>\n",
       "      <td>1.000000</td>\n",
       "      <td>0.0</td>\n",
       "      <td>0.0</td>\n",
       "      <td>0.0</td>\n",
       "      <td>0.0</td>\n",
       "      <td>0.0</td>\n",
       "      <td>0.0</td>\n",
       "      <td>0.866025</td>\n",
       "      <td>-0.5</td>\n",
       "      <td>0.201299</td>\n",
       "      <td>0.97953</td>\n",
       "    </tr>\n",
       "    <tr>\n",
       "      <th>23820</th>\n",
       "      <td>352254</td>\n",
       "      <td>NaN</td>\n",
       "      <td>1</td>\n",
       "      <td>19.0</td>\n",
       "      <td>7</td>\n",
       "      <td>3.057022</td>\n",
       "      <td>0.0</td>\n",
       "      <td>0.0</td>\n",
       "      <td>0.0</td>\n",
       "      <td>0.0</td>\n",
       "      <td>0.0</td>\n",
       "      <td>0.0</td>\n",
       "      <td>0.866025</td>\n",
       "      <td>-0.5</td>\n",
       "      <td>0.201299</td>\n",
       "      <td>0.97953</td>\n",
       "    </tr>\n",
       "  </tbody>\n",
       "</table>\n",
       "</div>"
      ],
      "text/plain": [
       "       alert_key  sar_flag  risk_rank  occupation_code  AGE  asset_pct  \\\n",
       "23818     352249       NaN          1             19.0    7   2.182758   \n",
       "23819     352253       NaN          1              2.0    2   1.000000   \n",
       "23820     352254       NaN          1             19.0    7   3.057022   \n",
       "\n",
       "       amt_ct  country_ct  cur_type_ct  country  cur_type  amt_over  \\\n",
       "23818     0.0         0.0          0.0      0.0       0.0       0.0   \n",
       "23819     0.0         0.0          0.0      0.0       0.0       0.0   \n",
       "23820     0.0         0.0          0.0      0.0       0.0       0.0   \n",
       "\n",
       "       month_sin  month_cos   day_sin  day_cos  \n",
       "23818   0.866025       -0.5  0.201299  0.97953  \n",
       "23819   0.866025       -0.5  0.201299  0.97953  \n",
       "23820   0.866025       -0.5  0.201299  0.97953  "
      ]
     },
     "execution_count": 6,
     "metadata": {},
     "output_type": "execute_result"
    }
   ],
   "source": [
    "test = df.iloc[-1845:]\n",
    "test.head(3)"
   ]
  },
  {
   "cell_type": "markdown",
   "metadata": {},
   "source": [
    "# Correlation"
   ]
  },
  {
   "cell_type": "code",
   "execution_count": 7,
   "metadata": {},
   "outputs": [
    {
     "data": {
      "image/png": "[encoded data removed]",
      "text/plain": [
       "<Figure size 1440x576 with 2 Axes>"
      ]
     },
     "metadata": {
      "needs_background": "light"
     },
     "output_type": "display_data"
    }
   ],
   "source": [
    "plt.figure(figsize=(20, 8))\n",
    "sns.heatmap(data = train.corr(), annot=True, cmap = 'RdBu', annot_kws = {\"fontsize\": 10})\n",
    "plt.show()"
   ]
  },
  {
   "cell_type": "code",
   "execution_count": 8,
   "metadata": {},
   "outputs": [
    {
     "data": {
      "text/plain": [
       "Index(['alert_key', 'sar_flag', 'risk_rank', 'occupation_code', 'AGE',\n",
       "       'asset_pct', 'amt_ct', 'country_ct', 'cur_type_ct', 'country',\n",
       "       'cur_type', 'amt_over', 'month_sin', 'month_cos', 'day_sin', 'day_cos'],\n",
       "      dtype='object')"
      ]
     },
     "execution_count": 8,
     "metadata": {},
     "output_type": "execute_result"
    }
   ],
   "source": [
    "train.columns"
   ]
  },
  {
   "cell_type": "code",
   "execution_count": 9,
   "metadata": {},
   "outputs": [],
   "source": [
    "cat_col = ['risk_rank', 'occupation_code', 'AGE', 'country', 'cur_type', 'amt_over']\n",
    "train[cat_col] = train[cat_col].astype(int)"
   ]
  },
  {
   "cell_type": "code",
   "execution_count": 10,
   "metadata": {},
   "outputs": [
    {
     "data": {
      "image/png": "[encoded data removed]",
      "text/plain": [
       "<Figure size 2160x720 with 6 Axes>"
      ]
     },
     "metadata": {
      "needs_background": "light"
     },
     "output_type": "display_data"
    }
   ],
   "source": [
    "a, b = 2, 3\n",
    "k = 0\n",
    "fig, ax = plt.subplots(a, b, figsize = (30, 10))\n",
    "for i in range(a):\n",
    "    for j in range(b):\n",
    "        sns.countplot(x = cat_col[k], hue = \"sar_flag\", data = train, ax = ax[i, j])\n",
    "        ax[i, j].set(xlabel = None, title = cat_col[k])\n",
    "\n",
    "\n",
    "        for p in ax[i, j].patches:\n",
    "            if np.isnan(p.get_height()):\n",
    "                continue\n",
    "            ax[i, j].annotate(f'\\n{int(p.get_height())}', (p.get_x(), p.get_height()+100), size=10)\n",
    "\n",
    "        k += 1\n",
    "        if k >= len(cat_col):\n",
    "            break\n",
    "plt.suptitle(\"Category variable\", size = 15)\n",
    "plt.show()"
   ]
  },
  {
   "cell_type": "markdown",
   "metadata": {},
   "source": [
    "# Split train、valid data"
   ]
  },
  {
   "cell_type": "code",
   "execution_count": 11,
   "metadata": {},
   "outputs": [],
   "source": [
    "drop_feat = [\"alert_key\", \"sar_flag\"]"
   ]
  },
  {
   "cell_type": "code",
   "execution_count": 12,
   "metadata": {},
   "outputs": [],
   "source": [
    "X_train = train.drop(drop_feat, axis = 1)\n",
    "y_train = train[\"sar_flag\"]\n",
    "\n",
    "X_test = test.drop(drop_feat, axis = 1)"
   ]
  },
  {
   "cell_type": "code",
   "execution_count": 13,
   "metadata": {},
   "outputs": [
    {
     "name": "stdout",
     "output_type": "stream",
     "text": [
      "raw 1/0: 0.009922\n"
     ]
    },
    {
     "data": {
      "text/plain": [
       "0.0    23584\n",
       "1.0      234\n",
       "Name: sar_flag, dtype: int64"
      ]
     },
     "execution_count": 13,
     "metadata": {},
     "output_type": "execute_result"
    }
   ],
   "source": [
    "print(f\"raw 1/0: {(y_train.value_counts()[1] / y_train.value_counts()[0]):.4}\")\n",
    "y_train.value_counts()"
   ]
  },
  {
   "cell_type": "code",
   "execution_count": 14,
   "metadata": {},
   "outputs": [
    {
     "name": "stdout",
     "output_type": "stream",
     "text": [
      "(19054, 14) (4764, 14) (19054,) (4764,)\n"
     ]
    }
   ],
   "source": [
    "X_train1, X_valid, y_train1, y_valid = train_test_split(X_train, y_train, test_size=0.2, shuffle = True, stratify = y_train, random_state = 99)\n",
    "# X_train1, X_valid, y_train1, y_valid = train_test_split(X_train, y_train, test_size=0.3, shuffle = False)\n",
    "print(X_train1.shape, X_valid.shape, y_train1.shape, y_valid.shape)"
   ]
  },
  {
   "cell_type": "code",
   "execution_count": 15,
   "metadata": {},
   "outputs": [
    {
     "name": "stdout",
     "output_type": "stream",
     "text": [
      "train 1/0: 0.009911\n"
     ]
    },
    {
     "data": {
      "text/plain": [
       "0.0    18867\n",
       "1.0      187\n",
       "Name: sar_flag, dtype: int64"
      ]
     },
     "execution_count": 15,
     "metadata": {},
     "output_type": "execute_result"
    }
   ],
   "source": [
    "print(f\"train 1/0: {(y_train1.value_counts()[1] / y_train1.value_counts()[0]):.4}\")\n",
    "y_train1.value_counts()"
   ]
  },
  {
   "cell_type": "code",
   "execution_count": 16,
   "metadata": {},
   "outputs": [
    {
     "name": "stdout",
     "output_type": "stream",
     "text": [
      "valid 1/0: 0.009964\n"
     ]
    },
    {
     "data": {
      "text/plain": [
       "0.0    4717\n",
       "1.0      47\n",
       "Name: sar_flag, dtype: int64"
      ]
     },
     "execution_count": 16,
     "metadata": {},
     "output_type": "execute_result"
    }
   ],
   "source": [
    "print(f\"valid 1/0: {(y_valid.value_counts()[1] / y_valid.value_counts()[0]):.4}\")\n",
    "y_valid.value_counts()"
   ]
  },
  {
   "cell_type": "markdown",
   "metadata": {},
   "source": [
    "## Resample"
   ]
  },
  {
   "cell_type": "code",
   "execution_count": 17,
   "metadata": {},
   "outputs": [
    {
     "data": {
      "text/plain": [
       "0.0    18867\n",
       "1.0    18867\n",
       "Name: sar_flag, dtype: int64"
      ]
     },
     "execution_count": 17,
     "metadata": {},
     "output_type": "execute_result"
    }
   ],
   "source": [
    "from imblearn.over_sampling import SMOTE, ADASYN\n",
    "oversample = SMOTE(random_state=99)\n",
    "X_train1, y_train1 = oversample.fit_resample(X_train1, y_train1)\n",
    "y_train1.value_counts()"
   ]
  },
  {
   "cell_type": "code",
   "execution_count": 18,
   "metadata": {},
   "outputs": [
    {
     "data": {
      "text/plain": [
       "0.0    23584\n",
       "1.0    23584\n",
       "Name: sar_flag, dtype: int64"
      ]
     },
     "execution_count": 18,
     "metadata": {},
     "output_type": "execute_result"
    }
   ],
   "source": [
    "oversample = SMOTE(random_state=99)\n",
    "X_train, y_train = oversample.fit_resample(X_train, y_train)\n",
    "y_train.value_counts()"
   ]
  },
  {
   "cell_type": "markdown",
   "metadata": {},
   "source": [
    "## Target encoding"
   ]
  },
  {
   "cell_type": "code",
   "execution_count": 19,
   "metadata": {},
   "outputs": [
    {
     "data": {
      "text/html": [
       "<div>\n",
       "<style scoped>\n",
       "    .dataframe tbody tr th:only-of-type {\n",
       "        vertical-align: middle;\n",
       "    }\n",
       "\n",
       "    .dataframe tbody tr th {\n",
       "        vertical-align: top;\n",
       "    }\n",
       "\n",
       "    .dataframe thead th {\n",
       "        text-align: right;\n",
       "    }\n",
       "</style>\n",
       "<table border=\"1\" class=\"dataframe\">\n",
       "  <thead>\n",
       "    <tr style=\"text-align: right;\">\n",
       "      <th></th>\n",
       "      <th>risk_rank</th>\n",
       "      <th>occupation_code</th>\n",
       "      <th>AGE</th>\n",
       "      <th>asset_pct</th>\n",
       "      <th>amt_ct</th>\n",
       "      <th>country_ct</th>\n",
       "      <th>cur_type_ct</th>\n",
       "      <th>country</th>\n",
       "      <th>cur_type</th>\n",
       "      <th>amt_over</th>\n",
       "      <th>month_sin</th>\n",
       "      <th>month_cos</th>\n",
       "      <th>day_sin</th>\n",
       "      <th>day_cos</th>\n",
       "    </tr>\n",
       "  </thead>\n",
       "  <tbody>\n",
       "    <tr>\n",
       "      <th>0</th>\n",
       "      <td>3</td>\n",
       "      <td>18</td>\n",
       "      <td>3</td>\n",
       "      <td>4.101152</td>\n",
       "      <td>425.0</td>\n",
       "      <td>425.0</td>\n",
       "      <td>425.0</td>\n",
       "      <td>1</td>\n",
       "      <td>1</td>\n",
       "      <td>0</td>\n",
       "      <td>0.5</td>\n",
       "      <td>-0.866025</td>\n",
       "      <td>-0.897805</td>\n",
       "      <td>-0.440394</td>\n",
       "    </tr>\n",
       "    <tr>\n",
       "      <th>1</th>\n",
       "      <td>1</td>\n",
       "      <td>13</td>\n",
       "      <td>2</td>\n",
       "      <td>4.236952</td>\n",
       "      <td>0.0</td>\n",
       "      <td>0.0</td>\n",
       "      <td>0.0</td>\n",
       "      <td>0</td>\n",
       "      <td>0</td>\n",
       "      <td>0</td>\n",
       "      <td>-0.5</td>\n",
       "      <td>-0.866025</td>\n",
       "      <td>0.394356</td>\n",
       "      <td>0.918958</td>\n",
       "    </tr>\n",
       "    <tr>\n",
       "      <th>2</th>\n",
       "      <td>2</td>\n",
       "      <td>17</td>\n",
       "      <td>5</td>\n",
       "      <td>1.247804</td>\n",
       "      <td>1.0</td>\n",
       "      <td>1.0</td>\n",
       "      <td>1.0</td>\n",
       "      <td>0</td>\n",
       "      <td>0</td>\n",
       "      <td>0</td>\n",
       "      <td>0.5</td>\n",
       "      <td>0.866025</td>\n",
       "      <td>0.571268</td>\n",
       "      <td>0.820763</td>\n",
       "    </tr>\n",
       "  </tbody>\n",
       "</table>\n",
       "</div>"
      ],
      "text/plain": [
       "   risk_rank  occupation_code  AGE  asset_pct  amt_ct  country_ct  \\\n",
       "0          3               18    3   4.101152   425.0       425.0   \n",
       "1          1               13    2   4.236952     0.0         0.0   \n",
       "2          2               17    5   1.247804     1.0         1.0   \n",
       "\n",
       "   cur_type_ct  country  cur_type  amt_over  month_sin  month_cos   day_sin  \\\n",
       "0        425.0        1         1         0        0.5  -0.866025 -0.897805   \n",
       "1          0.0        0         0         0       -0.5  -0.866025  0.394356   \n",
       "2          1.0        0         0         0        0.5   0.866025  0.571268   \n",
       "\n",
       "    day_cos  \n",
       "0 -0.440394  \n",
       "1  0.918958  \n",
       "2  0.820763  "
      ]
     },
     "execution_count": 19,
     "metadata": {},
     "output_type": "execute_result"
    }
   ],
   "source": [
    "X_train1.head(3)"
   ]
  },
  {
   "cell_type": "code",
   "execution_count": 20,
   "metadata": {},
   "outputs": [],
   "source": [
    "import category_encoders as ce\n",
    "\n",
    "cat_feat = [\"occupation_code\", \"AGE\"]#\"risk_rank\", \n",
    "ce_target = ce.TargetEncoder(cols = cat_feat)\n",
    "X_train1 = ce_target.fit_transform(X_train1, y_train1)\n",
    "X_valid = ce_target.transform(X_valid)"
   ]
  },
  {
   "cell_type": "code",
   "execution_count": 21,
   "metadata": {},
   "outputs": [],
   "source": [
    "ce_target = ce.TargetEncoder(cols = cat_feat)\n",
    "X_train = ce_target.fit_transform(X_train, y_train)\n",
    "X_test = ce_target.transform(X_test)"
   ]
  },
  {
   "cell_type": "markdown",
   "metadata": {},
   "source": [
    "## Modeling"
   ]
  },
  {
   "cell_type": "code",
   "execution_count": 22,
   "metadata": {},
   "outputs": [
    {
     "name": "stdout",
     "output_type": "stream",
     "text": [
      "Logistic trained.\n",
      "Bayes (Gaussian) trained.\n",
      "KNN trained.\n",
      "Decision Tree trained.\n",
      "Random Forest trained.\n",
      "Gradient Boost trained.\n",
      "XGBoost trained.\n",
      "LightGBM trained.\n",
      "Easy Ensemble (AdaBoost) trained.\n",
      "Easy Ensemble (Logistic) trained.\n"
     ]
    }
   ],
   "source": [
    "from sklearn.linear_model import LogisticRegression\n",
    "from sklearn.naive_bayes import GaussianNB\n",
    "from sklearn.naive_bayes import ComplementNB\n",
    "from sklearn.naive_bayes import BernoulliNB\n",
    "from sklearn.neighbors import KNeighborsClassifier\n",
    "from sklearn.svm import SVC\n",
    "from sklearn.neural_network import MLPClassifier\n",
    "from sklearn.tree import DecisionTreeClassifier\n",
    "from sklearn.ensemble import RandomForestClassifier\n",
    "from sklearn.ensemble import GradientBoostingClassifier\n",
    "from xgboost import XGBClassifier\n",
    "from lightgbm import LGBMClassifier\n",
    "from catboost import CatBoostClassifier\n",
    "from imblearn.ensemble import EasyEnsembleClassifier, BalancedRandomForestClassifier, BalancedBaggingClassifier, RUSBoostClassifier\n",
    "\n",
    "\n",
    "random_state = 99#None\n",
    "models = {\n",
    "    \"Logistic\": LogisticRegression(),\n",
    "    \"Bayes (Gaussian)\": GaussianNB(),\n",
    "    \"KNN\": KNeighborsClassifier(),\n",
    "    # \"SVC\": SVC(probability = True),\n",
    "    # \"Neural Network\": MLPClassifier(),\n",
    "    \"Decision Tree\": DecisionTreeClassifier(random_state = random_state),\n",
    "    \"Random Forest\": RandomForestClassifier(random_state = random_state),#, class_weight=\"balanced\"),\n",
    "    \"Gradient Boost\": GradientBoostingClassifier(),\n",
    "    \"XGBoost\": XGBClassifier(random_state = random_state),\n",
    "    \"LightGBM\": LGBMClassifier(random_state = random_state), # feature name should be number\n",
    "    # \"Cat Boost\": CatBoostClassifier(random_state = random_state),\n",
    "    # \"Bayes (Complement)\": ComplementNB(), # for imbalance data (X cannot be negative)\n",
    "    \"Easy Ensemble (AdaBoost)\":EasyEnsembleClassifier(random_state = random_state),\n",
    "    \"Easy Ensemble (Logistic)\":EasyEnsembleClassifier(random_state = random_state, base_estimator = LogisticRegression()),\n",
    "    # \"Easy Ensemble (SVC)\":EasyEnsembleClassifier(random_state = random_state, base_estimator = SVC(probability = True)),\n",
    "}\n",
    "\n",
    "for name, model in models.items():\n",
    "    model.fit(X_train1, y_train1)\n",
    "    print(name + \" trained.\")"
   ]
  },
  {
   "cell_type": "code",
   "execution_count": 23,
   "metadata": {},
   "outputs": [
    {
     "name": "stdout",
     "output_type": "stream",
     "text": [
      "<< Logistic >>\n",
      "\n",
      "Confusion Matrix:\n",
      "         0.0   1.0  Total\n",
      "0.0    3586  1131   4717\n",
      "1.0      19    28     47\n",
      "Total  3605  1159   4764\n",
      "\n",
      "Classification Report:\n",
      "              precision    recall  f1-score   support\n",
      "\n",
      "         0.0       0.99      0.76      0.86      4717\n",
      "         1.0       0.02      0.60      0.05        47\n",
      "\n",
      "    accuracy                           0.76      4764\n",
      "   macro avg       0.51      0.68      0.45      4764\n",
      "weighted avg       0.99      0.76      0.85      4764\n",
      "\n",
      "------------------------------------------------------------\n",
      "<< Bayes (Gaussian) >>\n",
      "\n",
      "Confusion Matrix:\n",
      "         0.0   1.0  Total\n",
      "0.0    2015  2702   4717\n",
      "1.0       8    39     47\n",
      "Total  2023  2741   4764\n",
      "\n",
      "Classification Report:\n",
      "              precision    recall  f1-score   support\n",
      "\n",
      "         0.0       1.00      0.43      0.60      4717\n",
      "         1.0       0.01      0.83      0.03        47\n",
      "\n",
      "    accuracy                           0.43      4764\n",
      "   macro avg       0.51      0.63      0.31      4764\n",
      "weighted avg       0.99      0.43      0.59      4764\n",
      "\n",
      "------------------------------------------------------------\n",
      "<< KNN >>\n",
      "\n",
      "Confusion Matrix:\n",
      "         0.0  1.0  Total\n",
      "0.0    4360  357   4717\n",
      "1.0      37   10     47\n",
      "Total  4397  367   4764\n",
      "\n",
      "Classification Report:\n",
      "              precision    recall  f1-score   support\n",
      "\n",
      "         0.0       0.99      0.92      0.96      4717\n",
      "         1.0       0.03      0.21      0.05        47\n",
      "\n",
      "    accuracy                           0.92      4764\n",
      "   macro avg       0.51      0.57      0.50      4764\n",
      "weighted avg       0.98      0.92      0.95      4764\n",
      "\n",
      "------------------------------------------------------------\n",
      "<< Decision Tree >>\n",
      "\n",
      "Confusion Matrix:\n",
      "         0.0  1.0  Total\n",
      "0.0    4657   60   4717\n",
      "1.0      44    3     47\n",
      "Total  4701   63   4764\n",
      "\n",
      "Classification Report:\n",
      "              precision    recall  f1-score   support\n",
      "\n",
      "         0.0       0.99      0.99      0.99      4717\n",
      "         1.0       0.05      0.06      0.05        47\n",
      "\n",
      "    accuracy                           0.98      4764\n",
      "   macro avg       0.52      0.53      0.52      4764\n",
      "weighted avg       0.98      0.98      0.98      4764\n",
      "\n",
      "------------------------------------------------------------\n",
      "<< Random Forest >>\n",
      "\n",
      "Confusion Matrix:\n",
      "         0.0  1.0  Total\n",
      "0.0    4705   12   4717\n",
      "1.0      46    1     47\n",
      "Total  4751   13   4764\n",
      "\n",
      "Classification Report:\n",
      "              precision    recall  f1-score   support\n",
      "\n",
      "         0.0       0.99      1.00      0.99      4717\n",
      "         1.0       0.08      0.02      0.03        47\n",
      "\n",
      "    accuracy                           0.99      4764\n",
      "   macro avg       0.53      0.51      0.51      4764\n",
      "weighted avg       0.98      0.99      0.98      4764\n",
      "\n",
      "------------------------------------------------------------\n",
      "<< Gradient Boost >>\n",
      "\n",
      "Confusion Matrix:\n",
      "         0.0  1.0  Total\n",
      "0.0    4578  139   4717\n",
      "1.0      40    7     47\n",
      "Total  4618  146   4764\n",
      "\n",
      "Classification Report:\n",
      "              precision    recall  f1-score   support\n",
      "\n",
      "         0.0       0.99      0.97      0.98      4717\n",
      "         1.0       0.05      0.15      0.07        47\n",
      "\n",
      "    accuracy                           0.96      4764\n",
      "   macro avg       0.52      0.56      0.53      4764\n",
      "weighted avg       0.98      0.96      0.97      4764\n",
      "\n",
      "------------------------------------------------------------\n",
      "<< XGBoost >>\n",
      "\n",
      "Confusion Matrix:\n",
      "         0.0  1.0  Total\n",
      "0.0    4712    5   4717\n",
      "1.0      46    1     47\n",
      "Total  4758    6   4764\n",
      "\n",
      "Classification Report:\n",
      "              precision    recall  f1-score   support\n",
      "\n",
      "         0.0       0.99      1.00      0.99      4717\n",
      "         1.0       0.17      0.02      0.04        47\n",
      "\n",
      "    accuracy                           0.99      4764\n",
      "   macro avg       0.58      0.51      0.52      4764\n",
      "weighted avg       0.98      0.99      0.99      4764\n",
      "\n",
      "------------------------------------------------------------\n",
      "<< LightGBM >>\n",
      "\n",
      "Confusion Matrix:\n",
      "         0.0  1.0  Total\n",
      "0.0    4707   10   4717\n",
      "1.0      44    3     47\n",
      "Total  4751   13   4764\n",
      "\n",
      "Classification Report:\n",
      "              precision    recall  f1-score   support\n",
      "\n",
      "         0.0       0.99      1.00      0.99      4717\n",
      "         1.0       0.23      0.06      0.10        47\n",
      "\n",
      "    accuracy                           0.99      4764\n",
      "   macro avg       0.61      0.53      0.55      4764\n",
      "weighted avg       0.98      0.99      0.99      4764\n",
      "\n",
      "------------------------------------------------------------\n",
      "<< Easy Ensemble (AdaBoost) >>\n",
      "\n",
      "Confusion Matrix:\n",
      "         0.0  1.0  Total\n",
      "0.0    4442  275   4717\n",
      "1.0      34   13     47\n",
      "Total  4476  288   4764\n",
      "\n",
      "Classification Report:\n",
      "              precision    recall  f1-score   support\n",
      "\n",
      "         0.0       0.99      0.94      0.97      4717\n",
      "         1.0       0.05      0.28      0.08        47\n",
      "\n",
      "    accuracy                           0.94      4764\n",
      "   macro avg       0.52      0.61      0.52      4764\n",
      "weighted avg       0.98      0.94      0.96      4764\n",
      "\n",
      "------------------------------------------------------------\n",
      "<< Easy Ensemble (Logistic) >>\n",
      "\n",
      "Confusion Matrix:\n",
      "         0.0   1.0  Total\n",
      "0.0    3583  1134   4717\n",
      "1.0      19    28     47\n",
      "Total  3602  1162   4764\n",
      "\n",
      "Classification Report:\n",
      "              precision    recall  f1-score   support\n",
      "\n",
      "         0.0       0.99      0.76      0.86      4717\n",
      "         1.0       0.02      0.60      0.05        47\n",
      "\n",
      "    accuracy                           0.76      4764\n",
      "   macro avg       0.51      0.68      0.45      4764\n",
      "weighted avg       0.99      0.76      0.85      4764\n",
      "\n",
      "------------------------------------------------------------\n"
     ]
    },
    {
     "data": {
      "text/html": [
       "<div>\n",
       "<style scoped>\n",
       "    .dataframe tbody tr th:only-of-type {\n",
       "        vertical-align: middle;\n",
       "    }\n",
       "\n",
       "    .dataframe tbody tr th {\n",
       "        vertical-align: top;\n",
       "    }\n",
       "\n",
       "    .dataframe thead th {\n",
       "        text-align: right;\n",
       "    }\n",
       "</style>\n",
       "<table border=\"1\" class=\"dataframe\">\n",
       "  <thead>\n",
       "    <tr style=\"text-align: right;\">\n",
       "      <th></th>\n",
       "      <th>Accuracy_train</th>\n",
       "      <th>Accuracy_test</th>\n",
       "      <th>Recall_train</th>\n",
       "      <th>Recall_test</th>\n",
       "      <th>Precision_train</th>\n",
       "      <th>Precision_test</th>\n",
       "      <th>f1_train</th>\n",
       "      <th>f1_test</th>\n",
       "    </tr>\n",
       "  </thead>\n",
       "  <tbody>\n",
       "    <tr>\n",
       "      <th>Bayes (Gaussian)</th>\n",
       "      <td>0.68</td>\n",
       "      <td>0.43</td>\n",
       "      <td>0.94</td>\n",
       "      <td>0.83</td>\n",
       "      <td>0.62</td>\n",
       "      <td>0.01</td>\n",
       "      <td>0.75</td>\n",
       "      <td>0.03</td>\n",
       "    </tr>\n",
       "    <tr>\n",
       "      <th>Logistic</th>\n",
       "      <td>0.77</td>\n",
       "      <td>0.76</td>\n",
       "      <td>0.79</td>\n",
       "      <td>0.60</td>\n",
       "      <td>0.76</td>\n",
       "      <td>0.02</td>\n",
       "      <td>0.78</td>\n",
       "      <td>0.05</td>\n",
       "    </tr>\n",
       "    <tr>\n",
       "      <th>Easy Ensemble (Logistic)</th>\n",
       "      <td>0.77</td>\n",
       "      <td>0.76</td>\n",
       "      <td>0.79</td>\n",
       "      <td>0.60</td>\n",
       "      <td>0.76</td>\n",
       "      <td>0.02</td>\n",
       "      <td>0.78</td>\n",
       "      <td>0.05</td>\n",
       "    </tr>\n",
       "    <tr>\n",
       "      <th>Easy Ensemble (AdaBoost)</th>\n",
       "      <td>0.94</td>\n",
       "      <td>0.94</td>\n",
       "      <td>0.94</td>\n",
       "      <td>0.28</td>\n",
       "      <td>0.94</td>\n",
       "      <td>0.05</td>\n",
       "      <td>0.94</td>\n",
       "      <td>0.08</td>\n",
       "    </tr>\n",
       "    <tr>\n",
       "      <th>KNN</th>\n",
       "      <td>0.92</td>\n",
       "      <td>0.92</td>\n",
       "      <td>0.89</td>\n",
       "      <td>0.21</td>\n",
       "      <td>0.94</td>\n",
       "      <td>0.03</td>\n",
       "      <td>0.92</td>\n",
       "      <td>0.05</td>\n",
       "    </tr>\n",
       "    <tr>\n",
       "      <th>Gradient Boost</th>\n",
       "      <td>0.96</td>\n",
       "      <td>0.96</td>\n",
       "      <td>0.96</td>\n",
       "      <td>0.15</td>\n",
       "      <td>0.97</td>\n",
       "      <td>0.05</td>\n",
       "      <td>0.96</td>\n",
       "      <td>0.07</td>\n",
       "    </tr>\n",
       "    <tr>\n",
       "      <th>LightGBM</th>\n",
       "      <td>0.99</td>\n",
       "      <td>0.99</td>\n",
       "      <td>0.98</td>\n",
       "      <td>0.06</td>\n",
       "      <td>1.00</td>\n",
       "      <td>0.23</td>\n",
       "      <td>0.99</td>\n",
       "      <td>0.10</td>\n",
       "    </tr>\n",
       "    <tr>\n",
       "      <th>Decision Tree</th>\n",
       "      <td>0.96</td>\n",
       "      <td>0.98</td>\n",
       "      <td>0.92</td>\n",
       "      <td>0.06</td>\n",
       "      <td>0.99</td>\n",
       "      <td>0.05</td>\n",
       "      <td>0.96</td>\n",
       "      <td>0.05</td>\n",
       "    </tr>\n",
       "    <tr>\n",
       "      <th>XGBoost</th>\n",
       "      <td>0.99</td>\n",
       "      <td>0.99</td>\n",
       "      <td>0.98</td>\n",
       "      <td>0.02</td>\n",
       "      <td>1.00</td>\n",
       "      <td>0.17</td>\n",
       "      <td>0.99</td>\n",
       "      <td>0.04</td>\n",
       "    </tr>\n",
       "    <tr>\n",
       "      <th>Random Forest</th>\n",
       "      <td>0.97</td>\n",
       "      <td>0.99</td>\n",
       "      <td>0.94</td>\n",
       "      <td>0.02</td>\n",
       "      <td>1.00</td>\n",
       "      <td>0.08</td>\n",
       "      <td>0.97</td>\n",
       "      <td>0.03</td>\n",
       "    </tr>\n",
       "  </tbody>\n",
       "</table>\n",
       "</div>"
      ],
      "text/plain": [
       "                          Accuracy_train  Accuracy_test  Recall_train  \\\n",
       "Bayes (Gaussian)                    0.68           0.43          0.94   \n",
       "Logistic                            0.77           0.76          0.79   \n",
       "Easy Ensemble (Logistic)            0.77           0.76          0.79   \n",
       "Easy Ensemble (AdaBoost)            0.94           0.94          0.94   \n",
       "KNN                                 0.92           0.92          0.89   \n",
       "Gradient Boost                      0.96           0.96          0.96   \n",
       "LightGBM                            0.99           0.99          0.98   \n",
       "Decision Tree                       0.96           0.98          0.92   \n",
       "XGBoost                             0.99           0.99          0.98   \n",
       "Random Forest                       0.97           0.99          0.94   \n",
       "\n",
       "                          Recall_test  Precision_train  Precision_test  \\\n",
       "Bayes (Gaussian)                 0.83             0.62            0.01   \n",
       "Logistic                         0.60             0.76            0.02   \n",
       "Easy Ensemble (Logistic)         0.60             0.76            0.02   \n",
       "Easy Ensemble (AdaBoost)         0.28             0.94            0.05   \n",
       "KNN                              0.21             0.94            0.03   \n",
       "Gradient Boost                   0.15             0.97            0.05   \n",
       "LightGBM                         0.06             1.00            0.23   \n",
       "Decision Tree                    0.06             0.99            0.05   \n",
       "XGBoost                          0.02             1.00            0.17   \n",
       "Random Forest                    0.02             1.00            0.08   \n",
       "\n",
       "                          f1_train  f1_test  \n",
       "Bayes (Gaussian)              0.75     0.03  \n",
       "Logistic                      0.78     0.05  \n",
       "Easy Ensemble (Logistic)      0.78     0.05  \n",
       "Easy Ensemble (AdaBoost)      0.94     0.08  \n",
       "KNN                           0.92     0.05  \n",
       "Gradient Boost                0.96     0.07  \n",
       "LightGBM                      0.99     0.10  \n",
       "Decision Tree                 0.96     0.05  \n",
       "XGBoost                       0.99     0.04  \n",
       "Random Forest                 0.97     0.03  "
      ]
     },
     "execution_count": 23,
     "metadata": {},
     "output_type": "execute_result"
    }
   ],
   "source": [
    "from sklearn.metrics import accuracy_score, confusion_matrix, classification_report, recall_score, precision_score, f1_score, fbeta_score\n",
    "from sklearn.model_selection import ShuffleSplit, cross_val_score\n",
    "\n",
    "# acc_bound = 0.7\n",
    "# f1w_bound = 0.5\n",
    "\n",
    "score = []\n",
    "flag = 1\n",
    "cv_flag = 0\n",
    "for key, model in models.items():\n",
    "    pred_train = model.predict(X_train)\n",
    "    pred_test  = model.predict(X_valid)\n",
    "\n",
    "    acc_train  = accuracy_score(y_train, pred_train).round(2)\n",
    "    acc_test   = accuracy_score(y_valid, pred_test).round(2)\n",
    "\n",
    "    recall_train  = recall_score(y_train, pred_train).round(2)\n",
    "    recall_test   = recall_score(y_valid, pred_test).round(2)\n",
    "\n",
    "    precision_train  = precision_score(y_train, pred_train).round(2)\n",
    "    precision_test   = precision_score(y_valid, pred_test).round(2)\n",
    "\n",
    "    f1_train = f1_score(y_train, pred_train).round(2)\n",
    "    f1_test = f1_score(y_valid, pred_test).round(2)\n",
    "    \n",
    "    if flag == 1:\n",
    "        col1 = [acc_train, acc_test, recall_train, recall_test, precision_train, precision_test, f1_train, f1_test]\n",
    "        col2 = [\"Accuracy_train\", \"Accuracy_test\", \"Recall_train\", \"Recall_test\", \"Precision_train\", \"Precision_test\", \"f1_train\", \"f1_test\"]\n",
    "    else:\n",
    "        col1 = [acc_test, recall_test, precision_test, f1_test]\n",
    "        col2 = [\"Accuracy\", \"Recall\", \"Precision\", \"f1\"]\n",
    "\n",
    "    if cv_flag:\n",
    "        # cv = ShuffleSplit(n_splits = 3, test_size = 0.2)\n",
    "        cv_scores = cross_val_score(model, X_train, y_train, cv = 3, scoring = 'accuracy')\n",
    "        cv_score = cv_scores.mean().round(2)\n",
    "        col1 += [cv_score]\n",
    "        col2 += [\"f1_cv\"]\n",
    "\n",
    "    score.append(col1)\n",
    "    \n",
    "    # if (acc_test >= acc_bound) & (f1_test >= f1w_bound):\n",
    "    col3 = sorted(list(set(y_valid) | set(pred_test)))\n",
    "    confusion = pd.DataFrame(confusion_matrix(y_valid, pred_test), index = col3, columns = col3)\n",
    "    confusion[\"Total\"] = confusion.sum(axis = 1)\n",
    "    confusion.at[\"Total\"] = confusion.sum(axis = 0)\n",
    "\n",
    "    \n",
    "    confusion = confusion.astype(int)\n",
    "    \n",
    "    print(f\"<< {key.lstrip()} >>\")\n",
    "    print(f\"\\nConfusion Matrix:\\n {confusion}\")\n",
    "    print(f\"\\nClassification Report:\\n{classification_report(y_valid, pred_test)}\")\n",
    "    print(\"-\"*60)\n",
    "    \n",
    "index  = [i.lstrip() for i in models.keys()]\n",
    "score  = pd.DataFrame(score, index = index, columns = col2)\n",
    "score = score.sort_values([\"Recall_test\", \"Precision_test\", \"f1_test\", \"Accuracy_test\"], ascending = False)\n",
    "score"
   ]
  },
  {
   "cell_type": "code",
   "execution_count": 24,
   "metadata": {},
   "outputs": [
    {
     "data": {
      "text/plain": [
       "'Bayes (Gaussian)'"
      ]
     },
     "execution_count": 24,
     "metadata": {},
     "output_type": "execute_result"
    }
   ],
   "source": [
    "best_model = score.index[0]\n",
    "best_model"
   ]
  },
  {
   "cell_type": "markdown",
   "metadata": {},
   "source": [
    "## Recall@N - 1 的 Precision"
   ]
  },
  {
   "cell_type": "code",
   "execution_count": 25,
   "metadata": {},
   "outputs": [
    {
     "name": "stdout",
     "output_type": "stream",
     "text": [
      "total: 4764,  SAR: 47\n",
      "47 / 4619 = 0.0105571\n"
     ]
    }
   ],
   "source": [
    "pred_valid  = models[best_model].predict_proba(X_valid)\n",
    "pred_valid = pred_valid[:, 1]\n",
    "\n",
    "valid = train.loc[y_valid.index]\n",
    "valid = valid[[\"alert_key\", \"sar_flag\"]]\n",
    "valid[\"probability\"] = pred_valid\n",
    "valid = valid.sort_values(\"probability\", ascending = False)\n",
    "sar = np.where(valid[\"sar_flag\"])[0]\n",
    "recall = len(sar)/sar[-2]\n",
    "print(f\"total: {len(valid)},  SAR: {len(sar)}\\n{len(sar)} / {sar[-1]} = {recall:.6}\")"
   ]
  },
  {
   "cell_type": "markdown",
   "metadata": {},
   "source": [
    "## Submit"
   ]
  },
  {
   "cell_type": "markdown",
   "metadata": {},
   "source": [
    "#### No valid: only use X_train to train"
   ]
  },
  {
   "cell_type": "code",
   "execution_count": 26,
   "metadata": {},
   "outputs": [
    {
     "name": "stdout",
     "output_type": "stream",
     "text": [
      "1: 1191\n"
     ]
    },
    {
     "data": {
      "text/plain": [
       "array([9.81448062e-01, 9.99795761e-01, 9.81462452e-01, ...,\n",
       "       1.97964098e-05, 9.99635348e-01, 1.93891218e-05])"
      ]
     },
     "execution_count": 26,
     "metadata": {},
     "output_type": "execute_result"
    }
   ],
   "source": [
    "test_model = models[best_model]\n",
    "# test_model.fit(X_train1, y_train1)\n",
    "\n",
    "pred_prob = test_model.predict_proba(X_test)\n",
    "pred_prob = pred_prob[:, 1]\n",
    "print(\"1:\",  (pred_prob > 0.5).sum())\n",
    "pred_prob"
   ]
  },
  {
   "cell_type": "markdown",
   "metadata": {},
   "source": [
    "#### Total train: use X_train and X_valid to train"
   ]
  },
  {
   "cell_type": "code",
   "execution_count": 27,
   "metadata": {},
   "outputs": [
    {
     "name": "stdout",
     "output_type": "stream",
     "text": [
      "1: 1269\n"
     ]
    },
    {
     "data": {
      "text/plain": [
       "array([9.86608944e-01, 9.99771650e-01, 9.86622233e-01, ...,\n",
       "       7.78319953e-05, 9.99607394e-01, 7.18339923e-05])"
      ]
     },
     "execution_count": 27,
     "metadata": {},
     "output_type": "execute_result"
    }
   ],
   "source": [
    "test_model = models[best_model]\n",
    "test_model.fit(X_train, y_train)\n",
    "\n",
    "pred_prob = test_model.predict_proba(X_test)\n",
    "pred_prob = pred_prob[:, 1]\n",
    "print(\"1:\",  (pred_prob > 0.5).sum())\n",
    "pred_prob"
   ]
  },
  {
   "cell_type": "code",
   "execution_count": 28,
   "metadata": {},
   "outputs": [
    {
     "data": {
      "text/html": [
       "<div>\n",
       "<style scoped>\n",
       "    .dataframe tbody tr th:only-of-type {\n",
       "        vertical-align: middle;\n",
       "    }\n",
       "\n",
       "    .dataframe tbody tr th {\n",
       "        vertical-align: top;\n",
       "    }\n",
       "\n",
       "    .dataframe thead th {\n",
       "        text-align: right;\n",
       "    }\n",
       "</style>\n",
       "<table border=\"1\" class=\"dataframe\">\n",
       "  <thead>\n",
       "    <tr style=\"text-align: right;\">\n",
       "      <th></th>\n",
       "      <th>alert_key</th>\n",
       "      <th>probability</th>\n",
       "    </tr>\n",
       "  </thead>\n",
       "  <tbody>\n",
       "    <tr>\n",
       "      <th>23818</th>\n",
       "      <td>352249</td>\n",
       "      <td>0.986609</td>\n",
       "    </tr>\n",
       "    <tr>\n",
       "      <th>23819</th>\n",
       "      <td>352253</td>\n",
       "      <td>0.999772</td>\n",
       "    </tr>\n",
       "    <tr>\n",
       "      <th>23820</th>\n",
       "      <td>352254</td>\n",
       "      <td>0.986622</td>\n",
       "    </tr>\n",
       "    <tr>\n",
       "      <th>23821</th>\n",
       "      <td>352280</td>\n",
       "      <td>0.000036</td>\n",
       "    </tr>\n",
       "    <tr>\n",
       "      <th>23822</th>\n",
       "      <td>352282</td>\n",
       "      <td>0.997908</td>\n",
       "    </tr>\n",
       "    <tr>\n",
       "      <th>...</th>\n",
       "      <td>...</td>\n",
       "      <td>...</td>\n",
       "    </tr>\n",
       "    <tr>\n",
       "      <th>25658</th>\n",
       "      <td>365001</td>\n",
       "      <td>0.999562</td>\n",
       "    </tr>\n",
       "    <tr>\n",
       "      <th>25659</th>\n",
       "      <td>365004</td>\n",
       "      <td>0.000077</td>\n",
       "    </tr>\n",
       "    <tr>\n",
       "      <th>25660</th>\n",
       "      <td>365008</td>\n",
       "      <td>0.000078</td>\n",
       "    </tr>\n",
       "    <tr>\n",
       "      <th>25661</th>\n",
       "      <td>365009</td>\n",
       "      <td>0.999607</td>\n",
       "    </tr>\n",
       "    <tr>\n",
       "      <th>25662</th>\n",
       "      <td>365073</td>\n",
       "      <td>0.000072</td>\n",
       "    </tr>\n",
       "  </tbody>\n",
       "</table>\n",
       "<p>1845 rows × 2 columns</p>\n",
       "</div>"
      ],
      "text/plain": [
       "       alert_key  probability\n",
       "23818     352249     0.986609\n",
       "23819     352253     0.999772\n",
       "23820     352254     0.986622\n",
       "23821     352280     0.000036\n",
       "23822     352282     0.997908\n",
       "...          ...          ...\n",
       "25658     365001     0.999562\n",
       "25659     365004     0.000077\n",
       "25660     365008     0.000078\n",
       "25661     365009     0.999607\n",
       "25662     365073     0.000072\n",
       "\n",
       "[1845 rows x 2 columns]"
      ]
     },
     "execution_count": 28,
     "metadata": {},
     "output_type": "execute_result"
    }
   ],
   "source": [
    "result = test[[\"alert_key\"]].copy()\n",
    "result[\"probability\"] = pred_prob\n",
    "result"
   ]
  },
  {
   "cell_type": "code",
   "execution_count": 29,
   "metadata": {},
   "outputs": [
    {
     "data": {
      "text/plain": [
       "Index(['risk_rank', 'occupation_code', 'AGE', 'asset_pct', 'amt_ct',\n",
       "       'country_ct', 'cur_type_ct', 'country', 'cur_type', 'amt_over',\n",
       "       'month_sin', 'month_cos', 'day_sin', 'day_cos'],\n",
       "      dtype='object')"
      ]
     },
     "execution_count": 29,
     "metadata": {},
     "output_type": "execute_result"
    }
   ],
   "source": [
    "X_train.columns"
   ]
  },
  {
   "cell_type": "code",
   "execution_count": 30,
   "metadata": {},
   "outputs": [
    {
     "data": {
      "text/html": [
       "<div>\n",
       "<style scoped>\n",
       "    .dataframe tbody tr th:only-of-type {\n",
       "        vertical-align: middle;\n",
       "    }\n",
       "\n",
       "    .dataframe tbody tr th {\n",
       "        vertical-align: top;\n",
       "    }\n",
       "\n",
       "    .dataframe thead th {\n",
       "        text-align: right;\n",
       "    }\n",
       "</style>\n",
       "<table border=\"1\" class=\"dataframe\">\n",
       "  <thead>\n",
       "    <tr style=\"text-align: right;\">\n",
       "      <th></th>\n",
       "      <th>alert_key</th>\n",
       "      <th>probability</th>\n",
       "    </tr>\n",
       "  </thead>\n",
       "  <tbody>\n",
       "    <tr>\n",
       "      <th>1623</th>\n",
       "      <td>354818</td>\n",
       "      <td>0.999960</td>\n",
       "    </tr>\n",
       "    <tr>\n",
       "      <th>432</th>\n",
       "      <td>358464</td>\n",
       "      <td>0.999957</td>\n",
       "    </tr>\n",
       "    <tr>\n",
       "      <th>3432</th>\n",
       "      <td>357883</td>\n",
       "      <td>0.999954</td>\n",
       "    </tr>\n",
       "    <tr>\n",
       "      <th>712</th>\n",
       "      <td>361296</td>\n",
       "      <td>0.999942</td>\n",
       "    </tr>\n",
       "    <tr>\n",
       "      <th>2649</th>\n",
       "      <td>354971</td>\n",
       "      <td>0.999940</td>\n",
       "    </tr>\n",
       "    <tr>\n",
       "      <th>...</th>\n",
       "      <td>...</td>\n",
       "      <td>...</td>\n",
       "    </tr>\n",
       "    <tr>\n",
       "      <th>1130</th>\n",
       "      <td>356424</td>\n",
       "      <td>0.000000</td>\n",
       "    </tr>\n",
       "    <tr>\n",
       "      <th>2115</th>\n",
       "      <td>356054</td>\n",
       "      <td>0.000000</td>\n",
       "    </tr>\n",
       "    <tr>\n",
       "      <th>2751</th>\n",
       "      <td>352859</td>\n",
       "      <td>0.000000</td>\n",
       "    </tr>\n",
       "    <tr>\n",
       "      <th>1111</th>\n",
       "      <td>355815</td>\n",
       "      <td>0.000000</td>\n",
       "    </tr>\n",
       "    <tr>\n",
       "      <th>748</th>\n",
       "      <td>355147</td>\n",
       "      <td>0.000000</td>\n",
       "    </tr>\n",
       "  </tbody>\n",
       "</table>\n",
       "<p>3850 rows × 2 columns</p>\n",
       "</div>"
      ],
      "text/plain": [
       "      alert_key  probability\n",
       "1623     354818     0.999960\n",
       "432      358464     0.999957\n",
       "3432     357883     0.999954\n",
       "712      361296     0.999942\n",
       "2649     354971     0.999940\n",
       "...         ...          ...\n",
       "1130     356424     0.000000\n",
       "2115     356054     0.000000\n",
       "2751     352859     0.000000\n",
       "1111     355815     0.000000\n",
       "748      355147     0.000000\n",
       "\n",
       "[3850 rows x 2 columns]"
      ]
     },
     "execution_count": 30,
     "metadata": {},
     "output_type": "execute_result"
    }
   ],
   "source": [
    "submit = pd.read_csv(\"D:\\\\Julie\\\\develop\\\\money_laundry\\\\data\\\\預測的案件名單及提交檔案範例.csv\")\n",
    "submit = submit[[\"alert_key\"]]\n",
    "submit = pd.merge(submit, result, on = \"alert_key\", how = \"left\")\n",
    "submit[\"probability\"] = submit[\"probability\"].astype(float)\n",
    "submit = submit.fillna(1e-5)\n",
    "submit = submit.sort_values(\"probability\", ascending = False)\n",
    "submit"
   ]
  },
  {
   "cell_type": "code",
   "execution_count": 32,
   "metadata": {},
   "outputs": [],
   "source": [
    "submit.to_csv(\"data/submit/1114.csv\", index = False)"
   ]
  }
 ],
 "metadata": {
  "kernelspec": {
   "display_name": "Python 3.8.10 ('.venv': venv)",
   "language": "python",
   "name": "python3"
  },
  "language_info": {
   "codemirror_mode": {
    "name": "ipython",
    "version": 3
   },
   "file_extension": ".py",
   "mimetype": "text/x-python",
   "name": "python",
   "nbconvert_exporter": "python",
   "pygments_lexer": "ipython3",
   "version": "3.8.10"
  },
  "orig_nbformat": 4,
  "vscode": {
   "interpreter": {
    "hash": "6c2898c30be5f73b03e044cf4b0ab3750666a8191d61a4c93b022a132c823988"
   }
  }
 },
 "nbformat": 4,
 "nbformat_minor": 2
}
