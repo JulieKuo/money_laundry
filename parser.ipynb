{
 "cells": [
  {
   "cell_type": "code",
   "execution_count": 1,
   "metadata": {},
   "outputs": [],
   "source": [
    "import pandas as pd\n",
    "import matplotlib.pyplot as plt\n",
    "import seaborn as sns"
   ]
  },
  {
   "cell_type": "markdown",
   "metadata": {},
   "source": [
    "### Load data"
   ]
  },
  {
   "cell_type": "code",
   "execution_count": 2,
   "metadata": {},
   "outputs": [
    {
     "name": "stdout",
     "output_type": "stream",
     "text": [
      "(59075, 10)\n",
      "cust_id: 4745\n"
     ]
    },
    {
     "data": {
      "text/html": [
       "<div>\n",
       "<style scoped>\n",
       "    .dataframe tbody tr th:only-of-type {\n",
       "        vertical-align: middle;\n",
       "    }\n",
       "\n",
       "    .dataframe tbody tr th {\n",
       "        vertical-align: top;\n",
       "    }\n",
       "\n",
       "    .dataframe thead th {\n",
       "        text-align: right;\n",
       "    }\n",
       "</style>\n",
       "<table border=\"1\" class=\"dataframe\">\n",
       "  <thead>\n",
       "    <tr style=\"text-align: right;\">\n",
       "      <th></th>\n",
       "      <th>cust_id</th>\n",
       "      <th>lupay</th>\n",
       "      <th>byymm</th>\n",
       "      <th>cycam</th>\n",
       "      <th>usgam</th>\n",
       "      <th>clamt</th>\n",
       "      <th>csamt</th>\n",
       "      <th>inamt</th>\n",
       "      <th>cucsm</th>\n",
       "      <th>cucah</th>\n",
       "    </tr>\n",
       "  </thead>\n",
       "  <tbody>\n",
       "    <tr>\n",
       "      <th>0</th>\n",
       "      <td>0015cc01f553512007705edf855baa16f1b57a16fb107e...</td>\n",
       "      <td>3920.0</td>\n",
       "      <td>0</td>\n",
       "      <td>134614.0</td>\n",
       "      <td>32316.0</td>\n",
       "      <td>0.0</td>\n",
       "      <td>0.0</td>\n",
       "      <td>3148.0</td>\n",
       "      <td>16576.0</td>\n",
       "      <td>0.0</td>\n",
       "    </tr>\n",
       "    <tr>\n",
       "      <th>1</th>\n",
       "      <td>0015cc01f553512007705edf855baa16f1b57a16fb107e...</td>\n",
       "      <td>16576.0</td>\n",
       "      <td>30</td>\n",
       "      <td>134614.0</td>\n",
       "      <td>22280.0</td>\n",
       "      <td>0.0</td>\n",
       "      <td>0.0</td>\n",
       "      <td>3148.0</td>\n",
       "      <td>8653.0</td>\n",
       "      <td>0.0</td>\n",
       "    </tr>\n",
       "    <tr>\n",
       "      <th>2</th>\n",
       "      <td>0015cc01f553512007705edf855baa16f1b57a16fb107e...</td>\n",
       "      <td>8653.0</td>\n",
       "      <td>61</td>\n",
       "      <td>134614.0</td>\n",
       "      <td>14771.0</td>\n",
       "      <td>0.0</td>\n",
       "      <td>0.0</td>\n",
       "      <td>3148.0</td>\n",
       "      <td>5045.0</td>\n",
       "      <td>0.0</td>\n",
       "    </tr>\n",
       "    <tr>\n",
       "      <th>3</th>\n",
       "      <td>0015cc01f553512007705edf855baa16f1b57a16fb107e...</td>\n",
       "      <td>5045.0</td>\n",
       "      <td>91</td>\n",
       "      <td>134614.0</td>\n",
       "      <td>10954.0</td>\n",
       "      <td>0.0</td>\n",
       "      <td>0.0</td>\n",
       "      <td>3148.0</td>\n",
       "      <td>4334.0</td>\n",
       "      <td>0.0</td>\n",
       "    </tr>\n",
       "    <tr>\n",
       "      <th>4</th>\n",
       "      <td>0015cc01f553512007705edf855baa16f1b57a16fb107e...</td>\n",
       "      <td>4334.0</td>\n",
       "      <td>122</td>\n",
       "      <td>134614.0</td>\n",
       "      <td>7544.0</td>\n",
       "      <td>0.0</td>\n",
       "      <td>0.0</td>\n",
       "      <td>3148.0</td>\n",
       "      <td>4396.0</td>\n",
       "      <td>0.0</td>\n",
       "    </tr>\n",
       "  </tbody>\n",
       "</table>\n",
       "</div>"
      ],
      "text/plain": [
       "                                             cust_id    lupay  byymm  \\\n",
       "0  0015cc01f553512007705edf855baa16f1b57a16fb107e...   3920.0      0   \n",
       "1  0015cc01f553512007705edf855baa16f1b57a16fb107e...  16576.0     30   \n",
       "2  0015cc01f553512007705edf855baa16f1b57a16fb107e...   8653.0     61   \n",
       "3  0015cc01f553512007705edf855baa16f1b57a16fb107e...   5045.0     91   \n",
       "4  0015cc01f553512007705edf855baa16f1b57a16fb107e...   4334.0    122   \n",
       "\n",
       "      cycam    usgam  clamt  csamt   inamt    cucsm  cucah  \n",
       "0  134614.0  32316.0    0.0    0.0  3148.0  16576.0    0.0  \n",
       "1  134614.0  22280.0    0.0    0.0  3148.0   8653.0    0.0  \n",
       "2  134614.0  14771.0    0.0    0.0  3148.0   5045.0    0.0  \n",
       "3  134614.0  10954.0    0.0    0.0  3148.0   4334.0    0.0  \n",
       "4  134614.0   7544.0    0.0    0.0  3148.0   4396.0    0.0  "
      ]
     },
     "execution_count": 2,
     "metadata": {},
     "output_type": "execute_result"
    }
   ],
   "source": [
    "df1 = pd.read_csv(\"data/train_first/public_train_x_ccba_full_hashed.csv\")\n",
    "df1 = df1.sort_values([\"cust_id\", \"byymm\"]).reset_index(drop = True)\n",
    "print(df1.shape)\n",
    "print(\"cust_id:\", df1[\"cust_id\"].nunique())\n",
    "df1.head()"
   ]
  },
  {
   "cell_type": "code",
   "execution_count": 3,
   "metadata": {},
   "outputs": [
    {
     "data": {
      "text/plain": [
       "<AxesSubplot: >"
      ]
     },
     "execution_count": 3,
     "metadata": {},
     "output_type": "execute_result"
    },
    {
     "data": {
      "image/png": "[encoded data removed]",
      "text/plain": [
       "<Figure size 1000x400 with 1 Axes>"
      ]
     },
     "metadata": {},
     "output_type": "display_data"
    }
   ],
   "source": [
    "num_feats = ['lupay', 'cycam', 'usgam', 'clamt', 'csamt', 'inamt', 'cucsm', 'cucah']\n",
    "df1[num_feats].plot(kind = \"box\", figsize  = (10, 4))"
   ]
  },
  {
   "cell_type": "code",
   "execution_count": 4,
   "metadata": {},
   "outputs": [
    {
     "name": "stdout",
     "output_type": "stream",
     "text": [
      "(1043014, 5)\n",
      "cust_id: 3945\n"
     ]
    },
    {
     "data": {
      "text/html": [
       "<div>\n",
       "<style scoped>\n",
       "    .dataframe tbody tr th:only-of-type {\n",
       "        vertical-align: middle;\n",
       "    }\n",
       "\n",
       "    .dataframe tbody tr th {\n",
       "        vertical-align: top;\n",
       "    }\n",
       "\n",
       "    .dataframe thead th {\n",
       "        text-align: right;\n",
       "    }\n",
       "</style>\n",
       "<table border=\"1\" class=\"dataframe\">\n",
       "  <thead>\n",
       "    <tr style=\"text-align: right;\">\n",
       "      <th></th>\n",
       "      <th>cust_id</th>\n",
       "      <th>date</th>\n",
       "      <th>country</th>\n",
       "      <th>cur_type</th>\n",
       "      <th>amt</th>\n",
       "    </tr>\n",
       "  </thead>\n",
       "  <tbody>\n",
       "    <tr>\n",
       "      <th>0</th>\n",
       "      <td>0015cc01f553512007705edf855baa16f1b57a16fb107e...</td>\n",
       "      <td>21</td>\n",
       "      <td>130</td>\n",
       "      <td>47</td>\n",
       "      <td>13428.0</td>\n",
       "    </tr>\n",
       "    <tr>\n",
       "      <th>1</th>\n",
       "      <td>0015cc01f553512007705edf855baa16f1b57a16fb107e...</td>\n",
       "      <td>52</td>\n",
       "      <td>130</td>\n",
       "      <td>47</td>\n",
       "      <td>202.0</td>\n",
       "    </tr>\n",
       "    <tr>\n",
       "      <th>2</th>\n",
       "      <td>0015cc01f553512007705edf855baa16f1b57a16fb107e...</td>\n",
       "      <td>56</td>\n",
       "      <td>130</td>\n",
       "      <td>47</td>\n",
       "      <td>3624.0</td>\n",
       "    </tr>\n",
       "    <tr>\n",
       "      <th>3</th>\n",
       "      <td>0015cc01f553512007705edf855baa16f1b57a16fb107e...</td>\n",
       "      <td>59</td>\n",
       "      <td>130</td>\n",
       "      <td>47</td>\n",
       "      <td>175.0</td>\n",
       "    </tr>\n",
       "    <tr>\n",
       "      <th>4</th>\n",
       "      <td>0015cc01f553512007705edf855baa16f1b57a16fb107e...</td>\n",
       "      <td>62</td>\n",
       "      <td>130</td>\n",
       "      <td>47</td>\n",
       "      <td>128.0</td>\n",
       "    </tr>\n",
       "  </tbody>\n",
       "</table>\n",
       "</div>"
      ],
      "text/plain": [
       "                                             cust_id  date  country  cur_type  \\\n",
       "0  0015cc01f553512007705edf855baa16f1b57a16fb107e...    21      130        47   \n",
       "1  0015cc01f553512007705edf855baa16f1b57a16fb107e...    52      130        47   \n",
       "2  0015cc01f553512007705edf855baa16f1b57a16fb107e...    56      130        47   \n",
       "3  0015cc01f553512007705edf855baa16f1b57a16fb107e...    59      130        47   \n",
       "4  0015cc01f553512007705edf855baa16f1b57a16fb107e...    62      130        47   \n",
       "\n",
       "       amt  \n",
       "0  13428.0  \n",
       "1    202.0  \n",
       "2   3624.0  \n",
       "3    175.0  \n",
       "4    128.0  "
      ]
     },
     "execution_count": 4,
     "metadata": {},
     "output_type": "execute_result"
    }
   ],
   "source": [
    "df2 = pd.read_csv(\"data/train_first/public_train_x_cdtx0001_full_hashed.csv\")\n",
    "df2 = df2.sort_values([\"cust_id\", \"date\"]).reset_index(drop = True)\n",
    "print(df2.shape)\n",
    "print(\"cust_id:\", df2[\"cust_id\"].nunique())\n",
    "df2.head()"
   ]
  },
  {
   "cell_type": "code",
   "execution_count": 5,
   "metadata": {},
   "outputs": [
    {
     "data": {
      "image/png": "[encoded data removed]",
      "text/plain": [
       "<Figure size 1000x400 with 2 Axes>"
      ]
     },
     "metadata": {},
     "output_type": "display_data"
    }
   ],
   "source": [
    "feats = [\"country\", \"cur_type\"]\n",
    "k = 0\n",
    "a, b = 1, 2\n",
    "fig, ax = plt.subplots(a, b, figsize = (10, 4))\n",
    "for j in range(b):\n",
    "    try:\n",
    "        count = df2.groupby(feats[k]).size().sort_values().iloc[-10:]\n",
    "\n",
    "        count = count.reset_index()\n",
    "        sns.barplot(x = feats[k], y = 0, data = count, ax = ax[j])\n",
    "        ax[j].set(xlabel = f\"{feats[k]} (top 10)\", ylabel = None)\n",
    "        k += 1\n",
    "    except:\n",
    "        continue"
   ]
  },
  {
   "cell_type": "code",
   "execution_count": 6,
   "metadata": {},
   "outputs": [
    {
     "data": {
      "text/plain": [
       "<AxesSubplot: >"
      ]
     },
     "execution_count": 6,
     "metadata": {},
     "output_type": "execute_result"
    },
    {
     "data": {
      "image/png": "[encoded data removed]",
      "text/plain": [
       "<Figure size 300x400 with 1 Axes>"
      ]
     },
     "metadata": {},
     "output_type": "display_data"
    }
   ],
   "source": [
    "df2[\"amt\"].plot(kind = \"box\", figsize  = (3, 4))"
   ]
  },
  {
   "cell_type": "code",
   "execution_count": 7,
   "metadata": {},
   "outputs": [
    {
     "name": "stdout",
     "output_type": "stream",
     "text": [
      "(25751, 6)\n",
      "cust_id: 7708\n"
     ]
    },
    {
     "data": {
      "text/html": [
       "<div>\n",
       "<style scoped>\n",
       "    .dataframe tbody tr th:only-of-type {\n",
       "        vertical-align: middle;\n",
       "    }\n",
       "\n",
       "    .dataframe tbody tr th {\n",
       "        vertical-align: top;\n",
       "    }\n",
       "\n",
       "    .dataframe thead th {\n",
       "        text-align: right;\n",
       "    }\n",
       "</style>\n",
       "<table border=\"1\" class=\"dataframe\">\n",
       "  <thead>\n",
       "    <tr style=\"text-align: right;\">\n",
       "      <th></th>\n",
       "      <th>alert_key</th>\n",
       "      <th>cust_id</th>\n",
       "      <th>risk_rank</th>\n",
       "      <th>occupation_code</th>\n",
       "      <th>total_asset</th>\n",
       "      <th>AGE</th>\n",
       "    </tr>\n",
       "  </thead>\n",
       "  <tbody>\n",
       "    <tr>\n",
       "      <th>0</th>\n",
       "      <td>352249</td>\n",
       "      <td>82595ac69158ae08d34156784bdec0d9e2ca5b242b6d2a...</td>\n",
       "      <td>1</td>\n",
       "      <td>19.0</td>\n",
       "      <td>1465816.0</td>\n",
       "      <td>7</td>\n",
       "    </tr>\n",
       "    <tr>\n",
       "      <th>1</th>\n",
       "      <td>352253</td>\n",
       "      <td>b212d14cb35676926682b2cf849e295d948888f556c07e...</td>\n",
       "      <td>1</td>\n",
       "      <td>2.0</td>\n",
       "      <td>98177.0</td>\n",
       "      <td>2</td>\n",
       "    </tr>\n",
       "    <tr>\n",
       "      <th>2</th>\n",
       "      <td>352254</td>\n",
       "      <td>e5b0002791c7852644a2730abeaa893cdf14a072ef7812...</td>\n",
       "      <td>1</td>\n",
       "      <td>19.0</td>\n",
       "      <td>2052922.0</td>\n",
       "      <td>7</td>\n",
       "    </tr>\n",
       "    <tr>\n",
       "      <th>3</th>\n",
       "      <td>352280</td>\n",
       "      <td>74214c478dc6519fbefe4bc31693865bdcd698ab974b64...</td>\n",
       "      <td>3</td>\n",
       "      <td>15.0</td>\n",
       "      <td>201906.0</td>\n",
       "      <td>5</td>\n",
       "    </tr>\n",
       "    <tr>\n",
       "      <th>4</th>\n",
       "      <td>352282</td>\n",
       "      <td>0340e7611f0d82c3cb87e6194fa14bb2ccf8afbf1b3418...</td>\n",
       "      <td>1</td>\n",
       "      <td>12.0</td>\n",
       "      <td>7450.0</td>\n",
       "      <td>5</td>\n",
       "    </tr>\n",
       "  </tbody>\n",
       "</table>\n",
       "</div>"
      ],
      "text/plain": [
       "   alert_key                                            cust_id  risk_rank  \\\n",
       "0     352249  82595ac69158ae08d34156784bdec0d9e2ca5b242b6d2a...          1   \n",
       "1     352253  b212d14cb35676926682b2cf849e295d948888f556c07e...          1   \n",
       "2     352254  e5b0002791c7852644a2730abeaa893cdf14a072ef7812...          1   \n",
       "3     352280  74214c478dc6519fbefe4bc31693865bdcd698ab974b64...          3   \n",
       "4     352282  0340e7611f0d82c3cb87e6194fa14bb2ccf8afbf1b3418...          1   \n",
       "\n",
       "   occupation_code  total_asset  AGE  \n",
       "0             19.0    1465816.0    7  \n",
       "1              2.0      98177.0    2  \n",
       "2             19.0    2052922.0    7  \n",
       "3             15.0     201906.0    5  \n",
       "4             12.0       7450.0    5  "
      ]
     },
     "execution_count": 7,
     "metadata": {},
     "output_type": "execute_result"
    }
   ],
   "source": [
    "df3 = pd.read_csv(\"data/train_first/public_train_x_custinfo_full_hashed.csv\")\n",
    "print(df3.shape)\n",
    "print(\"cust_id:\", df3[\"cust_id\"].nunique())\n",
    "df3.head()"
   ]
  },
  {
   "cell_type": "code",
   "execution_count": 8,
   "metadata": {},
   "outputs": [
    {
     "name": "stdout",
     "output_type": "stream",
     "text": [
      "(1969818, 12)\n",
      "cust_id: 6196\n"
     ]
    },
    {
     "data": {
      "text/html": [
       "<div>\n",
       "<style scoped>\n",
       "    .dataframe tbody tr th:only-of-type {\n",
       "        vertical-align: middle;\n",
       "    }\n",
       "\n",
       "    .dataframe tbody tr th {\n",
       "        vertical-align: top;\n",
       "    }\n",
       "\n",
       "    .dataframe thead th {\n",
       "        text-align: right;\n",
       "    }\n",
       "</style>\n",
       "<table border=\"1\" class=\"dataframe\">\n",
       "  <thead>\n",
       "    <tr style=\"text-align: right;\">\n",
       "      <th></th>\n",
       "      <th>cust_id</th>\n",
       "      <th>debit_credit</th>\n",
       "      <th>tx_date</th>\n",
       "      <th>tx_time</th>\n",
       "      <th>tx_type</th>\n",
       "      <th>tx_amt</th>\n",
       "      <th>exchg_rate</th>\n",
       "      <th>info_asset_code</th>\n",
       "      <th>fiscTxId</th>\n",
       "      <th>txbranch</th>\n",
       "      <th>cross_bank</th>\n",
       "      <th>ATM</th>\n",
       "    </tr>\n",
       "  </thead>\n",
       "  <tbody>\n",
       "    <tr>\n",
       "      <th>0</th>\n",
       "      <td>0015cc01f553512007705edf855baa16f1b57a16fb107e...</td>\n",
       "      <td>CR</td>\n",
       "      <td>11</td>\n",
       "      <td>15</td>\n",
       "      <td>2</td>\n",
       "      <td>826.0</td>\n",
       "      <td>1.000</td>\n",
       "      <td>13</td>\n",
       "      <td>4.0</td>\n",
       "      <td>145.0</td>\n",
       "      <td>1</td>\n",
       "      <td>1</td>\n",
       "    </tr>\n",
       "    <tr>\n",
       "      <th>1</th>\n",
       "      <td>0015cc01f553512007705edf855baa16f1b57a16fb107e...</td>\n",
       "      <td>DB</td>\n",
       "      <td>18</td>\n",
       "      <td>1</td>\n",
       "      <td>2</td>\n",
       "      <td>516.0</td>\n",
       "      <td>1.000</td>\n",
       "      <td>16</td>\n",
       "      <td>NaN</td>\n",
       "      <td>NaN</td>\n",
       "      <td>0</td>\n",
       "      <td>0</td>\n",
       "    </tr>\n",
       "    <tr>\n",
       "      <th>2</th>\n",
       "      <td>0015cc01f553512007705edf855baa16f1b57a16fb107e...</td>\n",
       "      <td>CR</td>\n",
       "      <td>35</td>\n",
       "      <td>15</td>\n",
       "      <td>2</td>\n",
       "      <td>4720.0</td>\n",
       "      <td>27.995</td>\n",
       "      <td>20</td>\n",
       "      <td>NaN</td>\n",
       "      <td>NaN</td>\n",
       "      <td>0</td>\n",
       "      <td>1</td>\n",
       "    </tr>\n",
       "    <tr>\n",
       "      <th>3</th>\n",
       "      <td>0015cc01f553512007705edf855baa16f1b57a16fb107e...</td>\n",
       "      <td>DB</td>\n",
       "      <td>35</td>\n",
       "      <td>15</td>\n",
       "      <td>2</td>\n",
       "      <td>526.0</td>\n",
       "      <td>27.995</td>\n",
       "      <td>20</td>\n",
       "      <td>NaN</td>\n",
       "      <td>NaN</td>\n",
       "      <td>0</td>\n",
       "      <td>1</td>\n",
       "    </tr>\n",
       "    <tr>\n",
       "      <th>4</th>\n",
       "      <td>0015cc01f553512007705edf855baa16f1b57a16fb107e...</td>\n",
       "      <td>CR</td>\n",
       "      <td>42</td>\n",
       "      <td>10</td>\n",
       "      <td>2</td>\n",
       "      <td>2064.0</td>\n",
       "      <td>1.000</td>\n",
       "      <td>13</td>\n",
       "      <td>4.0</td>\n",
       "      <td>145.0</td>\n",
       "      <td>1</td>\n",
       "      <td>1</td>\n",
       "    </tr>\n",
       "  </tbody>\n",
       "</table>\n",
       "</div>"
      ],
      "text/plain": [
       "                                             cust_id debit_credit  tx_date  \\\n",
       "0  0015cc01f553512007705edf855baa16f1b57a16fb107e...           CR       11   \n",
       "1  0015cc01f553512007705edf855baa16f1b57a16fb107e...           DB       18   \n",
       "2  0015cc01f553512007705edf855baa16f1b57a16fb107e...           CR       35   \n",
       "3  0015cc01f553512007705edf855baa16f1b57a16fb107e...           DB       35   \n",
       "4  0015cc01f553512007705edf855baa16f1b57a16fb107e...           CR       42   \n",
       "\n",
       "   tx_time  tx_type  tx_amt  exchg_rate  info_asset_code  fiscTxId  txbranch  \\\n",
       "0       15        2   826.0       1.000               13       4.0     145.0   \n",
       "1        1        2   516.0       1.000               16       NaN       NaN   \n",
       "2       15        2  4720.0      27.995               20       NaN       NaN   \n",
       "3       15        2   526.0      27.995               20       NaN       NaN   \n",
       "4       10        2  2064.0       1.000               13       4.0     145.0   \n",
       "\n",
       "   cross_bank  ATM  \n",
       "0           1    1  \n",
       "1           0    0  \n",
       "2           0    1  \n",
       "3           0    1  \n",
       "4           1    1  "
      ]
     },
     "execution_count": 8,
     "metadata": {},
     "output_type": "execute_result"
    }
   ],
   "source": [
    "df4 = pd.read_csv(\"data/train_first/public_train_x_dp_full_hashed.csv\")\n",
    "df4 = df4.sort_values([\"cust_id\", \"tx_date\", \"tx_time\"]).reset_index(drop = True)\n",
    "print(df4.shape)\n",
    "print(\"cust_id:\", df4[\"cust_id\"].nunique())\n",
    "df4.head()"
   ]
  },
  {
   "cell_type": "code",
   "execution_count": 9,
   "metadata": {},
   "outputs": [
    {
     "name": "stdout",
     "output_type": "stream",
     "text": [
      "(17167, 4)\n",
      "cust_id: 1144\n"
     ]
    },
    {
     "data": {
      "text/html": [
       "<div>\n",
       "<style scoped>\n",
       "    .dataframe tbody tr th:only-of-type {\n",
       "        vertical-align: middle;\n",
       "    }\n",
       "\n",
       "    .dataframe tbody tr th {\n",
       "        vertical-align: top;\n",
       "    }\n",
       "\n",
       "    .dataframe thead th {\n",
       "        text-align: right;\n",
       "    }\n",
       "</style>\n",
       "<table border=\"1\" class=\"dataframe\">\n",
       "  <thead>\n",
       "    <tr style=\"text-align: right;\">\n",
       "      <th></th>\n",
       "      <th>cust_id</th>\n",
       "      <th>trans_date</th>\n",
       "      <th>trans_no</th>\n",
       "      <th>trade_amount_usd</th>\n",
       "    </tr>\n",
       "  </thead>\n",
       "  <tbody>\n",
       "    <tr>\n",
       "      <th>0</th>\n",
       "      <td>002f13f534d0bd9fcc1848db3ff5c7b1179d117f8de805...</td>\n",
       "      <td>153</td>\n",
       "      <td>4</td>\n",
       "      <td>343647.0</td>\n",
       "    </tr>\n",
       "    <tr>\n",
       "      <th>1</th>\n",
       "      <td>0032adaf4a8731b4d6a3fdcba32f9ebdcd336490eda155...</td>\n",
       "      <td>223</td>\n",
       "      <td>3</td>\n",
       "      <td>6071.0</td>\n",
       "    </tr>\n",
       "    <tr>\n",
       "      <th>2</th>\n",
       "      <td>0032adaf4a8731b4d6a3fdcba32f9ebdcd336490eda155...</td>\n",
       "      <td>312</td>\n",
       "      <td>4</td>\n",
       "      <td>60024.0</td>\n",
       "    </tr>\n",
       "    <tr>\n",
       "      <th>3</th>\n",
       "      <td>0032adaf4a8731b4d6a3fdcba32f9ebdcd336490eda155...</td>\n",
       "      <td>328</td>\n",
       "      <td>4</td>\n",
       "      <td>531413.0</td>\n",
       "    </tr>\n",
       "    <tr>\n",
       "      <th>4</th>\n",
       "      <td>0032adaf4a8731b4d6a3fdcba32f9ebdcd336490eda155...</td>\n",
       "      <td>356</td>\n",
       "      <td>0</td>\n",
       "      <td>2109.0</td>\n",
       "    </tr>\n",
       "  </tbody>\n",
       "</table>\n",
       "</div>"
      ],
      "text/plain": [
       "                                             cust_id  trans_date  trans_no  \\\n",
       "0  002f13f534d0bd9fcc1848db3ff5c7b1179d117f8de805...         153         4   \n",
       "1  0032adaf4a8731b4d6a3fdcba32f9ebdcd336490eda155...         223         3   \n",
       "2  0032adaf4a8731b4d6a3fdcba32f9ebdcd336490eda155...         312         4   \n",
       "3  0032adaf4a8731b4d6a3fdcba32f9ebdcd336490eda155...         328         4   \n",
       "4  0032adaf4a8731b4d6a3fdcba32f9ebdcd336490eda155...         356         0   \n",
       "\n",
       "   trade_amount_usd  \n",
       "0          343647.0  \n",
       "1            6071.0  \n",
       "2           60024.0  \n",
       "3          531413.0  \n",
       "4            2109.0  "
      ]
     },
     "execution_count": 9,
     "metadata": {},
     "output_type": "execute_result"
    }
   ],
   "source": [
    "df5 = pd.read_csv(\"data/train_first/public_train_x_remit1_full_hashed.csv\")\n",
    "df5 = df5.sort_values([\"cust_id\", \"trans_date\"]).reset_index(drop = True)\n",
    "print(df5.shape)\n",
    "print(\"cust_id:\", df5[\"cust_id\"].nunique())\n",
    "df5.head()"
   ]
  },
  {
   "cell_type": "code",
   "execution_count": 10,
   "metadata": {},
   "outputs": [
    {
     "data": {
      "text/plain": [
       "<AxesSubplot: xlabel='trans_no', ylabel='count'>"
      ]
     },
     "execution_count": 10,
     "metadata": {},
     "output_type": "execute_result"
    },
    {
     "data": {
      "image/png": "[encoded data removed]",
      "text/plain": [
       "<Figure size 500x400 with 1 Axes>"
      ]
     },
     "metadata": {},
     "output_type": "display_data"
    }
   ],
   "source": [
    "plt.figure(figsize = (5, 4))\n",
    "sns.countplot(data = df5, x = \"trans_no\")"
   ]
  },
  {
   "cell_type": "code",
   "execution_count": 11,
   "metadata": {},
   "outputs": [
    {
     "data": {
      "text/plain": [
       "<AxesSubplot: >"
      ]
     },
     "execution_count": 11,
     "metadata": {},
     "output_type": "execute_result"
    },
    {
     "data": {
      "image/png": "[encoded data removed]",
      "text/plain": [
       "<Figure size 300x400 with 1 Axes>"
      ]
     },
     "metadata": {},
     "output_type": "display_data"
    }
   ],
   "source": [
    "df5[\"trade_amount_usd\"].plot(kind = \"box\", figsize  = (3, 4))"
   ]
  },
  {
   "cell_type": "code",
   "execution_count": 12,
   "metadata": {},
   "outputs": [
    {
     "data": {
      "text/plain": [
       "<AxesSubplot: ylabel='Density'>"
      ]
     },
     "execution_count": 12,
     "metadata": {},
     "output_type": "execute_result"
    },
    {
     "data": {
      "image/png": "[encoded data removed]",
      "text/plain": [
       "<Figure size 300x400 with 1 Axes>"
      ]
     },
     "metadata": {},
     "output_type": "display_data"
    }
   ],
   "source": [
    "df5[\"trade_amount_usd\"].plot(kind = \"kde\", figsize  = (3, 4))"
   ]
  },
  {
   "cell_type": "code",
   "execution_count": 13,
   "metadata": {},
   "outputs": [
    {
     "name": "stdout",
     "output_type": "stream",
     "text": [
      "(1845, 2)\n"
     ]
    },
    {
     "data": {
      "text/html": [
       "<div>\n",
       "<style scoped>\n",
       "    .dataframe tbody tr th:only-of-type {\n",
       "        vertical-align: middle;\n",
       "    }\n",
       "\n",
       "    .dataframe tbody tr th {\n",
       "        vertical-align: top;\n",
       "    }\n",
       "\n",
       "    .dataframe thead th {\n",
       "        text-align: right;\n",
       "    }\n",
       "</style>\n",
       "<table border=\"1\" class=\"dataframe\">\n",
       "  <thead>\n",
       "    <tr style=\"text-align: right;\">\n",
       "      <th></th>\n",
       "      <th>alert_key</th>\n",
       "      <th>date</th>\n",
       "    </tr>\n",
       "  </thead>\n",
       "  <tbody>\n",
       "    <tr>\n",
       "      <th>0</th>\n",
       "      <td>352249</td>\n",
       "      <td>365</td>\n",
       "    </tr>\n",
       "    <tr>\n",
       "      <th>1</th>\n",
       "      <td>352253</td>\n",
       "      <td>365</td>\n",
       "    </tr>\n",
       "    <tr>\n",
       "      <th>2</th>\n",
       "      <td>352254</td>\n",
       "      <td>365</td>\n",
       "    </tr>\n",
       "    <tr>\n",
       "      <th>3</th>\n",
       "      <td>352280</td>\n",
       "      <td>365</td>\n",
       "    </tr>\n",
       "    <tr>\n",
       "      <th>4</th>\n",
       "      <td>352282</td>\n",
       "      <td>365</td>\n",
       "    </tr>\n",
       "  </tbody>\n",
       "</table>\n",
       "</div>"
      ],
      "text/plain": [
       "   alert_key  date\n",
       "0     352249   365\n",
       "1     352253   365\n",
       "2     352254   365\n",
       "3     352280   365\n",
       "4     352282   365"
      ]
     },
     "execution_count": 13,
     "metadata": {},
     "output_type": "execute_result"
    }
   ],
   "source": [
    "df6 = pd.read_csv(\"data/train_first/public_x_alert_date.csv\")\n",
    "df6 = df6.sort_values(\"alert_key\").reset_index(drop = True)\n",
    "print(df6.shape)\n",
    "df6.head()"
   ]
  },
  {
   "cell_type": "code",
   "execution_count": 14,
   "metadata": {},
   "outputs": [
    {
     "name": "stdout",
     "output_type": "stream",
     "text": [
      "(23906, 2)\n"
     ]
    },
    {
     "data": {
      "text/html": [
       "<div>\n",
       "<style scoped>\n",
       "    .dataframe tbody tr th:only-of-type {\n",
       "        vertical-align: middle;\n",
       "    }\n",
       "\n",
       "    .dataframe tbody tr th {\n",
       "        vertical-align: top;\n",
       "    }\n",
       "\n",
       "    .dataframe thead th {\n",
       "        text-align: right;\n",
       "    }\n",
       "</style>\n",
       "<table border=\"1\" class=\"dataframe\">\n",
       "  <thead>\n",
       "    <tr style=\"text-align: right;\">\n",
       "      <th></th>\n",
       "      <th>alert_key</th>\n",
       "      <th>date</th>\n",
       "    </tr>\n",
       "  </thead>\n",
       "  <tbody>\n",
       "    <tr>\n",
       "      <th>0</th>\n",
       "      <td>171142</td>\n",
       "      <td>0</td>\n",
       "    </tr>\n",
       "    <tr>\n",
       "      <th>1</th>\n",
       "      <td>171152</td>\n",
       "      <td>0</td>\n",
       "    </tr>\n",
       "    <tr>\n",
       "      <th>2</th>\n",
       "      <td>171177</td>\n",
       "      <td>0</td>\n",
       "    </tr>\n",
       "    <tr>\n",
       "      <th>3</th>\n",
       "      <td>171178</td>\n",
       "      <td>0</td>\n",
       "    </tr>\n",
       "    <tr>\n",
       "      <th>4</th>\n",
       "      <td>171180</td>\n",
       "      <td>0</td>\n",
       "    </tr>\n",
       "  </tbody>\n",
       "</table>\n",
       "</div>"
      ],
      "text/plain": [
       "   alert_key  date\n",
       "0     171142     0\n",
       "1     171152     0\n",
       "2     171177     0\n",
       "3     171178     0\n",
       "4     171180     0"
      ]
     },
     "execution_count": 14,
     "metadata": {},
     "output_type": "execute_result"
    }
   ],
   "source": [
    "df7 = pd.read_csv(\"data/train_first/train_x_alert_date.csv\")\n",
    "df7 = df7.sort_values(\"alert_key\").reset_index(drop = True)\n",
    "print(df7.shape)\n",
    "df7.head()"
   ]
  },
  {
   "cell_type": "code",
   "execution_count": 15,
   "metadata": {},
   "outputs": [
    {
     "name": "stdout",
     "output_type": "stream",
     "text": [
      "(23906, 2)\n"
     ]
    },
    {
     "data": {
      "text/html": [
       "<div>\n",
       "<style scoped>\n",
       "    .dataframe tbody tr th:only-of-type {\n",
       "        vertical-align: middle;\n",
       "    }\n",
       "\n",
       "    .dataframe tbody tr th {\n",
       "        vertical-align: top;\n",
       "    }\n",
       "\n",
       "    .dataframe thead th {\n",
       "        text-align: right;\n",
       "    }\n",
       "</style>\n",
       "<table border=\"1\" class=\"dataframe\">\n",
       "  <thead>\n",
       "    <tr style=\"text-align: right;\">\n",
       "      <th></th>\n",
       "      <th>alert_key</th>\n",
       "      <th>sar_flag</th>\n",
       "    </tr>\n",
       "  </thead>\n",
       "  <tbody>\n",
       "    <tr>\n",
       "      <th>0</th>\n",
       "      <td>171142</td>\n",
       "      <td>0</td>\n",
       "    </tr>\n",
       "    <tr>\n",
       "      <th>1</th>\n",
       "      <td>171152</td>\n",
       "      <td>0</td>\n",
       "    </tr>\n",
       "    <tr>\n",
       "      <th>2</th>\n",
       "      <td>171177</td>\n",
       "      <td>0</td>\n",
       "    </tr>\n",
       "    <tr>\n",
       "      <th>3</th>\n",
       "      <td>171178</td>\n",
       "      <td>0</td>\n",
       "    </tr>\n",
       "    <tr>\n",
       "      <th>4</th>\n",
       "      <td>171180</td>\n",
       "      <td>0</td>\n",
       "    </tr>\n",
       "  </tbody>\n",
       "</table>\n",
       "</div>"
      ],
      "text/plain": [
       "   alert_key  sar_flag\n",
       "0     171142         0\n",
       "1     171152         0\n",
       "2     171177         0\n",
       "3     171178         0\n",
       "4     171180         0"
      ]
     },
     "execution_count": 15,
     "metadata": {},
     "output_type": "execute_result"
    }
   ],
   "source": [
    "df8 = pd.read_csv(\"data/train_first/train_y_answer.csv\")\n",
    "df8 = df8.sort_values(\"alert_key\").reset_index(drop = True)\n",
    "print(df8.shape)\n",
    "df8.head()"
   ]
  },
  {
   "cell_type": "code",
   "execution_count": 16,
   "metadata": {},
   "outputs": [
    {
     "name": "stdout",
     "output_type": "stream",
     "text": [
      "(3850, 2)\n"
     ]
    },
    {
     "data": {
      "text/html": [
       "<div>\n",
       "<style scoped>\n",
       "    .dataframe tbody tr th:only-of-type {\n",
       "        vertical-align: middle;\n",
       "    }\n",
       "\n",
       "    .dataframe tbody tr th {\n",
       "        vertical-align: top;\n",
       "    }\n",
       "\n",
       "    .dataframe thead th {\n",
       "        text-align: right;\n",
       "    }\n",
       "</style>\n",
       "<table border=\"1\" class=\"dataframe\">\n",
       "  <thead>\n",
       "    <tr style=\"text-align: right;\">\n",
       "      <th></th>\n",
       "      <th>alert_key</th>\n",
       "      <th>probability</th>\n",
       "    </tr>\n",
       "  </thead>\n",
       "  <tbody>\n",
       "    <tr>\n",
       "      <th>0</th>\n",
       "      <td>352249</td>\n",
       "      <td>0.098923</td>\n",
       "    </tr>\n",
       "    <tr>\n",
       "      <th>1</th>\n",
       "      <td>352253</td>\n",
       "      <td>0.344260</td>\n",
       "    </tr>\n",
       "    <tr>\n",
       "      <th>2</th>\n",
       "      <td>352254</td>\n",
       "      <td>0.177932</td>\n",
       "    </tr>\n",
       "    <tr>\n",
       "      <th>3</th>\n",
       "      <td>352280</td>\n",
       "      <td>0.784828</td>\n",
       "    </tr>\n",
       "    <tr>\n",
       "      <th>4</th>\n",
       "      <td>352282</td>\n",
       "      <td>0.949316</td>\n",
       "    </tr>\n",
       "  </tbody>\n",
       "</table>\n",
       "</div>"
      ],
      "text/plain": [
       "   alert_key  probability\n",
       "0     352249     0.098923\n",
       "1     352253     0.344260\n",
       "2     352254     0.177932\n",
       "3     352280     0.784828\n",
       "4     352282     0.949316"
      ]
     },
     "execution_count": 16,
     "metadata": {},
     "output_type": "execute_result"
    }
   ],
   "source": [
    "df9 = pd.read_csv(\"data/submit/預測的案件名單及提交檔案範例.csv\")\n",
    "df9 = df9.sort_values(\"alert_key\").reset_index(drop = True)\n",
    "print(df9.shape)\n",
    "df9.head()"
   ]
  },
  {
   "cell_type": "markdown",
   "metadata": {},
   "source": [
    "### custinfo(df3) - 基本資料 & alert_time(df6、df7) & y(df8) - 洗錢資料"
   ]
  },
  {
   "cell_type": "code",
   "execution_count": 17,
   "metadata": {},
   "outputs": [
    {
     "data": {
      "text/html": [
       "<div>\n",
       "<style scoped>\n",
       "    .dataframe tbody tr th:only-of-type {\n",
       "        vertical-align: middle;\n",
       "    }\n",
       "\n",
       "    .dataframe tbody tr th {\n",
       "        vertical-align: top;\n",
       "    }\n",
       "\n",
       "    .dataframe thead th {\n",
       "        text-align: right;\n",
       "    }\n",
       "</style>\n",
       "<table border=\"1\" class=\"dataframe\">\n",
       "  <thead>\n",
       "    <tr style=\"text-align: right;\">\n",
       "      <th></th>\n",
       "      <th>alert_key</th>\n",
       "      <th>date</th>\n",
       "      <th>sar_flag</th>\n",
       "    </tr>\n",
       "  </thead>\n",
       "  <tbody>\n",
       "    <tr>\n",
       "      <th>0</th>\n",
       "      <td>171142</td>\n",
       "      <td>0</td>\n",
       "      <td>0</td>\n",
       "    </tr>\n",
       "    <tr>\n",
       "      <th>1</th>\n",
       "      <td>171152</td>\n",
       "      <td>0</td>\n",
       "      <td>0</td>\n",
       "    </tr>\n",
       "    <tr>\n",
       "      <th>2</th>\n",
       "      <td>171177</td>\n",
       "      <td>0</td>\n",
       "      <td>0</td>\n",
       "    </tr>\n",
       "    <tr>\n",
       "      <th>3</th>\n",
       "      <td>171178</td>\n",
       "      <td>0</td>\n",
       "      <td>0</td>\n",
       "    </tr>\n",
       "    <tr>\n",
       "      <th>4</th>\n",
       "      <td>171180</td>\n",
       "      <td>0</td>\n",
       "      <td>0</td>\n",
       "    </tr>\n",
       "    <tr>\n",
       "      <th>...</th>\n",
       "      <td>...</td>\n",
       "      <td>...</td>\n",
       "      <td>...</td>\n",
       "    </tr>\n",
       "    <tr>\n",
       "      <th>23901</th>\n",
       "      <td>352123</td>\n",
       "      <td>364</td>\n",
       "      <td>0</td>\n",
       "    </tr>\n",
       "    <tr>\n",
       "      <th>23902</th>\n",
       "      <td>352124</td>\n",
       "      <td>364</td>\n",
       "      <td>0</td>\n",
       "    </tr>\n",
       "    <tr>\n",
       "      <th>23903</th>\n",
       "      <td>352125</td>\n",
       "      <td>364</td>\n",
       "      <td>0</td>\n",
       "    </tr>\n",
       "    <tr>\n",
       "      <th>23904</th>\n",
       "      <td>352128</td>\n",
       "      <td>364</td>\n",
       "      <td>0</td>\n",
       "    </tr>\n",
       "    <tr>\n",
       "      <th>23905</th>\n",
       "      <td>352132</td>\n",
       "      <td>364</td>\n",
       "      <td>0</td>\n",
       "    </tr>\n",
       "  </tbody>\n",
       "</table>\n",
       "<p>23906 rows × 3 columns</p>\n",
       "</div>"
      ],
      "text/plain": [
       "       alert_key  date  sar_flag\n",
       "0         171142     0         0\n",
       "1         171152     0         0\n",
       "2         171177     0         0\n",
       "3         171178     0         0\n",
       "4         171180     0         0\n",
       "...          ...   ...       ...\n",
       "23901     352123   364         0\n",
       "23902     352124   364         0\n",
       "23903     352125   364         0\n",
       "23904     352128   364         0\n",
       "23905     352132   364         0\n",
       "\n",
       "[23906 rows x 3 columns]"
      ]
     },
     "execution_count": 17,
     "metadata": {},
     "output_type": "execute_result"
    }
   ],
   "source": [
    "y_train = pd.merge(df7, df8, on = \"alert_key\")\n",
    "y_train"
   ]
  },
  {
   "cell_type": "code",
   "execution_count": 18,
   "metadata": {},
   "outputs": [
    {
     "data": {
      "text/html": [
       "<div>\n",
       "<style scoped>\n",
       "    .dataframe tbody tr th:only-of-type {\n",
       "        vertical-align: middle;\n",
       "    }\n",
       "\n",
       "    .dataframe tbody tr th {\n",
       "        vertical-align: top;\n",
       "    }\n",
       "\n",
       "    .dataframe thead th {\n",
       "        text-align: right;\n",
       "    }\n",
       "</style>\n",
       "<table border=\"1\" class=\"dataframe\">\n",
       "  <thead>\n",
       "    <tr style=\"text-align: right;\">\n",
       "      <th></th>\n",
       "      <th>alert_key</th>\n",
       "      <th>date</th>\n",
       "      <th>sar_flag</th>\n",
       "    </tr>\n",
       "  </thead>\n",
       "  <tbody>\n",
       "    <tr>\n",
       "      <th>0</th>\n",
       "      <td>352249</td>\n",
       "      <td>365</td>\n",
       "      <td>None</td>\n",
       "    </tr>\n",
       "    <tr>\n",
       "      <th>1</th>\n",
       "      <td>352253</td>\n",
       "      <td>365</td>\n",
       "      <td>None</td>\n",
       "    </tr>\n",
       "    <tr>\n",
       "      <th>2</th>\n",
       "      <td>352254</td>\n",
       "      <td>365</td>\n",
       "      <td>None</td>\n",
       "    </tr>\n",
       "    <tr>\n",
       "      <th>3</th>\n",
       "      <td>352280</td>\n",
       "      <td>365</td>\n",
       "      <td>None</td>\n",
       "    </tr>\n",
       "    <tr>\n",
       "      <th>4</th>\n",
       "      <td>352282</td>\n",
       "      <td>365</td>\n",
       "      <td>None</td>\n",
       "    </tr>\n",
       "    <tr>\n",
       "      <th>...</th>\n",
       "      <td>...</td>\n",
       "      <td>...</td>\n",
       "      <td>...</td>\n",
       "    </tr>\n",
       "    <tr>\n",
       "      <th>1840</th>\n",
       "      <td>365001</td>\n",
       "      <td>393</td>\n",
       "      <td>None</td>\n",
       "    </tr>\n",
       "    <tr>\n",
       "      <th>1841</th>\n",
       "      <td>365004</td>\n",
       "      <td>393</td>\n",
       "      <td>None</td>\n",
       "    </tr>\n",
       "    <tr>\n",
       "      <th>1842</th>\n",
       "      <td>365008</td>\n",
       "      <td>393</td>\n",
       "      <td>None</td>\n",
       "    </tr>\n",
       "    <tr>\n",
       "      <th>1843</th>\n",
       "      <td>365009</td>\n",
       "      <td>393</td>\n",
       "      <td>None</td>\n",
       "    </tr>\n",
       "    <tr>\n",
       "      <th>1844</th>\n",
       "      <td>365073</td>\n",
       "      <td>393</td>\n",
       "      <td>None</td>\n",
       "    </tr>\n",
       "  </tbody>\n",
       "</table>\n",
       "<p>1845 rows × 3 columns</p>\n",
       "</div>"
      ],
      "text/plain": [
       "      alert_key  date sar_flag\n",
       "0        352249   365     None\n",
       "1        352253   365     None\n",
       "2        352254   365     None\n",
       "3        352280   365     None\n",
       "4        352282   365     None\n",
       "...         ...   ...      ...\n",
       "1840     365001   393     None\n",
       "1841     365004   393     None\n",
       "1842     365008   393     None\n",
       "1843     365009   393     None\n",
       "1844     365073   393     None\n",
       "\n",
       "[1845 rows x 3 columns]"
      ]
     },
     "execution_count": 18,
     "metadata": {},
     "output_type": "execute_result"
    }
   ],
   "source": [
    "y_test = df6\n",
    "y_test[\"sar_flag\"] = None\n",
    "y_test"
   ]
  },
  {
   "cell_type": "code",
   "execution_count": 19,
   "metadata": {},
   "outputs": [
    {
     "data": {
      "text/html": [
       "<div>\n",
       "<style scoped>\n",
       "    .dataframe tbody tr th:only-of-type {\n",
       "        vertical-align: middle;\n",
       "    }\n",
       "\n",
       "    .dataframe tbody tr th {\n",
       "        vertical-align: top;\n",
       "    }\n",
       "\n",
       "    .dataframe thead th {\n",
       "        text-align: right;\n",
       "    }\n",
       "</style>\n",
       "<table border=\"1\" class=\"dataframe\">\n",
       "  <thead>\n",
       "    <tr style=\"text-align: right;\">\n",
       "      <th></th>\n",
       "      <th>alert_key</th>\n",
       "      <th>date</th>\n",
       "      <th>sar_flag</th>\n",
       "    </tr>\n",
       "  </thead>\n",
       "  <tbody>\n",
       "    <tr>\n",
       "      <th>0</th>\n",
       "      <td>171142</td>\n",
       "      <td>0</td>\n",
       "      <td>0</td>\n",
       "    </tr>\n",
       "    <tr>\n",
       "      <th>1</th>\n",
       "      <td>171152</td>\n",
       "      <td>0</td>\n",
       "      <td>0</td>\n",
       "    </tr>\n",
       "    <tr>\n",
       "      <th>2</th>\n",
       "      <td>171177</td>\n",
       "      <td>0</td>\n",
       "      <td>0</td>\n",
       "    </tr>\n",
       "    <tr>\n",
       "      <th>3</th>\n",
       "      <td>171178</td>\n",
       "      <td>0</td>\n",
       "      <td>0</td>\n",
       "    </tr>\n",
       "    <tr>\n",
       "      <th>4</th>\n",
       "      <td>171180</td>\n",
       "      <td>0</td>\n",
       "      <td>0</td>\n",
       "    </tr>\n",
       "    <tr>\n",
       "      <th>...</th>\n",
       "      <td>...</td>\n",
       "      <td>...</td>\n",
       "      <td>...</td>\n",
       "    </tr>\n",
       "    <tr>\n",
       "      <th>25746</th>\n",
       "      <td>365001</td>\n",
       "      <td>393</td>\n",
       "      <td>None</td>\n",
       "    </tr>\n",
       "    <tr>\n",
       "      <th>25747</th>\n",
       "      <td>365004</td>\n",
       "      <td>393</td>\n",
       "      <td>None</td>\n",
       "    </tr>\n",
       "    <tr>\n",
       "      <th>25748</th>\n",
       "      <td>365008</td>\n",
       "      <td>393</td>\n",
       "      <td>None</td>\n",
       "    </tr>\n",
       "    <tr>\n",
       "      <th>25749</th>\n",
       "      <td>365009</td>\n",
       "      <td>393</td>\n",
       "      <td>None</td>\n",
       "    </tr>\n",
       "    <tr>\n",
       "      <th>25750</th>\n",
       "      <td>365073</td>\n",
       "      <td>393</td>\n",
       "      <td>None</td>\n",
       "    </tr>\n",
       "  </tbody>\n",
       "</table>\n",
       "<p>25751 rows × 3 columns</p>\n",
       "</div>"
      ],
      "text/plain": [
       "       alert_key  date sar_flag\n",
       "0         171142     0        0\n",
       "1         171152     0        0\n",
       "2         171177     0        0\n",
       "3         171178     0        0\n",
       "4         171180     0        0\n",
       "...          ...   ...      ...\n",
       "25746     365001   393     None\n",
       "25747     365004   393     None\n",
       "25748     365008   393     None\n",
       "25749     365009   393     None\n",
       "25750     365073   393     None\n",
       "\n",
       "[25751 rows x 3 columns]"
      ]
     },
     "execution_count": 19,
     "metadata": {},
     "output_type": "execute_result"
    }
   ],
   "source": [
    "y = pd.concat([y_train, y_test], ignore_index = True)\n",
    "y"
   ]
  },
  {
   "cell_type": "code",
   "execution_count": 20,
   "metadata": {},
   "outputs": [
    {
     "data": {
      "text/html": [
       "<div>\n",
       "<style scoped>\n",
       "    .dataframe tbody tr th:only-of-type {\n",
       "        vertical-align: middle;\n",
       "    }\n",
       "\n",
       "    .dataframe tbody tr th {\n",
       "        vertical-align: top;\n",
       "    }\n",
       "\n",
       "    .dataframe thead th {\n",
       "        text-align: right;\n",
       "    }\n",
       "</style>\n",
       "<table border=\"1\" class=\"dataframe\">\n",
       "  <thead>\n",
       "    <tr style=\"text-align: right;\">\n",
       "      <th></th>\n",
       "      <th>alert_key</th>\n",
       "      <th>date</th>\n",
       "      <th>sar_flag</th>\n",
       "      <th>cust_id</th>\n",
       "      <th>risk_rank</th>\n",
       "      <th>occupation_code</th>\n",
       "      <th>total_asset</th>\n",
       "      <th>AGE</th>\n",
       "    </tr>\n",
       "  </thead>\n",
       "  <tbody>\n",
       "    <tr>\n",
       "      <th>0</th>\n",
       "      <td>171142</td>\n",
       "      <td>0</td>\n",
       "      <td>0</td>\n",
       "      <td>a39fea9aec90969fe66a2b2b4d1b86368a2d38e8b8d4bf...</td>\n",
       "      <td>3</td>\n",
       "      <td>12.0</td>\n",
       "      <td>241719.0</td>\n",
       "      <td>3</td>\n",
       "    </tr>\n",
       "    <tr>\n",
       "      <th>1</th>\n",
       "      <td>171152</td>\n",
       "      <td>0</td>\n",
       "      <td>0</td>\n",
       "      <td>7e42b5dca9b28ee8e5545beb834361e90e6197d176b389...</td>\n",
       "      <td>3</td>\n",
       "      <td>13.0</td>\n",
       "      <td>599497.0</td>\n",
       "      <td>6</td>\n",
       "    </tr>\n",
       "    <tr>\n",
       "      <th>2</th>\n",
       "      <td>171177</td>\n",
       "      <td>0</td>\n",
       "      <td>0</td>\n",
       "      <td>a6cdf6302aead77112013168c6d546d2df3bcb551956d2...</td>\n",
       "      <td>1</td>\n",
       "      <td>19.0</td>\n",
       "      <td>51160.0</td>\n",
       "      <td>4</td>\n",
       "    </tr>\n",
       "    <tr>\n",
       "      <th>3</th>\n",
       "      <td>171178</td>\n",
       "      <td>0</td>\n",
       "      <td>0</td>\n",
       "      <td>1a3efa69705f611c7ef2384a715c8142e2ee801cfec9df...</td>\n",
       "      <td>3</td>\n",
       "      <td>9.0</td>\n",
       "      <td>3634343.0</td>\n",
       "      <td>6</td>\n",
       "    </tr>\n",
       "    <tr>\n",
       "      <th>4</th>\n",
       "      <td>171180</td>\n",
       "      <td>0</td>\n",
       "      <td>0</td>\n",
       "      <td>67f8cbb64dd3d447e992b1b299e0ceed3372188e47c88e...</td>\n",
       "      <td>1</td>\n",
       "      <td>17.0</td>\n",
       "      <td>4076287.0</td>\n",
       "      <td>4</td>\n",
       "    </tr>\n",
       "    <tr>\n",
       "      <th>...</th>\n",
       "      <td>...</td>\n",
       "      <td>...</td>\n",
       "      <td>...</td>\n",
       "      <td>...</td>\n",
       "      <td>...</td>\n",
       "      <td>...</td>\n",
       "      <td>...</td>\n",
       "      <td>...</td>\n",
       "    </tr>\n",
       "    <tr>\n",
       "      <th>25746</th>\n",
       "      <td>365001</td>\n",
       "      <td>393</td>\n",
       "      <td>None</td>\n",
       "      <td>18ee644a371548e9780d701aaa7e0c8c42a7794cdee755...</td>\n",
       "      <td>1</td>\n",
       "      <td>17.0</td>\n",
       "      <td>135072.0</td>\n",
       "      <td>3</td>\n",
       "    </tr>\n",
       "    <tr>\n",
       "      <th>25747</th>\n",
       "      <td>365004</td>\n",
       "      <td>393</td>\n",
       "      <td>None</td>\n",
       "      <td>7f69fa9eab8f397d367e2bb61ee1fa008999a0aab91e06...</td>\n",
       "      <td>3</td>\n",
       "      <td>12.0</td>\n",
       "      <td>2285386.0</td>\n",
       "      <td>3</td>\n",
       "    </tr>\n",
       "    <tr>\n",
       "      <th>25748</th>\n",
       "      <td>365008</td>\n",
       "      <td>393</td>\n",
       "      <td>None</td>\n",
       "      <td>12c9e6d35500d2a96fc2b22a9da8e3deb6048de515a16e...</td>\n",
       "      <td>3</td>\n",
       "      <td>19.0</td>\n",
       "      <td>1230244.0</td>\n",
       "      <td>2</td>\n",
       "    </tr>\n",
       "    <tr>\n",
       "      <th>25749</th>\n",
       "      <td>365009</td>\n",
       "      <td>393</td>\n",
       "      <td>None</td>\n",
       "      <td>d24d46c19002ab1f9a02801af5e4be6a154b3c5adc0417...</td>\n",
       "      <td>1</td>\n",
       "      <td>17.0</td>\n",
       "      <td>162418.0</td>\n",
       "      <td>2</td>\n",
       "    </tr>\n",
       "    <tr>\n",
       "      <th>25750</th>\n",
       "      <td>365073</td>\n",
       "      <td>393</td>\n",
       "      <td>None</td>\n",
       "      <td>7224e3a067b5e90c9b2a5bdbcfe81884505ab44f0566ae...</td>\n",
       "      <td>3</td>\n",
       "      <td>19.0</td>\n",
       "      <td>83133.0</td>\n",
       "      <td>3</td>\n",
       "    </tr>\n",
       "  </tbody>\n",
       "</table>\n",
       "<p>25751 rows × 8 columns</p>\n",
       "</div>"
      ],
      "text/plain": [
       "       alert_key  date sar_flag  \\\n",
       "0         171142     0        0   \n",
       "1         171152     0        0   \n",
       "2         171177     0        0   \n",
       "3         171178     0        0   \n",
       "4         171180     0        0   \n",
       "...          ...   ...      ...   \n",
       "25746     365001   393     None   \n",
       "25747     365004   393     None   \n",
       "25748     365008   393     None   \n",
       "25749     365009   393     None   \n",
       "25750     365073   393     None   \n",
       "\n",
       "                                                 cust_id  risk_rank  \\\n",
       "0      a39fea9aec90969fe66a2b2b4d1b86368a2d38e8b8d4bf...          3   \n",
       "1      7e42b5dca9b28ee8e5545beb834361e90e6197d176b389...          3   \n",
       "2      a6cdf6302aead77112013168c6d546d2df3bcb551956d2...          1   \n",
       "3      1a3efa69705f611c7ef2384a715c8142e2ee801cfec9df...          3   \n",
       "4      67f8cbb64dd3d447e992b1b299e0ceed3372188e47c88e...          1   \n",
       "...                                                  ...        ...   \n",
       "25746  18ee644a371548e9780d701aaa7e0c8c42a7794cdee755...          1   \n",
       "25747  7f69fa9eab8f397d367e2bb61ee1fa008999a0aab91e06...          3   \n",
       "25748  12c9e6d35500d2a96fc2b22a9da8e3deb6048de515a16e...          3   \n",
       "25749  d24d46c19002ab1f9a02801af5e4be6a154b3c5adc0417...          1   \n",
       "25750  7224e3a067b5e90c9b2a5bdbcfe81884505ab44f0566ae...          3   \n",
       "\n",
       "       occupation_code  total_asset  AGE  \n",
       "0                 12.0     241719.0    3  \n",
       "1                 13.0     599497.0    6  \n",
       "2                 19.0      51160.0    4  \n",
       "3                  9.0    3634343.0    6  \n",
       "4                 17.0    4076287.0    4  \n",
       "...                ...          ...  ...  \n",
       "25746             17.0     135072.0    3  \n",
       "25747             12.0    2285386.0    3  \n",
       "25748             19.0    1230244.0    2  \n",
       "25749             17.0     162418.0    2  \n",
       "25750             19.0      83133.0    3  \n",
       "\n",
       "[25751 rows x 8 columns]"
      ]
     },
     "execution_count": 20,
     "metadata": {},
     "output_type": "execute_result"
    }
   ],
   "source": [
    "df = pd.merge(y, df3, on = \"alert_key\", how = \"outer\")\n",
    "df"
   ]
  },
  {
   "cell_type": "code",
   "execution_count": 21,
   "metadata": {},
   "outputs": [
    {
     "data": {
      "text/plain": [
       "<AxesSubplot: xlabel='sar_flag', ylabel='count'>"
      ]
     },
     "execution_count": 21,
     "metadata": {},
     "output_type": "execute_result"
    },
    {
     "data": {
      "image/png": "[encoded data removed]",
      "text/plain": [
       "<Figure size 500x400 with 1 Axes>"
      ]
     },
     "metadata": {},
     "output_type": "display_data"
    }
   ],
   "source": [
    "plt.figure(figsize = (5, 4))\n",
    "sns.countplot(data = df, x = \"sar_flag\")"
   ]
  },
  {
   "cell_type": "code",
   "execution_count": 22,
   "metadata": {},
   "outputs": [
    {
     "data": {
      "image/png": "[encoded data removed]",
      "text/plain": [
       "<Figure size 3000x800 with 8 Axes>"
      ]
     },
     "metadata": {},
     "output_type": "display_data"
    }
   ],
   "source": [
    "feats = [\"risk_rank\", \"occupation_code\", \"AGE\"]\n",
    "train = df[~df[\"sar_flag\"].isnull()]\n",
    "k = 0\n",
    "a, b = 2, 4\n",
    "fig, ax = plt.subplots(a, b, figsize = (30, 8))\n",
    "for i in range(a):\n",
    "    for j in range(0, b, 2):\n",
    "        try:\n",
    "            train1 = train.copy()\n",
    "            if feats[k] == \"occupation_code\":\n",
    "                train1 = train1.dropna()\n",
    "                train1[feats[k]] = train1[feats[k]].astype(int)\n",
    "\n",
    "            sns.countplot(data = train1, x = feats[k], hue = \"sar_flag\", ax = ax[i, j])\n",
    "            sns.countplot(data = train1.query(\"sar_flag == 1\"), x = feats[k], ax = ax[i, j+1])\n",
    "\n",
    "            ax[i, j].set(ylabel = None, xlabel = None, title = f\"{feats[k]} (sar_flag = 0, 1)\")\n",
    "            ax[i, j + 1].set(ylabel = None, xlabel = None, title = f\"{feats[k]} (sar_flag = 1)\")\n",
    "            k += 1\n",
    "        except:\n",
    "            continue"
   ]
  },
  {
   "cell_type": "code",
   "execution_count": 23,
   "metadata": {},
   "outputs": [
    {
     "data": {
      "text/plain": [
       "<AxesSubplot: xlabel='sar_flag', ylabel='total_asset'>"
      ]
     },
     "execution_count": 23,
     "metadata": {},
     "output_type": "execute_result"
    },
    {
     "data": {
      "image/png": "[encoded data removed]",
      "text/plain": [
       "<Figure size 500x400 with 1 Axes>"
      ]
     },
     "metadata": {},
     "output_type": "display_data"
    }
   ],
   "source": [
    "plt.figure(figsize = (5, 4))\n",
    "sns.stripplot(\n",
    "                data = train, x = \"sar_flag\", y = \"total_asset\",\n",
    "                jitter = False, s = 15, marker = \"D\", linewidth = 1, alpha = 0.1\n",
    "            )"
   ]
  },
  {
   "cell_type": "code",
   "execution_count": 24,
   "metadata": {},
   "outputs": [],
   "source": [
    "df.to_csv(\"data/inverse/data_raw.csv\", index = False)"
   ]
  },
  {
   "cell_type": "markdown",
   "metadata": {},
   "source": [
    "### ccba(df1) - 額度資料(月)\n",
    "byymm(帳務年月): 是月資料，以每月同一日做為顯示代表"
   ]
  },
  {
   "cell_type": "code",
   "execution_count": 25,
   "metadata": {},
   "outputs": [
    {
     "name": "stdout",
     "output_type": "stream",
     "text": [
      "(59075, 10)\n",
      "cust_id: 4745\n"
     ]
    },
    {
     "data": {
      "text/html": [
       "<div>\n",
       "<style scoped>\n",
       "    .dataframe tbody tr th:only-of-type {\n",
       "        vertical-align: middle;\n",
       "    }\n",
       "\n",
       "    .dataframe tbody tr th {\n",
       "        vertical-align: top;\n",
       "    }\n",
       "\n",
       "    .dataframe thead th {\n",
       "        text-align: right;\n",
       "    }\n",
       "</style>\n",
       "<table border=\"1\" class=\"dataframe\">\n",
       "  <thead>\n",
       "    <tr style=\"text-align: right;\">\n",
       "      <th></th>\n",
       "      <th>cust_id</th>\n",
       "      <th>lupay</th>\n",
       "      <th>byymm</th>\n",
       "      <th>cycam</th>\n",
       "      <th>usgam</th>\n",
       "      <th>clamt</th>\n",
       "      <th>csamt</th>\n",
       "      <th>inamt</th>\n",
       "      <th>cucsm</th>\n",
       "      <th>cucah</th>\n",
       "    </tr>\n",
       "  </thead>\n",
       "  <tbody>\n",
       "    <tr>\n",
       "      <th>0</th>\n",
       "      <td>0015cc01f553512007705edf855baa16f1b57a16fb107e...</td>\n",
       "      <td>3920.0</td>\n",
       "      <td>0</td>\n",
       "      <td>134614.0</td>\n",
       "      <td>32316.0</td>\n",
       "      <td>0.0</td>\n",
       "      <td>0.0</td>\n",
       "      <td>3148.0</td>\n",
       "      <td>16576.0</td>\n",
       "      <td>0.0</td>\n",
       "    </tr>\n",
       "    <tr>\n",
       "      <th>1</th>\n",
       "      <td>0015cc01f553512007705edf855baa16f1b57a16fb107e...</td>\n",
       "      <td>16576.0</td>\n",
       "      <td>30</td>\n",
       "      <td>134614.0</td>\n",
       "      <td>22280.0</td>\n",
       "      <td>0.0</td>\n",
       "      <td>0.0</td>\n",
       "      <td>3148.0</td>\n",
       "      <td>8653.0</td>\n",
       "      <td>0.0</td>\n",
       "    </tr>\n",
       "    <tr>\n",
       "      <th>2</th>\n",
       "      <td>0015cc01f553512007705edf855baa16f1b57a16fb107e...</td>\n",
       "      <td>8653.0</td>\n",
       "      <td>61</td>\n",
       "      <td>134614.0</td>\n",
       "      <td>14771.0</td>\n",
       "      <td>0.0</td>\n",
       "      <td>0.0</td>\n",
       "      <td>3148.0</td>\n",
       "      <td>5045.0</td>\n",
       "      <td>0.0</td>\n",
       "    </tr>\n",
       "    <tr>\n",
       "      <th>3</th>\n",
       "      <td>0015cc01f553512007705edf855baa16f1b57a16fb107e...</td>\n",
       "      <td>5045.0</td>\n",
       "      <td>91</td>\n",
       "      <td>134614.0</td>\n",
       "      <td>10954.0</td>\n",
       "      <td>0.0</td>\n",
       "      <td>0.0</td>\n",
       "      <td>3148.0</td>\n",
       "      <td>4334.0</td>\n",
       "      <td>0.0</td>\n",
       "    </tr>\n",
       "    <tr>\n",
       "      <th>4</th>\n",
       "      <td>0015cc01f553512007705edf855baa16f1b57a16fb107e...</td>\n",
       "      <td>4334.0</td>\n",
       "      <td>122</td>\n",
       "      <td>134614.0</td>\n",
       "      <td>7544.0</td>\n",
       "      <td>0.0</td>\n",
       "      <td>0.0</td>\n",
       "      <td>3148.0</td>\n",
       "      <td>4396.0</td>\n",
       "      <td>0.0</td>\n",
       "    </tr>\n",
       "  </tbody>\n",
       "</table>\n",
       "</div>"
      ],
      "text/plain": [
       "                                             cust_id    lupay  byymm  \\\n",
       "0  0015cc01f553512007705edf855baa16f1b57a16fb107e...   3920.0      0   \n",
       "1  0015cc01f553512007705edf855baa16f1b57a16fb107e...  16576.0     30   \n",
       "2  0015cc01f553512007705edf855baa16f1b57a16fb107e...   8653.0     61   \n",
       "3  0015cc01f553512007705edf855baa16f1b57a16fb107e...   5045.0     91   \n",
       "4  0015cc01f553512007705edf855baa16f1b57a16fb107e...   4334.0    122   \n",
       "\n",
       "      cycam    usgam  clamt  csamt   inamt    cucsm  cucah  \n",
       "0  134614.0  32316.0    0.0    0.0  3148.0  16576.0    0.0  \n",
       "1  134614.0  22280.0    0.0    0.0  3148.0   8653.0    0.0  \n",
       "2  134614.0  14771.0    0.0    0.0  3148.0   5045.0    0.0  \n",
       "3  134614.0  10954.0    0.0    0.0  3148.0   4334.0    0.0  \n",
       "4  134614.0   7544.0    0.0    0.0  3148.0   4396.0    0.0  "
      ]
     },
     "execution_count": 25,
     "metadata": {},
     "output_type": "execute_result"
    }
   ],
   "source": [
    "print(df1.shape)\n",
    "print(\"cust_id:\", df1[\"cust_id\"].nunique())\n",
    "df1.head()"
   ]
  },
  {
   "cell_type": "code",
   "execution_count": 26,
   "metadata": {},
   "outputs": [
    {
     "data": {
      "text/html": [
       "<div>\n",
       "<style scoped>\n",
       "    .dataframe tbody tr th:only-of-type {\n",
       "        vertical-align: middle;\n",
       "    }\n",
       "\n",
       "    .dataframe tbody tr th {\n",
       "        vertical-align: top;\n",
       "    }\n",
       "\n",
       "    .dataframe thead th {\n",
       "        text-align: right;\n",
       "    }\n",
       "</style>\n",
       "<table border=\"1\" class=\"dataframe\">\n",
       "  <thead>\n",
       "    <tr style=\"text-align: right;\">\n",
       "      <th></th>\n",
       "      <th>raw_month</th>\n",
       "      <th>diff_date</th>\n",
       "      <th>month</th>\n",
       "    </tr>\n",
       "  </thead>\n",
       "  <tbody>\n",
       "    <tr>\n",
       "      <th>0</th>\n",
       "      <td>0</td>\n",
       "      <td>30</td>\n",
       "      <td>4</td>\n",
       "    </tr>\n",
       "    <tr>\n",
       "      <th>1</th>\n",
       "      <td>30</td>\n",
       "      <td>31</td>\n",
       "      <td>5</td>\n",
       "    </tr>\n",
       "    <tr>\n",
       "      <th>2</th>\n",
       "      <td>61</td>\n",
       "      <td>30</td>\n",
       "      <td>6</td>\n",
       "    </tr>\n",
       "    <tr>\n",
       "      <th>3</th>\n",
       "      <td>91</td>\n",
       "      <td>31</td>\n",
       "      <td>7</td>\n",
       "    </tr>\n",
       "    <tr>\n",
       "      <th>4</th>\n",
       "      <td>122</td>\n",
       "      <td>31</td>\n",
       "      <td>8</td>\n",
       "    </tr>\n",
       "    <tr>\n",
       "      <th>5</th>\n",
       "      <td>153</td>\n",
       "      <td>30</td>\n",
       "      <td>9</td>\n",
       "    </tr>\n",
       "    <tr>\n",
       "      <th>6</th>\n",
       "      <td>183</td>\n",
       "      <td>31</td>\n",
       "      <td>10</td>\n",
       "    </tr>\n",
       "    <tr>\n",
       "      <th>7</th>\n",
       "      <td>214</td>\n",
       "      <td>30</td>\n",
       "      <td>11</td>\n",
       "    </tr>\n",
       "    <tr>\n",
       "      <th>8</th>\n",
       "      <td>244</td>\n",
       "      <td>31</td>\n",
       "      <td>12</td>\n",
       "    </tr>\n",
       "    <tr>\n",
       "      <th>9</th>\n",
       "      <td>275</td>\n",
       "      <td>31</td>\n",
       "      <td>1</td>\n",
       "    </tr>\n",
       "    <tr>\n",
       "      <th>10</th>\n",
       "      <td>306</td>\n",
       "      <td>28</td>\n",
       "      <td>2</td>\n",
       "    </tr>\n",
       "    <tr>\n",
       "      <th>11</th>\n",
       "      <td>334</td>\n",
       "      <td>31</td>\n",
       "      <td>3</td>\n",
       "    </tr>\n",
       "  </tbody>\n",
       "</table>\n",
       "</div>"
      ],
      "text/plain": [
       "    raw_month  diff_date  month\n",
       "0           0         30      4\n",
       "1          30         31      5\n",
       "2          61         30      6\n",
       "3          91         31      7\n",
       "4         122         31      8\n",
       "5         153         30      9\n",
       "6         183         31     10\n",
       "7         214         30     11\n",
       "8         244         31     12\n",
       "9         275         31      1\n",
       "10        306         28      2\n",
       "11        334         31      3"
      ]
     },
     "execution_count": 26,
     "metadata": {},
     "output_type": "execute_result"
    }
   ],
   "source": [
    "# 抓出日期轉換邏輯\n",
    "byymm = df1[\"byymm\"].unique().tolist() # 有哪些月\n",
    "diff = [byymm[i] - byymm[i-1] for i in range(1, len(byymm))] # 逐月相減會發現相差的天數可以推估實際月份\n",
    "month = pd.DataFrame(zip(byymm, diff), columns = [\"raw_month\", \"diff_date\"])\n",
    "month[\"month\"] = list(range(4, 13)) + list(range(1, 4))\n",
    "month"
   ]
  },
  {
   "cell_type": "code",
   "execution_count": 27,
   "metadata": {},
   "outputs": [],
   "source": [
    "# 日期原始值\n",
    "import datetime\n",
    "\n",
    "date_map = {}\n",
    "origin_date = datetime.date(2021, 4, 1)\n",
    "for i in range(0, df[\"date\"].unique()[-1]+1):\n",
    "    date_map[i] = origin_date\n",
    "    origin_date += datetime.timedelta(days = 1)"
   ]
  },
  {
   "cell_type": "code",
   "execution_count": 28,
   "metadata": {},
   "outputs": [
    {
     "data": {
      "text/html": [
       "<div>\n",
       "<style scoped>\n",
       "    .dataframe tbody tr th:only-of-type {\n",
       "        vertical-align: middle;\n",
       "    }\n",
       "\n",
       "    .dataframe tbody tr th {\n",
       "        vertical-align: top;\n",
       "    }\n",
       "\n",
       "    .dataframe thead th {\n",
       "        text-align: right;\n",
       "    }\n",
       "</style>\n",
       "<table border=\"1\" class=\"dataframe\">\n",
       "  <thead>\n",
       "    <tr style=\"text-align: right;\">\n",
       "      <th></th>\n",
       "      <th>cust_id</th>\n",
       "      <th>lupay</th>\n",
       "      <th>byymm</th>\n",
       "      <th>cycam</th>\n",
       "      <th>usgam</th>\n",
       "      <th>clamt</th>\n",
       "      <th>csamt</th>\n",
       "      <th>inamt</th>\n",
       "      <th>cucsm</th>\n",
       "      <th>cucah</th>\n",
       "    </tr>\n",
       "  </thead>\n",
       "  <tbody>\n",
       "    <tr>\n",
       "      <th>0</th>\n",
       "      <td>0015cc01f553512007705edf855baa16f1b57a16fb107e...</td>\n",
       "      <td>3920.0</td>\n",
       "      <td>2021-04-01</td>\n",
       "      <td>134614.0</td>\n",
       "      <td>32316.0</td>\n",
       "      <td>0.0</td>\n",
       "      <td>0.0</td>\n",
       "      <td>3148.0</td>\n",
       "      <td>16576.0</td>\n",
       "      <td>0.0</td>\n",
       "    </tr>\n",
       "    <tr>\n",
       "      <th>1</th>\n",
       "      <td>0015cc01f553512007705edf855baa16f1b57a16fb107e...</td>\n",
       "      <td>16576.0</td>\n",
       "      <td>2021-05-01</td>\n",
       "      <td>134614.0</td>\n",
       "      <td>22280.0</td>\n",
       "      <td>0.0</td>\n",
       "      <td>0.0</td>\n",
       "      <td>3148.0</td>\n",
       "      <td>8653.0</td>\n",
       "      <td>0.0</td>\n",
       "    </tr>\n",
       "    <tr>\n",
       "      <th>2</th>\n",
       "      <td>0015cc01f553512007705edf855baa16f1b57a16fb107e...</td>\n",
       "      <td>8653.0</td>\n",
       "      <td>2021-06-01</td>\n",
       "      <td>134614.0</td>\n",
       "      <td>14771.0</td>\n",
       "      <td>0.0</td>\n",
       "      <td>0.0</td>\n",
       "      <td>3148.0</td>\n",
       "      <td>5045.0</td>\n",
       "      <td>0.0</td>\n",
       "    </tr>\n",
       "    <tr>\n",
       "      <th>3</th>\n",
       "      <td>0015cc01f553512007705edf855baa16f1b57a16fb107e...</td>\n",
       "      <td>5045.0</td>\n",
       "      <td>2021-07-01</td>\n",
       "      <td>134614.0</td>\n",
       "      <td>10954.0</td>\n",
       "      <td>0.0</td>\n",
       "      <td>0.0</td>\n",
       "      <td>3148.0</td>\n",
       "      <td>4334.0</td>\n",
       "      <td>0.0</td>\n",
       "    </tr>\n",
       "    <tr>\n",
       "      <th>4</th>\n",
       "      <td>0015cc01f553512007705edf855baa16f1b57a16fb107e...</td>\n",
       "      <td>4334.0</td>\n",
       "      <td>2021-08-01</td>\n",
       "      <td>134614.0</td>\n",
       "      <td>7544.0</td>\n",
       "      <td>0.0</td>\n",
       "      <td>0.0</td>\n",
       "      <td>3148.0</td>\n",
       "      <td>4396.0</td>\n",
       "      <td>0.0</td>\n",
       "    </tr>\n",
       "  </tbody>\n",
       "</table>\n",
       "</div>"
      ],
      "text/plain": [
       "                                             cust_id    lupay       byymm  \\\n",
       "0  0015cc01f553512007705edf855baa16f1b57a16fb107e...   3920.0  2021-04-01   \n",
       "1  0015cc01f553512007705edf855baa16f1b57a16fb107e...  16576.0  2021-05-01   \n",
       "2  0015cc01f553512007705edf855baa16f1b57a16fb107e...   8653.0  2021-06-01   \n",
       "3  0015cc01f553512007705edf855baa16f1b57a16fb107e...   5045.0  2021-07-01   \n",
       "4  0015cc01f553512007705edf855baa16f1b57a16fb107e...   4334.0  2021-08-01   \n",
       "\n",
       "      cycam    usgam  clamt  csamt   inamt    cucsm  cucah  \n",
       "0  134614.0  32316.0    0.0    0.0  3148.0  16576.0    0.0  \n",
       "1  134614.0  22280.0    0.0    0.0  3148.0   8653.0    0.0  \n",
       "2  134614.0  14771.0    0.0    0.0  3148.0   5045.0    0.0  \n",
       "3  134614.0  10954.0    0.0    0.0  3148.0   4334.0    0.0  \n",
       "4  134614.0   7544.0    0.0    0.0  3148.0   4396.0    0.0  "
      ]
     },
     "execution_count": 28,
     "metadata": {},
     "output_type": "execute_result"
    }
   ],
   "source": [
    "# 日期逆轉換\n",
    "df1[\"byymm\"] = df1[\"byymm\"].map(date_map)\n",
    "df[\"date\"] = df[\"date\"].map(date_map)\n",
    "\n",
    "df1.head()"
   ]
  },
  {
   "cell_type": "code",
   "execution_count": 29,
   "metadata": {},
   "outputs": [
    {
     "data": {
      "text/html": [
       "<div>\n",
       "<style scoped>\n",
       "    .dataframe tbody tr th:only-of-type {\n",
       "        vertical-align: middle;\n",
       "    }\n",
       "\n",
       "    .dataframe tbody tr th {\n",
       "        vertical-align: top;\n",
       "    }\n",
       "\n",
       "    .dataframe thead th {\n",
       "        text-align: right;\n",
       "    }\n",
       "</style>\n",
       "<table border=\"1\" class=\"dataframe\">\n",
       "  <thead>\n",
       "    <tr style=\"text-align: right;\">\n",
       "      <th></th>\n",
       "      <th>cust_id</th>\n",
       "      <th>lupay</th>\n",
       "      <th>byymm</th>\n",
       "      <th>cycam</th>\n",
       "      <th>usgam</th>\n",
       "      <th>clamt</th>\n",
       "      <th>csamt</th>\n",
       "      <th>inamt</th>\n",
       "      <th>cucsm</th>\n",
       "      <th>cucah</th>\n",
       "    </tr>\n",
       "  </thead>\n",
       "  <tbody>\n",
       "    <tr>\n",
       "      <th>0</th>\n",
       "      <td>0015cc01f553512007705edf855baa16f1b57a16fb107e...</td>\n",
       "      <td>3920.0</td>\n",
       "      <td>2021-04-30</td>\n",
       "      <td>134614.0</td>\n",
       "      <td>32316.0</td>\n",
       "      <td>0.0</td>\n",
       "      <td>0.0</td>\n",
       "      <td>3148.0</td>\n",
       "      <td>16576.0</td>\n",
       "      <td>0.0</td>\n",
       "    </tr>\n",
       "    <tr>\n",
       "      <th>1</th>\n",
       "      <td>0015cc01f553512007705edf855baa16f1b57a16fb107e...</td>\n",
       "      <td>16576.0</td>\n",
       "      <td>2021-05-31</td>\n",
       "      <td>134614.0</td>\n",
       "      <td>22280.0</td>\n",
       "      <td>0.0</td>\n",
       "      <td>0.0</td>\n",
       "      <td>3148.0</td>\n",
       "      <td>8653.0</td>\n",
       "      <td>0.0</td>\n",
       "    </tr>\n",
       "    <tr>\n",
       "      <th>2</th>\n",
       "      <td>0015cc01f553512007705edf855baa16f1b57a16fb107e...</td>\n",
       "      <td>8653.0</td>\n",
       "      <td>2021-06-30</td>\n",
       "      <td>134614.0</td>\n",
       "      <td>14771.0</td>\n",
       "      <td>0.0</td>\n",
       "      <td>0.0</td>\n",
       "      <td>3148.0</td>\n",
       "      <td>5045.0</td>\n",
       "      <td>0.0</td>\n",
       "    </tr>\n",
       "    <tr>\n",
       "      <th>3</th>\n",
       "      <td>0015cc01f553512007705edf855baa16f1b57a16fb107e...</td>\n",
       "      <td>5045.0</td>\n",
       "      <td>2021-07-31</td>\n",
       "      <td>134614.0</td>\n",
       "      <td>10954.0</td>\n",
       "      <td>0.0</td>\n",
       "      <td>0.0</td>\n",
       "      <td>3148.0</td>\n",
       "      <td>4334.0</td>\n",
       "      <td>0.0</td>\n",
       "    </tr>\n",
       "    <tr>\n",
       "      <th>4</th>\n",
       "      <td>0015cc01f553512007705edf855baa16f1b57a16fb107e...</td>\n",
       "      <td>4334.0</td>\n",
       "      <td>2021-08-31</td>\n",
       "      <td>134614.0</td>\n",
       "      <td>7544.0</td>\n",
       "      <td>0.0</td>\n",
       "      <td>0.0</td>\n",
       "      <td>3148.0</td>\n",
       "      <td>4396.0</td>\n",
       "      <td>0.0</td>\n",
       "    </tr>\n",
       "  </tbody>\n",
       "</table>\n",
       "</div>"
      ],
      "text/plain": [
       "                                             cust_id    lupay      byymm  \\\n",
       "0  0015cc01f553512007705edf855baa16f1b57a16fb107e...   3920.0 2021-04-30   \n",
       "1  0015cc01f553512007705edf855baa16f1b57a16fb107e...  16576.0 2021-05-31   \n",
       "2  0015cc01f553512007705edf855baa16f1b57a16fb107e...   8653.0 2021-06-30   \n",
       "3  0015cc01f553512007705edf855baa16f1b57a16fb107e...   5045.0 2021-07-31   \n",
       "4  0015cc01f553512007705edf855baa16f1b57a16fb107e...   4334.0 2021-08-31   \n",
       "\n",
       "      cycam    usgam  clamt  csamt   inamt    cucsm  cucah  \n",
       "0  134614.0  32316.0    0.0    0.0  3148.0  16576.0    0.0  \n",
       "1  134614.0  22280.0    0.0    0.0  3148.0   8653.0    0.0  \n",
       "2  134614.0  14771.0    0.0    0.0  3148.0   5045.0    0.0  \n",
       "3  134614.0  10954.0    0.0    0.0  3148.0   4334.0    0.0  \n",
       "4  134614.0   7544.0    0.0    0.0  3148.0   4396.0    0.0  "
      ]
     },
     "execution_count": 29,
     "metadata": {},
     "output_type": "execute_result"
    }
   ],
   "source": [
    "# ccba以當月最後一天為日期\n",
    "df1[\"byymm\"] = df1[\"byymm\"] + pd.tseries.offsets.MonthEnd()\n",
    "df1.head()"
   ]
  },
  {
   "cell_type": "code",
   "execution_count": 30,
   "metadata": {},
   "outputs": [],
   "source": [
    "df.to_csv(\"data/inverse/info.csv\", index = False)\n",
    "df1.to_csv(\"data/inverse/ccba.csv\", index = False)"
   ]
  },
  {
   "cell_type": "markdown",
   "metadata": {},
   "source": [
    "### cdtx(df2) - 信用卡交易資料(日)"
   ]
  },
  {
   "cell_type": "code",
   "execution_count": 31,
   "metadata": {},
   "outputs": [
    {
     "name": "stdout",
     "output_type": "stream",
     "text": [
      "(1043014, 5)\n",
      "cust_id: 3945\n"
     ]
    },
    {
     "data": {
      "text/html": [
       "<div>\n",
       "<style scoped>\n",
       "    .dataframe tbody tr th:only-of-type {\n",
       "        vertical-align: middle;\n",
       "    }\n",
       "\n",
       "    .dataframe tbody tr th {\n",
       "        vertical-align: top;\n",
       "    }\n",
       "\n",
       "    .dataframe thead th {\n",
       "        text-align: right;\n",
       "    }\n",
       "</style>\n",
       "<table border=\"1\" class=\"dataframe\">\n",
       "  <thead>\n",
       "    <tr style=\"text-align: right;\">\n",
       "      <th></th>\n",
       "      <th>cust_id</th>\n",
       "      <th>date</th>\n",
       "      <th>country</th>\n",
       "      <th>cur_type</th>\n",
       "      <th>amt</th>\n",
       "    </tr>\n",
       "  </thead>\n",
       "  <tbody>\n",
       "    <tr>\n",
       "      <th>0</th>\n",
       "      <td>0015cc01f553512007705edf855baa16f1b57a16fb107e...</td>\n",
       "      <td>21</td>\n",
       "      <td>130</td>\n",
       "      <td>47</td>\n",
       "      <td>13428.0</td>\n",
       "    </tr>\n",
       "    <tr>\n",
       "      <th>1</th>\n",
       "      <td>0015cc01f553512007705edf855baa16f1b57a16fb107e...</td>\n",
       "      <td>52</td>\n",
       "      <td>130</td>\n",
       "      <td>47</td>\n",
       "      <td>202.0</td>\n",
       "    </tr>\n",
       "    <tr>\n",
       "      <th>2</th>\n",
       "      <td>0015cc01f553512007705edf855baa16f1b57a16fb107e...</td>\n",
       "      <td>56</td>\n",
       "      <td>130</td>\n",
       "      <td>47</td>\n",
       "      <td>3624.0</td>\n",
       "    </tr>\n",
       "    <tr>\n",
       "      <th>3</th>\n",
       "      <td>0015cc01f553512007705edf855baa16f1b57a16fb107e...</td>\n",
       "      <td>59</td>\n",
       "      <td>130</td>\n",
       "      <td>47</td>\n",
       "      <td>175.0</td>\n",
       "    </tr>\n",
       "    <tr>\n",
       "      <th>4</th>\n",
       "      <td>0015cc01f553512007705edf855baa16f1b57a16fb107e...</td>\n",
       "      <td>62</td>\n",
       "      <td>130</td>\n",
       "      <td>47</td>\n",
       "      <td>128.0</td>\n",
       "    </tr>\n",
       "  </tbody>\n",
       "</table>\n",
       "</div>"
      ],
      "text/plain": [
       "                                             cust_id  date  country  cur_type  \\\n",
       "0  0015cc01f553512007705edf855baa16f1b57a16fb107e...    21      130        47   \n",
       "1  0015cc01f553512007705edf855baa16f1b57a16fb107e...    52      130        47   \n",
       "2  0015cc01f553512007705edf855baa16f1b57a16fb107e...    56      130        47   \n",
       "3  0015cc01f553512007705edf855baa16f1b57a16fb107e...    59      130        47   \n",
       "4  0015cc01f553512007705edf855baa16f1b57a16fb107e...    62      130        47   \n",
       "\n",
       "       amt  \n",
       "0  13428.0  \n",
       "1    202.0  \n",
       "2   3624.0  \n",
       "3    175.0  \n",
       "4    128.0  "
      ]
     },
     "execution_count": 31,
     "metadata": {},
     "output_type": "execute_result"
    }
   ],
   "source": [
    "print(df2.shape)\n",
    "print(\"cust_id:\", df2[\"cust_id\"].nunique())\n",
    "df2.head()"
   ]
  },
  {
   "cell_type": "code",
   "execution_count": 32,
   "metadata": {},
   "outputs": [
    {
     "data": {
      "text/html": [
       "<div>\n",
       "<style scoped>\n",
       "    .dataframe tbody tr th:only-of-type {\n",
       "        vertical-align: middle;\n",
       "    }\n",
       "\n",
       "    .dataframe tbody tr th {\n",
       "        vertical-align: top;\n",
       "    }\n",
       "\n",
       "    .dataframe thead th {\n",
       "        text-align: right;\n",
       "    }\n",
       "</style>\n",
       "<table border=\"1\" class=\"dataframe\">\n",
       "  <thead>\n",
       "    <tr style=\"text-align: right;\">\n",
       "      <th></th>\n",
       "      <th>cust_id</th>\n",
       "      <th>date</th>\n",
       "      <th>country</th>\n",
       "      <th>cur_type</th>\n",
       "      <th>amt</th>\n",
       "    </tr>\n",
       "  </thead>\n",
       "  <tbody>\n",
       "    <tr>\n",
       "      <th>0</th>\n",
       "      <td>0015cc01f553512007705edf855baa16f1b57a16fb107e...</td>\n",
       "      <td>2021-04-22</td>\n",
       "      <td>130</td>\n",
       "      <td>47</td>\n",
       "      <td>13428.0</td>\n",
       "    </tr>\n",
       "    <tr>\n",
       "      <th>1</th>\n",
       "      <td>0015cc01f553512007705edf855baa16f1b57a16fb107e...</td>\n",
       "      <td>2021-05-23</td>\n",
       "      <td>130</td>\n",
       "      <td>47</td>\n",
       "      <td>202.0</td>\n",
       "    </tr>\n",
       "    <tr>\n",
       "      <th>2</th>\n",
       "      <td>0015cc01f553512007705edf855baa16f1b57a16fb107e...</td>\n",
       "      <td>2021-05-27</td>\n",
       "      <td>130</td>\n",
       "      <td>47</td>\n",
       "      <td>3624.0</td>\n",
       "    </tr>\n",
       "    <tr>\n",
       "      <th>3</th>\n",
       "      <td>0015cc01f553512007705edf855baa16f1b57a16fb107e...</td>\n",
       "      <td>2021-05-30</td>\n",
       "      <td>130</td>\n",
       "      <td>47</td>\n",
       "      <td>175.0</td>\n",
       "    </tr>\n",
       "    <tr>\n",
       "      <th>4</th>\n",
       "      <td>0015cc01f553512007705edf855baa16f1b57a16fb107e...</td>\n",
       "      <td>2021-06-02</td>\n",
       "      <td>130</td>\n",
       "      <td>47</td>\n",
       "      <td>128.0</td>\n",
       "    </tr>\n",
       "  </tbody>\n",
       "</table>\n",
       "</div>"
      ],
      "text/plain": [
       "                                             cust_id        date  country  \\\n",
       "0  0015cc01f553512007705edf855baa16f1b57a16fb107e...  2021-04-22      130   \n",
       "1  0015cc01f553512007705edf855baa16f1b57a16fb107e...  2021-05-23      130   \n",
       "2  0015cc01f553512007705edf855baa16f1b57a16fb107e...  2021-05-27      130   \n",
       "3  0015cc01f553512007705edf855baa16f1b57a16fb107e...  2021-05-30      130   \n",
       "4  0015cc01f553512007705edf855baa16f1b57a16fb107e...  2021-06-02      130   \n",
       "\n",
       "   cur_type      amt  \n",
       "0        47  13428.0  \n",
       "1        47    202.0  \n",
       "2        47   3624.0  \n",
       "3        47    175.0  \n",
       "4        47    128.0  "
      ]
     },
     "execution_count": 32,
     "metadata": {},
     "output_type": "execute_result"
    }
   ],
   "source": [
    "df2[\"date\"] = df2[\"date\"].map(date_map)\n",
    "df2.head()"
   ]
  },
  {
   "cell_type": "code",
   "execution_count": 33,
   "metadata": {},
   "outputs": [],
   "source": [
    "df2.to_csv(\"data/inverse/cdtx.csv\", index = False)"
   ]
  },
  {
   "cell_type": "markdown",
   "metadata": {},
   "source": [
    "### dp(df4) - 借貸資料(日)"
   ]
  },
  {
   "cell_type": "code",
   "execution_count": 34,
   "metadata": {},
   "outputs": [
    {
     "name": "stdout",
     "output_type": "stream",
     "text": [
      "(1969818, 12)\n",
      "cust_id: 6196\n"
     ]
    },
    {
     "data": {
      "text/html": [
       "<div>\n",
       "<style scoped>\n",
       "    .dataframe tbody tr th:only-of-type {\n",
       "        vertical-align: middle;\n",
       "    }\n",
       "\n",
       "    .dataframe tbody tr th {\n",
       "        vertical-align: top;\n",
       "    }\n",
       "\n",
       "    .dataframe thead th {\n",
       "        text-align: right;\n",
       "    }\n",
       "</style>\n",
       "<table border=\"1\" class=\"dataframe\">\n",
       "  <thead>\n",
       "    <tr style=\"text-align: right;\">\n",
       "      <th></th>\n",
       "      <th>cust_id</th>\n",
       "      <th>debit_credit</th>\n",
       "      <th>tx_date</th>\n",
       "      <th>tx_time</th>\n",
       "      <th>tx_type</th>\n",
       "      <th>tx_amt</th>\n",
       "      <th>exchg_rate</th>\n",
       "      <th>info_asset_code</th>\n",
       "      <th>fiscTxId</th>\n",
       "      <th>txbranch</th>\n",
       "      <th>cross_bank</th>\n",
       "      <th>ATM</th>\n",
       "    </tr>\n",
       "  </thead>\n",
       "  <tbody>\n",
       "    <tr>\n",
       "      <th>0</th>\n",
       "      <td>0015cc01f553512007705edf855baa16f1b57a16fb107e...</td>\n",
       "      <td>CR</td>\n",
       "      <td>11</td>\n",
       "      <td>15</td>\n",
       "      <td>2</td>\n",
       "      <td>826.0</td>\n",
       "      <td>1.000</td>\n",
       "      <td>13</td>\n",
       "      <td>4.0</td>\n",
       "      <td>145.0</td>\n",
       "      <td>1</td>\n",
       "      <td>1</td>\n",
       "    </tr>\n",
       "    <tr>\n",
       "      <th>1</th>\n",
       "      <td>0015cc01f553512007705edf855baa16f1b57a16fb107e...</td>\n",
       "      <td>DB</td>\n",
       "      <td>18</td>\n",
       "      <td>1</td>\n",
       "      <td>2</td>\n",
       "      <td>516.0</td>\n",
       "      <td>1.000</td>\n",
       "      <td>16</td>\n",
       "      <td>NaN</td>\n",
       "      <td>NaN</td>\n",
       "      <td>0</td>\n",
       "      <td>0</td>\n",
       "    </tr>\n",
       "    <tr>\n",
       "      <th>2</th>\n",
       "      <td>0015cc01f553512007705edf855baa16f1b57a16fb107e...</td>\n",
       "      <td>CR</td>\n",
       "      <td>35</td>\n",
       "      <td>15</td>\n",
       "      <td>2</td>\n",
       "      <td>4720.0</td>\n",
       "      <td>27.995</td>\n",
       "      <td>20</td>\n",
       "      <td>NaN</td>\n",
       "      <td>NaN</td>\n",
       "      <td>0</td>\n",
       "      <td>1</td>\n",
       "    </tr>\n",
       "    <tr>\n",
       "      <th>3</th>\n",
       "      <td>0015cc01f553512007705edf855baa16f1b57a16fb107e...</td>\n",
       "      <td>DB</td>\n",
       "      <td>35</td>\n",
       "      <td>15</td>\n",
       "      <td>2</td>\n",
       "      <td>526.0</td>\n",
       "      <td>27.995</td>\n",
       "      <td>20</td>\n",
       "      <td>NaN</td>\n",
       "      <td>NaN</td>\n",
       "      <td>0</td>\n",
       "      <td>1</td>\n",
       "    </tr>\n",
       "    <tr>\n",
       "      <th>4</th>\n",
       "      <td>0015cc01f553512007705edf855baa16f1b57a16fb107e...</td>\n",
       "      <td>CR</td>\n",
       "      <td>42</td>\n",
       "      <td>10</td>\n",
       "      <td>2</td>\n",
       "      <td>2064.0</td>\n",
       "      <td>1.000</td>\n",
       "      <td>13</td>\n",
       "      <td>4.0</td>\n",
       "      <td>145.0</td>\n",
       "      <td>1</td>\n",
       "      <td>1</td>\n",
       "    </tr>\n",
       "  </tbody>\n",
       "</table>\n",
       "</div>"
      ],
      "text/plain": [
       "                                             cust_id debit_credit  tx_date  \\\n",
       "0  0015cc01f553512007705edf855baa16f1b57a16fb107e...           CR       11   \n",
       "1  0015cc01f553512007705edf855baa16f1b57a16fb107e...           DB       18   \n",
       "2  0015cc01f553512007705edf855baa16f1b57a16fb107e...           CR       35   \n",
       "3  0015cc01f553512007705edf855baa16f1b57a16fb107e...           DB       35   \n",
       "4  0015cc01f553512007705edf855baa16f1b57a16fb107e...           CR       42   \n",
       "\n",
       "   tx_time  tx_type  tx_amt  exchg_rate  info_asset_code  fiscTxId  txbranch  \\\n",
       "0       15        2   826.0       1.000               13       4.0     145.0   \n",
       "1        1        2   516.0       1.000               16       NaN       NaN   \n",
       "2       15        2  4720.0      27.995               20       NaN       NaN   \n",
       "3       15        2   526.0      27.995               20       NaN       NaN   \n",
       "4       10        2  2064.0       1.000               13       4.0     145.0   \n",
       "\n",
       "   cross_bank  ATM  \n",
       "0           1    1  \n",
       "1           0    0  \n",
       "2           0    1  \n",
       "3           0    1  \n",
       "4           1    1  "
      ]
     },
     "execution_count": 34,
     "metadata": {},
     "output_type": "execute_result"
    }
   ],
   "source": [
    "print(df4.shape)\n",
    "print(\"cust_id:\", df4[\"cust_id\"].nunique())\n",
    "df4.head()"
   ]
  },
  {
   "cell_type": "code",
   "execution_count": 35,
   "metadata": {},
   "outputs": [
    {
     "data": {
      "text/html": [
       "<div>\n",
       "<style scoped>\n",
       "    .dataframe tbody tr th:only-of-type {\n",
       "        vertical-align: middle;\n",
       "    }\n",
       "\n",
       "    .dataframe tbody tr th {\n",
       "        vertical-align: top;\n",
       "    }\n",
       "\n",
       "    .dataframe thead th {\n",
       "        text-align: right;\n",
       "    }\n",
       "</style>\n",
       "<table border=\"1\" class=\"dataframe\">\n",
       "  <thead>\n",
       "    <tr style=\"text-align: right;\">\n",
       "      <th></th>\n",
       "      <th>cust_id</th>\n",
       "      <th>debit_credit</th>\n",
       "      <th>tx_date</th>\n",
       "      <th>tx_time</th>\n",
       "      <th>tx_type</th>\n",
       "      <th>tx_amt</th>\n",
       "      <th>exchg_rate</th>\n",
       "      <th>info_asset_code</th>\n",
       "      <th>fiscTxId</th>\n",
       "      <th>txbranch</th>\n",
       "      <th>cross_bank</th>\n",
       "      <th>ATM</th>\n",
       "    </tr>\n",
       "  </thead>\n",
       "  <tbody>\n",
       "    <tr>\n",
       "      <th>0</th>\n",
       "      <td>0015cc01f553512007705edf855baa16f1b57a16fb107e...</td>\n",
       "      <td>CR</td>\n",
       "      <td>2021-04-12</td>\n",
       "      <td>15</td>\n",
       "      <td>2</td>\n",
       "      <td>826.0</td>\n",
       "      <td>1.000</td>\n",
       "      <td>13</td>\n",
       "      <td>4.0</td>\n",
       "      <td>145.0</td>\n",
       "      <td>1</td>\n",
       "      <td>1</td>\n",
       "    </tr>\n",
       "    <tr>\n",
       "      <th>1</th>\n",
       "      <td>0015cc01f553512007705edf855baa16f1b57a16fb107e...</td>\n",
       "      <td>DB</td>\n",
       "      <td>2021-04-19</td>\n",
       "      <td>1</td>\n",
       "      <td>2</td>\n",
       "      <td>516.0</td>\n",
       "      <td>1.000</td>\n",
       "      <td>16</td>\n",
       "      <td>NaN</td>\n",
       "      <td>NaN</td>\n",
       "      <td>0</td>\n",
       "      <td>0</td>\n",
       "    </tr>\n",
       "    <tr>\n",
       "      <th>2</th>\n",
       "      <td>0015cc01f553512007705edf855baa16f1b57a16fb107e...</td>\n",
       "      <td>CR</td>\n",
       "      <td>2021-05-06</td>\n",
       "      <td>15</td>\n",
       "      <td>2</td>\n",
       "      <td>4720.0</td>\n",
       "      <td>27.995</td>\n",
       "      <td>20</td>\n",
       "      <td>NaN</td>\n",
       "      <td>NaN</td>\n",
       "      <td>0</td>\n",
       "      <td>1</td>\n",
       "    </tr>\n",
       "    <tr>\n",
       "      <th>3</th>\n",
       "      <td>0015cc01f553512007705edf855baa16f1b57a16fb107e...</td>\n",
       "      <td>DB</td>\n",
       "      <td>2021-05-06</td>\n",
       "      <td>15</td>\n",
       "      <td>2</td>\n",
       "      <td>526.0</td>\n",
       "      <td>27.995</td>\n",
       "      <td>20</td>\n",
       "      <td>NaN</td>\n",
       "      <td>NaN</td>\n",
       "      <td>0</td>\n",
       "      <td>1</td>\n",
       "    </tr>\n",
       "    <tr>\n",
       "      <th>4</th>\n",
       "      <td>0015cc01f553512007705edf855baa16f1b57a16fb107e...</td>\n",
       "      <td>CR</td>\n",
       "      <td>2021-05-13</td>\n",
       "      <td>10</td>\n",
       "      <td>2</td>\n",
       "      <td>2064.0</td>\n",
       "      <td>1.000</td>\n",
       "      <td>13</td>\n",
       "      <td>4.0</td>\n",
       "      <td>145.0</td>\n",
       "      <td>1</td>\n",
       "      <td>1</td>\n",
       "    </tr>\n",
       "  </tbody>\n",
       "</table>\n",
       "</div>"
      ],
      "text/plain": [
       "                                             cust_id debit_credit    tx_date  \\\n",
       "0  0015cc01f553512007705edf855baa16f1b57a16fb107e...           CR 2021-04-12   \n",
       "1  0015cc01f553512007705edf855baa16f1b57a16fb107e...           DB 2021-04-19   \n",
       "2  0015cc01f553512007705edf855baa16f1b57a16fb107e...           CR 2021-05-06   \n",
       "3  0015cc01f553512007705edf855baa16f1b57a16fb107e...           DB 2021-05-06   \n",
       "4  0015cc01f553512007705edf855baa16f1b57a16fb107e...           CR 2021-05-13   \n",
       "\n",
       "   tx_time  tx_type  tx_amt  exchg_rate  info_asset_code  fiscTxId  txbranch  \\\n",
       "0       15        2   826.0       1.000               13       4.0     145.0   \n",
       "1        1        2   516.0       1.000               16       NaN       NaN   \n",
       "2       15        2  4720.0      27.995               20       NaN       NaN   \n",
       "3       15        2   526.0      27.995               20       NaN       NaN   \n",
       "4       10        2  2064.0       1.000               13       4.0     145.0   \n",
       "\n",
       "   cross_bank  ATM  \n",
       "0           1    1  \n",
       "1           0    0  \n",
       "2           0    1  \n",
       "3           0    1  \n",
       "4           1    1  "
      ]
     },
     "execution_count": 35,
     "metadata": {},
     "output_type": "execute_result"
    }
   ],
   "source": [
    "df4[\"tx_date\"] = df4[\"tx_date\"].map(date_map)\n",
    "df4[\"tx_date\"] = pd.to_datetime(df4[\"tx_date\"])\n",
    "df4.head()"
   ]
  },
  {
   "cell_type": "code",
   "execution_count": 36,
   "metadata": {},
   "outputs": [
    {
     "data": {
      "text/html": [
       "<div>\n",
       "<style scoped>\n",
       "    .dataframe tbody tr th:only-of-type {\n",
       "        vertical-align: middle;\n",
       "    }\n",
       "\n",
       "    .dataframe tbody tr th {\n",
       "        vertical-align: top;\n",
       "    }\n",
       "\n",
       "    .dataframe thead th {\n",
       "        text-align: right;\n",
       "    }\n",
       "</style>\n",
       "<table border=\"1\" class=\"dataframe\">\n",
       "  <thead>\n",
       "    <tr style=\"text-align: right;\">\n",
       "      <th></th>\n",
       "      <th>cust_id</th>\n",
       "      <th>debit_credit</th>\n",
       "      <th>tx_date</th>\n",
       "      <th>tx_time</th>\n",
       "      <th>tx_type</th>\n",
       "      <th>tx_amt</th>\n",
       "      <th>exchg_rate</th>\n",
       "      <th>info_asset_code</th>\n",
       "      <th>fiscTxId</th>\n",
       "      <th>txbranch</th>\n",
       "      <th>cross_bank</th>\n",
       "      <th>ATM</th>\n",
       "    </tr>\n",
       "  </thead>\n",
       "  <tbody>\n",
       "    <tr>\n",
       "      <th>0</th>\n",
       "      <td>0015cc01f553512007705edf855baa16f1b57a16fb107e...</td>\n",
       "      <td>CR</td>\n",
       "      <td>2021-04-12</td>\n",
       "      <td>2021-04-12 15:00:00</td>\n",
       "      <td>2</td>\n",
       "      <td>826.0</td>\n",
       "      <td>1.000</td>\n",
       "      <td>13</td>\n",
       "      <td>4.0</td>\n",
       "      <td>145.0</td>\n",
       "      <td>1</td>\n",
       "      <td>1</td>\n",
       "    </tr>\n",
       "    <tr>\n",
       "      <th>1</th>\n",
       "      <td>0015cc01f553512007705edf855baa16f1b57a16fb107e...</td>\n",
       "      <td>DB</td>\n",
       "      <td>2021-04-19</td>\n",
       "      <td>2021-04-19 01:00:00</td>\n",
       "      <td>2</td>\n",
       "      <td>516.0</td>\n",
       "      <td>1.000</td>\n",
       "      <td>16</td>\n",
       "      <td>NaN</td>\n",
       "      <td>NaN</td>\n",
       "      <td>0</td>\n",
       "      <td>0</td>\n",
       "    </tr>\n",
       "    <tr>\n",
       "      <th>2</th>\n",
       "      <td>0015cc01f553512007705edf855baa16f1b57a16fb107e...</td>\n",
       "      <td>CR</td>\n",
       "      <td>2021-05-06</td>\n",
       "      <td>2021-05-06 15:00:00</td>\n",
       "      <td>2</td>\n",
       "      <td>4720.0</td>\n",
       "      <td>27.995</td>\n",
       "      <td>20</td>\n",
       "      <td>NaN</td>\n",
       "      <td>NaN</td>\n",
       "      <td>0</td>\n",
       "      <td>1</td>\n",
       "    </tr>\n",
       "    <tr>\n",
       "      <th>3</th>\n",
       "      <td>0015cc01f553512007705edf855baa16f1b57a16fb107e...</td>\n",
       "      <td>DB</td>\n",
       "      <td>2021-05-06</td>\n",
       "      <td>2021-05-06 15:00:00</td>\n",
       "      <td>2</td>\n",
       "      <td>526.0</td>\n",
       "      <td>27.995</td>\n",
       "      <td>20</td>\n",
       "      <td>NaN</td>\n",
       "      <td>NaN</td>\n",
       "      <td>0</td>\n",
       "      <td>1</td>\n",
       "    </tr>\n",
       "    <tr>\n",
       "      <th>4</th>\n",
       "      <td>0015cc01f553512007705edf855baa16f1b57a16fb107e...</td>\n",
       "      <td>CR</td>\n",
       "      <td>2021-05-13</td>\n",
       "      <td>2021-05-13 10:00:00</td>\n",
       "      <td>2</td>\n",
       "      <td>2064.0</td>\n",
       "      <td>1.000</td>\n",
       "      <td>13</td>\n",
       "      <td>4.0</td>\n",
       "      <td>145.0</td>\n",
       "      <td>1</td>\n",
       "      <td>1</td>\n",
       "    </tr>\n",
       "  </tbody>\n",
       "</table>\n",
       "</div>"
      ],
      "text/plain": [
       "                                             cust_id debit_credit    tx_date  \\\n",
       "0  0015cc01f553512007705edf855baa16f1b57a16fb107e...           CR 2021-04-12   \n",
       "1  0015cc01f553512007705edf855baa16f1b57a16fb107e...           DB 2021-04-19   \n",
       "2  0015cc01f553512007705edf855baa16f1b57a16fb107e...           CR 2021-05-06   \n",
       "3  0015cc01f553512007705edf855baa16f1b57a16fb107e...           DB 2021-05-06   \n",
       "4  0015cc01f553512007705edf855baa16f1b57a16fb107e...           CR 2021-05-13   \n",
       "\n",
       "               tx_time  tx_type  tx_amt  exchg_rate  info_asset_code  \\\n",
       "0  2021-04-12 15:00:00        2   826.0       1.000               13   \n",
       "1  2021-04-19 01:00:00        2   516.0       1.000               16   \n",
       "2  2021-05-06 15:00:00        2  4720.0      27.995               20   \n",
       "3  2021-05-06 15:00:00        2   526.0      27.995               20   \n",
       "4  2021-05-13 10:00:00        2  2064.0       1.000               13   \n",
       "\n",
       "   fiscTxId  txbranch  cross_bank  ATM  \n",
       "0       4.0     145.0           1    1  \n",
       "1       NaN       NaN           0    0  \n",
       "2       NaN       NaN           0    1  \n",
       "3       NaN       NaN           0    1  \n",
       "4       4.0     145.0           1    1  "
      ]
     },
     "execution_count": 36,
     "metadata": {},
     "output_type": "execute_result"
    }
   ],
   "source": [
    "for i in range(len(df4)):\n",
    "    df4.iloc[i, 3] = df4.iloc[i, 2] + datetime.timedelta(hours = int(df4.iloc[i, 3]))\n",
    "    # df4.iloc[i, 2] = df4.iloc[i, 2] + datetime.timedelta(hours = int(df4.iloc[i, 3]))\n",
    "df4.head()"
   ]
  },
  {
   "cell_type": "markdown",
   "metadata": {},
   "source": [
    "df4 = df4.drop(\"tx_time\", axis = 1)"
   ]
  },
  {
   "cell_type": "code",
   "execution_count": 37,
   "metadata": {},
   "outputs": [],
   "source": [
    "df4.to_csv(\"data/inverse/dp.csv\", index = False)"
   ]
  },
  {
   "cell_type": "markdown",
   "metadata": {},
   "source": [
    "### remit(df5) - 外匯匯出資料(日)"
   ]
  },
  {
   "cell_type": "code",
   "execution_count": 38,
   "metadata": {},
   "outputs": [
    {
     "name": "stdout",
     "output_type": "stream",
     "text": [
      "(17167, 4)\n",
      "cust_id: 1144\n"
     ]
    },
    {
     "data": {
      "text/html": [
       "<div>\n",
       "<style scoped>\n",
       "    .dataframe tbody tr th:only-of-type {\n",
       "        vertical-align: middle;\n",
       "    }\n",
       "\n",
       "    .dataframe tbody tr th {\n",
       "        vertical-align: top;\n",
       "    }\n",
       "\n",
       "    .dataframe thead th {\n",
       "        text-align: right;\n",
       "    }\n",
       "</style>\n",
       "<table border=\"1\" class=\"dataframe\">\n",
       "  <thead>\n",
       "    <tr style=\"text-align: right;\">\n",
       "      <th></th>\n",
       "      <th>cust_id</th>\n",
       "      <th>trans_date</th>\n",
       "      <th>trans_no</th>\n",
       "      <th>trade_amount_usd</th>\n",
       "    </tr>\n",
       "  </thead>\n",
       "  <tbody>\n",
       "    <tr>\n",
       "      <th>0</th>\n",
       "      <td>002f13f534d0bd9fcc1848db3ff5c7b1179d117f8de805...</td>\n",
       "      <td>153</td>\n",
       "      <td>4</td>\n",
       "      <td>343647.0</td>\n",
       "    </tr>\n",
       "    <tr>\n",
       "      <th>1</th>\n",
       "      <td>0032adaf4a8731b4d6a3fdcba32f9ebdcd336490eda155...</td>\n",
       "      <td>223</td>\n",
       "      <td>3</td>\n",
       "      <td>6071.0</td>\n",
       "    </tr>\n",
       "    <tr>\n",
       "      <th>2</th>\n",
       "      <td>0032adaf4a8731b4d6a3fdcba32f9ebdcd336490eda155...</td>\n",
       "      <td>312</td>\n",
       "      <td>4</td>\n",
       "      <td>60024.0</td>\n",
       "    </tr>\n",
       "    <tr>\n",
       "      <th>3</th>\n",
       "      <td>0032adaf4a8731b4d6a3fdcba32f9ebdcd336490eda155...</td>\n",
       "      <td>328</td>\n",
       "      <td>4</td>\n",
       "      <td>531413.0</td>\n",
       "    </tr>\n",
       "    <tr>\n",
       "      <th>4</th>\n",
       "      <td>0032adaf4a8731b4d6a3fdcba32f9ebdcd336490eda155...</td>\n",
       "      <td>356</td>\n",
       "      <td>0</td>\n",
       "      <td>2109.0</td>\n",
       "    </tr>\n",
       "  </tbody>\n",
       "</table>\n",
       "</div>"
      ],
      "text/plain": [
       "                                             cust_id  trans_date  trans_no  \\\n",
       "0  002f13f534d0bd9fcc1848db3ff5c7b1179d117f8de805...         153         4   \n",
       "1  0032adaf4a8731b4d6a3fdcba32f9ebdcd336490eda155...         223         3   \n",
       "2  0032adaf4a8731b4d6a3fdcba32f9ebdcd336490eda155...         312         4   \n",
       "3  0032adaf4a8731b4d6a3fdcba32f9ebdcd336490eda155...         328         4   \n",
       "4  0032adaf4a8731b4d6a3fdcba32f9ebdcd336490eda155...         356         0   \n",
       "\n",
       "   trade_amount_usd  \n",
       "0          343647.0  \n",
       "1            6071.0  \n",
       "2           60024.0  \n",
       "3          531413.0  \n",
       "4            2109.0  "
      ]
     },
     "execution_count": 38,
     "metadata": {},
     "output_type": "execute_result"
    }
   ],
   "source": [
    "print(df5.shape)\n",
    "print(\"cust_id:\", df5[\"cust_id\"].nunique())\n",
    "df5.head()"
   ]
  },
  {
   "cell_type": "code",
   "execution_count": 39,
   "metadata": {},
   "outputs": [
    {
     "data": {
      "text/html": [
       "<div>\n",
       "<style scoped>\n",
       "    .dataframe tbody tr th:only-of-type {\n",
       "        vertical-align: middle;\n",
       "    }\n",
       "\n",
       "    .dataframe tbody tr th {\n",
       "        vertical-align: top;\n",
       "    }\n",
       "\n",
       "    .dataframe thead th {\n",
       "        text-align: right;\n",
       "    }\n",
       "</style>\n",
       "<table border=\"1\" class=\"dataframe\">\n",
       "  <thead>\n",
       "    <tr style=\"text-align: right;\">\n",
       "      <th></th>\n",
       "      <th>cust_id</th>\n",
       "      <th>trans_date</th>\n",
       "      <th>trans_no</th>\n",
       "      <th>trade_amount_usd</th>\n",
       "    </tr>\n",
       "  </thead>\n",
       "  <tbody>\n",
       "    <tr>\n",
       "      <th>0</th>\n",
       "      <td>002f13f534d0bd9fcc1848db3ff5c7b1179d117f8de805...</td>\n",
       "      <td>2021-09-01</td>\n",
       "      <td>4</td>\n",
       "      <td>343647.0</td>\n",
       "    </tr>\n",
       "    <tr>\n",
       "      <th>1</th>\n",
       "      <td>0032adaf4a8731b4d6a3fdcba32f9ebdcd336490eda155...</td>\n",
       "      <td>2021-11-10</td>\n",
       "      <td>3</td>\n",
       "      <td>6071.0</td>\n",
       "    </tr>\n",
       "    <tr>\n",
       "      <th>2</th>\n",
       "      <td>0032adaf4a8731b4d6a3fdcba32f9ebdcd336490eda155...</td>\n",
       "      <td>2022-02-07</td>\n",
       "      <td>4</td>\n",
       "      <td>60024.0</td>\n",
       "    </tr>\n",
       "    <tr>\n",
       "      <th>3</th>\n",
       "      <td>0032adaf4a8731b4d6a3fdcba32f9ebdcd336490eda155...</td>\n",
       "      <td>2022-02-23</td>\n",
       "      <td>4</td>\n",
       "      <td>531413.0</td>\n",
       "    </tr>\n",
       "    <tr>\n",
       "      <th>4</th>\n",
       "      <td>0032adaf4a8731b4d6a3fdcba32f9ebdcd336490eda155...</td>\n",
       "      <td>2022-03-23</td>\n",
       "      <td>0</td>\n",
       "      <td>2109.0</td>\n",
       "    </tr>\n",
       "  </tbody>\n",
       "</table>\n",
       "</div>"
      ],
      "text/plain": [
       "                                             cust_id  trans_date  trans_no  \\\n",
       "0  002f13f534d0bd9fcc1848db3ff5c7b1179d117f8de805...  2021-09-01         4   \n",
       "1  0032adaf4a8731b4d6a3fdcba32f9ebdcd336490eda155...  2021-11-10         3   \n",
       "2  0032adaf4a8731b4d6a3fdcba32f9ebdcd336490eda155...  2022-02-07         4   \n",
       "3  0032adaf4a8731b4d6a3fdcba32f9ebdcd336490eda155...  2022-02-23         4   \n",
       "4  0032adaf4a8731b4d6a3fdcba32f9ebdcd336490eda155...  2022-03-23         0   \n",
       "\n",
       "   trade_amount_usd  \n",
       "0          343647.0  \n",
       "1            6071.0  \n",
       "2           60024.0  \n",
       "3          531413.0  \n",
       "4            2109.0  "
      ]
     },
     "execution_count": 39,
     "metadata": {},
     "output_type": "execute_result"
    }
   ],
   "source": [
    "# 日期逆轉換\n",
    "df5[\"trans_date\"] = df5[\"trans_date\"].map(date_map)\n",
    "df5.head()"
   ]
  },
  {
   "cell_type": "code",
   "execution_count": 40,
   "metadata": {},
   "outputs": [],
   "source": [
    "df5.to_csv(\"data/inverse/remit.csv\", index = False)"
   ]
  },
  {
   "cell_type": "markdown",
   "metadata": {},
   "source": [
    "## Statistical report"
   ]
  },
  {
   "cell_type": "code",
   "execution_count": 41,
   "metadata": {},
   "outputs": [],
   "source": [
    "import pandas as pd\n",
    "\n",
    "info = pd.read_csv(\"data/inverse/info.csv\")\n",
    "ccba = pd.read_csv(\"data/inverse/ccba.csv\")\n",
    "cdtx = pd.read_csv(\"data/inverse/cdtx.csv\")\n",
    "dp = pd.read_csv(\"data/inverse/dp.csv\")\n",
    "remit = pd.read_csv(\"data/inverse/remit.csv\")"
   ]
  },
  {
   "cell_type": "code",
   "execution_count": 42,
   "metadata": {},
   "outputs": [
    {
     "name": "stdout",
     "output_type": "stream",
     "text": [
      "custinfo: (25751, 8)\n"
     ]
    },
    {
     "data": {
      "application/vnd.jupyter.widget-view+json": {
       "model_id": "a69191cccb454c8ba3abca3fa931482a",
       "version_major": 2,
       "version_minor": 0
      },
      "text/plain": [
       "Summarize dataset:   0%|          | 0/5 [00:00<?, ?it/s]"
      ]
     },
     "metadata": {},
     "output_type": "display_data"
    },
    {
     "data": {
      "application/vnd.jupyter.widget-view+json": {
       "model_id": "13139a4a8763402ba14d98a5d15a13fe",
       "version_major": 2,
       "version_minor": 0
      },
      "text/plain": [
       "Generate report structure:   0%|          | 0/1 [00:00<?, ?it/s]"
      ]
     },
     "metadata": {},
     "output_type": "display_data"
    },
    {
     "data": {
      "application/vnd.jupyter.widget-view+json": {
       "model_id": "8d4fbe22da6449b5b9adf4185bf7dcd8",
       "version_major": 2,
       "version_minor": 0
      },
      "text/plain": [
       "Render HTML:   0%|          | 0/1 [00:00<?, ?it/s]"
      ]
     },
     "metadata": {},
     "output_type": "display_data"
    },
    {
     "data": {
      "application/vnd.jupyter.widget-view+json": {
       "model_id": "fcb40bf2a420405889901965da36f273",
       "version_major": 2,
       "version_minor": 0
      },
      "text/plain": [
       "Export report to file:   0%|          | 0/1 [00:00<?, ?it/s]"
      ]
     },
     "metadata": {},
     "output_type": "display_data"
    },
    {
     "name": "stdout",
     "output_type": "stream",
     "text": [
      "ccba: (59075, 10)\n"
     ]
    },
    {
     "data": {
      "application/vnd.jupyter.widget-view+json": {
       "model_id": "3bf7c87aac4a43de92f3f9454b4cee38",
       "version_major": 2,
       "version_minor": 0
      },
      "text/plain": [
       "Summarize dataset:   0%|          | 0/5 [00:00<?, ?it/s]"
      ]
     },
     "metadata": {},
     "output_type": "display_data"
    },
    {
     "data": {
      "application/vnd.jupyter.widget-view+json": {
       "model_id": "d92be11489f24d8b999c9c52fd2a22d2",
       "version_major": 2,
       "version_minor": 0
      },
      "text/plain": [
       "Generate report structure:   0%|          | 0/1 [00:00<?, ?it/s]"
      ]
     },
     "metadata": {},
     "output_type": "display_data"
    },
    {
     "data": {
      "application/vnd.jupyter.widget-view+json": {
       "model_id": "b66463ab1f514b5f9eb1bed668b3c2b7",
       "version_major": 2,
       "version_minor": 0
      },
      "text/plain": [
       "Render HTML:   0%|          | 0/1 [00:00<?, ?it/s]"
      ]
     },
     "metadata": {},
     "output_type": "display_data"
    },
    {
     "data": {
      "application/vnd.jupyter.widget-view+json": {
       "model_id": "eb3c4bbbd7594309907401d716be26e6",
       "version_major": 2,
       "version_minor": 0
      },
      "text/plain": [
       "Export report to file:   0%|          | 0/1 [00:00<?, ?it/s]"
      ]
     },
     "metadata": {},
     "output_type": "display_data"
    },
    {
     "name": "stdout",
     "output_type": "stream",
     "text": [
      "cdtx: (1043014, 5)\n"
     ]
    },
    {
     "data": {
      "application/vnd.jupyter.widget-view+json": {
       "model_id": "a57699006e144ba2873f46da537f74a4",
       "version_major": 2,
       "version_minor": 0
      },
      "text/plain": [
       "Summarize dataset:   0%|          | 0/5 [00:00<?, ?it/s]"
      ]
     },
     "metadata": {},
     "output_type": "display_data"
    },
    {
     "data": {
      "application/vnd.jupyter.widget-view+json": {
       "model_id": "43130bc979d54616b40e81eeff56f7ad",
       "version_major": 2,
       "version_minor": 0
      },
      "text/plain": [
       "Generate report structure:   0%|          | 0/1 [00:00<?, ?it/s]"
      ]
     },
     "metadata": {},
     "output_type": "display_data"
    },
    {
     "data": {
      "application/vnd.jupyter.widget-view+json": {
       "model_id": "3d67afaeb2c64e02b1a64958d2345806",
       "version_major": 2,
       "version_minor": 0
      },
      "text/plain": [
       "Render HTML:   0%|          | 0/1 [00:00<?, ?it/s]"
      ]
     },
     "metadata": {},
     "output_type": "display_data"
    },
    {
     "data": {
      "application/vnd.jupyter.widget-view+json": {
       "model_id": "aa26d1ab6d644ca9a43884d0ecbbc316",
       "version_major": 2,
       "version_minor": 0
      },
      "text/plain": [
       "Export report to file:   0%|          | 0/1 [00:00<?, ?it/s]"
      ]
     },
     "metadata": {},
     "output_type": "display_data"
    },
    {
     "name": "stdout",
     "output_type": "stream",
     "text": [
      "dp: (1969818, 12)\n"
     ]
    },
    {
     "data": {
      "application/vnd.jupyter.widget-view+json": {
       "model_id": "38aba840f8224e4a9cbd88d0f2fd7eb2",
       "version_major": 2,
       "version_minor": 0
      },
      "text/plain": [
       "Summarize dataset:   0%|          | 0/5 [00:00<?, ?it/s]"
      ]
     },
     "metadata": {},
     "output_type": "display_data"
    },
    {
     "data": {
      "application/vnd.jupyter.widget-view+json": {
       "model_id": "9f7ecc2ec88a4b9e818a6e25939b364e",
       "version_major": 2,
       "version_minor": 0
      },
      "text/plain": [
       "Generate report structure:   0%|          | 0/1 [00:00<?, ?it/s]"
      ]
     },
     "metadata": {},
     "output_type": "display_data"
    },
    {
     "data": {
      "application/vnd.jupyter.widget-view+json": {
       "model_id": "e09adbc66e4542b495ad951bcfcdcfe6",
       "version_major": 2,
       "version_minor": 0
      },
      "text/plain": [
       "Render HTML:   0%|          | 0/1 [00:00<?, ?it/s]"
      ]
     },
     "metadata": {},
     "output_type": "display_data"
    },
    {
     "data": {
      "application/vnd.jupyter.widget-view+json": {
       "model_id": "bf2336bb255449fc95b7ced7ad3e8561",
       "version_major": 2,
       "version_minor": 0
      },
      "text/plain": [
       "Export report to file:   0%|          | 0/1 [00:00<?, ?it/s]"
      ]
     },
     "metadata": {},
     "output_type": "display_data"
    },
    {
     "name": "stdout",
     "output_type": "stream",
     "text": [
      "remit: (17167, 4)\n"
     ]
    },
    {
     "data": {
      "application/vnd.jupyter.widget-view+json": {
       "model_id": "999cab6821024458aeba677b84450168",
       "version_major": 2,
       "version_minor": 0
      },
      "text/plain": [
       "Summarize dataset:   0%|          | 0/5 [00:00<?, ?it/s]"
      ]
     },
     "metadata": {},
     "output_type": "display_data"
    },
    {
     "data": {
      "application/vnd.jupyter.widget-view+json": {
       "model_id": "8799cab7125f4d02b85e98bc4c2766bc",
       "version_major": 2,
       "version_minor": 0
      },
      "text/plain": [
       "Generate report structure:   0%|          | 0/1 [00:00<?, ?it/s]"
      ]
     },
     "metadata": {},
     "output_type": "display_data"
    },
    {
     "data": {
      "application/vnd.jupyter.widget-view+json": {
       "model_id": "1179384eece241bc91b14bc3b8463c3c",
       "version_major": 2,
       "version_minor": 0
      },
      "text/plain": [
       "Render HTML:   0%|          | 0/1 [00:00<?, ?it/s]"
      ]
     },
     "metadata": {},
     "output_type": "display_data"
    },
    {
     "data": {
      "application/vnd.jupyter.widget-view+json": {
       "model_id": "3d740cb44fe54537908b114356ca98dd",
       "version_major": 2,
       "version_minor": 0
      },
      "text/plain": [
       "Export report to file:   0%|          | 0/1 [00:00<?, ?it/s]"
      ]
     },
     "metadata": {},
     "output_type": "display_data"
    }
   ],
   "source": [
    "from pandas_profiling import ProfileReport\n",
    "\n",
    "names = ['custinfo', 'ccba', 'cdtx', 'dp', 'remit']\n",
    "datas = [info, ccba, cdtx, dp, remit]\n",
    "num_files = len(datas)\n",
    "\n",
    "for i in range(num_files):\n",
    "    print(f'{names[i]}: {datas[i].shape}')\n",
    "    profile = ProfileReport(datas[i], minimal=True, title=names[i])\n",
    "    profile.to_file(f'data/data_report/{names[i]}.html', )"
   ]
  }
 ],
 "metadata": {
  "kernelspec": {
   "display_name": "Python 3.8.7 ('.venv': venv)",
   "language": "python",
   "name": "python3"
  },
  "language_info": {
   "codemirror_mode": {
    "name": "ipython",
    "version": 3
   },
   "file_extension": ".py",
   "mimetype": "text/x-python",
   "name": "python",
   "nbconvert_exporter": "python",
   "pygments_lexer": "ipython3",
   "version": "3.8.7"
  },
  "orig_nbformat": 4,
  "vscode": {
   "interpreter": {
    "hash": "6a07fcf0145f94b3f971c13d061528107de20ab7b779375f96dab9bbac6a85db"
   }
  }
 },
 "nbformat": 4,
 "nbformat_minor": 2
}
