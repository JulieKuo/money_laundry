{
 "cells": [
  {
   "cell_type": "code",
   "execution_count": 1,
   "metadata": {},
   "outputs": [],
   "source": [
    "import pandas as pd\n",
    "import numpy as np\n",
    "import seaborn as sns\n",
    "import matplotlib.pyplot as plt\n",
    "import missingno as msno\n",
    "from sklearn.model_selection import train_test_split\n",
    "import warnings\n",
    "warnings.filterwarnings(\"ignore\")"
   ]
  },
  {
   "cell_type": "markdown",
   "metadata": {},
   "source": [
    "## Load data"
   ]
  },
  {
   "cell_type": "code",
   "execution_count": 2,
   "metadata": {},
   "outputs": [
    {
     "data": {
      "text/html": [
       "<div>\n",
       "<style scoped>\n",
       "    .dataframe tbody tr th:only-of-type {\n",
       "        vertical-align: middle;\n",
       "    }\n",
       "\n",
       "    .dataframe tbody tr th {\n",
       "        vertical-align: top;\n",
       "    }\n",
       "\n",
       "    .dataframe thead th {\n",
       "        text-align: right;\n",
       "    }\n",
       "</style>\n",
       "<table border=\"1\" class=\"dataframe\">\n",
       "  <thead>\n",
       "    <tr style=\"text-align: right;\">\n",
       "      <th></th>\n",
       "      <th>alert_key</th>\n",
       "      <th>date</th>\n",
       "      <th>sar_flag</th>\n",
       "      <th>cust_id</th>\n",
       "      <th>risk_rank</th>\n",
       "      <th>occupation_code</th>\n",
       "      <th>total_asset</th>\n",
       "      <th>AGE</th>\n",
       "    </tr>\n",
       "  </thead>\n",
       "  <tbody>\n",
       "    <tr>\n",
       "      <th>0</th>\n",
       "      <td>171142</td>\n",
       "      <td>0</td>\n",
       "      <td>0.0</td>\n",
       "      <td>a39fea9aec90969fe66a2b2b4d1b86368a2d38e8b8d4bf...</td>\n",
       "      <td>3</td>\n",
       "      <td>12.0</td>\n",
       "      <td>241719.0</td>\n",
       "      <td>3</td>\n",
       "    </tr>\n",
       "    <tr>\n",
       "      <th>1</th>\n",
       "      <td>171152</td>\n",
       "      <td>0</td>\n",
       "      <td>0.0</td>\n",
       "      <td>7e42b5dca9b28ee8e5545beb834361e90e6197d176b389...</td>\n",
       "      <td>3</td>\n",
       "      <td>13.0</td>\n",
       "      <td>599497.0</td>\n",
       "      <td>6</td>\n",
       "    </tr>\n",
       "    <tr>\n",
       "      <th>2</th>\n",
       "      <td>171177</td>\n",
       "      <td>0</td>\n",
       "      <td>0.0</td>\n",
       "      <td>a6cdf6302aead77112013168c6d546d2df3bcb551956d2...</td>\n",
       "      <td>1</td>\n",
       "      <td>19.0</td>\n",
       "      <td>51160.0</td>\n",
       "      <td>4</td>\n",
       "    </tr>\n",
       "    <tr>\n",
       "      <th>3</th>\n",
       "      <td>171178</td>\n",
       "      <td>0</td>\n",
       "      <td>0.0</td>\n",
       "      <td>1a3efa69705f611c7ef2384a715c8142e2ee801cfec9df...</td>\n",
       "      <td>3</td>\n",
       "      <td>9.0</td>\n",
       "      <td>3634343.0</td>\n",
       "      <td>6</td>\n",
       "    </tr>\n",
       "    <tr>\n",
       "      <th>4</th>\n",
       "      <td>171180</td>\n",
       "      <td>0</td>\n",
       "      <td>0.0</td>\n",
       "      <td>67f8cbb64dd3d447e992b1b299e0ceed3372188e47c88e...</td>\n",
       "      <td>1</td>\n",
       "      <td>17.0</td>\n",
       "      <td>4076287.0</td>\n",
       "      <td>4</td>\n",
       "    </tr>\n",
       "  </tbody>\n",
       "</table>\n",
       "</div>"
      ],
      "text/plain": [
       "   alert_key  date  sar_flag  \\\n",
       "0     171142     0       0.0   \n",
       "1     171152     0       0.0   \n",
       "2     171177     0       0.0   \n",
       "3     171178     0       0.0   \n",
       "4     171180     0       0.0   \n",
       "\n",
       "                                             cust_id  risk_rank  \\\n",
       "0  a39fea9aec90969fe66a2b2b4d1b86368a2d38e8b8d4bf...          3   \n",
       "1  7e42b5dca9b28ee8e5545beb834361e90e6197d176b389...          3   \n",
       "2  a6cdf6302aead77112013168c6d546d2df3bcb551956d2...          1   \n",
       "3  1a3efa69705f611c7ef2384a715c8142e2ee801cfec9df...          3   \n",
       "4  67f8cbb64dd3d447e992b1b299e0ceed3372188e47c88e...          1   \n",
       "\n",
       "   occupation_code  total_asset  AGE  \n",
       "0             12.0     241719.0    3  \n",
       "1             13.0     599497.0    6  \n",
       "2             19.0      51160.0    4  \n",
       "3              9.0    3634343.0    6  \n",
       "4             17.0    4076287.0    4  "
      ]
     },
     "execution_count": 2,
     "metadata": {},
     "output_type": "execute_result"
    }
   ],
   "source": [
    "df = pd.read_csv(\"data/data/data_raw.csv\")\n",
    "df.head()"
   ]
  },
  {
   "cell_type": "code",
   "execution_count": 3,
   "metadata": {},
   "outputs": [
    {
     "data": {
      "text/plain": [
       "<AxesSubplot:>"
      ]
     },
     "execution_count": 3,
     "metadata": {},
     "output_type": "execute_result"
    },
    {
     "data": {
      "image/png": "[encoded data removed]",
      "text/plain": [
       "<Figure size 720x576 with 2 Axes>"
      ]
     },
     "metadata": {
      "needs_background": "light"
     },
     "output_type": "display_data"
    }
   ],
   "source": [
    "msno.matrix(df, figsize = (10, 8))\n",
    "# occupation_code有缺失值，sar_flag的缺失值是test資料沒提供預測結果"
   ]
  },
  {
   "cell_type": "markdown",
   "metadata": {},
   "source": [
    "## Label encoding"
   ]
  },
  {
   "cell_type": "code",
   "execution_count": 4,
   "metadata": {},
   "outputs": [
    {
     "data": {
      "text/html": [
       "<div>\n",
       "<style scoped>\n",
       "    .dataframe tbody tr th:only-of-type {\n",
       "        vertical-align: middle;\n",
       "    }\n",
       "\n",
       "    .dataframe tbody tr th {\n",
       "        vertical-align: top;\n",
       "    }\n",
       "\n",
       "    .dataframe thead th {\n",
       "        text-align: right;\n",
       "    }\n",
       "</style>\n",
       "<table border=\"1\" class=\"dataframe\">\n",
       "  <thead>\n",
       "    <tr style=\"text-align: right;\">\n",
       "      <th></th>\n",
       "      <th>alert_key</th>\n",
       "      <th>date</th>\n",
       "      <th>sar_flag</th>\n",
       "      <th>cust_id</th>\n",
       "      <th>risk_rank</th>\n",
       "      <th>occupation_code</th>\n",
       "      <th>total_asset</th>\n",
       "      <th>AGE</th>\n",
       "    </tr>\n",
       "  </thead>\n",
       "  <tbody>\n",
       "    <tr>\n",
       "      <th>0</th>\n",
       "      <td>171142</td>\n",
       "      <td>0</td>\n",
       "      <td>0.0</td>\n",
       "      <td>4962</td>\n",
       "      <td>3</td>\n",
       "      <td>12.0</td>\n",
       "      <td>241719.0</td>\n",
       "      <td>3</td>\n",
       "    </tr>\n",
       "    <tr>\n",
       "      <th>1</th>\n",
       "      <td>171152</td>\n",
       "      <td>0</td>\n",
       "      <td>0.0</td>\n",
       "      <td>3772</td>\n",
       "      <td>3</td>\n",
       "      <td>13.0</td>\n",
       "      <td>599497.0</td>\n",
       "      <td>6</td>\n",
       "    </tr>\n",
       "    <tr>\n",
       "      <th>2</th>\n",
       "      <td>171177</td>\n",
       "      <td>0</td>\n",
       "      <td>0.0</td>\n",
       "      <td>5052</td>\n",
       "      <td>1</td>\n",
       "      <td>19.0</td>\n",
       "      <td>51160.0</td>\n",
       "      <td>4</td>\n",
       "    </tr>\n",
       "    <tr>\n",
       "      <th>3</th>\n",
       "      <td>171178</td>\n",
       "      <td>0</td>\n",
       "      <td>0.0</td>\n",
       "      <td>792</td>\n",
       "      <td>3</td>\n",
       "      <td>9.0</td>\n",
       "      <td>3634343.0</td>\n",
       "      <td>6</td>\n",
       "    </tr>\n",
       "    <tr>\n",
       "      <th>4</th>\n",
       "      <td>171180</td>\n",
       "      <td>0</td>\n",
       "      <td>0.0</td>\n",
       "      <td>3080</td>\n",
       "      <td>1</td>\n",
       "      <td>17.0</td>\n",
       "      <td>4076287.0</td>\n",
       "      <td>4</td>\n",
       "    </tr>\n",
       "  </tbody>\n",
       "</table>\n",
       "</div>"
      ],
      "text/plain": [
       "   alert_key  date  sar_flag  cust_id  risk_rank  occupation_code  \\\n",
       "0     171142     0       0.0     4962          3             12.0   \n",
       "1     171152     0       0.0     3772          3             13.0   \n",
       "2     171177     0       0.0     5052          1             19.0   \n",
       "3     171178     0       0.0      792          3              9.0   \n",
       "4     171180     0       0.0     3080          1             17.0   \n",
       "\n",
       "   total_asset  AGE  \n",
       "0     241719.0    3  \n",
       "1     599497.0    6  \n",
       "2      51160.0    4  \n",
       "3    3634343.0    6  \n",
       "4    4076287.0    4  "
      ]
     },
     "execution_count": 4,
     "metadata": {},
     "output_type": "execute_result"
    }
   ],
   "source": [
    "from sklearn import preprocessing\n",
    "le = preprocessing.LabelEncoder()\n",
    "df[\"cust_id\"] = le.fit_transform(df[\"cust_id\"])\n",
    "df.head()"
   ]
  },
  {
   "cell_type": "markdown",
   "metadata": {},
   "source": [
    "## Feature generation"
   ]
  },
  {
   "cell_type": "code",
   "execution_count": 5,
   "metadata": {},
   "outputs": [],
   "source": [
    "#cust_id是否曾經洗錢過\n",
    "df[\"cust_id_sar\"] = 0\n",
    "sar = df.query(\"sar_flag == 1\")\n",
    "sar_cust_id = sar[\"cust_id\"].unique()\n",
    "\n",
    "a = 0\n",
    "g = df.groupby(\"cust_id\")\n",
    "for i in sar_cust_id:\n",
    "    df1 = g.get_group(i)\n",
    "    sar_idx1 = np.where(df1[\"sar_flag\"])[0][0]\n",
    "    sar_idx2 = df1.iloc[sar_idx1+1:].index\n",
    "    df.loc[sar_idx2, \"cust_id_sar\"] = 1"
   ]
  },
  {
   "cell_type": "code",
   "execution_count": 6,
   "metadata": {},
   "outputs": [],
   "source": [
    "#total_asset的成長率\n",
    "df2 = pd.DataFrame()\n",
    "g = df.groupby(\"cust_id\")\n",
    "cat = g.size().index\n",
    "for i in cat:\n",
    "    df1 = g.get_group(i)\n",
    "    df1[\"total_asset\"] = df1[\"total_asset\"].pct_change().fillna(0)\n",
    "    df1[\"total_asset_change\"] =  df1.eval(\"total_asset != 0\").astype(int)\n",
    "    df1[\"total_asset\"] = df1[\"total_asset\"].replace(np.inf, 0) # total_asset從0增加到某個值的樣本都沒有洗錢，可以0取代inf\n",
    "\n",
    "    df2 = pd.concat([df1, df2], ignore_index = True)\n",
    "df2 = df2.sort_values(\"alert_key\").reset_index(drop = True)\n",
    "df = df2.copy()"
   ]
  },
  {
   "cell_type": "markdown",
   "metadata": {},
   "source": [
    "des = df.describe().T\n",
    "des[\"unique\"] = df.nunique()\n",
    "des"
   ]
  },
  {
   "cell_type": "markdown",
   "metadata": {},
   "source": [
    "## Split train & test data"
   ]
  },
  {
   "cell_type": "code",
   "execution_count": 7,
   "metadata": {},
   "outputs": [
    {
     "name": "stdout",
     "output_type": "stream",
     "text": [
      "(23906, 10)\n"
     ]
    },
    {
     "data": {
      "text/html": [
       "<div>\n",
       "<style scoped>\n",
       "    .dataframe tbody tr th:only-of-type {\n",
       "        vertical-align: middle;\n",
       "    }\n",
       "\n",
       "    .dataframe tbody tr th {\n",
       "        vertical-align: top;\n",
       "    }\n",
       "\n",
       "    .dataframe thead th {\n",
       "        text-align: right;\n",
       "    }\n",
       "</style>\n",
       "<table border=\"1\" class=\"dataframe\">\n",
       "  <thead>\n",
       "    <tr style=\"text-align: right;\">\n",
       "      <th></th>\n",
       "      <th>alert_key</th>\n",
       "      <th>date</th>\n",
       "      <th>sar_flag</th>\n",
       "      <th>cust_id</th>\n",
       "      <th>risk_rank</th>\n",
       "      <th>occupation_code</th>\n",
       "      <th>total_asset</th>\n",
       "      <th>AGE</th>\n",
       "      <th>cust_id_sar</th>\n",
       "      <th>total_asset_change</th>\n",
       "    </tr>\n",
       "  </thead>\n",
       "  <tbody>\n",
       "    <tr>\n",
       "      <th>0</th>\n",
       "      <td>171142</td>\n",
       "      <td>0</td>\n",
       "      <td>0.0</td>\n",
       "      <td>4962</td>\n",
       "      <td>3</td>\n",
       "      <td>12.0</td>\n",
       "      <td>0.0</td>\n",
       "      <td>3</td>\n",
       "      <td>0</td>\n",
       "      <td>0</td>\n",
       "    </tr>\n",
       "    <tr>\n",
       "      <th>1</th>\n",
       "      <td>171152</td>\n",
       "      <td>0</td>\n",
       "      <td>0.0</td>\n",
       "      <td>3772</td>\n",
       "      <td>3</td>\n",
       "      <td>13.0</td>\n",
       "      <td>0.0</td>\n",
       "      <td>6</td>\n",
       "      <td>0</td>\n",
       "      <td>0</td>\n",
       "    </tr>\n",
       "    <tr>\n",
       "      <th>2</th>\n",
       "      <td>171177</td>\n",
       "      <td>0</td>\n",
       "      <td>0.0</td>\n",
       "      <td>5052</td>\n",
       "      <td>1</td>\n",
       "      <td>19.0</td>\n",
       "      <td>0.0</td>\n",
       "      <td>4</td>\n",
       "      <td>0</td>\n",
       "      <td>0</td>\n",
       "    </tr>\n",
       "    <tr>\n",
       "      <th>3</th>\n",
       "      <td>171178</td>\n",
       "      <td>0</td>\n",
       "      <td>0.0</td>\n",
       "      <td>792</td>\n",
       "      <td>3</td>\n",
       "      <td>9.0</td>\n",
       "      <td>0.0</td>\n",
       "      <td>6</td>\n",
       "      <td>0</td>\n",
       "      <td>0</td>\n",
       "    </tr>\n",
       "    <tr>\n",
       "      <th>4</th>\n",
       "      <td>171180</td>\n",
       "      <td>0</td>\n",
       "      <td>0.0</td>\n",
       "      <td>3080</td>\n",
       "      <td>1</td>\n",
       "      <td>17.0</td>\n",
       "      <td>0.0</td>\n",
       "      <td>4</td>\n",
       "      <td>0</td>\n",
       "      <td>0</td>\n",
       "    </tr>\n",
       "  </tbody>\n",
       "</table>\n",
       "</div>"
      ],
      "text/plain": [
       "   alert_key  date  sar_flag  cust_id  risk_rank  occupation_code  \\\n",
       "0     171142     0       0.0     4962          3             12.0   \n",
       "1     171152     0       0.0     3772          3             13.0   \n",
       "2     171177     0       0.0     5052          1             19.0   \n",
       "3     171178     0       0.0      792          3              9.0   \n",
       "4     171180     0       0.0     3080          1             17.0   \n",
       "\n",
       "   total_asset  AGE  cust_id_sar  total_asset_change  \n",
       "0          0.0    3            0                   0  \n",
       "1          0.0    6            0                   0  \n",
       "2          0.0    4            0                   0  \n",
       "3          0.0    6            0                   0  \n",
       "4          0.0    4            0                   0  "
      ]
     },
     "execution_count": 7,
     "metadata": {},
     "output_type": "execute_result"
    }
   ],
   "source": [
    "train = df.iloc[:-1845]\n",
    "print(train.shape)\n",
    "train.head()"
   ]
  },
  {
   "cell_type": "code",
   "execution_count": 8,
   "metadata": {},
   "outputs": [
    {
     "name": "stdout",
     "output_type": "stream",
     "text": [
      "(1845, 10)\n"
     ]
    },
    {
     "data": {
      "text/html": [
       "<div>\n",
       "<style scoped>\n",
       "    .dataframe tbody tr th:only-of-type {\n",
       "        vertical-align: middle;\n",
       "    }\n",
       "\n",
       "    .dataframe tbody tr th {\n",
       "        vertical-align: top;\n",
       "    }\n",
       "\n",
       "    .dataframe thead th {\n",
       "        text-align: right;\n",
       "    }\n",
       "</style>\n",
       "<table border=\"1\" class=\"dataframe\">\n",
       "  <thead>\n",
       "    <tr style=\"text-align: right;\">\n",
       "      <th></th>\n",
       "      <th>alert_key</th>\n",
       "      <th>date</th>\n",
       "      <th>sar_flag</th>\n",
       "      <th>cust_id</th>\n",
       "      <th>risk_rank</th>\n",
       "      <th>occupation_code</th>\n",
       "      <th>total_asset</th>\n",
       "      <th>AGE</th>\n",
       "      <th>cust_id_sar</th>\n",
       "      <th>total_asset_change</th>\n",
       "    </tr>\n",
       "  </thead>\n",
       "  <tbody>\n",
       "    <tr>\n",
       "      <th>23906</th>\n",
       "      <td>352249</td>\n",
       "      <td>365</td>\n",
       "      <td>NaN</td>\n",
       "      <td>3912</td>\n",
       "      <td>1</td>\n",
       "      <td>19.0</td>\n",
       "      <td>-0.078673</td>\n",
       "      <td>7</td>\n",
       "      <td>0</td>\n",
       "      <td>1</td>\n",
       "    </tr>\n",
       "    <tr>\n",
       "      <th>23907</th>\n",
       "      <td>352253</td>\n",
       "      <td>365</td>\n",
       "      <td>NaN</td>\n",
       "      <td>5393</td>\n",
       "      <td>1</td>\n",
       "      <td>2.0</td>\n",
       "      <td>-0.063232</td>\n",
       "      <td>2</td>\n",
       "      <td>0</td>\n",
       "      <td>1</td>\n",
       "    </tr>\n",
       "    <tr>\n",
       "      <th>23908</th>\n",
       "      <td>352254</td>\n",
       "      <td>365</td>\n",
       "      <td>NaN</td>\n",
       "      <td>6924</td>\n",
       "      <td>1</td>\n",
       "      <td>19.0</td>\n",
       "      <td>0.000000</td>\n",
       "      <td>7</td>\n",
       "      <td>0</td>\n",
       "      <td>0</td>\n",
       "    </tr>\n",
       "    <tr>\n",
       "      <th>23909</th>\n",
       "      <td>352280</td>\n",
       "      <td>365</td>\n",
       "      <td>NaN</td>\n",
       "      <td>3431</td>\n",
       "      <td>3</td>\n",
       "      <td>15.0</td>\n",
       "      <td>0.000000</td>\n",
       "      <td>5</td>\n",
       "      <td>0</td>\n",
       "      <td>0</td>\n",
       "    </tr>\n",
       "    <tr>\n",
       "      <th>23910</th>\n",
       "      <td>352282</td>\n",
       "      <td>365</td>\n",
       "      <td>NaN</td>\n",
       "      <td>84</td>\n",
       "      <td>1</td>\n",
       "      <td>12.0</td>\n",
       "      <td>0.000000</td>\n",
       "      <td>5</td>\n",
       "      <td>0</td>\n",
       "      <td>0</td>\n",
       "    </tr>\n",
       "  </tbody>\n",
       "</table>\n",
       "</div>"
      ],
      "text/plain": [
       "       alert_key  date  sar_flag  cust_id  risk_rank  occupation_code  \\\n",
       "23906     352249   365       NaN     3912          1             19.0   \n",
       "23907     352253   365       NaN     5393          1              2.0   \n",
       "23908     352254   365       NaN     6924          1             19.0   \n",
       "23909     352280   365       NaN     3431          3             15.0   \n",
       "23910     352282   365       NaN       84          1             12.0   \n",
       "\n",
       "       total_asset  AGE  cust_id_sar  total_asset_change  \n",
       "23906    -0.078673    7            0                   1  \n",
       "23907    -0.063232    2            0                   1  \n",
       "23908     0.000000    7            0                   0  \n",
       "23909     0.000000    5            0                   0  \n",
       "23910     0.000000    5            0                   0  "
      ]
     },
     "execution_count": 8,
     "metadata": {},
     "output_type": "execute_result"
    }
   ],
   "source": [
    "test = df.iloc[-1845:]\n",
    "print(test.shape)\n",
    "test.head()"
   ]
  },
  {
   "cell_type": "markdown",
   "metadata": {},
   "source": [
    "## Missing value"
   ]
  },
  {
   "cell_type": "code",
   "execution_count": 9,
   "metadata": {},
   "outputs": [
    {
     "name": "stdout",
     "output_type": "stream",
     "text": [
      "有缺失值的樣本中sar_flag為1的數量: 0\n"
     ]
    },
    {
     "data": {
      "text/html": [
       "<div>\n",
       "<style scoped>\n",
       "    .dataframe tbody tr th:only-of-type {\n",
       "        vertical-align: middle;\n",
       "    }\n",
       "\n",
       "    .dataframe tbody tr th {\n",
       "        vertical-align: top;\n",
       "    }\n",
       "\n",
       "    .dataframe thead th {\n",
       "        text-align: right;\n",
       "    }\n",
       "</style>\n",
       "<table border=\"1\" class=\"dataframe\">\n",
       "  <thead>\n",
       "    <tr style=\"text-align: right;\">\n",
       "      <th></th>\n",
       "      <th>count</th>\n",
       "      <th>prob</th>\n",
       "    </tr>\n",
       "  </thead>\n",
       "  <tbody>\n",
       "    <tr>\n",
       "      <th>occupation_code</th>\n",
       "      <td>116</td>\n",
       "      <td>0.004852</td>\n",
       "    </tr>\n",
       "  </tbody>\n",
       "</table>\n",
       "</div>"
      ],
      "text/plain": [
       "                 count      prob\n",
       "occupation_code    116  0.004852"
      ]
     },
     "execution_count": 9,
     "metadata": {},
     "output_type": "execute_result"
    }
   ],
   "source": [
    "null_sar = train[train.isnull().any(axis = 1)][\"sar_flag\"].sum()\n",
    "print(f\"有缺失值的樣本中sar_flag為1的數量: {round(null_sar)}\")\n",
    "\n",
    "null_feat = train.isnull().sum()\n",
    "null_feat = pd.DataFrame(null_feat, columns = [\"count\"])\n",
    "null_feat[\"prob\"] = null_feat[\"count\"]/len(train)\n",
    "null_feat = null_feat.query(\"count != 0\")\n",
    "null_feat"
   ]
  },
  {
   "cell_type": "code",
   "execution_count": 10,
   "metadata": {},
   "outputs": [],
   "source": [
    "# occupation_code的缺失值比重不高，刪除\n",
    "train = train.dropna()"
   ]
  },
  {
   "cell_type": "code",
   "execution_count": 11,
   "metadata": {},
   "outputs": [
    {
     "data": {
      "text/html": [
       "<div>\n",
       "<style scoped>\n",
       "    .dataframe tbody tr th:only-of-type {\n",
       "        vertical-align: middle;\n",
       "    }\n",
       "\n",
       "    .dataframe tbody tr th {\n",
       "        vertical-align: top;\n",
       "    }\n",
       "\n",
       "    .dataframe thead th {\n",
       "        text-align: right;\n",
       "    }\n",
       "</style>\n",
       "<table border=\"1\" class=\"dataframe\">\n",
       "  <thead>\n",
       "    <tr style=\"text-align: right;\">\n",
       "      <th></th>\n",
       "      <th>alert_key</th>\n",
       "      <th>date</th>\n",
       "      <th>sar_flag</th>\n",
       "      <th>cust_id</th>\n",
       "      <th>risk_rank</th>\n",
       "      <th>occupation_code</th>\n",
       "      <th>total_asset</th>\n",
       "      <th>AGE</th>\n",
       "      <th>cust_id_sar</th>\n",
       "      <th>total_asset_change</th>\n",
       "    </tr>\n",
       "  </thead>\n",
       "  <tbody>\n",
       "  </tbody>\n",
       "</table>\n",
       "</div>"
      ],
      "text/plain": [
       "Empty DataFrame\n",
       "Columns: [alert_key, date, sar_flag, cust_id, risk_rank, occupation_code, total_asset, AGE, cust_id_sar, total_asset_change]\n",
       "Index: []"
      ]
     },
     "execution_count": 11,
     "metadata": {},
     "output_type": "execute_result"
    }
   ],
   "source": [
    "train[train.isnull().any(axis = 1)]"
   ]
  },
  {
   "cell_type": "code",
   "execution_count": 12,
   "metadata": {},
   "outputs": [
    {
     "data": {
      "text/html": [
       "<div>\n",
       "<style scoped>\n",
       "    .dataframe tbody tr th:only-of-type {\n",
       "        vertical-align: middle;\n",
       "    }\n",
       "\n",
       "    .dataframe tbody tr th {\n",
       "        vertical-align: top;\n",
       "    }\n",
       "\n",
       "    .dataframe thead th {\n",
       "        text-align: right;\n",
       "    }\n",
       "</style>\n",
       "<table border=\"1\" class=\"dataframe\">\n",
       "  <thead>\n",
       "    <tr style=\"text-align: right;\">\n",
       "      <th></th>\n",
       "      <th>alert_key</th>\n",
       "      <th>date</th>\n",
       "      <th>sar_flag</th>\n",
       "      <th>cust_id</th>\n",
       "      <th>risk_rank</th>\n",
       "      <th>occupation_code</th>\n",
       "      <th>total_asset</th>\n",
       "      <th>AGE</th>\n",
       "      <th>cust_id_sar</th>\n",
       "      <th>total_asset_change</th>\n",
       "    </tr>\n",
       "  </thead>\n",
       "  <tbody>\n",
       "  </tbody>\n",
       "</table>\n",
       "</div>"
      ],
      "text/plain": [
       "Empty DataFrame\n",
       "Columns: [alert_key, date, sar_flag, cust_id, risk_rank, occupation_code, total_asset, AGE, cust_id_sar, total_asset_change]\n",
       "Index: []"
      ]
     },
     "execution_count": 12,
     "metadata": {},
     "output_type": "execute_result"
    }
   ],
   "source": [
    "test[test.drop(\"sar_flag\", axis = 1).isnull().any(axis = 1)]"
   ]
  },
  {
   "cell_type": "markdown",
   "metadata": {},
   "source": [
    "## Correlation"
   ]
  },
  {
   "cell_type": "code",
   "execution_count": 13,
   "metadata": {},
   "outputs": [
    {
     "data": {
      "image/png": "[encoded data removed]",
      "text/plain": [
       "<Figure size 1440x576 with 2 Axes>"
      ]
     },
     "metadata": {
      "needs_background": "light"
     },
     "output_type": "display_data"
    }
   ],
   "source": [
    "plt.figure(figsize=(20, 8))\n",
    "sns.heatmap(data = train.corr(), annot=True, cmap = 'RdBu', annot_kws = {\"fontsize\": 10})\n",
    "plt.show()"
   ]
  },
  {
   "cell_type": "code",
   "execution_count": 14,
   "metadata": {},
   "outputs": [
    {
     "data": {
      "image/png": "[encoded data removed]",
      "text/plain": [
       "<Figure size 2160x1440 with 3 Axes>"
      ]
     },
     "metadata": {
      "needs_background": "light"
     },
     "output_type": "display_data"
    }
   ],
   "source": [
    "train[[\"occupation_code\", \"sar_flag\"]] = train[[\"occupation_code\", \"sar_flag\"]].astype(int)\n",
    "feat = [\"risk_rank\", \"occupation_code\", \"AGE\"]\n",
    "\n",
    "a, b = 3, 1\n",
    "k = 0\n",
    "fig, ax = plt.subplots(a, b, figsize = (30, 20))\n",
    "for i in range(a):\n",
    "    for j in range(b):\n",
    "        sns.countplot(x = feat[k], hue = \"sar_flag\", data = train, ax = ax[i])\n",
    "        ax[i].set(xlabel = None, title = feat[k])\n",
    "        ax[i].legend(title = \"sar_flag\", loc='upper right')\n",
    "\n",
    "        for p in ax[i].patches:\n",
    "            if np.isnan(p.get_height()):\n",
    "                continue\n",
    "            ax[i].annotate(f'\\n{int(p.get_height())}', (p.get_x()+0.15, p.get_height()+100), size=10)\n",
    "\n",
    "        k += 1\n",
    "# plt.suptitle(\"Category variable\", size = 15)\n",
    "plt.show()"
   ]
  },
  {
   "cell_type": "markdown",
   "metadata": {},
   "source": [
    "## Adversarial validation"
   ]
  },
  {
   "cell_type": "code",
   "execution_count": 15,
   "metadata": {},
   "outputs": [],
   "source": [
    "import xgboost as xgb\n",
    "from xgboost import XGBClassifier, plot_importance, cv\n",
    "\n",
    "\n",
    "def adversarial(train, test):\n",
    "    # add train, test label\n",
    "    train[\"AV\"] = 0\n",
    "    test[\"AV\"] = 1\n",
    "\n",
    "    # merge train, test\n",
    "    df1 = pd.concat([train, test], ignore_index = True)\n",
    "\n",
    "    # shuffle data\n",
    "    df1_shuffled = df1.sample(frac=1)\n",
    "\n",
    "    # create XGBoost data structure\n",
    "    X = df1_shuffled.drop(['AV'], axis=1)\n",
    "    y = df1_shuffled['AV']\n",
    "    XGBdata = xgb.DMatrix(data = X, label = y)\n",
    "\n",
    "    # XGBoost parameters\n",
    "    params = {\n",
    "        \"objective\": \"binary:logistic\",\n",
    "        \"eval_metric\": \"logloss\",\n",
    "        'learning_rate': 0.05,\n",
    "        'max_depth': 5\n",
    "        }\n",
    "\n",
    "    # perform cross validation with XGBoost\n",
    "    cross_val_results = cv(\n",
    "        dtrain = XGBdata,\n",
    "        params = params, \n",
    "        nfold = 5,\n",
    "        metrics = \"auc\", \n",
    "        num_boost_round = 200,\n",
    "        early_stopping_rounds = 20,\n",
    "        as_pandas = True\n",
    "        )\n",
    "\n",
    "    # final result\n",
    "    print(\"Accuracy:\", cross_val_results[\"test-auc-mean\"].iloc[-1])\n",
    "\n",
    "\n",
    "    classifier = XGBClassifier(eval_metric = 'logloss', use_label_encoder = False)\n",
    "    classifier.fit(X, y)\n",
    "    fig, ax = plt.subplots(figsize=(10, 7))\n",
    "    plot_importance(classifier, ax=ax, max_num_features = 10, height  = 0.5)\n",
    "    plt.show()"
   ]
  },
  {
   "cell_type": "code",
   "execution_count": 16,
   "metadata": {},
   "outputs": [
    {
     "name": "stdout",
     "output_type": "stream",
     "text": [
      "Accuracy: 0.6425591333811396\n"
     ]
    },
    {
     "data": {
      "image/png": "[encoded data removed]",
      "text/plain": [
       "<Figure size 720x504 with 1 Axes>"
      ]
     },
     "metadata": {
      "needs_background": "light"
     },
     "output_type": "display_data"
    }
   ],
   "source": [
    "drop_feat = [\"alert_key\", \"date\", \"sar_flag\", \"cust_id\", \"total_asset\"]\n",
    "train1 = train.drop(drop_feat, axis = 1).copy()\n",
    "test1 = test.drop(drop_feat, axis = 1).copy()\n",
    "\n",
    "# adversarial validation\n",
    "adversarial(train1, test1)"
   ]
  },
  {
   "cell_type": "code",
   "execution_count": 17,
   "metadata": {},
   "outputs": [
    {
     "data": {
      "text/html": [
       "<div>\n",
       "<style scoped>\n",
       "    .dataframe tbody tr th:only-of-type {\n",
       "        vertical-align: middle;\n",
       "    }\n",
       "\n",
       "    .dataframe tbody tr th {\n",
       "        vertical-align: top;\n",
       "    }\n",
       "\n",
       "    .dataframe thead th {\n",
       "        text-align: right;\n",
       "    }\n",
       "</style>\n",
       "<table border=\"1\" class=\"dataframe\">\n",
       "  <thead>\n",
       "    <tr style=\"text-align: right;\">\n",
       "      <th></th>\n",
       "      <th>count</th>\n",
       "      <th>mean</th>\n",
       "      <th>std</th>\n",
       "      <th>min</th>\n",
       "      <th>25%</th>\n",
       "      <th>50%</th>\n",
       "      <th>75%</th>\n",
       "      <th>max</th>\n",
       "      <th>unique</th>\n",
       "    </tr>\n",
       "  </thead>\n",
       "  <tbody>\n",
       "    <tr>\n",
       "      <th>alert_key</th>\n",
       "      <td>23790.0</td>\n",
       "      <td>258564.454098</td>\n",
       "      <td>54631.845904</td>\n",
       "      <td>171142.0</td>\n",
       "      <td>208562.75</td>\n",
       "      <td>259228.0</td>\n",
       "      <td>306026.0</td>\n",
       "      <td>352132.000000</td>\n",
       "      <td>23790</td>\n",
       "    </tr>\n",
       "    <tr>\n",
       "      <th>date</th>\n",
       "      <td>23790.0</td>\n",
       "      <td>184.224464</td>\n",
       "      <td>110.977888</td>\n",
       "      <td>0.0</td>\n",
       "      <td>84.00</td>\n",
       "      <td>195.0</td>\n",
       "      <td>280.0</td>\n",
       "      <td>364.000000</td>\n",
       "      <td>243</td>\n",
       "    </tr>\n",
       "    <tr>\n",
       "      <th>sar_flag</th>\n",
       "      <td>23790.0</td>\n",
       "      <td>0.009836</td>\n",
       "      <td>0.098690</td>\n",
       "      <td>0.0</td>\n",
       "      <td>0.00</td>\n",
       "      <td>0.0</td>\n",
       "      <td>0.0</td>\n",
       "      <td>1.000000</td>\n",
       "      <td>2</td>\n",
       "    </tr>\n",
       "    <tr>\n",
       "      <th>cust_id</th>\n",
       "      <td>23790.0</td>\n",
       "      <td>3688.322783</td>\n",
       "      <td>2232.271386</td>\n",
       "      <td>0.0</td>\n",
       "      <td>1747.00</td>\n",
       "      <td>3682.0</td>\n",
       "      <td>5489.0</td>\n",
       "      <td>7707.000000</td>\n",
       "      <td>7214</td>\n",
       "    </tr>\n",
       "    <tr>\n",
       "      <th>risk_rank</th>\n",
       "      <td>23790.0</td>\n",
       "      <td>1.621648</td>\n",
       "      <td>0.909625</td>\n",
       "      <td>0.0</td>\n",
       "      <td>1.00</td>\n",
       "      <td>1.0</td>\n",
       "      <td>3.0</td>\n",
       "      <td>3.000000</td>\n",
       "      <td>4</td>\n",
       "    </tr>\n",
       "    <tr>\n",
       "      <th>occupation_code</th>\n",
       "      <td>23790.0</td>\n",
       "      <td>14.275998</td>\n",
       "      <td>4.672051</td>\n",
       "      <td>0.0</td>\n",
       "      <td>12.00</td>\n",
       "      <td>15.0</td>\n",
       "      <td>19.0</td>\n",
       "      <td>20.000000</td>\n",
       "      <td>21</td>\n",
       "    </tr>\n",
       "    <tr>\n",
       "      <th>total_asset</th>\n",
       "      <td>23790.0</td>\n",
       "      <td>1.817505</td>\n",
       "      <td>97.271860</td>\n",
       "      <td>-1.0</td>\n",
       "      <td>0.00</td>\n",
       "      <td>0.0</td>\n",
       "      <td>0.0</td>\n",
       "      <td>10321.677215</td>\n",
       "      <td>2466</td>\n",
       "    </tr>\n",
       "    <tr>\n",
       "      <th>AGE</th>\n",
       "      <td>23790.0</td>\n",
       "      <td>3.647289</td>\n",
       "      <td>1.312934</td>\n",
       "      <td>0.0</td>\n",
       "      <td>3.00</td>\n",
       "      <td>3.0</td>\n",
       "      <td>4.0</td>\n",
       "      <td>10.000000</td>\n",
       "      <td>11</td>\n",
       "    </tr>\n",
       "    <tr>\n",
       "      <th>cust_id_sar</th>\n",
       "      <td>23790.0</td>\n",
       "      <td>0.000168</td>\n",
       "      <td>0.012966</td>\n",
       "      <td>0.0</td>\n",
       "      <td>0.00</td>\n",
       "      <td>0.0</td>\n",
       "      <td>0.0</td>\n",
       "      <td>1.000000</td>\n",
       "      <td>2</td>\n",
       "    </tr>\n",
       "    <tr>\n",
       "      <th>total_asset_change</th>\n",
       "      <td>23790.0</td>\n",
       "      <td>0.107524</td>\n",
       "      <td>0.309785</td>\n",
       "      <td>0.0</td>\n",
       "      <td>0.00</td>\n",
       "      <td>0.0</td>\n",
       "      <td>0.0</td>\n",
       "      <td>1.000000</td>\n",
       "      <td>2</td>\n",
       "    </tr>\n",
       "  </tbody>\n",
       "</table>\n",
       "</div>"
      ],
      "text/plain": [
       "                      count           mean           std       min        25%  \\\n",
       "alert_key           23790.0  258564.454098  54631.845904  171142.0  208562.75   \n",
       "date                23790.0     184.224464    110.977888       0.0      84.00   \n",
       "sar_flag            23790.0       0.009836      0.098690       0.0       0.00   \n",
       "cust_id             23790.0    3688.322783   2232.271386       0.0    1747.00   \n",
       "risk_rank           23790.0       1.621648      0.909625       0.0       1.00   \n",
       "occupation_code     23790.0      14.275998      4.672051       0.0      12.00   \n",
       "total_asset         23790.0       1.817505     97.271860      -1.0       0.00   \n",
       "AGE                 23790.0       3.647289      1.312934       0.0       3.00   \n",
       "cust_id_sar         23790.0       0.000168      0.012966       0.0       0.00   \n",
       "total_asset_change  23790.0       0.107524      0.309785       0.0       0.00   \n",
       "\n",
       "                         50%       75%            max  unique  \n",
       "alert_key           259228.0  306026.0  352132.000000   23790  \n",
       "date                   195.0     280.0     364.000000     243  \n",
       "sar_flag                 0.0       0.0       1.000000       2  \n",
       "cust_id               3682.0    5489.0    7707.000000    7214  \n",
       "risk_rank                1.0       3.0       3.000000       4  \n",
       "occupation_code         15.0      19.0      20.000000      21  \n",
       "total_asset              0.0       0.0   10321.677215    2466  \n",
       "AGE                      3.0       4.0      10.000000      11  \n",
       "cust_id_sar              0.0       0.0       1.000000       2  \n",
       "total_asset_change       0.0       0.0       1.000000       2  "
      ]
     },
     "execution_count": 17,
     "metadata": {},
     "output_type": "execute_result"
    }
   ],
   "source": [
    "des = train.describe().T\n",
    "des[\"unique\"] = train.nunique()\n",
    "des"
   ]
  },
  {
   "cell_type": "code",
   "execution_count": 18,
   "metadata": {},
   "outputs": [
    {
     "data": {
      "text/html": [
       "<div>\n",
       "<style scoped>\n",
       "    .dataframe tbody tr th:only-of-type {\n",
       "        vertical-align: middle;\n",
       "    }\n",
       "\n",
       "    .dataframe tbody tr th {\n",
       "        vertical-align: top;\n",
       "    }\n",
       "\n",
       "    .dataframe thead th {\n",
       "        text-align: right;\n",
       "    }\n",
       "</style>\n",
       "<table border=\"1\" class=\"dataframe\">\n",
       "  <thead>\n",
       "    <tr style=\"text-align: right;\">\n",
       "      <th></th>\n",
       "      <th>count</th>\n",
       "      <th>mean</th>\n",
       "      <th>std</th>\n",
       "      <th>min</th>\n",
       "      <th>25%</th>\n",
       "      <th>50%</th>\n",
       "      <th>75%</th>\n",
       "      <th>max</th>\n",
       "      <th>unique</th>\n",
       "    </tr>\n",
       "  </thead>\n",
       "  <tbody>\n",
       "    <tr>\n",
       "      <th>alert_key</th>\n",
       "      <td>1845.0</td>\n",
       "      <td>358724.454743</td>\n",
       "      <td>3561.987663</td>\n",
       "      <td>352249.0</td>\n",
       "      <td>355759.0</td>\n",
       "      <td>358472.0</td>\n",
       "      <td>361594.0</td>\n",
       "      <td>365073.000000</td>\n",
       "      <td>1845</td>\n",
       "    </tr>\n",
       "    <tr>\n",
       "      <th>date</th>\n",
       "      <td>1845.0</td>\n",
       "      <td>380.241192</td>\n",
       "      <td>7.769164</td>\n",
       "      <td>365.0</td>\n",
       "      <td>375.0</td>\n",
       "      <td>378.0</td>\n",
       "      <td>386.0</td>\n",
       "      <td>393.000000</td>\n",
       "      <td>19</td>\n",
       "    </tr>\n",
       "    <tr>\n",
       "      <th>sar_flag</th>\n",
       "      <td>0.0</td>\n",
       "      <td>NaN</td>\n",
       "      <td>NaN</td>\n",
       "      <td>NaN</td>\n",
       "      <td>NaN</td>\n",
       "      <td>NaN</td>\n",
       "      <td>NaN</td>\n",
       "      <td>NaN</td>\n",
       "      <td>0</td>\n",
       "    </tr>\n",
       "    <tr>\n",
       "      <th>cust_id</th>\n",
       "      <td>1845.0</td>\n",
       "      <td>3782.423306</td>\n",
       "      <td>2142.621504</td>\n",
       "      <td>25.0</td>\n",
       "      <td>2069.0</td>\n",
       "      <td>3782.0</td>\n",
       "      <td>5559.0</td>\n",
       "      <td>7706.000000</td>\n",
       "      <td>735</td>\n",
       "    </tr>\n",
       "    <tr>\n",
       "      <th>risk_rank</th>\n",
       "      <td>1845.0</td>\n",
       "      <td>1.511111</td>\n",
       "      <td>0.855955</td>\n",
       "      <td>0.0</td>\n",
       "      <td>1.0</td>\n",
       "      <td>1.0</td>\n",
       "      <td>2.0</td>\n",
       "      <td>3.000000</td>\n",
       "      <td>4</td>\n",
       "    </tr>\n",
       "    <tr>\n",
       "      <th>occupation_code</th>\n",
       "      <td>1845.0</td>\n",
       "      <td>13.929539</td>\n",
       "      <td>4.905884</td>\n",
       "      <td>1.0</td>\n",
       "      <td>12.0</td>\n",
       "      <td>15.0</td>\n",
       "      <td>18.0</td>\n",
       "      <td>20.000000</td>\n",
       "      <td>18</td>\n",
       "    </tr>\n",
       "    <tr>\n",
       "      <th>total_asset</th>\n",
       "      <td>1845.0</td>\n",
       "      <td>1.393245</td>\n",
       "      <td>40.490762</td>\n",
       "      <td>-1.0</td>\n",
       "      <td>0.0</td>\n",
       "      <td>0.0</td>\n",
       "      <td>0.0</td>\n",
       "      <td>1714.428571</td>\n",
       "      <td>199</td>\n",
       "    </tr>\n",
       "    <tr>\n",
       "      <th>AGE</th>\n",
       "      <td>1845.0</td>\n",
       "      <td>3.485095</td>\n",
       "      <td>1.273976</td>\n",
       "      <td>1.0</td>\n",
       "      <td>3.0</td>\n",
       "      <td>3.0</td>\n",
       "      <td>4.0</td>\n",
       "      <td>9.000000</td>\n",
       "      <td>9</td>\n",
       "    </tr>\n",
       "    <tr>\n",
       "      <th>cust_id_sar</th>\n",
       "      <td>1845.0</td>\n",
       "      <td>0.001626</td>\n",
       "      <td>0.040302</td>\n",
       "      <td>0.0</td>\n",
       "      <td>0.0</td>\n",
       "      <td>0.0</td>\n",
       "      <td>0.0</td>\n",
       "      <td>1.000000</td>\n",
       "      <td>2</td>\n",
       "    </tr>\n",
       "    <tr>\n",
       "      <th>total_asset_change</th>\n",
       "      <td>1845.0</td>\n",
       "      <td>0.114363</td>\n",
       "      <td>0.318338</td>\n",
       "      <td>0.0</td>\n",
       "      <td>0.0</td>\n",
       "      <td>0.0</td>\n",
       "      <td>0.0</td>\n",
       "      <td>1.000000</td>\n",
       "      <td>2</td>\n",
       "    </tr>\n",
       "  </tbody>\n",
       "</table>\n",
       "</div>"
      ],
      "text/plain": [
       "                     count           mean          std       min       25%  \\\n",
       "alert_key           1845.0  358724.454743  3561.987663  352249.0  355759.0   \n",
       "date                1845.0     380.241192     7.769164     365.0     375.0   \n",
       "sar_flag               0.0            NaN          NaN       NaN       NaN   \n",
       "cust_id             1845.0    3782.423306  2142.621504      25.0    2069.0   \n",
       "risk_rank           1845.0       1.511111     0.855955       0.0       1.0   \n",
       "occupation_code     1845.0      13.929539     4.905884       1.0      12.0   \n",
       "total_asset         1845.0       1.393245    40.490762      -1.0       0.0   \n",
       "AGE                 1845.0       3.485095     1.273976       1.0       3.0   \n",
       "cust_id_sar         1845.0       0.001626     0.040302       0.0       0.0   \n",
       "total_asset_change  1845.0       0.114363     0.318338       0.0       0.0   \n",
       "\n",
       "                         50%       75%            max  unique  \n",
       "alert_key           358472.0  361594.0  365073.000000    1845  \n",
       "date                   378.0     386.0     393.000000      19  \n",
       "sar_flag                 NaN       NaN            NaN       0  \n",
       "cust_id               3782.0    5559.0    7706.000000     735  \n",
       "risk_rank                1.0       2.0       3.000000       4  \n",
       "occupation_code         15.0      18.0      20.000000      18  \n",
       "total_asset              0.0       0.0    1714.428571     199  \n",
       "AGE                      3.0       4.0       9.000000       9  \n",
       "cust_id_sar              0.0       0.0       1.000000       2  \n",
       "total_asset_change       0.0       0.0       1.000000       2  "
      ]
     },
     "execution_count": 18,
     "metadata": {},
     "output_type": "execute_result"
    }
   ],
   "source": [
    "des = test.describe().T\n",
    "des[\"unique\"] = test.nunique()\n",
    "des"
   ]
  },
  {
   "cell_type": "markdown",
   "metadata": {},
   "source": [
    "## Split train & valid data"
   ]
  },
  {
   "cell_type": "code",
   "execution_count": 19,
   "metadata": {},
   "outputs": [],
   "source": [
    "X_train = train.drop(drop_feat, axis = 1)#[\"alert_key\", \"sar_flag\", \"date\"]\n",
    "y_train = train[\"sar_flag\"]\n",
    "\n",
    "X_test = test.drop(drop_feat, axis = 1)"
   ]
  },
  {
   "cell_type": "code",
   "execution_count": 20,
   "metadata": {},
   "outputs": [
    {
     "name": "stdout",
     "output_type": "stream",
     "text": [
      "raw 1/0: 0.009934\n"
     ]
    },
    {
     "data": {
      "text/plain": [
       "0    23556\n",
       "1      234\n",
       "Name: sar_flag, dtype: int64"
      ]
     },
     "execution_count": 20,
     "metadata": {},
     "output_type": "execute_result"
    }
   ],
   "source": [
    "print(f\"raw 1/0: {(y_train.value_counts()[1] / y_train.value_counts()[0]):.4}\")\n",
    "y_train.value_counts()"
   ]
  },
  {
   "cell_type": "code",
   "execution_count": 21,
   "metadata": {},
   "outputs": [
    {
     "name": "stdout",
     "output_type": "stream",
     "text": [
      "(16653, 5) (7137, 5) (16653,) (7137,)\n"
     ]
    }
   ],
   "source": [
    "# X_train1, X_valid, y_train1, y_valid = train_test_split(X_train, y_train, test_size=0.2, shuffle = True, stratify = train.iloc[:, 2], random_state = 99)\n",
    "X_train1, X_valid, y_train1, y_valid = train_test_split(X_train, y_train, test_size=0.3, shuffle = False)\n",
    "print(X_train1.shape, X_valid.shape, y_train1.shape, y_valid.shape)"
   ]
  },
  {
   "cell_type": "code",
   "execution_count": 22,
   "metadata": {},
   "outputs": [
    {
     "name": "stdout",
     "output_type": "stream",
     "text": [
      "train 1/0: 0.01289\n"
     ]
    },
    {
     "data": {
      "text/plain": [
       "0    16441\n",
       "1      212\n",
       "Name: sar_flag, dtype: int64"
      ]
     },
     "execution_count": 22,
     "metadata": {},
     "output_type": "execute_result"
    }
   ],
   "source": [
    "print(f\"train 1/0: {(y_train1.value_counts()[1] / y_train1.value_counts()[0]):.4}\")\n",
    "y_train1.value_counts()"
   ]
  },
  {
   "cell_type": "code",
   "execution_count": 23,
   "metadata": {},
   "outputs": [
    {
     "name": "stdout",
     "output_type": "stream",
     "text": [
      "valid 1/0: 0.003092\n"
     ]
    },
    {
     "data": {
      "text/plain": [
       "0    7115\n",
       "1      22\n",
       "Name: sar_flag, dtype: int64"
      ]
     },
     "execution_count": 23,
     "metadata": {},
     "output_type": "execute_result"
    }
   ],
   "source": [
    "print(f\"valid 1/0: {(y_valid.value_counts()[1] / y_valid.value_counts()[0]):.4}\")\n",
    "y_valid.value_counts()"
   ]
  },
  {
   "cell_type": "markdown",
   "metadata": {},
   "source": [
    "## Frequency encoding"
   ]
  },
  {
   "cell_type": "markdown",
   "metadata": {},
   "source": [
    "cat_feat = [\"occupation_code\", \"AGE\"] #\"risk_rank\"\n",
    "col = cat_feat[0]\n",
    "for i in col:\n",
    "    freq_map = X_train1[col].value_counts().to_dict()\n",
    "    X_train1[col] = X_train1[col].map(freq_map)\n",
    "    X_valid[col] = X_valid[col].map(freq_map)"
   ]
  },
  {
   "cell_type": "markdown",
   "metadata": {},
   "source": [
    "cat_feat = [\"occupation_code\", \"AGE\"] #\"risk_rank\"\n",
    "col = cat_feat[0]\n",
    "for i in col:\n",
    "    freq_map = X_train[col].value_counts().to_dict()\n",
    "    X_train[col] = X_train[col].map(freq_map)\n",
    "    X_test[col] = X_test[col].map(freq_map)"
   ]
  },
  {
   "cell_type": "markdown",
   "metadata": {},
   "source": [
    "## Resample"
   ]
  },
  {
   "cell_type": "code",
   "execution_count": 24,
   "metadata": {},
   "outputs": [
    {
     "data": {
      "text/plain": [
       "0    16441\n",
       "1    16441\n",
       "Name: sar_flag, dtype: int64"
      ]
     },
     "execution_count": 24,
     "metadata": {},
     "output_type": "execute_result"
    }
   ],
   "source": [
    "from imblearn.over_sampling import SMOTE, ADASYN\n",
    "oversample = SMOTE(random_state=99)\n",
    "X_train1, y_train1 = oversample.fit_resample(X_train1, y_train1)\n",
    "y_train1.value_counts()"
   ]
  },
  {
   "cell_type": "code",
   "execution_count": 25,
   "metadata": {},
   "outputs": [
    {
     "data": {
      "text/plain": [
       "0    23556\n",
       "1    23556\n",
       "Name: sar_flag, dtype: int64"
      ]
     },
     "execution_count": 25,
     "metadata": {},
     "output_type": "execute_result"
    }
   ],
   "source": [
    "oversample = SMOTE(random_state=99)\n",
    "X_train, y_train = oversample.fit_resample(X_train, y_train)\n",
    "y_train.value_counts()"
   ]
  },
  {
   "cell_type": "markdown",
   "metadata": {},
   "source": [
    "## Target encoding"
   ]
  },
  {
   "cell_type": "markdown",
   "metadata": {},
   "source": [
    "import category_encoders as ce\n",
    "\n",
    "cat_feat = [\"occupation_code\", \"AGE\"]\n",
    "ce_target = ce.TargetEncoder(cols = cat_feat)\n",
    "X_train1 = ce_target.fit_transform(X_train1, y_train1)\n",
    "X_valid = ce_target.transform(X_valid)"
   ]
  },
  {
   "cell_type": "markdown",
   "metadata": {},
   "source": [
    "ce_target = ce.TargetEncoder(cols = [\"occupation_code\", \"AGE\"])\n",
    "X_train = ce_target.fit_transform(X_train, y_train)\n",
    "X_test = ce_target.transform(X_test)"
   ]
  },
  {
   "cell_type": "markdown",
   "metadata": {},
   "source": [
    "## Modeling"
   ]
  },
  {
   "cell_type": "code",
   "execution_count": 26,
   "metadata": {},
   "outputs": [
    {
     "name": "stdout",
     "output_type": "stream",
     "text": [
      "Logistic trained.\n",
      "Bayes (Gaussian) trained.\n",
      "KNN trained.\n",
      "Neural Network trained.\n",
      "Decision Tree trained.\n",
      "Random Forest trained.\n",
      "Gradient Boost trained.\n",
      "XGBoost trained.\n",
      "LightGBM trained.\n",
      "Easy Ensemble (AdaBoost) trained.\n",
      "Easy Ensemble (Logistic) trained.\n"
     ]
    }
   ],
   "source": [
    "from sklearn.linear_model import LogisticRegression\n",
    "from sklearn.naive_bayes import GaussianNB\n",
    "from sklearn.naive_bayes import ComplementNB\n",
    "from sklearn.naive_bayes import BernoulliNB\n",
    "from sklearn.neighbors import KNeighborsClassifier\n",
    "from sklearn.svm import SVC\n",
    "from sklearn.neural_network import MLPClassifier\n",
    "from sklearn.tree import DecisionTreeClassifier\n",
    "from sklearn.ensemble import RandomForestClassifier\n",
    "from sklearn.ensemble import GradientBoostingClassifier\n",
    "from xgboost import XGBClassifier\n",
    "from lightgbm import LGBMClassifier\n",
    "from catboost import CatBoostClassifier\n",
    "from imblearn.ensemble import EasyEnsembleClassifier, BalancedRandomForestClassifier, BalancedBaggingClassifier, RUSBoostClassifier\n",
    "\n",
    "\n",
    "random_state = 99#None\n",
    "models = {\n",
    "    \"Logistic\": LogisticRegression(),\n",
    "    \"Bayes (Gaussian)\": GaussianNB(),\n",
    "    \"KNN\": KNeighborsClassifier(),\n",
    "    # \"SVC\": SVC(probability = True),\n",
    "    \"Neural Network\": MLPClassifier(),\n",
    "    \"Decision Tree\": DecisionTreeClassifier(random_state = random_state),\n",
    "    \"Random Forest\": RandomForestClassifier(random_state = random_state),#, class_weight=\"balanced\"),\n",
    "    \"Gradient Boost\": GradientBoostingClassifier(),\n",
    "    \"XGBoost\": XGBClassifier(random_state = random_state),\n",
    "    \"LightGBM\": LGBMClassifier(random_state = random_state), # feature name should be number\n",
    "    # \"Cat Boost\": CatBoostClassifier(random_state = random_state),\n",
    "    # \"Bayes (Complement)\": ComplementNB(), # for imbalance data (X cannot be negative)\n",
    "    \"Easy Ensemble (AdaBoost)\":EasyEnsembleClassifier(random_state = random_state),\n",
    "    \"Easy Ensemble (Logistic)\":EasyEnsembleClassifier(random_state = random_state, base_estimator = LogisticRegression()),\n",
    "    # \"Easy Ensemble (SVC)\":EasyEnsembleClassifier(random_state = random_state, base_estimator = SVC(probability = True)),\n",
    "}\n",
    "\n",
    "for name, model in models.items():\n",
    "    model.fit(X_train1, y_train1)\n",
    "    print(name + \" trained.\")"
   ]
  },
  {
   "cell_type": "code",
   "execution_count": 27,
   "metadata": {},
   "outputs": [
    {
     "name": "stdout",
     "output_type": "stream",
     "text": [
      "<< Logistic >>\n",
      "\n",
      "Confusion Matrix:\n",
      "           0     1  Total\n",
      "0      3603  3512   7115\n",
      "1        10    12     22\n",
      "Total  3613  3524   7137\n",
      "\n",
      "Classification Report:\n",
      "              precision    recall  f1-score   support\n",
      "\n",
      "           0       1.00      0.51      0.67      7115\n",
      "           1       0.00      0.55      0.01        22\n",
      "\n",
      "    accuracy                           0.51      7137\n",
      "   macro avg       0.50      0.53      0.34      7137\n",
      "weighted avg       0.99      0.51      0.67      7137\n",
      "\n",
      "------------------------------------------------------------\n",
      "<< Bayes (Gaussian) >>\n",
      "\n",
      "Confusion Matrix:\n",
      "           0  1  Total\n",
      "0      7112  3   7115\n",
      "1        22  0     22\n",
      "Total  7134  3   7137\n",
      "\n",
      "Classification Report:\n",
      "              precision    recall  f1-score   support\n",
      "\n",
      "           0       1.00      1.00      1.00      7115\n",
      "           1       0.00      0.00      0.00        22\n",
      "\n",
      "    accuracy                           1.00      7137\n",
      "   macro avg       0.50      0.50      0.50      7137\n",
      "weighted avg       0.99      1.00      1.00      7137\n",
      "\n",
      "------------------------------------------------------------\n",
      "<< KNN >>\n",
      "\n",
      "Confusion Matrix:\n",
      "           0   1  Total\n",
      "0      7024  91   7115\n",
      "1        22   0     22\n",
      "Total  7046  91   7137\n",
      "\n",
      "Classification Report:\n",
      "              precision    recall  f1-score   support\n",
      "\n",
      "           0       1.00      0.99      0.99      7115\n",
      "           1       0.00      0.00      0.00        22\n",
      "\n",
      "    accuracy                           0.98      7137\n",
      "   macro avg       0.50      0.49      0.50      7137\n",
      "weighted avg       0.99      0.98      0.99      7137\n",
      "\n",
      "------------------------------------------------------------\n",
      "<< Neural Network >>\n",
      "\n",
      "Confusion Matrix:\n",
      "           0     1  Total\n",
      "0      3946  3169   7115\n",
      "1        10    12     22\n",
      "Total  3956  3181   7137\n",
      "\n",
      "Classification Report:\n",
      "              precision    recall  f1-score   support\n",
      "\n",
      "           0       1.00      0.55      0.71      7115\n",
      "           1       0.00      0.55      0.01        22\n",
      "\n",
      "    accuracy                           0.55      7137\n",
      "   macro avg       0.50      0.55      0.36      7137\n",
      "weighted avg       0.99      0.55      0.71      7137\n",
      "\n",
      "------------------------------------------------------------\n",
      "<< Decision Tree >>\n",
      "\n",
      "Confusion Matrix:\n",
      "           0     1  Total\n",
      "0      4120  2995   7115\n",
      "1         8    14     22\n",
      "Total  4128  3009   7137\n",
      "\n",
      "Classification Report:\n",
      "              precision    recall  f1-score   support\n",
      "\n",
      "           0       1.00      0.58      0.73      7115\n",
      "           1       0.00      0.64      0.01        22\n",
      "\n",
      "    accuracy                           0.58      7137\n",
      "   macro avg       0.50      0.61      0.37      7137\n",
      "weighted avg       0.99      0.58      0.73      7137\n",
      "\n",
      "------------------------------------------------------------\n",
      "<< Random Forest >>\n",
      "\n",
      "Confusion Matrix:\n",
      "           0     1  Total\n",
      "0      4112  3003   7115\n",
      "1         8    14     22\n",
      "Total  4120  3017   7137\n",
      "\n",
      "Classification Report:\n",
      "              precision    recall  f1-score   support\n",
      "\n",
      "           0       1.00      0.58      0.73      7115\n",
      "           1       0.00      0.64      0.01        22\n",
      "\n",
      "    accuracy                           0.58      7137\n",
      "   macro avg       0.50      0.61      0.37      7137\n",
      "weighted avg       0.99      0.58      0.73      7137\n",
      "\n",
      "------------------------------------------------------------\n",
      "<< Gradient Boost >>\n",
      "\n",
      "Confusion Matrix:\n",
      "           0     1  Total\n",
      "0      3433  3682   7115\n",
      "1         6    16     22\n",
      "Total  3439  3698   7137\n",
      "\n",
      "Classification Report:\n",
      "              precision    recall  f1-score   support\n",
      "\n",
      "           0       1.00      0.48      0.65      7115\n",
      "           1       0.00      0.73      0.01        22\n",
      "\n",
      "    accuracy                           0.48      7137\n",
      "   macro avg       0.50      0.60      0.33      7137\n",
      "weighted avg       1.00      0.48      0.65      7137\n",
      "\n",
      "------------------------------------------------------------\n",
      "<< XGBoost >>\n",
      "\n",
      "Confusion Matrix:\n",
      "           0     1  Total\n",
      "0      4093  3022   7115\n",
      "1         7    15     22\n",
      "Total  4100  3037   7137\n",
      "\n",
      "Classification Report:\n",
      "              precision    recall  f1-score   support\n",
      "\n",
      "           0       1.00      0.58      0.73      7115\n",
      "           1       0.00      0.68      0.01        22\n",
      "\n",
      "    accuracy                           0.58      7137\n",
      "   macro avg       0.50      0.63      0.37      7137\n",
      "weighted avg       1.00      0.58      0.73      7137\n",
      "\n",
      "------------------------------------------------------------\n",
      "<< LightGBM >>\n",
      "\n",
      "Confusion Matrix:\n",
      "           0     1  Total\n",
      "0      4016  3099   7115\n",
      "1         7    15     22\n",
      "Total  4023  3114   7137\n",
      "\n",
      "Classification Report:\n",
      "              precision    recall  f1-score   support\n",
      "\n",
      "           0       1.00      0.56      0.72      7115\n",
      "           1       0.00      0.68      0.01        22\n",
      "\n",
      "    accuracy                           0.56      7137\n",
      "   macro avg       0.50      0.62      0.37      7137\n",
      "weighted avg       1.00      0.56      0.72      7137\n",
      "\n",
      "------------------------------------------------------------\n",
      "<< Easy Ensemble (AdaBoost) >>\n",
      "\n",
      "Confusion Matrix:\n",
      "           0     1  Total\n",
      "0      3587  3528   7115\n",
      "1         8    14     22\n",
      "Total  3595  3542   7137\n",
      "\n",
      "Classification Report:\n",
      "              precision    recall  f1-score   support\n",
      "\n",
      "           0       1.00      0.50      0.67      7115\n",
      "           1       0.00      0.64      0.01        22\n",
      "\n",
      "    accuracy                           0.50      7137\n",
      "   macro avg       0.50      0.57      0.34      7137\n",
      "weighted avg       0.99      0.50      0.67      7137\n",
      "\n",
      "------------------------------------------------------------\n",
      "<< Easy Ensemble (Logistic) >>\n",
      "\n",
      "Confusion Matrix:\n",
      "           0     1  Total\n",
      "0      3603  3512   7115\n",
      "1        10    12     22\n",
      "Total  3613  3524   7137\n",
      "\n",
      "Classification Report:\n",
      "              precision    recall  f1-score   support\n",
      "\n",
      "           0       1.00      0.51      0.67      7115\n",
      "           1       0.00      0.55      0.01        22\n",
      "\n",
      "    accuracy                           0.51      7137\n",
      "   macro avg       0.50      0.53      0.34      7137\n",
      "weighted avg       0.99      0.51      0.67      7137\n",
      "\n",
      "------------------------------------------------------------\n"
     ]
    },
    {
     "data": {
      "text/html": [
       "<div>\n",
       "<style scoped>\n",
       "    .dataframe tbody tr th:only-of-type {\n",
       "        vertical-align: middle;\n",
       "    }\n",
       "\n",
       "    .dataframe tbody tr th {\n",
       "        vertical-align: top;\n",
       "    }\n",
       "\n",
       "    .dataframe thead th {\n",
       "        text-align: right;\n",
       "    }\n",
       "</style>\n",
       "<table border=\"1\" class=\"dataframe\">\n",
       "  <thead>\n",
       "    <tr style=\"text-align: right;\">\n",
       "      <th></th>\n",
       "      <th>Accuracy_train</th>\n",
       "      <th>Accuracy_test</th>\n",
       "      <th>Recall_train</th>\n",
       "      <th>Recall_test</th>\n",
       "      <th>Precision_train</th>\n",
       "      <th>Precision_test</th>\n",
       "      <th>f1_train</th>\n",
       "      <th>f1_test</th>\n",
       "    </tr>\n",
       "  </thead>\n",
       "  <tbody>\n",
       "    <tr>\n",
       "      <th>Gradient Boost</th>\n",
       "      <td>0.70</td>\n",
       "      <td>0.48</td>\n",
       "      <td>0.88</td>\n",
       "      <td>0.73</td>\n",
       "      <td>0.65</td>\n",
       "      <td>0.0</td>\n",
       "      <td>0.75</td>\n",
       "      <td>0.01</td>\n",
       "    </tr>\n",
       "    <tr>\n",
       "      <th>XGBoost</th>\n",
       "      <td>0.72</td>\n",
       "      <td>0.58</td>\n",
       "      <td>0.83</td>\n",
       "      <td>0.68</td>\n",
       "      <td>0.68</td>\n",
       "      <td>0.0</td>\n",
       "      <td>0.75</td>\n",
       "      <td>0.01</td>\n",
       "    </tr>\n",
       "    <tr>\n",
       "      <th>LightGBM</th>\n",
       "      <td>0.72</td>\n",
       "      <td>0.56</td>\n",
       "      <td>0.84</td>\n",
       "      <td>0.68</td>\n",
       "      <td>0.68</td>\n",
       "      <td>0.0</td>\n",
       "      <td>0.75</td>\n",
       "      <td>0.01</td>\n",
       "    </tr>\n",
       "    <tr>\n",
       "      <th>Decision Tree</th>\n",
       "      <td>0.72</td>\n",
       "      <td>0.58</td>\n",
       "      <td>0.83</td>\n",
       "      <td>0.64</td>\n",
       "      <td>0.68</td>\n",
       "      <td>0.0</td>\n",
       "      <td>0.75</td>\n",
       "      <td>0.01</td>\n",
       "    </tr>\n",
       "    <tr>\n",
       "      <th>Random Forest</th>\n",
       "      <td>0.72</td>\n",
       "      <td>0.58</td>\n",
       "      <td>0.83</td>\n",
       "      <td>0.64</td>\n",
       "      <td>0.68</td>\n",
       "      <td>0.0</td>\n",
       "      <td>0.75</td>\n",
       "      <td>0.01</td>\n",
       "    </tr>\n",
       "    <tr>\n",
       "      <th>Easy Ensemble (AdaBoost)</th>\n",
       "      <td>0.68</td>\n",
       "      <td>0.50</td>\n",
       "      <td>0.81</td>\n",
       "      <td>0.64</td>\n",
       "      <td>0.65</td>\n",
       "      <td>0.0</td>\n",
       "      <td>0.72</td>\n",
       "      <td>0.01</td>\n",
       "    </tr>\n",
       "    <tr>\n",
       "      <th>Neural Network</th>\n",
       "      <td>0.69</td>\n",
       "      <td>0.55</td>\n",
       "      <td>0.77</td>\n",
       "      <td>0.55</td>\n",
       "      <td>0.66</td>\n",
       "      <td>0.0</td>\n",
       "      <td>0.71</td>\n",
       "      <td>0.01</td>\n",
       "    </tr>\n",
       "    <tr>\n",
       "      <th>Logistic</th>\n",
       "      <td>0.67</td>\n",
       "      <td>0.51</td>\n",
       "      <td>0.81</td>\n",
       "      <td>0.55</td>\n",
       "      <td>0.63</td>\n",
       "      <td>0.0</td>\n",
       "      <td>0.71</td>\n",
       "      <td>0.01</td>\n",
       "    </tr>\n",
       "    <tr>\n",
       "      <th>Easy Ensemble (Logistic)</th>\n",
       "      <td>0.67</td>\n",
       "      <td>0.51</td>\n",
       "      <td>0.81</td>\n",
       "      <td>0.55</td>\n",
       "      <td>0.63</td>\n",
       "      <td>0.0</td>\n",
       "      <td>0.71</td>\n",
       "      <td>0.01</td>\n",
       "    </tr>\n",
       "    <tr>\n",
       "      <th>Bayes (Gaussian)</th>\n",
       "      <td>0.50</td>\n",
       "      <td>1.00</td>\n",
       "      <td>0.00</td>\n",
       "      <td>0.00</td>\n",
       "      <td>0.25</td>\n",
       "      <td>0.0</td>\n",
       "      <td>0.00</td>\n",
       "      <td>0.00</td>\n",
       "    </tr>\n",
       "    <tr>\n",
       "      <th>KNN</th>\n",
       "      <td>0.51</td>\n",
       "      <td>0.98</td>\n",
       "      <td>0.03</td>\n",
       "      <td>0.00</td>\n",
       "      <td>0.87</td>\n",
       "      <td>0.0</td>\n",
       "      <td>0.06</td>\n",
       "      <td>0.00</td>\n",
       "    </tr>\n",
       "  </tbody>\n",
       "</table>\n",
       "</div>"
      ],
      "text/plain": [
       "                          Accuracy_train  Accuracy_test  Recall_train  \\\n",
       "Gradient Boost                      0.70           0.48          0.88   \n",
       "XGBoost                             0.72           0.58          0.83   \n",
       "LightGBM                            0.72           0.56          0.84   \n",
       "Decision Tree                       0.72           0.58          0.83   \n",
       "Random Forest                       0.72           0.58          0.83   \n",
       "Easy Ensemble (AdaBoost)            0.68           0.50          0.81   \n",
       "Neural Network                      0.69           0.55          0.77   \n",
       "Logistic                            0.67           0.51          0.81   \n",
       "Easy Ensemble (Logistic)            0.67           0.51          0.81   \n",
       "Bayes (Gaussian)                    0.50           1.00          0.00   \n",
       "KNN                                 0.51           0.98          0.03   \n",
       "\n",
       "                          Recall_test  Precision_train  Precision_test  \\\n",
       "Gradient Boost                   0.73             0.65             0.0   \n",
       "XGBoost                          0.68             0.68             0.0   \n",
       "LightGBM                         0.68             0.68             0.0   \n",
       "Decision Tree                    0.64             0.68             0.0   \n",
       "Random Forest                    0.64             0.68             0.0   \n",
       "Easy Ensemble (AdaBoost)         0.64             0.65             0.0   \n",
       "Neural Network                   0.55             0.66             0.0   \n",
       "Logistic                         0.55             0.63             0.0   \n",
       "Easy Ensemble (Logistic)         0.55             0.63             0.0   \n",
       "Bayes (Gaussian)                 0.00             0.25             0.0   \n",
       "KNN                              0.00             0.87             0.0   \n",
       "\n",
       "                          f1_train  f1_test  \n",
       "Gradient Boost                0.75     0.01  \n",
       "XGBoost                       0.75     0.01  \n",
       "LightGBM                      0.75     0.01  \n",
       "Decision Tree                 0.75     0.01  \n",
       "Random Forest                 0.75     0.01  \n",
       "Easy Ensemble (AdaBoost)      0.72     0.01  \n",
       "Neural Network                0.71     0.01  \n",
       "Logistic                      0.71     0.01  \n",
       "Easy Ensemble (Logistic)      0.71     0.01  \n",
       "Bayes (Gaussian)              0.00     0.00  \n",
       "KNN                           0.06     0.00  "
      ]
     },
     "execution_count": 27,
     "metadata": {},
     "output_type": "execute_result"
    }
   ],
   "source": [
    "from sklearn.metrics import accuracy_score, confusion_matrix, classification_report, recall_score, precision_score, f1_score, fbeta_score\n",
    "from sklearn.model_selection import ShuffleSplit, cross_val_score\n",
    "\n",
    "# acc_bound = 0.7\n",
    "# f1w_bound = 0.5\n",
    "\n",
    "score = []\n",
    "flag = 1\n",
    "cv_flag = 0\n",
    "for key, model in models.items():\n",
    "    pred_train = model.predict(X_train)\n",
    "    pred_test  = model.predict(X_valid)\n",
    "\n",
    "    acc_train  = accuracy_score(y_train, pred_train).round(2)\n",
    "    acc_test   = accuracy_score(y_valid, pred_test).round(2)\n",
    "\n",
    "    recall_train  = recall_score(y_train, pred_train).round(2)\n",
    "    recall_test   = recall_score(y_valid, pred_test).round(2)\n",
    "\n",
    "    precision_train  = precision_score(y_train, pred_train).round(2)\n",
    "    precision_test   = precision_score(y_valid, pred_test).round(2)\n",
    "\n",
    "    f1_train = f1_score(y_train, pred_train).round(2)\n",
    "    f1_test = f1_score(y_valid, pred_test).round(2)\n",
    "    \n",
    "    if flag == 1:\n",
    "        col1 = [acc_train, acc_test, recall_train, recall_test, precision_train, precision_test, f1_train, f1_test]\n",
    "        col2 = [\"Accuracy_train\", \"Accuracy_test\", \"Recall_train\", \"Recall_test\", \"Precision_train\", \"Precision_test\", \"f1_train\", \"f1_test\"]\n",
    "    else:\n",
    "        col1 = [acc_test, recall_test, precision_test, f1_test]\n",
    "        col2 = [\"Accuracy\", \"Recall\", \"Precision\", \"f1\"]\n",
    "\n",
    "    if cv_flag:\n",
    "        # cv = ShuffleSplit(n_splits = 3, test_size = 0.2)\n",
    "        cv_scores = cross_val_score(model, X_train, y_train, cv = 3, scoring = 'accuracy')\n",
    "        cv_score = cv_scores.mean().round(2)\n",
    "        col1 += [cv_score]\n",
    "        col2 += [\"f1_cv\"]\n",
    "\n",
    "    score.append(col1)\n",
    "    \n",
    "    # if (acc_test >= acc_bound) & (f1_test >= f1w_bound):\n",
    "    col3 = sorted(list(set(y_valid) | set(pred_test)))\n",
    "    confusion = pd.DataFrame(confusion_matrix(y_valid, pred_test), index = col3, columns = col3)\n",
    "    confusion[\"Total\"] = confusion.sum(axis = 1)\n",
    "    confusion.at[\"Total\"] = confusion.sum(axis = 0)\n",
    "\n",
    "    \n",
    "    confusion = confusion.astype(int)\n",
    "    \n",
    "    print(f\"<< {key.lstrip()} >>\")\n",
    "    print(f\"\\nConfusion Matrix:\\n {confusion}\")\n",
    "    print(f\"\\nClassification Report:\\n{classification_report(y_valid, pred_test)}\")\n",
    "    print(\"-\"*60)\n",
    "    \n",
    "index  = [i.lstrip() for i in models.keys()]\n",
    "score  = pd.DataFrame(score, index = index, columns = col2)\n",
    "score = score.sort_values([\"Recall_test\", \"Precision_test\", \"f1_test\", \"Accuracy_test\"], ascending = False)\n",
    "score"
   ]
  },
  {
   "cell_type": "code",
   "execution_count": 28,
   "metadata": {},
   "outputs": [
    {
     "data": {
      "text/plain": [
       "'Gradient Boost'"
      ]
     },
     "execution_count": 28,
     "metadata": {},
     "output_type": "execute_result"
    }
   ],
   "source": [
    "best_model = score.index[0]\n",
    "best_model"
   ]
  },
  {
   "cell_type": "markdown",
   "metadata": {},
   "source": [
    "## Recall@N - 1 的 Precision"
   ]
  },
  {
   "cell_type": "code",
   "execution_count": 29,
   "metadata": {},
   "outputs": [
    {
     "name": "stdout",
     "output_type": "stream",
     "text": [
      "total: 7137,  SAR: 22\n",
      "22 / 5816 = 0.00417141\n"
     ]
    }
   ],
   "source": [
    "pred_valid  = models[best_model].predict_proba(X_valid)\n",
    "pred_valid = pred_valid[:, 1]\n",
    "\n",
    "valid = train.loc[y_valid.index]\n",
    "valid = valid[[\"alert_key\", \"sar_flag\"]]\n",
    "valid[\"probability\"] = pred_valid\n",
    "valid = valid.sort_values(\"probability\", ascending = False)\n",
    "sar = np.where(valid[\"sar_flag\"])[0]\n",
    "recall = len(sar)/sar[-2]\n",
    "print(f\"total: {len(valid)},  SAR: {len(sar)}\\n{len(sar)} / {sar[-1]} = {recall:.6}\")"
   ]
  },
  {
   "cell_type": "markdown",
   "metadata": {},
   "source": [
    "## Submit"
   ]
  },
  {
   "cell_type": "code",
   "execution_count": 30,
   "metadata": {},
   "outputs": [],
   "source": [
    "X_train = train.drop(drop_feat, axis = 1)\n",
    "y_train = train[[\"sar_flag\"]]"
   ]
  },
  {
   "cell_type": "markdown",
   "metadata": {},
   "source": [
    "#### No valid: only use X_train to train"
   ]
  },
  {
   "cell_type": "code",
   "execution_count": 31,
   "metadata": {},
   "outputs": [
    {
     "name": "stdout",
     "output_type": "stream",
     "text": [
      "1: 1034\n"
     ]
    },
    {
     "data": {
      "text/plain": [
       "array([0.04201874, 0.4656892 , 0.38478881, ..., 0.03850842, 0.76669712,\n",
       "       0.07775756])"
      ]
     },
     "execution_count": 31,
     "metadata": {},
     "output_type": "execute_result"
    }
   ],
   "source": [
    "test_model = models[best_model]\n",
    "\n",
    "pred_prob = test_model.predict_proba(X_test)\n",
    "pred_prob = pred_prob[:, 1]\n",
    "print(\"1:\",  (pred_prob > 0.5).sum())\n",
    "pred_prob"
   ]
  },
  {
   "cell_type": "markdown",
   "metadata": {},
   "source": [
    "#### Total train: use X_train and X_valid to train"
   ]
  },
  {
   "cell_type": "code",
   "execution_count": 32,
   "metadata": {},
   "outputs": [
    {
     "name": "stdout",
     "output_type": "stream",
     "text": [
      "1: 2\n"
     ]
    },
    {
     "data": {
      "text/plain": [
       "array([0.00302438, 0.00759287, 0.00464322, ..., 0.00122489, 0.02315046,\n",
       "       0.00216927])"
      ]
     },
     "execution_count": 32,
     "metadata": {},
     "output_type": "execute_result"
    }
   ],
   "source": [
    "test_model = models[best_model]\n",
    "test_model.fit(X_train, y_train)\n",
    "\n",
    "pred_prob = test_model.predict_proba(X_test)\n",
    "pred_prob = pred_prob[:, 1]\n",
    "print(\"1:\",  (pred_prob > 0.5).sum())\n",
    "pred_prob"
   ]
  },
  {
   "cell_type": "code",
   "execution_count": 33,
   "metadata": {},
   "outputs": [
    {
     "data": {
      "text/html": [
       "<div>\n",
       "<style scoped>\n",
       "    .dataframe tbody tr th:only-of-type {\n",
       "        vertical-align: middle;\n",
       "    }\n",
       "\n",
       "    .dataframe tbody tr th {\n",
       "        vertical-align: top;\n",
       "    }\n",
       "\n",
       "    .dataframe thead th {\n",
       "        text-align: right;\n",
       "    }\n",
       "</style>\n",
       "<table border=\"1\" class=\"dataframe\">\n",
       "  <thead>\n",
       "    <tr style=\"text-align: right;\">\n",
       "      <th></th>\n",
       "      <th>alert_key</th>\n",
       "      <th>probability</th>\n",
       "    </tr>\n",
       "  </thead>\n",
       "  <tbody>\n",
       "    <tr>\n",
       "      <th>23906</th>\n",
       "      <td>352249</td>\n",
       "      <td>0.003024</td>\n",
       "    </tr>\n",
       "    <tr>\n",
       "      <th>23907</th>\n",
       "      <td>352253</td>\n",
       "      <td>0.007593</td>\n",
       "    </tr>\n",
       "    <tr>\n",
       "      <th>23908</th>\n",
       "      <td>352254</td>\n",
       "      <td>0.004643</td>\n",
       "    </tr>\n",
       "    <tr>\n",
       "      <th>23909</th>\n",
       "      <td>352280</td>\n",
       "      <td>0.000767</td>\n",
       "    </tr>\n",
       "    <tr>\n",
       "      <th>23910</th>\n",
       "      <td>352282</td>\n",
       "      <td>0.008126</td>\n",
       "    </tr>\n",
       "    <tr>\n",
       "      <th>...</th>\n",
       "      <td>...</td>\n",
       "      <td>...</td>\n",
       "    </tr>\n",
       "    <tr>\n",
       "      <th>25746</th>\n",
       "      <td>365001</td>\n",
       "      <td>0.015421</td>\n",
       "    </tr>\n",
       "    <tr>\n",
       "      <th>25747</th>\n",
       "      <td>365004</td>\n",
       "      <td>0.003291</td>\n",
       "    </tr>\n",
       "    <tr>\n",
       "      <th>25748</th>\n",
       "      <td>365008</td>\n",
       "      <td>0.001225</td>\n",
       "    </tr>\n",
       "    <tr>\n",
       "      <th>25749</th>\n",
       "      <td>365009</td>\n",
       "      <td>0.023150</td>\n",
       "    </tr>\n",
       "    <tr>\n",
       "      <th>25750</th>\n",
       "      <td>365073</td>\n",
       "      <td>0.002169</td>\n",
       "    </tr>\n",
       "  </tbody>\n",
       "</table>\n",
       "<p>1845 rows × 2 columns</p>\n",
       "</div>"
      ],
      "text/plain": [
       "       alert_key  probability\n",
       "23906     352249     0.003024\n",
       "23907     352253     0.007593\n",
       "23908     352254     0.004643\n",
       "23909     352280     0.000767\n",
       "23910     352282     0.008126\n",
       "...          ...          ...\n",
       "25746     365001     0.015421\n",
       "25747     365004     0.003291\n",
       "25748     365008     0.001225\n",
       "25749     365009     0.023150\n",
       "25750     365073     0.002169\n",
       "\n",
       "[1845 rows x 2 columns]"
      ]
     },
     "execution_count": 33,
     "metadata": {},
     "output_type": "execute_result"
    }
   ],
   "source": [
    "result = test[[\"alert_key\"]]\n",
    "result[\"probability\"] = pred_prob\n",
    "# result[\"probability\"] = result[\"probability\"].replace(0, 1e-4).replace(1, 1-1e-4)\n",
    "result"
   ]
  },
  {
   "cell_type": "code",
   "execution_count": 34,
   "metadata": {},
   "outputs": [
    {
     "data": {
      "text/plain": [
       "Index(['risk_rank', 'occupation_code', 'AGE', 'cust_id_sar',\n",
       "       'total_asset_change'],\n",
       "      dtype='object')"
      ]
     },
     "execution_count": 34,
     "metadata": {},
     "output_type": "execute_result"
    }
   ],
   "source": [
    "X_train.columns"
   ]
  },
  {
   "cell_type": "code",
   "execution_count": 35,
   "metadata": {},
   "outputs": [
    {
     "data": {
      "text/html": [
       "<div>\n",
       "<style scoped>\n",
       "    .dataframe tbody tr th:only-of-type {\n",
       "        vertical-align: middle;\n",
       "    }\n",
       "\n",
       "    .dataframe tbody tr th {\n",
       "        vertical-align: top;\n",
       "    }\n",
       "\n",
       "    .dataframe thead th {\n",
       "        text-align: right;\n",
       "    }\n",
       "</style>\n",
       "<table border=\"1\" class=\"dataframe\">\n",
       "  <thead>\n",
       "    <tr style=\"text-align: right;\">\n",
       "      <th></th>\n",
       "      <th>alert_key</th>\n",
       "      <th>probability</th>\n",
       "    </tr>\n",
       "  </thead>\n",
       "  <tbody>\n",
       "    <tr>\n",
       "      <th>3723</th>\n",
       "      <td>354939</td>\n",
       "      <td>0.979933</td>\n",
       "    </tr>\n",
       "    <tr>\n",
       "      <th>1173</th>\n",
       "      <td>362733</td>\n",
       "      <td>0.957445</td>\n",
       "    </tr>\n",
       "    <tr>\n",
       "      <th>432</th>\n",
       "      <td>358464</td>\n",
       "      <td>0.208714</td>\n",
       "    </tr>\n",
       "    <tr>\n",
       "      <th>57</th>\n",
       "      <td>354047</td>\n",
       "      <td>0.208714</td>\n",
       "    </tr>\n",
       "    <tr>\n",
       "      <th>3432</th>\n",
       "      <td>357883</td>\n",
       "      <td>0.208714</td>\n",
       "    </tr>\n",
       "    <tr>\n",
       "      <th>...</th>\n",
       "      <td>...</td>\n",
       "      <td>...</td>\n",
       "    </tr>\n",
       "    <tr>\n",
       "      <th>1648</th>\n",
       "      <td>371071</td>\n",
       "      <td>0.000010</td>\n",
       "    </tr>\n",
       "    <tr>\n",
       "      <th>1650</th>\n",
       "      <td>369630</td>\n",
       "      <td>0.000010</td>\n",
       "    </tr>\n",
       "    <tr>\n",
       "      <th>1651</th>\n",
       "      <td>373443</td>\n",
       "      <td>0.000010</td>\n",
       "    </tr>\n",
       "    <tr>\n",
       "      <th>1652</th>\n",
       "      <td>374325</td>\n",
       "      <td>0.000010</td>\n",
       "    </tr>\n",
       "    <tr>\n",
       "      <th>3849</th>\n",
       "      <td>372119</td>\n",
       "      <td>0.000010</td>\n",
       "    </tr>\n",
       "  </tbody>\n",
       "</table>\n",
       "<p>3850 rows × 2 columns</p>\n",
       "</div>"
      ],
      "text/plain": [
       "      alert_key  probability\n",
       "3723     354939     0.979933\n",
       "1173     362733     0.957445\n",
       "432      358464     0.208714\n",
       "57       354047     0.208714\n",
       "3432     357883     0.208714\n",
       "...         ...          ...\n",
       "1648     371071     0.000010\n",
       "1650     369630     0.000010\n",
       "1651     373443     0.000010\n",
       "1652     374325     0.000010\n",
       "3849     372119     0.000010\n",
       "\n",
       "[3850 rows x 2 columns]"
      ]
     },
     "execution_count": 35,
     "metadata": {},
     "output_type": "execute_result"
    }
   ],
   "source": [
    "submit = pd.read_csv(\"D:\\\\Julie\\\\develop\\\\money_laundry\\\\data\\\\預測的案件名單及提交檔案範例.csv\")\n",
    "submit = submit[[\"alert_key\"]]\n",
    "submit = pd.merge(submit, result, on = \"alert_key\", how = \"left\")\n",
    "submit[\"probability\"] = submit[\"probability\"].astype(float)\n",
    "submit = submit.fillna(1e-5)\n",
    "submit = submit.sort_values(\"probability\", ascending = False)\n",
    "submit"
   ]
  },
  {
   "cell_type": "code",
   "execution_count": 36,
   "metadata": {},
   "outputs": [],
   "source": [
    "submit.to_csv(\"data/submit/origin.csv\", index = False)"
   ]
  }
 ],
 "metadata": {
  "kernelspec": {
   "display_name": "Python 3.8.10 ('.venv': venv)",
   "language": "python",
   "name": "python3"
  },
  "language_info": {
   "codemirror_mode": {
    "name": "ipython",
    "version": 3
   },
   "file_extension": ".py",
   "mimetype": "text/x-python",
   "name": "python",
   "nbconvert_exporter": "python",
   "pygments_lexer": "ipython3",
   "version": "3.8.10"
  },
  "orig_nbformat": 4,
  "vscode": {
   "interpreter": {
    "hash": "6c2898c30be5f73b03e044cf4b0ab3750666a8191d61a4c93b022a132c823988"
   }
  }
 },
 "nbformat": 4,
 "nbformat_minor": 2
}
